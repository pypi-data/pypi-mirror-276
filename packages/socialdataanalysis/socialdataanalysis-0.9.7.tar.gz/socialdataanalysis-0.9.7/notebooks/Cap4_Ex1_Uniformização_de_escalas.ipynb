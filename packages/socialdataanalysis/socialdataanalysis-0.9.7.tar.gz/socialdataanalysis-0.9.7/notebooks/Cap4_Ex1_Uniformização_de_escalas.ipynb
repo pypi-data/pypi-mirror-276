{
 "cells": [
  {
   "cell_type": "markdown",
   "id": "a20cab82-24d8-4a08-87de-9763997d0ec9",
   "metadata": {},
   "source": [
    "# Aplicações práticas\n",
    "\n",
    "# 4.1 Exercício 1: Uniformização de escalas\n",
    "\n",
    "## A. Enunciado \n",
    "\n",
    "Com base no European Social Survey (ESS), recolheu-se uma amostra aleatória de 29.895 cidadãos, avaliados em 674 variáveis. Pretende-se uniformizar as escalas dos itens do construto \"Autoavaliação da Saúde\", que agrega as variáveis C15 \"Como avalia a sua saúde em geral?\" (1 – Muito boa, 2 – Boa, 3 – Razoável, 4 – Má, 5 – Muito má) e C16 \"Está de alguma forma limitado nas suas atividades diárias devido a uma doença prolongada, uma deficiência ou um problema de saúde do foro psicológico?\" (1 – Sim, muito; 2 – Sim, de alguma forma; 3 – Não).\n",
    "\n",
    "A Tabela 1 apresenta a base de dados com os primeiros 13 casos (ID = 1 até 13) das variáveis C15 e C16, do ficheiro \"cap04_Exerc1_uniformização de escalas.sav\". As restantes variáveis foram obtidas para o cálculo do construto \"Autoavaliação da Saúde\". As Tabelas 2 e 3 apresentam as frequências das variáveis C15R, C16 e C16 Nova Escala. A Tabela 4 apresenta os países da OCDE que fazem parte do ESS.\n"
   ]
  },
  {
   "cell_type": "markdown",
   "id": "9ee0e366-09b3-4a11-a69d-aa33698a3837",
   "metadata": {},
   "source": [
    "# Resolução em Python"
   ]
  },
  {
   "cell_type": "markdown",
   "id": "b01be9d2-58ef-4bd2-8a7a-7bb59dd3a337",
   "metadata": {},
   "source": [
    "## Carregando Bibliotecas"
   ]
  },
  {
   "cell_type": "code",
   "execution_count": 1,
   "id": "e7e66d6c-01f2-4db2-bcb4-a6648f1ac6f8",
   "metadata": {},
   "outputs": [],
   "source": [
    "import pandas as pd  # Fornece DataFrames e Series para manipulação de dados em Python, facilitando operações como leitura, escrita, e manipulação de estruturas de dados tabulares.\n",
    "#import numpy as np  # Suporta operações com arrays e matrizes, oferecendo uma vasta gama de funções matemáticas para operações com essas estruturas de dados.\n",
    "import pyreadstat # Permite a leitura de arquivos `.sav` do SPSS em Python."
   ]
  },
  {
   "cell_type": "code",
   "execution_count": 23,
   "id": "755fcb7f-c9ee-4ed3-9108-d6ffdad179a0",
   "metadata": {},
   "outputs": [
    {
     "name": "stdout",
     "output_type": "stream",
     "text": [
      "Found existing installation: socialdataanalysis 0.9.2\n",
      "Uninstalling socialdataanalysis-0.9.2:\n",
      "  Successfully uninstalled socialdataanalysis-0.9.2\n"
     ]
    }
   ],
   "source": [
    "!pip uninstall -y socialdataanalysis"
   ]
  },
  {
   "cell_type": "code",
   "execution_count": null,
   "id": "c77ff932-f8fd-42a4-8b82-8af392fdf9eb",
   "metadata": {},
   "outputs": [],
   "source": [
    "!pip install socialdataanalysis"
   ]
  },
  {
   "cell_type": "code",
   "execution_count": 27,
   "id": "5641ef43-c5f2-4d1a-89dc-08e18d4b1e70",
   "metadata": {
    "scrolled": true
   },
   "outputs": [
    {
     "name": "stdout",
     "output_type": "stream",
     "text": [
      "Defaulting to user installation because normal site-packages is not writeable\n",
      "Requirement already satisfied: socialdataanalysis in c:\\users\\ricar\\appdata\\roaming\\python\\python310\\site-packages (0.9.3)\n",
      "Requirement already satisfied: pandas in c:\\users\\ricar\\appdata\\roaming\\python\\python310\\site-packages (from socialdataanalysis) (2.0.1)\n",
      "Requirement already satisfied: numpy in c:\\users\\ricar\\appdata\\roaming\\python\\python310\\site-packages (from socialdataanalysis) (1.26.4)\n",
      "Requirement already satisfied: statsmodels in c:\\users\\ricar\\appdata\\roaming\\python\\python310\\site-packages (from socialdataanalysis) (0.14.1)\n",
      "Requirement already satisfied: scipy in c:\\users\\ricar\\appdata\\roaming\\python\\python310\\site-packages (from socialdataanalysis) (1.11.4)\n",
      "Requirement already satisfied: matplotlib in c:\\programdata\\anaconda3\\envs\\python_3_10_13_sup_talib\\lib\\site-packages (from socialdataanalysis) (3.8.1)\n",
      "Requirement already satisfied: sympy in c:\\users\\ricar\\appdata\\roaming\\python\\python310\\site-packages (from socialdataanalysis) (1.12)\n",
      "Requirement already satisfied: prince in c:\\users\\ricar\\appdata\\roaming\\python\\python310\\site-packages (from socialdataanalysis) (0.13.0)\n",
      "Requirement already satisfied: altair in c:\\users\\ricar\\appdata\\roaming\\python\\python310\\site-packages (from socialdataanalysis) (5.3.0)\n",
      "Requirement already satisfied: pyreadstat in c:\\users\\ricar\\appdata\\roaming\\python\\python310\\site-packages (from socialdataanalysis) (1.2.6)\n",
      "Requirement already satisfied: jinja2 in c:\\programdata\\anaconda3\\envs\\python_3_10_13_sup_talib\\lib\\site-packages (from altair->socialdataanalysis) (3.1.2)\n",
      "Requirement already satisfied: jsonschema>=3.0 in c:\\programdata\\anaconda3\\envs\\python_3_10_13_sup_talib\\lib\\site-packages (from altair->socialdataanalysis) (4.19.2)\n",
      "Requirement already satisfied: packaging in c:\\programdata\\anaconda3\\envs\\python_3_10_13_sup_talib\\lib\\site-packages (from altair->socialdataanalysis) (23.1)\n",
      "Requirement already satisfied: toolz in c:\\users\\ricar\\appdata\\roaming\\python\\python310\\site-packages (from altair->socialdataanalysis) (0.12.1)\n",
      "Requirement already satisfied: typing-extensions>=4.0.1 in c:\\programdata\\anaconda3\\envs\\python_3_10_13_sup_talib\\lib\\site-packages (from altair->socialdataanalysis) (4.7.1)\n",
      "Requirement already satisfied: python-dateutil>=2.8.2 in c:\\programdata\\anaconda3\\envs\\python_3_10_13_sup_talib\\lib\\site-packages (from pandas->socialdataanalysis) (2.8.2)\n",
      "Requirement already satisfied: pytz>=2020.1 in c:\\programdata\\anaconda3\\envs\\python_3_10_13_sup_talib\\lib\\site-packages (from pandas->socialdataanalysis) (2023.3.post1)\n",
      "Requirement already satisfied: tzdata>=2022.1 in c:\\users\\ricar\\appdata\\roaming\\python\\python310\\site-packages (from pandas->socialdataanalysis) (2023.3)\n",
      "Requirement already satisfied: contourpy>=1.0.1 in c:\\programdata\\anaconda3\\envs\\python_3_10_13_sup_talib\\lib\\site-packages (from matplotlib->socialdataanalysis) (1.2.0)\n",
      "Requirement already satisfied: cycler>=0.10 in c:\\programdata\\anaconda3\\envs\\python_3_10_13_sup_talib\\lib\\site-packages (from matplotlib->socialdataanalysis) (0.12.1)\n",
      "Requirement already satisfied: fonttools>=4.22.0 in c:\\programdata\\anaconda3\\envs\\python_3_10_13_sup_talib\\lib\\site-packages (from matplotlib->socialdataanalysis) (4.44.3)\n",
      "Requirement already satisfied: kiwisolver>=1.3.1 in c:\\programdata\\anaconda3\\envs\\python_3_10_13_sup_talib\\lib\\site-packages (from matplotlib->socialdataanalysis) (1.4.5)\n",
      "Requirement already satisfied: pillow>=8 in c:\\programdata\\anaconda3\\envs\\python_3_10_13_sup_talib\\lib\\site-packages (from matplotlib->socialdataanalysis) (10.1.0)\n",
      "Requirement already satisfied: pyparsing>=2.3.1 in c:\\programdata\\anaconda3\\envs\\python_3_10_13_sup_talib\\lib\\site-packages (from matplotlib->socialdataanalysis) (3.1.1)\n",
      "Requirement already satisfied: scikit-learn<2.0.0,>=1.0.2 in c:\\users\\ricar\\appdata\\roaming\\python\\python310\\site-packages (from prince->socialdataanalysis) (1.4.2)\n",
      "Requirement already satisfied: patsy>=0.5.4 in c:\\users\\ricar\\appdata\\roaming\\python\\python310\\site-packages (from statsmodels->socialdataanalysis) (0.5.6)\n",
      "Requirement already satisfied: mpmath>=0.19 in c:\\users\\ricar\\appdata\\roaming\\python\\python310\\site-packages (from sympy->socialdataanalysis) (1.3.0)\n",
      "Requirement already satisfied: attrs>=22.2.0 in c:\\programdata\\anaconda3\\envs\\python_3_10_13_sup_talib\\lib\\site-packages (from jsonschema>=3.0->altair->socialdataanalysis) (23.1.0)\n",
      "Requirement already satisfied: jsonschema-specifications>=2023.03.6 in c:\\programdata\\anaconda3\\envs\\python_3_10_13_sup_talib\\lib\\site-packages (from jsonschema>=3.0->altair->socialdataanalysis) (2023.7.1)\n",
      "Requirement already satisfied: referencing>=0.28.4 in c:\\programdata\\anaconda3\\envs\\python_3_10_13_sup_talib\\lib\\site-packages (from jsonschema>=3.0->altair->socialdataanalysis) (0.30.2)\n",
      "Requirement already satisfied: rpds-py>=0.7.1 in c:\\programdata\\anaconda3\\envs\\python_3_10_13_sup_talib\\lib\\site-packages (from jsonschema>=3.0->altair->socialdataanalysis) (0.10.6)\n",
      "Requirement already satisfied: six in c:\\programdata\\anaconda3\\envs\\python_3_10_13_sup_talib\\lib\\site-packages (from patsy>=0.5.4->statsmodels->socialdataanalysis) (1.16.0)\n",
      "Requirement already satisfied: joblib>=1.2.0 in c:\\programdata\\anaconda3\\envs\\python_3_10_13_sup_talib\\lib\\site-packages (from scikit-learn<2.0.0,>=1.0.2->prince->socialdataanalysis) (1.3.2)\n",
      "Requirement already satisfied: threadpoolctl>=2.0.0 in c:\\programdata\\anaconda3\\envs\\python_3_10_13_sup_talib\\lib\\site-packages (from scikit-learn<2.0.0,>=1.0.2->prince->socialdataanalysis) (3.2.0)\n",
      "Requirement already satisfied: MarkupSafe>=2.0 in c:\\programdata\\anaconda3\\envs\\python_3_10_13_sup_talib\\lib\\site-packages (from jinja2->altair->socialdataanalysis) (2.1.1)\n"
     ]
    }
   ],
   "source": [
    "!pip install --upgrade socialdataanalysis"
   ]
  },
  {
   "cell_type": "code",
   "execution_count": 28,
   "id": "6e1c8d81-ded4-4834-a0f6-07323741b274",
   "metadata": {},
   "outputs": [
    {
     "name": "stdout",
     "output_type": "stream",
     "text": [
      "Conteúdo do pacote: ['association.py', 'exploratoryfactoranalysis.py', '__init__.py', '__pycache__']\n",
      "Diretório de notebooks não encontrado.\n"
     ]
    }
   ],
   "source": [
    "import socialdataanalysis\n",
    "import os\n",
    "\n",
    "# Obter o diretório do pacote instalado\n",
    "package_dir = os.path.dirname(socialdataanalysis.__file__)\n",
    "print(\"Conteúdo do pacote:\", os.listdir(package_dir))\n",
    "\n",
    "# Construir o caminho do diretório de notebooks\n",
    "notebooks_dir = os.path.join(package_dir, 'notebooks')\n",
    "\n",
    "# Verificar se o diretório de notebooks existe e listar os arquivos\n",
    "if os.path.exists(notebooks_dir):\n",
    "    print(\"Notebooks:\", os.listdir(notebooks_dir))\n",
    "else:\n",
    "    print(\"Diretório de notebooks não encontrado.\")\n"
   ]
  },
  {
   "cell_type": "code",
   "execution_count": 29,
   "id": "293948e0-fc68-4472-8c2a-345ecacf0232",
   "metadata": {},
   "outputs": [
    {
     "name": "stderr",
     "output_type": "stream",
     "text": [
      "'rm' não é reconhecido como um comando interno\n",
      "ou externo, um programa operável ou um arquivo em lotes.\n"
     ]
    }
   ],
   "source": []
  },
  {
   "cell_type": "code",
   "execution_count": null,
   "id": "2c5279fc-ff0b-469c-96fc-cdd1028d13a2",
   "metadata": {},
   "outputs": [],
   "source": []
  },
  {
   "cell_type": "code",
   "execution_count": 2,
   "id": "ab178035-1d63-4f28-93aa-a7deb9510f5e",
   "metadata": {},
   "outputs": [],
   "source": [
    "# Ajustar opções de visualização\n",
    "pd.set_option('display.max_rows', 100)  # Mostra até 100 linhas\n",
    "pd.set_option('display.max_columns', 20)  # Mostra até 20 colunas"
   ]
  },
  {
   "cell_type": "markdown",
   "id": "992c21a3-c829-44f1-8b4f-964af73c1c94",
   "metadata": {},
   "source": [
    "## Funções Personalizadas"
   ]
  },
  {
   "cell_type": "code",
   "execution_count": 12,
   "id": "52946165-d090-4a0e-8b96-bbb9bdb44189",
   "metadata": {},
   "outputs": [],
   "source": [
    "from socialdataanalysis import inverter_escala\n",
    "from socialdataanalysis import transformar_escala\n",
    "from socialdataanalysis import analisar_consistencia_interna"
   ]
  },
  {
   "cell_type": "markdown",
   "id": "53edebc0-c07c-4343-91f1-4d397c3f14de",
   "metadata": {},
   "source": [
    "## Dados Fornecidos"
   ]
  },
  {
   "cell_type": "code",
   "execution_count": 4,
   "id": "eb052323-8c40-4966-aee2-7a8e5452da3b",
   "metadata": {
    "scrolled": true
   },
   "outputs": [
    {
     "data": {
      "text/html": [
       "<div>\n",
       "<style scoped>\n",
       "    .dataframe tbody tr th:only-of-type {\n",
       "        vertical-align: middle;\n",
       "    }\n",
       "\n",
       "    .dataframe tbody tr th {\n",
       "        vertical-align: top;\n",
       "    }\n",
       "\n",
       "    .dataframe thead th {\n",
       "        text-align: right;\n",
       "    }\n",
       "</style>\n",
       "<table border=\"1\" class=\"dataframe\">\n",
       "  <thead>\n",
       "    <tr style=\"text-align: right;\">\n",
       "      <th></th>\n",
       "      <th>ID</th>\n",
       "      <th>C15</th>\n",
       "      <th>C15R</th>\n",
       "      <th>C16</th>\n",
       "      <th>C16_Nova_escala</th>\n",
       "      <th>Países_tipologia</th>\n",
       "      <th>B1</th>\n",
       "      <th>B2</th>\n",
       "      <th>B3</th>\n",
       "      <th>B1R</th>\n",
       "      <th>...</th>\n",
       "      <th>dweight_pweight</th>\n",
       "      <th>países</th>\n",
       "      <th>grupo1</th>\n",
       "      <th>grupo2</th>\n",
       "      <th>grupo3</th>\n",
       "      <th>grupo4</th>\n",
       "      <th>países_agregados</th>\n",
       "      <th>educaçãoR</th>\n",
       "      <th>paises_agregadosR</th>\n",
       "      <th>filter_$_Portugal</th>\n",
       "    </tr>\n",
       "  </thead>\n",
       "  <tbody>\n",
       "    <tr>\n",
       "      <th>0</th>\n",
       "      <td>1.0</td>\n",
       "      <td>1.0</td>\n",
       "      <td>5.0</td>\n",
       "      <td>3.0</td>\n",
       "      <td>5.0</td>\n",
       "      <td>15.0</td>\n",
       "      <td>NaN</td>\n",
       "      <td>NaN</td>\n",
       "      <td>NaN</td>\n",
       "      <td>NaN</td>\n",
       "      <td>...</td>\n",
       "      <td>0.382217</td>\n",
       "      <td>3.0</td>\n",
       "      <td>0.0</td>\n",
       "      <td>NaN</td>\n",
       "      <td>1.0</td>\n",
       "      <td>1.0</td>\n",
       "      <td>4.0</td>\n",
       "      <td>8.0</td>\n",
       "      <td>4.0</td>\n",
       "      <td>0.0</td>\n",
       "    </tr>\n",
       "    <tr>\n",
       "      <th>1</th>\n",
       "      <td>2.0</td>\n",
       "      <td>2.0</td>\n",
       "      <td>4.0</td>\n",
       "      <td>3.0</td>\n",
       "      <td>5.0</td>\n",
       "      <td>7.0</td>\n",
       "      <td>NaN</td>\n",
       "      <td>NaN</td>\n",
       "      <td>NaN</td>\n",
       "      <td>NaN</td>\n",
       "      <td>...</td>\n",
       "      <td>2.132058</td>\n",
       "      <td>9.0</td>\n",
       "      <td>0.0</td>\n",
       "      <td>1.0</td>\n",
       "      <td>1.0</td>\n",
       "      <td>NaN</td>\n",
       "      <td>2.0</td>\n",
       "      <td>12.0</td>\n",
       "      <td>1.0</td>\n",
       "      <td>0.0</td>\n",
       "    </tr>\n",
       "  </tbody>\n",
       "</table>\n",
       "<p>2 rows × 654 columns</p>\n",
       "</div>"
      ],
      "text/plain": [
       "    ID  C15  C15R  C16  C16_Nova_escala  Países_tipologia  B1  B2  B3  B1R   \n",
       "0  1.0  1.0   5.0  3.0              5.0              15.0 NaN NaN NaN  NaN  \\\n",
       "1  2.0  2.0   4.0  3.0              5.0               7.0 NaN NaN NaN  NaN   \n",
       "\n",
       "   ...  dweight_pweight  países grupo1  grupo2 grupo3 grupo4   \n",
       "0  ...         0.382217     3.0    0.0     NaN    1.0    1.0  \\\n",
       "1  ...         2.132058     9.0    0.0     1.0    1.0    NaN   \n",
       "\n",
       "   países_agregados educaçãoR  paises_agregadosR  filter_$_Portugal  \n",
       "0               4.0       8.0                4.0                0.0  \n",
       "1               2.0      12.0                1.0                0.0  \n",
       "\n",
       "[2 rows x 654 columns]"
      ]
     },
     "execution_count": 4,
     "metadata": {},
     "output_type": "execute_result"
    }
   ],
   "source": [
    "### Carregando o DataFrame\n",
    "caminho_do_arquivo = r\"C:\\Users\\ricar\\OneDrive\\Área de Trabalho\\Livro\\Cap_04\\cap04_Exerc1_uniformização_escalas.sav\"\n",
    "df, meta = pyreadstat.read_sav(caminho_do_arquivo)\n",
    "df.head(2)"
   ]
  },
  {
   "cell_type": "markdown",
   "id": "127b7413-5f07-480c-beb8-cb936d30f823",
   "metadata": {},
   "source": [
    "<font color=\"blue\">    \n",
    "    \n",
    "### 2.1.1. Inversão de escalas\n",
    "</font>"
   ]
  },
  {
   "cell_type": "code",
   "execution_count": 7,
   "id": "665137a5-f1f4-4669-b5de-2c9e4892a964",
   "metadata": {},
   "outputs": [
    {
     "data": {
      "text/html": [
       "<div>\n",
       "<style scoped>\n",
       "    .dataframe tbody tr th:only-of-type {\n",
       "        vertical-align: middle;\n",
       "    }\n",
       "\n",
       "    .dataframe tbody tr th {\n",
       "        vertical-align: top;\n",
       "    }\n",
       "\n",
       "    .dataframe thead th {\n",
       "        text-align: right;\n",
       "    }\n",
       "</style>\n",
       "<table border=\"1\" class=\"dataframe\">\n",
       "  <thead>\n",
       "    <tr style=\"text-align: right;\">\n",
       "      <th></th>\n",
       "      <th>ID</th>\n",
       "      <th>C15</th>\n",
       "      <th>C15R</th>\n",
       "      <th>C16</th>\n",
       "      <th>C16_Nova_escala</th>\n",
       "      <th>Países_tipologia</th>\n",
       "      <th>B1</th>\n",
       "      <th>B2</th>\n",
       "      <th>B3</th>\n",
       "      <th>B1R</th>\n",
       "      <th>...</th>\n",
       "      <th>países</th>\n",
       "      <th>grupo1</th>\n",
       "      <th>grupo2</th>\n",
       "      <th>grupo3</th>\n",
       "      <th>grupo4</th>\n",
       "      <th>países_agregados</th>\n",
       "      <th>educaçãoR</th>\n",
       "      <th>paises_agregadosR</th>\n",
       "      <th>filter_$_Portugal</th>\n",
       "      <th>C15_R</th>\n",
       "    </tr>\n",
       "  </thead>\n",
       "  <tbody>\n",
       "    <tr>\n",
       "      <th>0</th>\n",
       "      <td>1.0</td>\n",
       "      <td>1.0</td>\n",
       "      <td>5.0</td>\n",
       "      <td>3.0</td>\n",
       "      <td>5.0</td>\n",
       "      <td>15.0</td>\n",
       "      <td>NaN</td>\n",
       "      <td>NaN</td>\n",
       "      <td>NaN</td>\n",
       "      <td>NaN</td>\n",
       "      <td>...</td>\n",
       "      <td>3.0</td>\n",
       "      <td>0.0</td>\n",
       "      <td>NaN</td>\n",
       "      <td>1.0</td>\n",
       "      <td>1.0</td>\n",
       "      <td>4.0</td>\n",
       "      <td>8.0</td>\n",
       "      <td>4.0</td>\n",
       "      <td>0.0</td>\n",
       "      <td>5.0</td>\n",
       "    </tr>\n",
       "    <tr>\n",
       "      <th>1</th>\n",
       "      <td>2.0</td>\n",
       "      <td>2.0</td>\n",
       "      <td>4.0</td>\n",
       "      <td>3.0</td>\n",
       "      <td>5.0</td>\n",
       "      <td>7.0</td>\n",
       "      <td>NaN</td>\n",
       "      <td>NaN</td>\n",
       "      <td>NaN</td>\n",
       "      <td>NaN</td>\n",
       "      <td>...</td>\n",
       "      <td>9.0</td>\n",
       "      <td>0.0</td>\n",
       "      <td>1.0</td>\n",
       "      <td>1.0</td>\n",
       "      <td>NaN</td>\n",
       "      <td>2.0</td>\n",
       "      <td>12.0</td>\n",
       "      <td>1.0</td>\n",
       "      <td>0.0</td>\n",
       "      <td>4.0</td>\n",
       "    </tr>\n",
       "  </tbody>\n",
       "</table>\n",
       "<p>2 rows × 655 columns</p>\n",
       "</div>"
      ],
      "text/plain": [
       "    ID  C15  C15R  C16  C16_Nova_escala  Países_tipologia  B1  B2  B3  B1R   \n",
       "0  1.0  1.0   5.0  3.0              5.0              15.0 NaN NaN NaN  NaN  \\\n",
       "1  2.0  2.0   4.0  3.0              5.0               7.0 NaN NaN NaN  NaN   \n",
       "\n",
       "   ...  países  grupo1 grupo2  grupo3 grupo4 países_agregados  educaçãoR   \n",
       "0  ...     3.0     0.0    NaN     1.0    1.0              4.0        8.0  \\\n",
       "1  ...     9.0     0.0    1.0     1.0    NaN              2.0       12.0   \n",
       "\n",
       "  paises_agregadosR  filter_$_Portugal  C15_R  \n",
       "0               4.0                0.0    5.0  \n",
       "1               1.0                0.0    4.0  \n",
       "\n",
       "[2 rows x 655 columns]"
      ]
     },
     "execution_count": 7,
     "metadata": {},
     "output_type": "execute_result"
    }
   ],
   "source": [
    "df2 = inverter_escala(df, ['C15'], [5])\n",
    "df2.head(2)"
   ]
  },
  {
   "cell_type": "markdown",
   "id": "1757cbc2-b476-48b1-9601-71810f17ed55",
   "metadata": {},
   "source": [
    "<font color=\"blue\">    \n",
    "    \n",
    "### 2.1.2. Uniformização das escalas para 5 categorias.\n",
    "</font>"
   ]
  },
  {
   "cell_type": "code",
   "execution_count": 8,
   "id": "43468463-62e4-4d4f-b347-b03d284f271a",
   "metadata": {},
   "outputs": [
    {
     "data": {
      "text/html": [
       "<div>\n",
       "<style scoped>\n",
       "    .dataframe tbody tr th:only-of-type {\n",
       "        vertical-align: middle;\n",
       "    }\n",
       "\n",
       "    .dataframe tbody tr th {\n",
       "        vertical-align: top;\n",
       "    }\n",
       "\n",
       "    .dataframe thead th {\n",
       "        text-align: right;\n",
       "    }\n",
       "</style>\n",
       "<table border=\"1\" class=\"dataframe\">\n",
       "  <thead>\n",
       "    <tr style=\"text-align: right;\">\n",
       "      <th></th>\n",
       "      <th>ID</th>\n",
       "      <th>C15</th>\n",
       "      <th>C15R</th>\n",
       "      <th>C16</th>\n",
       "      <th>C16_Nova_escala</th>\n",
       "      <th>Países_tipologia</th>\n",
       "      <th>B1</th>\n",
       "      <th>B2</th>\n",
       "      <th>B3</th>\n",
       "      <th>B1R</th>\n",
       "      <th>...</th>\n",
       "      <th>grupo1</th>\n",
       "      <th>grupo2</th>\n",
       "      <th>grupo3</th>\n",
       "      <th>grupo4</th>\n",
       "      <th>países_agregados</th>\n",
       "      <th>educaçãoR</th>\n",
       "      <th>paises_agregadosR</th>\n",
       "      <th>filter_$_Portugal</th>\n",
       "      <th>C15_R</th>\n",
       "      <th>C16_Nova_Escala</th>\n",
       "    </tr>\n",
       "  </thead>\n",
       "  <tbody>\n",
       "    <tr>\n",
       "      <th>0</th>\n",
       "      <td>1.0</td>\n",
       "      <td>1.0</td>\n",
       "      <td>5.0</td>\n",
       "      <td>3.0</td>\n",
       "      <td>5.0</td>\n",
       "      <td>15.0</td>\n",
       "      <td>NaN</td>\n",
       "      <td>NaN</td>\n",
       "      <td>NaN</td>\n",
       "      <td>NaN</td>\n",
       "      <td>...</td>\n",
       "      <td>0.0</td>\n",
       "      <td>NaN</td>\n",
       "      <td>1.0</td>\n",
       "      <td>1.0</td>\n",
       "      <td>4.0</td>\n",
       "      <td>8.0</td>\n",
       "      <td>4.0</td>\n",
       "      <td>0.0</td>\n",
       "      <td>5.0</td>\n",
       "      <td>5.0</td>\n",
       "    </tr>\n",
       "    <tr>\n",
       "      <th>1</th>\n",
       "      <td>2.0</td>\n",
       "      <td>2.0</td>\n",
       "      <td>4.0</td>\n",
       "      <td>3.0</td>\n",
       "      <td>5.0</td>\n",
       "      <td>7.0</td>\n",
       "      <td>NaN</td>\n",
       "      <td>NaN</td>\n",
       "      <td>NaN</td>\n",
       "      <td>NaN</td>\n",
       "      <td>...</td>\n",
       "      <td>0.0</td>\n",
       "      <td>1.0</td>\n",
       "      <td>1.0</td>\n",
       "      <td>NaN</td>\n",
       "      <td>2.0</td>\n",
       "      <td>12.0</td>\n",
       "      <td>1.0</td>\n",
       "      <td>0.0</td>\n",
       "      <td>4.0</td>\n",
       "      <td>5.0</td>\n",
       "    </tr>\n",
       "  </tbody>\n",
       "</table>\n",
       "<p>2 rows × 656 columns</p>\n",
       "</div>"
      ],
      "text/plain": [
       "    ID  C15  C15R  C16  C16_Nova_escala  Países_tipologia  B1  B2  B3  B1R   \n",
       "0  1.0  1.0   5.0  3.0              5.0              15.0 NaN NaN NaN  NaN  \\\n",
       "1  2.0  2.0   4.0  3.0              5.0               7.0 NaN NaN NaN  NaN   \n",
       "\n",
       "   ...  grupo1  grupo2 grupo3  grupo4 países_agregados educaçãoR   \n",
       "0  ...     0.0     NaN    1.0     1.0              4.0       8.0  \\\n",
       "1  ...     0.0     1.0    1.0     NaN              2.0      12.0   \n",
       "\n",
       "   paises_agregadosR filter_$_Portugal  C15_R  C16_Nova_Escala  \n",
       "0                4.0               0.0    5.0              5.0  \n",
       "1                1.0               0.0    4.0              5.0  \n",
       "\n",
       "[2 rows x 656 columns]"
      ]
     },
     "execution_count": 8,
     "metadata": {},
     "output_type": "execute_result"
    }
   ],
   "source": [
    "transformar_escala(df2, 'C16', 1, 5)\n",
    "df2.head(2)"
   ]
  },
  {
   "cell_type": "markdown",
   "id": "353afeaf-64a6-4078-8416-3a51ce004457",
   "metadata": {},
   "source": [
    "<font color=\"blue\">    \n",
    "    \n",
    "### 2.1.3. Consistência interna\n",
    "</font>"
   ]
  },
  {
   "cell_type": "code",
   "execution_count": 11,
   "id": "515383e4-75c9-4a99-8756-e2a9536ee570",
   "metadata": {},
   "outputs": [
    {
     "name": "stdout",
     "output_type": "stream",
     "text": [
      "Alfa de Cronbach Original: 0.706\n",
      "\n",
      "Alfa se item removido:\n",
      "                     \n",
      "C15R             None\n",
      "C16_Nova_escala  None\n",
      "\n",
      "Correlações:\n",
      "                  C15R  C16_Nova_escala\n",
      "C15R             1.000            0.562\n",
      "C16_Nova_escala  0.562            1.000\n"
     ]
    },
    {
     "data": {
      "image/png": "[encoded data removed]",
      "text/plain": [
       "<Figure size 640x480 with 2 Axes>"
      ]
     },
     "metadata": {},
     "output_type": "display_data"
    }
   ],
   "source": [
    "# Exemplo de uso\n",
    "colunas_analise = ['C15R', 'C16_Nova_escala',]  # Colunas de interesse\n",
    "analisar_consistencia_interna(df, colunas_analise, exibir_correlacoes=True, exibir_resumo=True, exibir_heatmap=True)"
   ]
  },
  {
   "cell_type": "code",
   "execution_count": null,
   "id": "31cc6ffe-83f0-497f-8b60-31241719765c",
   "metadata": {},
   "outputs": [],
   "source": []
  }
 ],
 "metadata": {
  "kernelspec": {
   "display_name": "Python 3 (ipykernel)",
   "language": "python",
   "name": "python3"
  },
  "language_info": {
   "codemirror_mode": {
    "name": "ipython",
    "version": 3
   },
   "file_extension": ".py",
   "mimetype": "text/x-python",
   "name": "python",
   "nbconvert_exporter": "python",
   "pygments_lexer": "ipython3",
   "version": "3.10.13"
  }
 },
 "nbformat": 4,
 "nbformat_minor": 5
}
