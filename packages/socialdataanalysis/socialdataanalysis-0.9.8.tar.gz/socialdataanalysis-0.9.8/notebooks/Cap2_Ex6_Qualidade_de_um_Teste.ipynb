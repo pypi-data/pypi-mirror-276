{
 "cells": [
  {
   "cell_type": "markdown",
   "id": "70b535dc-6be5-4e40-bd32-2b7129c040be",
   "metadata": {},
   "source": [
    "# Aplicações práticas\n",
    "\n",
    "# 2.6 Exercício 6: Qualidade de um teste\n",
    "\n",
    "## A. Enunciado \n",
    "\n",
    "Com base numa amostra aleatória de 100 pacientes, pretende-se analisar a qualidade do teste de diagnóstico (1 positivo, 2 negativo) em relação ao teste de referência (1 positivo, 2 negativo) que constam do ficheiro \"cap02_exerc6_qualidade do teste.sav \", da tabela de contingência 1 e organizados em um dicionário em Python."
   ]
  },
  {
   "cell_type": "markdown",
   "id": "9ee0e366-09b3-4a11-a69d-aa33698a3837",
   "metadata": {},
   "source": [
    "# Resolução em Python"
   ]
  },
  {
   "cell_type": "markdown",
   "id": "b01be9d2-58ef-4bd2-8a7a-7bb59dd3a337",
   "metadata": {},
   "source": [
    "## Carregando Bibliotecas"
   ]
  },
  {
   "cell_type": "code",
   "execution_count": 1,
   "id": "e7e66d6c-01f2-4db2-bcb4-a6648f1ac6f8",
   "metadata": {},
   "outputs": [],
   "source": [
    "import pandas as pd  # Fornece DataFrames e Series para manipulação de dados em Python, facilitando operações como leitura, escrita, e manipulação de estruturas de dados tabulares."
   ]
  },
  {
   "cell_type": "markdown",
   "id": "992c21a3-c829-44f1-8b4f-964af73c1c94",
   "metadata": {},
   "source": [
    "## Funções Personalizadas"
   ]
  },
  {
   "cell_type": "code",
   "execution_count": 2,
   "id": "57586f96-4145-46bd-bd19-be4911a59f55",
   "metadata": {},
   "outputs": [],
   "source": [
    "import sys\n",
    "\n",
    "# Adicionar o caminho do diretório ao sys.path\n",
    "sys.path.append(r\"C:\\Users\\ricar\\OneDrive\\Área de Trabalho\\Livro\\Cap_02\\socialdataanalysis\")\n",
    "\n",
    "from association import gerar_tabela_contingencia\n",
    "from association import complementar_tabela_contingencia_com_analise_estatistica"
   ]
  },
  {
   "cell_type": "markdown",
   "id": "53edebc0-c07c-4343-91f1-4d397c3f14de",
   "metadata": {},
   "source": [
    "## Dados Fornecidos"
   ]
  },
  {
   "cell_type": "code",
   "execution_count": 3,
   "id": "eb052323-8c40-4966-aee2-7a8e5452da3b",
   "metadata": {},
   "outputs": [
    {
     "data": {
      "text/html": [
       "<div>\n",
       "<style scoped>\n",
       "    .dataframe tbody tr th:only-of-type {\n",
       "        vertical-align: middle;\n",
       "    }\n",
       "\n",
       "    .dataframe tbody tr th {\n",
       "        vertical-align: top;\n",
       "    }\n",
       "\n",
       "    .dataframe thead th {\n",
       "        text-align: right;\n",
       "    }\n",
       "</style>\n",
       "<table border=\"1\" class=\"dataframe\">\n",
       "  <thead>\n",
       "    <tr style=\"text-align: right;\">\n",
       "      <th></th>\n",
       "      <th>Teste_diagnóstico</th>\n",
       "      <th>Teste_referência</th>\n",
       "      <th>Freq</th>\n",
       "    </tr>\n",
       "  </thead>\n",
       "  <tbody>\n",
       "    <tr>\n",
       "      <th>0</th>\n",
       "      <td>1</td>\n",
       "      <td>1</td>\n",
       "      <td>44</td>\n",
       "    </tr>\n",
       "    <tr>\n",
       "      <th>1</th>\n",
       "      <td>1</td>\n",
       "      <td>2</td>\n",
       "      <td>8</td>\n",
       "    </tr>\n",
       "    <tr>\n",
       "      <th>2</th>\n",
       "      <td>2</td>\n",
       "      <td>1</td>\n",
       "      <td>6</td>\n",
       "    </tr>\n",
       "    <tr>\n",
       "      <th>3</th>\n",
       "      <td>2</td>\n",
       "      <td>2</td>\n",
       "      <td>42</td>\n",
       "    </tr>\n",
       "  </tbody>\n",
       "</table>\n",
       "</div>"
      ],
      "text/plain": [
       "   Teste_diagnóstico  Teste_referência  Freq\n",
       "0                  1                 1    44\n",
       "1                  1                 2     8\n",
       "2                  2                 1     6\n",
       "3                  2                 2    42"
      ]
     },
     "metadata": {},
     "output_type": "display_data"
    }
   ],
   "source": [
    "# Dicionário com dados categorizados representando grupos e suas frequências\n",
    "dados = {\n",
    "    'Teste_diagnóstico': [1, 1, 2, 2],\n",
    "    'Teste_referência': [1, 2, 1, 2],\n",
    "    'Freq': [44, 8, 6, 42]\n",
    "}\n",
    "\n",
    "# Criando o DataFrame a partir do dicionário\n",
    "dados = pd.DataFrame(dados)\n",
    "\n",
    "# Convertendo as colunas para inteiros, se necessário\n",
    "dados = dados.astype(int)\n",
    "\n",
    "# Visualizando o dataframe\n",
    "display(dados)"
   ]
  },
  {
   "cell_type": "markdown",
   "id": "d9ad8bf6-af72-40ba-8c07-db714f1e038b",
   "metadata": {},
   "source": [
    "## Tabela 1: Tabela de Contingência"
   ]
  },
  {
   "cell_type": "code",
   "execution_count": 4,
   "id": "406f643d-5f34-43f9-95a0-e38355a918c2",
   "metadata": {},
   "outputs": [
    {
     "data": {
      "text/html": [
       "<div>\n",
       "<style scoped>\n",
       "    .dataframe tbody tr th:only-of-type {\n",
       "        vertical-align: middle;\n",
       "    }\n",
       "\n",
       "    .dataframe tbody tr th {\n",
       "        vertical-align: top;\n",
       "    }\n",
       "\n",
       "    .dataframe thead th {\n",
       "        text-align: right;\n",
       "    }\n",
       "</style>\n",
       "<table border=\"1\" class=\"dataframe\">\n",
       "  <thead>\n",
       "    <tr style=\"text-align: right;\">\n",
       "      <th>Teste_referência</th>\n",
       "      <th>1. Positivo</th>\n",
       "      <th>2. Negativo</th>\n",
       "    </tr>\n",
       "    <tr>\n",
       "      <th>Teste_diagnóstico</th>\n",
       "      <th></th>\n",
       "      <th></th>\n",
       "    </tr>\n",
       "  </thead>\n",
       "  <tbody>\n",
       "    <tr>\n",
       "      <th>1. Positivo</th>\n",
       "      <td>44</td>\n",
       "      <td>8</td>\n",
       "    </tr>\n",
       "    <tr>\n",
       "      <th>2. Negativo</th>\n",
       "      <td>6</td>\n",
       "      <td>42</td>\n",
       "    </tr>\n",
       "  </tbody>\n",
       "</table>\n",
       "</div>"
      ],
      "text/plain": [
       "Teste_referência   1. Positivo  2. Negativo\n",
       "Teste_diagnóstico                          \n",
       "1. Positivo                 44            8\n",
       "2. Negativo                  6           42"
      ]
     },
     "metadata": {},
     "output_type": "display_data"
    }
   ],
   "source": [
    "# Obter automaticamente os nomes dos grupos e da coluna de frequência\n",
    "grupos = dados.columns[:-1].tolist()  # Todos exceto a última coluna\n",
    "categorias = {\n",
    "    grupos[0]: ['1. Positivo', '2. Negativo',],\n",
    "    grupos[1]: ['1. Positivo', '2. Negativo'],\n",
    "}\n",
    "\n",
    "tabela_contingencia = gerar_tabela_contingencia(dados, grupos, categorias)\n",
    "\n",
    "display(tabela_contingencia)"
   ]
  },
  {
   "cell_type": "markdown",
   "id": "d58198a0-2da5-4ac1-8062-28fc4927b29a",
   "metadata": {},
   "source": [
    "## Tabela de Contingência com Cálculos"
   ]
  },
  {
   "cell_type": "code",
   "execution_count": 5,
   "id": "196eface-9225-45ac-b8dd-0f251d9dcf91",
   "metadata": {},
   "outputs": [
    {
     "data": {
      "text/html": [
       "<div>\n",
       "<style scoped>\n",
       "    .dataframe tbody tr th:only-of-type {\n",
       "        vertical-align: middle;\n",
       "    }\n",
       "\n",
       "    .dataframe tbody tr th {\n",
       "        vertical-align: top;\n",
       "    }\n",
       "\n",
       "    .dataframe thead th {\n",
       "        text-align: right;\n",
       "    }\n",
       "</style>\n",
       "<table border=\"1\" class=\"dataframe\">\n",
       "  <thead>\n",
       "    <tr style=\"text-align: right;\">\n",
       "      <th></th>\n",
       "      <th>Teste_referência</th>\n",
       "      <th>1. Positivo</th>\n",
       "      <th>2. Negativo</th>\n",
       "      <th>Total</th>\n",
       "    </tr>\n",
       "    <tr>\n",
       "      <th>Teste_diagnóstico</th>\n",
       "      <th></th>\n",
       "      <th></th>\n",
       "      <th></th>\n",
       "      <th></th>\n",
       "    </tr>\n",
       "  </thead>\n",
       "  <tbody>\n",
       "    <tr>\n",
       "      <th rowspan=\"7\" valign=\"top\">1. Positivo</th>\n",
       "      <th>Count</th>\n",
       "      <td>44.0</td>\n",
       "      <td>8.0</td>\n",
       "      <td>52.0</td>\n",
       "    </tr>\n",
       "    <tr>\n",
       "      <th>Expected Count</th>\n",
       "      <td>26.0</td>\n",
       "      <td>26.0</td>\n",
       "      <td>52.0</td>\n",
       "    </tr>\n",
       "    <tr>\n",
       "      <th>% within Teste_diagnóstico</th>\n",
       "      <td>84.6</td>\n",
       "      <td>15.4</td>\n",
       "      <td>100.0</td>\n",
       "    </tr>\n",
       "    <tr>\n",
       "      <th>% within Teste_referência</th>\n",
       "      <td>88.0</td>\n",
       "      <td>16.0</td>\n",
       "      <td>52.0</td>\n",
       "    </tr>\n",
       "    <tr>\n",
       "      <th>% of Total</th>\n",
       "      <td>44.0</td>\n",
       "      <td>8.0</td>\n",
       "      <td>52.0</td>\n",
       "    </tr>\n",
       "    <tr>\n",
       "      <th>Standardized Residual</th>\n",
       "      <td>3.5</td>\n",
       "      <td>-3.5</td>\n",
       "      <td></td>\n",
       "    </tr>\n",
       "    <tr>\n",
       "      <th>Adjusted Residual</th>\n",
       "      <td>7.2</td>\n",
       "      <td>-7.2</td>\n",
       "      <td></td>\n",
       "    </tr>\n",
       "    <tr>\n",
       "      <th rowspan=\"7\" valign=\"top\">2. Negativo</th>\n",
       "      <th>Count</th>\n",
       "      <td>6.0</td>\n",
       "      <td>42.0</td>\n",
       "      <td>48.0</td>\n",
       "    </tr>\n",
       "    <tr>\n",
       "      <th>Expected Count</th>\n",
       "      <td>24.0</td>\n",
       "      <td>24.0</td>\n",
       "      <td>48.0</td>\n",
       "    </tr>\n",
       "    <tr>\n",
       "      <th>% within Teste_diagnóstico</th>\n",
       "      <td>12.5</td>\n",
       "      <td>87.5</td>\n",
       "      <td>100.0</td>\n",
       "    </tr>\n",
       "    <tr>\n",
       "      <th>% within Teste_referência</th>\n",
       "      <td>12.0</td>\n",
       "      <td>84.0</td>\n",
       "      <td>48.0</td>\n",
       "    </tr>\n",
       "    <tr>\n",
       "      <th>% of Total</th>\n",
       "      <td>6.0</td>\n",
       "      <td>42.0</td>\n",
       "      <td>48.0</td>\n",
       "    </tr>\n",
       "    <tr>\n",
       "      <th>Standardized Residual</th>\n",
       "      <td>-3.7</td>\n",
       "      <td>3.7</td>\n",
       "      <td></td>\n",
       "    </tr>\n",
       "    <tr>\n",
       "      <th>Adjusted Residual</th>\n",
       "      <td>-7.2</td>\n",
       "      <td>7.2</td>\n",
       "      <td></td>\n",
       "    </tr>\n",
       "    <tr>\n",
       "      <th rowspan=\"5\" valign=\"top\">Total</th>\n",
       "      <th>Count</th>\n",
       "      <td>50.0</td>\n",
       "      <td>50.0</td>\n",
       "      <td>100.0</td>\n",
       "    </tr>\n",
       "    <tr>\n",
       "      <th>Expected Count</th>\n",
       "      <td>50.0</td>\n",
       "      <td>50.0</td>\n",
       "      <td>100.0</td>\n",
       "    </tr>\n",
       "    <tr>\n",
       "      <th>% within Teste_diagnóstico</th>\n",
       "      <td>50.0</td>\n",
       "      <td>50.0</td>\n",
       "      <td>100.0</td>\n",
       "    </tr>\n",
       "    <tr>\n",
       "      <th>% within Teste_referência</th>\n",
       "      <td>100.0</td>\n",
       "      <td>100.0</td>\n",
       "      <td>100.0</td>\n",
       "    </tr>\n",
       "    <tr>\n",
       "      <th>% of Total</th>\n",
       "      <td>50.0</td>\n",
       "      <td>50.0</td>\n",
       "      <td>100.0</td>\n",
       "    </tr>\n",
       "  </tbody>\n",
       "</table>\n",
       "</div>"
      ],
      "text/plain": [
       "Teste_referência                             1. Positivo 2. Negativo  Total\n",
       "Teste_diagnóstico                                                          \n",
       "1. Positivo       Count                             44.0         8.0   52.0\n",
       "                  Expected Count                    26.0        26.0   52.0\n",
       "                  % within Teste_diagnóstico        84.6        15.4  100.0\n",
       "                  % within Teste_referência         88.0        16.0   52.0\n",
       "                  % of Total                        44.0         8.0   52.0\n",
       "                  Standardized Residual              3.5        -3.5       \n",
       "                  Adjusted Residual                  7.2        -7.2       \n",
       "2. Negativo       Count                              6.0        42.0   48.0\n",
       "                  Expected Count                    24.0        24.0   48.0\n",
       "                  % within Teste_diagnóstico        12.5        87.5  100.0\n",
       "                  % within Teste_referência         12.0        84.0   48.0\n",
       "                  % of Total                         6.0        42.0   48.0\n",
       "                  Standardized Residual             -3.7         3.7       \n",
       "                  Adjusted Residual                 -7.2         7.2       \n",
       "Total             Count                             50.0        50.0  100.0\n",
       "                  Expected Count                    50.0        50.0  100.0\n",
       "                  % within Teste_diagnóstico        50.0        50.0  100.0\n",
       "                  % within Teste_referência        100.0       100.0  100.0\n",
       "                  % of Total                        50.0        50.0  100.0"
      ]
     },
     "metadata": {},
     "output_type": "display_data"
    }
   ],
   "source": [
    "# Função própria complementar_tabela_contingencia_com_analise_estatistica\n",
    "combined_df = complementar_tabela_contingencia_com_analise_estatistica(tabela_contingencia)\n",
    "\n",
    "# Visualizando resultado\n",
    "display(combined_df)"
   ]
  },
  {
   "cell_type": "markdown",
   "id": "3e8218b1-85dc-4cd7-bfc4-9853dfc045c4",
   "metadata": {},
   "source": [
    "<font color=\"blue\">    \n",
    "    \n",
    "### 2.6.1. A qualidade do teste de diagnóstico\n",
    "</font>"
   ]
  },
  {
   "cell_type": "code",
   "execution_count": 6,
   "id": "16d0e2d9-ac3e-4963-a040-4c0a4fee6389",
   "metadata": {},
   "outputs": [],
   "source": [
    "# Definindo os valores da tabela de contingência\n",
    "tp = tabela_contingencia.iloc[0,0] # verdadeiros positivos\n",
    "fp = tabela_contingencia.iloc[0,1] # falsos positivos\n",
    "fn = tabela_contingencia.iloc[1,0] # falsos negativos\n",
    "tn = tabela_contingencia.iloc[1,1] # verdadeiros negativos"
   ]
  },
  {
   "cell_type": "markdown",
   "id": "3cc956d6-a3d7-47ff-b565-e08e41433cde",
   "metadata": {},
   "source": [
    "<font color=\"blue\">\n",
    "    \n",
    "#### a) Sensibilidade.\n",
    "</font>"
   ]
  },
  {
   "cell_type": "code",
   "execution_count": 11,
   "id": "2517e703-b249-42d4-bbda-1f6621f88a7a",
   "metadata": {},
   "outputs": [
    {
     "name": "stdout",
     "output_type": "stream",
     "text": [
      "P[Teste_diagnóstico + | Teste_referência +] = 0.880\n"
     ]
    }
   ],
   "source": [
    "# Sensibilidade = TP / (TP + FN)\n",
    "sensibilidade = tp / (tp + fn)\n",
    "\n",
    "# Visualização\n",
    "print(f\"P[{grupos[0]} + | {grupos[1]} +] = {sensibilidade:.3f}\")"
   ]
  },
  {
   "cell_type": "markdown",
   "id": "407c7392-3ec0-484e-b207-153f3133e024",
   "metadata": {},
   "source": [
    "<font color=\"blue\">\n",
    "    \n",
    "#### b) Especificidade.\n",
    "</font>"
   ]
  },
  {
   "cell_type": "code",
   "execution_count": 12,
   "id": "f832fd28-a1e4-4ddc-8b38-9c4ca32c4fd7",
   "metadata": {},
   "outputs": [
    {
     "name": "stdout",
     "output_type": "stream",
     "text": [
      "P[Teste_diagnóstico - | Teste_referência -] = 0.840\n"
     ]
    }
   ],
   "source": [
    "# Especificidade = TN / (TN + FP)\n",
    "especificidade = tn / (tn + fp)\n",
    "\n",
    "# Visualização\n",
    "print(f\"P[{grupos[0]} - | {grupos[1]} -] = {especificidade:.3f}\")"
   ]
  },
  {
   "cell_type": "markdown",
   "id": "4729ac20-4616-4872-bf94-da592142c47a",
   "metadata": {},
   "source": [
    "<font color=\"blue\">\n",
    "    \n",
    "#### c) Valores preditivos.\n",
    "</font>"
   ]
  },
  {
   "cell_type": "code",
   "execution_count": 13,
   "id": "4fa19d24-cf56-4c1b-a303-0aa7593b87f6",
   "metadata": {},
   "outputs": [
    {
     "name": "stdout",
     "output_type": "stream",
     "text": [
      "P[Teste_diagnóstico + | Teste_referência +] = 0.846\n",
      "P[Teste_diagnóstico - Teste_referência -] = 0.875\n"
     ]
    }
   ],
   "source": [
    "# Valor preditivo positivo = TP / (TP + FP)\n",
    "vpp = tp / (tp + fp)\n",
    "\n",
    "# Valor preditivo negativo = TN / (TN + FN)\n",
    "vpn = tn / (tn + fn)\n",
    "\n",
    "# Visualização\n",
    "print(f\"P[{grupos[0]} + | {grupos[1]} +] = {vpp:.3f}\")\n",
    "print(f\"P[{grupos[0]} - {grupos[1]} -] = {vpn:.3f}\")"
   ]
  },
  {
   "cell_type": "markdown",
   "id": "06a29984-d5b3-41f5-9f6f-82dae63614f2",
   "metadata": {},
   "source": [
    "<font color=\"blue\">\n",
    "    \n",
    "#### c) Classificações corretas.\n",
    "</font>"
   ]
  },
  {
   "cell_type": "code",
   "execution_count": 14,
   "id": "e1d8860e-5be3-486f-8bc3-13ac8637b87f",
   "metadata": {},
   "outputs": [
    {
     "name": "stdout",
     "output_type": "stream",
     "text": [
      "P[classificações corretas] = 0.860\n"
     ]
    }
   ],
   "source": [
    "# Classificações corretas = (TP + TN) / Total\n",
    "classificacoes_corretas = (tp + tn) / (tp + tn + fp + fn)\n",
    "\n",
    "# Visualização\n",
    "print(f\"P[classificações corretas] = {classificacoes_corretas:.3f}\")"
   ]
  },
  {
   "cell_type": "markdown",
   "id": "baf77c8b-4ce0-493b-ab66-89913c0629ca",
   "metadata": {},
   "source": [
    "<font color=\"blue\">\n",
    "    \n",
    "#### c) Rácios da verosimilhança.\n",
    "</font>"
   ]
  },
  {
   "cell_type": "code",
   "execution_count": 15,
   "id": "119bb18c-3299-45b7-b5be-45bcc1724994",
   "metadata": {},
   "outputs": [
    {
     "name": "stdout",
     "output_type": "stream",
     "text": [
      "+LR = 5.500\n",
      "-LR = 0.143\n"
     ]
    }
   ],
   "source": [
    "# Rácio da verosimilhança positiva = Sensibilidade / (1 - Especificidade)\n",
    "rvp = sensibilidade / (1 - especificidade)\n",
    "\n",
    "# Rácio da verosimilhança negativa = (1 - Sensibilidade) / Especificidade\n",
    "rvn = (1 - sensibilidade) / especificidade\n",
    "\n",
    "# Visualização\n",
    "print(f\"+LR = {rvp:.3f}\")\n",
    "print(f\"-LR = {rvn:.3f}\")"
   ]
  },
  {
   "cell_type": "code",
   "execution_count": null,
   "id": "2c234dc6-6d0a-4af9-a18c-7f581775790b",
   "metadata": {},
   "outputs": [],
   "source": []
  }
 ],
 "metadata": {
  "kernelspec": {
   "display_name": "Python 3 (ipykernel)",
   "language": "python",
   "name": "python3"
  },
  "language_info": {
   "codemirror_mode": {
    "name": "ipython",
    "version": 3
   },
   "file_extension": ".py",
   "mimetype": "text/x-python",
   "name": "python",
   "nbconvert_exporter": "python",
   "pygments_lexer": "ipython3",
   "version": "3.10.13"
  }
 },
 "nbformat": 4,
 "nbformat_minor": 5
}
