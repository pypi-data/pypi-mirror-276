{
 "cells": [
  {
   "cell_type": "markdown",
   "id": "70b535dc-6be5-4e40-bd32-2b7129c040be",
   "metadata": {},
   "source": [
    "# Aplicações práticas\n",
    "\n",
    "# 2.3 Exercício 3: Bebidas e Feridos\n",
    "\n",
    "## A. Enunciado \n",
    "\n",
    "Para analisar a associação entre o consumo de bebidas alcoólicas (1. sim; 2. não) e os ferimentos (1. Mortal, 2. Não mortal) em acidentes rodoviários, a Direção-Geral de Viação dispõe do registo dos seguintes dados recolhidos aleatoriamente entre julho e setembro dos últimos 3 anos: 28 casos mortais, 146 casos não mortais, 89 sinistrados que consumiram bebidas alcoólicas e 85 que não consumiram. As variáveis são ambas nominais, pois definem-se apenas pelo nome. O estudo é longitudinal, e desconhece-se à partida a informação cruzada sobre as duas variáveis, apenas se conhecendo os totais marginais (Tabela 1). Os dados disponíveis também estão organizados em um dicionário em Python.\n",
    "\n"
   ]
  },
  {
   "cell_type": "markdown",
   "id": "9ee0e366-09b3-4a11-a69d-aa33698a3837",
   "metadata": {},
   "source": [
    "# Resolução em Python"
   ]
  },
  {
   "cell_type": "markdown",
   "id": "b01be9d2-58ef-4bd2-8a7a-7bb59dd3a337",
   "metadata": {},
   "source": [
    "## Carregando Bibliotecas"
   ]
  },
  {
   "cell_type": "code",
   "execution_count": 1,
   "id": "e7e66d6c-01f2-4db2-bcb4-a6648f1ac6f8",
   "metadata": {},
   "outputs": [],
   "source": [
    "import pandas as pd  # Fornece DataFrames e Series para manipulação de dados em Python, facilitando operações como leitura, escrita, e manipulação de estruturas de dados tabulares.\n",
    "from statsmodels.stats.contingency_tables import Table  # Analisa tabelas de contingência para estudo de variáveis categóricas, útil em testes de hipóteses e análises de associação entre variáveis.\n",
    "from scipy.stats import hypergeom  # Aplica a distribuição hipergeométrica para análises estatísticas, útil em testes de sobreposição e em situações onde se deseja calcular probabilidades sem reposição."
   ]
  },
  {
   "cell_type": "markdown",
   "id": "9faddfd4-b10e-4602-81e0-22e9c5eda0c7",
   "metadata": {},
   "source": [
    "## Funções Personalizadas"
   ]
  },
  {
   "cell_type": "code",
   "execution_count": 2,
   "id": "89fc16d8-fbb5-4a02-ae1d-bcb14ed23730",
   "metadata": {},
   "outputs": [],
   "source": [
    "import sys\n",
    "\n",
    "# Adicionar o caminho do diretório ao sys.path\n",
    "sys.path.append(r\"C:\\Users\\ricar\\OneDrive\\Área de Trabalho\\Livro\\Cap_02\\socialdataanalysis\")\n",
    "\n",
    "from association import analisar_independencia_variaveis_tabela_contingencia\n",
    "from association import calcular_odds_ratio_razao_risco_discrepancia\n",
    "from association import resolver_sistema_equacoes_dada_variavel_tabela_contingencia\n",
    "from association import calcular_distribuicao_probabilidades_e_decisao_hipotese"
   ]
  },
  {
   "cell_type": "markdown",
   "id": "86d19229-1998-489e-a81c-9d5b734a6b95",
   "metadata": {},
   "source": [
    "## Tabela 1: Tabela de Contingência"
   ]
  },
  {
   "cell_type": "code",
   "execution_count": 3,
   "id": "d38adfac-27a9-4428-8569-fe90f846cd57",
   "metadata": {},
   "outputs": [
    {
     "data": {
      "text/html": [
       "<div>\n",
       "<style scoped>\n",
       "    .dataframe tbody tr th:only-of-type {\n",
       "        vertical-align: middle;\n",
       "    }\n",
       "\n",
       "    .dataframe tbody tr th {\n",
       "        vertical-align: top;\n",
       "    }\n",
       "\n",
       "    .dataframe thead th {\n",
       "        text-align: right;\n",
       "    }\n",
       "</style>\n",
       "<table border=\"1\" class=\"dataframe\">\n",
       "  <thead>\n",
       "    <tr style=\"text-align: right;\">\n",
       "      <th>Feridos</th>\n",
       "      <th>1. Sim</th>\n",
       "      <th>2. Não Mortais</th>\n",
       "      <th>Total</th>\n",
       "    </tr>\n",
       "    <tr>\n",
       "      <th>Bebidas</th>\n",
       "      <th></th>\n",
       "      <th></th>\n",
       "      <th></th>\n",
       "    </tr>\n",
       "  </thead>\n",
       "  <tbody>\n",
       "    <tr>\n",
       "      <th>1. Sim</th>\n",
       "      <td>None</td>\n",
       "      <td>None</td>\n",
       "      <td>89</td>\n",
       "    </tr>\n",
       "    <tr>\n",
       "      <th>2. Não</th>\n",
       "      <td>None</td>\n",
       "      <td>None</td>\n",
       "      <td>85</td>\n",
       "    </tr>\n",
       "    <tr>\n",
       "      <th>Total</th>\n",
       "      <td>28</td>\n",
       "      <td>146</td>\n",
       "      <td>174</td>\n",
       "    </tr>\n",
       "  </tbody>\n",
       "</table>\n",
       "</div>"
      ],
      "text/plain": [
       "Feridos 1. Sim 2. Não Mortais  Total\n",
       "Bebidas                             \n",
       "1. Sim    None           None     89\n",
       "2. Não    None           None     85\n",
       "Total       28            146    174"
      ]
     },
     "metadata": {},
     "output_type": "display_data"
    }
   ],
   "source": [
    "# Obter automaticamente os nomes dos grupos e da coluna de frequência\n",
    "grupos = ['Bebidas', 'Feridos']\n",
    "categorias = {\n",
    "    grupos[0]: ['1. Sim', '2. Não',],\n",
    "    grupos[1]: ['1. Mortais', '2. Não Mortais'],\n",
    "}\n",
    "\n",
    "# Definir os dados da tabela como listas ou um dicionário com os totais marginais\n",
    "data = {\n",
    "    categorias[grupos[0]][0]: [None, None],  # Valores desconhecidos\n",
    "    categorias[grupos[1]][1]: [None, None],  # Valores desconhecidos\n",
    "    \"Total\": [89, 85]  # Totais marginais das linhas\n",
    "}\n",
    "\n",
    "# Criar o DataFrame\n",
    "tabela_contingencia = pd.DataFrame(data, index=[categorias[grupos[0]][0], categorias[grupos[0]][1]])\n",
    "\n",
    "# Adicionar a linha Total com os totais marginais das colunas e o total geral\n",
    "tabela_contingencia.loc[\"Total\"] = [28, 146, 174]\n",
    "\n",
    "# Renomeando as linhas e colunas para corresponder aos grupos \"Bebidas\" e \"Feridos\"\n",
    "tabela_contingencia.index.name = grupos[0]\n",
    "tabela_contingencia.columns.name = grupos[1]\n",
    "\n",
    "# Mostrar o DataFrame\n",
    "display(tabela_contingencia)"
   ]
  },
  {
   "cell_type": "markdown",
   "id": "04f9f99d-cd8a-430c-90f7-7325d1d4ca1a",
   "metadata": {},
   "source": [
    "<font color=\"blue\">\n",
    "    \n",
    "### 2.3.1. Probabiblidade de todos os acontecimentos possíveis\n",
    "</font>"
   ]
  },
  {
   "cell_type": "markdown",
   "id": "86a11636-15ec-4d70-8ad5-144893c69ef0",
   "metadata": {},
   "source": [
    "<font color=\"blue\">\n",
    "\n",
    "#### a) A probabilidade dos acontecimentos para a Tabela 1, e do acontecimento mais provável.</font>\r\n",
    "<font color=\"blue\">\n",
    "    \n",
    "#### b)\tDeterminar as regiões de aceitação e de rejeição da H0, em termos das contagens para a célula a11.</font>\n"
   ]
  },
  {
   "cell_type": "code",
   "execution_count": 5,
   "id": "5d0cbada-fb6f-4a59-8d28-1e82e8d5191b",
   "metadata": {},
   "outputs": [
    {
     "data": {
      "text/html": [
       "<style type=\"text/css\">\n",
       "</style>\n",
       "<table id=\"T_5cbe5\">\n",
       "  <thead>\n",
       "    <tr>\n",
       "      <th id=\"T_5cbe5_level0_col0\" class=\"col_heading level0 col0\" >y_value</th>\n",
       "      <th id=\"T_5cbe5_level0_col1\" class=\"col_heading level0 col1\" >p_value</th>\n",
       "      <th id=\"T_5cbe5_level0_col2\" class=\"col_heading level0 col2\" >cum_sum</th>\n",
       "    </tr>\n",
       "  </thead>\n",
       "  <tbody>\n",
       "    <tr>\n",
       "      <td id=\"T_5cbe5_row0_col0\" class=\"data row0 col0\" >14</td>\n",
       "      <td id=\"T_5cbe5_row0_col1\" class=\"data row0 col1\" >0.162</td>\n",
       "      <td id=\"T_5cbe5_row0_col2\" class=\"data row0 col2\" >0.162</td>\n",
       "    </tr>\n",
       "    <tr>\n",
       "      <td id=\"T_5cbe5_row1_col0\" class=\"data row1 col0\" >15</td>\n",
       "      <td id=\"T_5cbe5_row1_col1\" class=\"data row1 col1\" >0.157</td>\n",
       "      <td id=\"T_5cbe5_row1_col2\" class=\"data row1 col2\" >0.319</td>\n",
       "    </tr>\n",
       "    <tr>\n",
       "      <td id=\"T_5cbe5_row2_col0\" class=\"data row2 col0\" >13</td>\n",
       "      <td id=\"T_5cbe5_row2_col1\" class=\"data row2 col1\" >0.141</td>\n",
       "      <td id=\"T_5cbe5_row2_col2\" class=\"data row2 col2\" >0.460</td>\n",
       "    </tr>\n",
       "    <tr>\n",
       "      <td id=\"T_5cbe5_row3_col0\" class=\"data row3 col0\" >16</td>\n",
       "      <td id=\"T_5cbe5_row3_col1\" class=\"data row3 col1\" >0.129</td>\n",
       "      <td id=\"T_5cbe5_row3_col2\" class=\"data row3 col2\" >0.589</td>\n",
       "    </tr>\n",
       "    <tr>\n",
       "      <td id=\"T_5cbe5_row4_col0\" class=\"data row4 col0\" >12</td>\n",
       "      <td id=\"T_5cbe5_row4_col1\" class=\"data row4 col1\" >0.104</td>\n",
       "      <td id=\"T_5cbe5_row4_col2\" class=\"data row4 col2\" >0.693</td>\n",
       "    </tr>\n",
       "    <tr>\n",
       "      <td id=\"T_5cbe5_row5_col0\" class=\"data row5 col0\" >17</td>\n",
       "      <td id=\"T_5cbe5_row5_col1\" class=\"data row5 col1\" >0.090</td>\n",
       "      <td id=\"T_5cbe5_row5_col2\" class=\"data row5 col2\" >0.784</td>\n",
       "    </tr>\n",
       "    <tr>\n",
       "      <td id=\"T_5cbe5_row6_col0\" class=\"data row6 col0\" >11</td>\n",
       "      <td id=\"T_5cbe5_row6_col1\" class=\"data row6 col1\" >0.065</td>\n",
       "      <td id=\"T_5cbe5_row6_col2\" class=\"data row6 col2\" >0.849</td>\n",
       "    </tr>\n",
       "    <tr>\n",
       "      <td id=\"T_5cbe5_row7_col0\" class=\"data row7 col0\" >18</td>\n",
       "      <td id=\"T_5cbe5_row7_col1\" class=\"data row7 col1\" >0.053</td>\n",
       "      <td id=\"T_5cbe5_row7_col2\" class=\"data row7 col2\" >0.902</td>\n",
       "    </tr>\n",
       "    <tr>\n",
       "      <td id=\"T_5cbe5_row8_col0\" class=\"data row8 col0\" >10</td>\n",
       "      <td id=\"T_5cbe5_row8_col1\" class=\"data row8 col1\" >0.034</td>\n",
       "      <td id=\"T_5cbe5_row8_col2\" class=\"data row8 col2\" >0.936</td>\n",
       "    </tr>\n",
       "    <tr>\n",
       "      <td id=\"T_5cbe5_row9_col0\" class=\"data row9 col0\" >19</td>\n",
       "      <td id=\"T_5cbe5_row9_col1\" class=\"data row9 col1\" >0.026</td>\n",
       "      <td id=\"T_5cbe5_row9_col2\" class=\"data row9 col2\" >0.962</td>\n",
       "    </tr>\n",
       "    <tr>\n",
       "      <td id=\"T_5cbe5_row10_col0\" class=\"data row10 col0\" >9</td>\n",
       "      <td id=\"T_5cbe5_row10_col1\" class=\"data row10 col1\" >0.015</td>\n",
       "      <td id=\"T_5cbe5_row10_col2\" class=\"data row10 col2\" >0.977</td>\n",
       "    </tr>\n",
       "    <tr>\n",
       "      <td id=\"T_5cbe5_row11_col0\" class=\"data row11 col0\" >20</td>\n",
       "      <td id=\"T_5cbe5_row11_col1\" class=\"data row11 col1\" >0.011</td>\n",
       "      <td id=\"T_5cbe5_row11_col2\" class=\"data row11 col2\" >0.987</td>\n",
       "    </tr>\n",
       "    <tr>\n",
       "      <td id=\"T_5cbe5_row12_col0\" class=\"data row12 col0\" >8</td>\n",
       "      <td id=\"T_5cbe5_row12_col1\" class=\"data row12 col1\" >0.006</td>\n",
       "      <td id=\"T_5cbe5_row12_col2\" class=\"data row12 col2\" >0.993</td>\n",
       "    </tr>\n",
       "    <tr>\n",
       "      <td id=\"T_5cbe5_row13_col0\" class=\"data row13 col0\" >21</td>\n",
       "      <td id=\"T_5cbe5_row13_col1\" class=\"data row13 col1\" >0.004</td>\n",
       "      <td id=\"T_5cbe5_row13_col2\" class=\"data row13 col2\" >0.997</td>\n",
       "    </tr>\n",
       "    <tr>\n",
       "      <td id=\"T_5cbe5_row14_col0\" class=\"data row14 col0\" >7</td>\n",
       "      <td id=\"T_5cbe5_row14_col1\" class=\"data row14 col1\" >0.002</td>\n",
       "      <td id=\"T_5cbe5_row14_col2\" class=\"data row14 col2\" >0.998</td>\n",
       "    </tr>\n",
       "    <tr>\n",
       "      <td id=\"T_5cbe5_row15_col0\" class=\"data row15 col0\" >22</td>\n",
       "      <td id=\"T_5cbe5_row15_col1\" class=\"data row15 col1\" >0.001</td>\n",
       "      <td id=\"T_5cbe5_row15_col2\" class=\"data row15 col2\" >0.999</td>\n",
       "    </tr>\n",
       "    <tr>\n",
       "      <td id=\"T_5cbe5_row16_col0\" class=\"data row16 col0\" >6</td>\n",
       "      <td id=\"T_5cbe5_row16_col1\" class=\"data row16 col1\" >0.000</td>\n",
       "      <td id=\"T_5cbe5_row16_col2\" class=\"data row16 col2\" >1.000</td>\n",
       "    </tr>\n",
       "    <tr>\n",
       "      <td id=\"T_5cbe5_row17_col0\" class=\"data row17 col0\" >23</td>\n",
       "      <td id=\"T_5cbe5_row17_col1\" class=\"data row17 col1\" >0.000</td>\n",
       "      <td id=\"T_5cbe5_row17_col2\" class=\"data row17 col2\" >1.000</td>\n",
       "    </tr>\n",
       "    <tr>\n",
       "      <td id=\"T_5cbe5_row18_col0\" class=\"data row18 col0\" >5</td>\n",
       "      <td id=\"T_5cbe5_row18_col1\" class=\"data row18 col1\" >0.000</td>\n",
       "      <td id=\"T_5cbe5_row18_col2\" class=\"data row18 col2\" >1.000</td>\n",
       "    </tr>\n",
       "    <tr>\n",
       "      <td id=\"T_5cbe5_row19_col0\" class=\"data row19 col0\" >24</td>\n",
       "      <td id=\"T_5cbe5_row19_col1\" class=\"data row19 col1\" >0.000</td>\n",
       "      <td id=\"T_5cbe5_row19_col2\" class=\"data row19 col2\" >1.000</td>\n",
       "    </tr>\n",
       "    <tr>\n",
       "      <td id=\"T_5cbe5_row20_col0\" class=\"data row20 col0\" >4</td>\n",
       "      <td id=\"T_5cbe5_row20_col1\" class=\"data row20 col1\" >0.000</td>\n",
       "      <td id=\"T_5cbe5_row20_col2\" class=\"data row20 col2\" >1.000</td>\n",
       "    </tr>\n",
       "    <tr>\n",
       "      <td id=\"T_5cbe5_row21_col0\" class=\"data row21 col0\" >25</td>\n",
       "      <td id=\"T_5cbe5_row21_col1\" class=\"data row21 col1\" >0.000</td>\n",
       "      <td id=\"T_5cbe5_row21_col2\" class=\"data row21 col2\" >1.000</td>\n",
       "    </tr>\n",
       "    <tr>\n",
       "      <td id=\"T_5cbe5_row22_col0\" class=\"data row22 col0\" >3</td>\n",
       "      <td id=\"T_5cbe5_row22_col1\" class=\"data row22 col1\" >0.000</td>\n",
       "      <td id=\"T_5cbe5_row22_col2\" class=\"data row22 col2\" >1.000</td>\n",
       "    </tr>\n",
       "    <tr>\n",
       "      <td id=\"T_5cbe5_row23_col0\" class=\"data row23 col0\" >26</td>\n",
       "      <td id=\"T_5cbe5_row23_col1\" class=\"data row23 col1\" >0.000</td>\n",
       "      <td id=\"T_5cbe5_row23_col2\" class=\"data row23 col2\" >1.000</td>\n",
       "    </tr>\n",
       "    <tr>\n",
       "      <td id=\"T_5cbe5_row24_col0\" class=\"data row24 col0\" >2</td>\n",
       "      <td id=\"T_5cbe5_row24_col1\" class=\"data row24 col1\" >0.000</td>\n",
       "      <td id=\"T_5cbe5_row24_col2\" class=\"data row24 col2\" >1.000</td>\n",
       "    </tr>\n",
       "    <tr>\n",
       "      <td id=\"T_5cbe5_row25_col0\" class=\"data row25 col0\" >27</td>\n",
       "      <td id=\"T_5cbe5_row25_col1\" class=\"data row25 col1\" >0.000</td>\n",
       "      <td id=\"T_5cbe5_row25_col2\" class=\"data row25 col2\" >1.000</td>\n",
       "    </tr>\n",
       "    <tr>\n",
       "      <td id=\"T_5cbe5_row26_col0\" class=\"data row26 col0\" >1</td>\n",
       "      <td id=\"T_5cbe5_row26_col1\" class=\"data row26 col1\" >0.000</td>\n",
       "      <td id=\"T_5cbe5_row26_col2\" class=\"data row26 col2\" >1.000</td>\n",
       "    </tr>\n",
       "    <tr>\n",
       "      <td id=\"T_5cbe5_row27_col0\" class=\"data row27 col0\" >28</td>\n",
       "      <td id=\"T_5cbe5_row27_col1\" class=\"data row27 col1\" >0.000</td>\n",
       "      <td id=\"T_5cbe5_row27_col2\" class=\"data row27 col2\" >1.000</td>\n",
       "    </tr>\n",
       "    <tr>\n",
       "      <td id=\"T_5cbe5_row28_col0\" class=\"data row28 col0\" >0</td>\n",
       "      <td id=\"T_5cbe5_row28_col1\" class=\"data row28 col1\" >0.000</td>\n",
       "      <td id=\"T_5cbe5_row28_col2\" class=\"data row28 col2\" >1.000</td>\n",
       "    </tr>\n",
       "  </tbody>\n",
       "</table>\n"
      ],
      "text/plain": [
       "<pandas.io.formats.style.Styler at 0x26ef3a5e980>"
      ]
     },
     "metadata": {},
     "output_type": "display_data"
    },
    {
     "name": "stdout",
     "output_type": "stream",
     "text": [
      "Probabilidade do acontecimento mais provável: P(a11=14) = 0.162\n",
      "Região de Aceitação: [10, 19]\n",
      "Região de Rejeição: [0, 9] U [20, 28]\n"
     ]
    }
   ],
   "source": [
    "# Uso da função própria calcular_distribuicao_probabilidades_e_decisao_hipotese\n",
    "df_formated, acceptance_range, rejection_range = calcular_distribuicao_probabilidades_e_decisao_hipotese(tabela_contingencia, 0.05)\n",
    "\n",
    "display(df_formated.style.hide(axis='index'))\n",
    "\n",
    "print(f\"Probabilidade do acontecimento mais provável: P(a11={df_formated['y_value'][0]}) = {df_formated['p_value'][0]}\")\n",
    "\n",
    "print(f\"Região de Aceitação: {acceptance_range}\")\n",
    "print(f\"Região de Rejeição: {rejection_range}\")"
   ]
  },
  {
   "cell_type": "markdown",
   "id": "e6bba415-fb91-4977-ac12-55084c7a35cf",
   "metadata": {},
   "source": [
    "\n",
    "<font color=\"blue\">\n",
    "    \n",
    "#### c)\tProbabilidade de ocorrerem 12 casos entre os sinistrados que consumiram bebidas alcoólicas e morreram. </font>"
   ]
  },
  {
   "cell_type": "code",
   "execution_count": 6,
   "id": "d61e8edb-b444-4591-92d1-b757365e2790",
   "metadata": {},
   "outputs": [
    {
     "name": "stdout",
     "output_type": "stream",
     "text": [
      "P(a11=12) = 0.1041\n"
     ]
    }
   ],
   "source": [
    "# Calculando probabilidade pontual\n",
    "M = tabela_contingencia.iloc[2, 2] # total da amostra\n",
    "n = tabela_contingencia.iloc[0, 2] # total marginal da linha\n",
    "N = tabela_contingencia.iloc[2, 0] # total marginal da coluna\n",
    "\n",
    "expected_a11 = 12\n",
    "p_expected_a11 = hypergeom.pmf(expected_a11, M, n, N)\n",
    "\n",
    "# Imprimindo\n",
    "print(f\"P(a11={expected_a11}) = {p_expected_a11:.4f}\")"
   ]
  },
  {
   "cell_type": "markdown",
   "id": "e6be6367-3ae3-4383-9b7b-27815ced764e",
   "metadata": {},
   "source": [
    "<font color=\"blue\">\n",
    "\n",
    "#### d) Probabilidade de ocorrerem no máximo 12 casos entre os sinistrados que consumiram bebidas alcoólicas e morreram.</font>"
   ]
  },
  {
   "cell_type": "code",
   "execution_count": 7,
   "id": "bb2a7487-23b3-48b0-95b0-2c442c967e20",
   "metadata": {},
   "outputs": [
    {
     "name": "stdout",
     "output_type": "stream",
     "text": [
      "P(a11<=12) = 0.2261\n"
     ]
    }
   ],
   "source": [
    "# Calculando probabilidade acumulada\n",
    "expected_a11 = 12\n",
    "p_expected_a11 = hypergeom.cdf(expected_a11, M, n, N)\n",
    "\n",
    "# Imprimindo\n",
    "print(f\"P(a11<={expected_a11}) = {p_expected_a11:.4f}\")"
   ]
  },
  {
   "cell_type": "markdown",
   "id": "03a751d0-c188-4657-b997-7556e6889074",
   "metadata": {},
   "source": [
    "<font color=\"blue\">\n",
    "\n",
    "#### e) Probabilidade de ocorrerem 71 casos entre os sinistrados que não consumiram bebidas alcoólicas e não morreram.</font>\n"
   ]
  },
  {
   "cell_type": "code",
   "execution_count": 8,
   "id": "2a8915d8-a43d-4e07-844b-0ffc25d601e9",
   "metadata": {},
   "outputs": [
    {
     "name": "stdout",
     "output_type": "stream",
     "text": [
      "{'a11': 14, 'a12': 14, 'a21': 75, 'a22': 71}\n"
     ]
    }
   ],
   "source": [
    "# Uso da função própria resolver_sistema_equacoes_dada_variavel_tabela_contingencia\n",
    "solucao = resolver_sistema_equacoes_dada_variavel_tabela_contingencia(tabela_contingencia, 'a22=71')\n",
    "\n",
    "# Visualização\n",
    "print(solucao)"
   ]
  },
  {
   "cell_type": "code",
   "execution_count": 9,
   "id": "d367f79d-6fe8-41ed-a4dd-214c246f889d",
   "metadata": {},
   "outputs": [
    {
     "name": "stdout",
     "output_type": "stream",
     "text": [
      "P(a11=14) = 0.1617\n"
     ]
    }
   ],
   "source": [
    "# Calculando probabilidade pontual\n",
    "expected_a11 = 14\n",
    "p_expected_a11 = hypergeom.pmf(expected_a11, M, n, N)\n",
    "\n",
    "# Imprimindo\n",
    "print(f\"P(a11={expected_a11}) = {p_expected_a11:.4f}\")"
   ]
  },
  {
   "cell_type": "markdown",
   "id": "272c3559-0fe8-477c-87c6-48f1157fd17b",
   "metadata": {},
   "source": [
    "<font color=\"blue\">\n",
    "\n",
    "#### f) Probabilidade de ocorrerem 13 a 16 casos entre os sinistrados que consumiram bebidas alcoólicas e morreram</font>"
   ]
  },
  {
   "cell_type": "code",
   "execution_count": 10,
   "id": "a18e022b-1e7b-4b90-9ac0-77110cb82006",
   "metadata": {},
   "outputs": [
    {
     "name": "stdout",
     "output_type": "stream",
     "text": [
      "P(16<=P<=13) = 0.5893\n"
     ]
    }
   ],
   "source": [
    "# P(a11_lower<=a11<=a11_higher) = P(a11<=a11_higher) - P(a11<a11_lower)\n",
    "\n",
    "# P(a11<=a11_higher)\n",
    "a11_higher = 16\n",
    "p_cum_a11_higher = hypergeom.cdf(a11_higher, M, n, N)\n",
    "\n",
    "# P(a11<a11_lower)\n",
    "a11_lower = 13\n",
    "p_cum_a11_lower = hypergeom.cdf(a11_lower-1, M, n, N) # -1 por ser < e não <=\n",
    "\n",
    "# P (a11_lower<=a11<=a11_higher)\n",
    "p_interval_a11 = p_cum_a11_higher - p_cum_a11_lower\n",
    "\n",
    "# Imprimindo\n",
    "print(f\"P({a11_higher}<=P<={a11_lower}) = {p_interval_a11:.4f}\")"
   ]
  },
  {
   "cell_type": "markdown",
   "id": "2eca9076-beea-412b-8ac9-c361306d7c73",
   "metadata": {},
   "source": [
    "<font color=\"blue\">\n",
    "As seguintes questões fazem-se para a ocorrência observada de 20 casos entre os sinistrados que consumiram bebidas alcoólicas e morreram.  \n",
    "    \n",
    "### 2.3.2. Frequência esperada, T. Bayes, e resíduos ajustados estandardizados.\n",
    "</font>"
   ]
  },
  {
   "cell_type": "code",
   "execution_count": 11,
   "id": "31109d43-c179-4646-8f35-3ff4b5731b91",
   "metadata": {},
   "outputs": [
    {
     "name": "stdout",
     "output_type": "stream",
     "text": [
      "{'a12': 8, 'a21': 69, 'a22': 77, 'a11': 20}\n"
     ]
    }
   ],
   "source": [
    "# Uso da função própria resolver_sistema_equacoes_dada_variavel_tabela_contingencia\n",
    "solucao = resolver_sistema_equacoes_dada_variavel_tabela_contingencia(tabela_contingencia, 'a11=20')\n",
    "\n",
    "# Visualização\n",
    "print(solucao)"
   ]
  },
  {
   "cell_type": "code",
   "execution_count": 12,
   "id": "70686558-8cd8-4c3f-9dfb-538f45a61d8b",
   "metadata": {},
   "outputs": [
    {
     "data": {
      "text/html": [
       "<div>\n",
       "<style scoped>\n",
       "    .dataframe tbody tr th:only-of-type {\n",
       "        vertical-align: middle;\n",
       "    }\n",
       "\n",
       "    .dataframe tbody tr th {\n",
       "        vertical-align: top;\n",
       "    }\n",
       "\n",
       "    .dataframe thead th {\n",
       "        text-align: right;\n",
       "    }\n",
       "</style>\n",
       "<table border=\"1\" class=\"dataframe\">\n",
       "  <thead>\n",
       "    <tr style=\"text-align: right;\">\n",
       "      <th>Feridos</th>\n",
       "      <th>1. Mortais</th>\n",
       "      <th>2. Não Mortais</th>\n",
       "    </tr>\n",
       "    <tr>\n",
       "      <th>Bebidas</th>\n",
       "      <th></th>\n",
       "      <th></th>\n",
       "    </tr>\n",
       "  </thead>\n",
       "  <tbody>\n",
       "    <tr>\n",
       "      <th>1. Sim</th>\n",
       "      <td>20</td>\n",
       "      <td>69</td>\n",
       "    </tr>\n",
       "    <tr>\n",
       "      <th>2. Não</th>\n",
       "      <td>8</td>\n",
       "      <td>77</td>\n",
       "    </tr>\n",
       "  </tbody>\n",
       "</table>\n",
       "</div>"
      ],
      "text/plain": [
       "Feridos  1. Mortais  2. Não Mortais\n",
       "Bebidas                            \n",
       "1. Sim           20              69\n",
       "2. Não            8              77"
      ]
     },
     "metadata": {},
     "output_type": "display_data"
    }
   ],
   "source": [
    "# Criando um DataFrame a partir do dicionário de solução\n",
    "# Transformando o dicionário em uma lista de listas, que representará as linhas e colunas da tabela de contingência\n",
    "data = [\n",
    "    [solucao['a11'], solucao['a21']],  # Primeira linha\n",
    "    [solucao['a12'], solucao['a22']]   # Segunda linha\n",
    "]\n",
    "\n",
    "# Criando o DataFrame com os dados e especificando os nomes das linhas e colunas\n",
    "tabela_contingencia = pd.DataFrame(data, \n",
    "                                   index=[\n",
    "                                       categorias[grupos[0]][0], categorias[grupos[0]][1]\n",
    "                                   ], \n",
    "                                   columns=[\n",
    "                                       categorias[grupos[1]][0], categorias[grupos[1]][1]\n",
    "                                   ])\n",
    "\n",
    "# Definindo nomes para os índices e colunas\n",
    "tabela_contingencia.index.name = grupos[0]\n",
    "tabela_contingencia.columns.name = grupos[1]\n",
    "\n",
    "\n",
    "# Convertendo frações para inteiros\n",
    "tabela_contingencia = tabela_contingencia.applymap(lambda x: int(x))\n",
    "\n",
    "# Visualizando a tabela de contingência\n",
    "display(tabela_contingencia)"
   ]
  },
  {
   "cell_type": "code",
   "execution_count": 13,
   "id": "7cebbd27-3e5f-43b3-9fc6-b3dad1af14a9",
   "metadata": {},
   "outputs": [
    {
     "data": {
      "text/html": [
       "<div>\n",
       "<style scoped>\n",
       "    .dataframe tbody tr th:only-of-type {\n",
       "        vertical-align: middle;\n",
       "    }\n",
       "\n",
       "    .dataframe tbody tr th {\n",
       "        vertical-align: top;\n",
       "    }\n",
       "\n",
       "    .dataframe thead th {\n",
       "        text-align: right;\n",
       "    }\n",
       "</style>\n",
       "<table border=\"1\" class=\"dataframe\">\n",
       "  <thead>\n",
       "    <tr style=\"text-align: right;\">\n",
       "      <th>Feridos</th>\n",
       "      <th>1. Mortais</th>\n",
       "      <th>2. Não Mortais</th>\n",
       "    </tr>\n",
       "    <tr>\n",
       "      <th>Bebidas</th>\n",
       "      <th></th>\n",
       "      <th></th>\n",
       "    </tr>\n",
       "  </thead>\n",
       "  <tbody>\n",
       "    <tr>\n",
       "      <th>1. Sim</th>\n",
       "      <td>14.3</td>\n",
       "      <td>74.7</td>\n",
       "    </tr>\n",
       "    <tr>\n",
       "      <th>2. Não</th>\n",
       "      <td>13.7</td>\n",
       "      <td>71.3</td>\n",
       "    </tr>\n",
       "  </tbody>\n",
       "</table>\n",
       "</div>"
      ],
      "text/plain": [
       "Feridos  1. Mortais  2. Não Mortais\n",
       "Bebidas                            \n",
       "1. Sim         14.3            74.7\n",
       "2. Não         13.7            71.3"
      ]
     },
     "metadata": {},
     "output_type": "display_data"
    }
   ],
   "source": [
    "## FREQUÊNCIAS ESPERADAS ##\n",
    "\n",
    "# Encapsulando a tabela para análises no statsmodels\n",
    "tabela_analise = Table(tabela_contingencia)\n",
    "\n",
    "# Calculando as frequências esperadas (fe)\n",
    "frequencias_esperadas = tabela_analise.fittedvalues\n",
    "\n",
    "# Exibindo as fe\n",
    "display(frequencias_esperadas.round(1))"
   ]
  },
  {
   "cell_type": "code",
   "execution_count": 14,
   "id": "66a3a8d3-321b-4b30-aca7-9049590967a5",
   "metadata": {},
   "outputs": [
    {
     "data": {
      "text/html": [
       "<div>\n",
       "<style scoped>\n",
       "    .dataframe tbody tr th:only-of-type {\n",
       "        vertical-align: middle;\n",
       "    }\n",
       "\n",
       "    .dataframe tbody tr th {\n",
       "        vertical-align: top;\n",
       "    }\n",
       "\n",
       "    .dataframe thead th {\n",
       "        text-align: right;\n",
       "    }\n",
       "</style>\n",
       "<table border=\"1\" class=\"dataframe\">\n",
       "  <thead>\n",
       "    <tr style=\"text-align: right;\">\n",
       "      <th>Feridos</th>\n",
       "      <th>1. Mortais</th>\n",
       "      <th>2. Não Mortais</th>\n",
       "    </tr>\n",
       "    <tr>\n",
       "      <th>Bebidas</th>\n",
       "      <th></th>\n",
       "      <th></th>\n",
       "    </tr>\n",
       "  </thead>\n",
       "  <tbody>\n",
       "    <tr>\n",
       "      <th>1. Sim</th>\n",
       "      <td>2.3</td>\n",
       "      <td>-2.3</td>\n",
       "    </tr>\n",
       "    <tr>\n",
       "      <th>2. Não</th>\n",
       "      <td>-2.3</td>\n",
       "      <td>2.3</td>\n",
       "    </tr>\n",
       "  </tbody>\n",
       "</table>\n",
       "</div>"
      ],
      "text/plain": [
       "Feridos  1. Mortais  2. Não Mortais\n",
       "Bebidas                            \n",
       "1. Sim          2.3            -2.3\n",
       "2. Não         -2.3             2.3"
      ]
     },
     "metadata": {},
     "output_type": "display_data"
    }
   ],
   "source": [
    "# Resíduos de Pearson (não ajustados)\n",
    "residuos_nao_ajustados = tabela_analise.resid_pearson\n",
    "\n",
    "# Resíduos ajustados estandardizados\n",
    "residuos_estandardizados = tabela_analise.standardized_resids\n",
    "\n",
    "# Visualizando\n",
    "display(residuos_estandardizados.round(1))"
   ]
  },
  {
   "cell_type": "markdown",
   "id": "f9e2cfa2-7be0-493c-a9d9-9da26bc6d286",
   "metadata": {},
   "source": [
    "<font color=\"blue\">\n",
    "\n",
    "#### g) A frequência esperada nos 20 casos entre os sinistrados que consumiram bebidas alcoólicas e morreram. Comente com base nos resíduos. </font>\r\n"
   ]
  },
  {
   "cell_type": "code",
   "execution_count": 15,
   "id": "6d20eb12-82bb-438e-8bae-9ae74b019bd3",
   "metadata": {},
   "outputs": [
    {
     "name": "stdout",
     "output_type": "stream",
     "text": [
      "Fe(1. Sim, 1. Mortais) = 14.3\n"
     ]
    }
   ],
   "source": [
    "# Impressão de configuração específica\n",
    "evento_grupo0 = categorias[grupos[0]][0] # Bebidas: 1. Sim\n",
    "evento_grupo1 = categorias[grupos[1]][0] # Feridos: 1. Mortais\n",
    "print(f\"Fe({evento_grupo0}, {evento_grupo1}) = {frequencias_esperadas.loc[evento_grupo0, evento_grupo1]:.1f}\")"
   ]
  },
  {
   "cell_type": "markdown",
   "id": "861bd2a8-bc5d-410f-a44d-03ff983fd21a",
   "metadata": {},
   "source": [
    "<font color=\"blue\">\n",
    "\n",
    "#### h) Sabendo que morreu, a probabilidade de ter consumido bebidas alcoólicas, usando o teorema de Bayes. Compare-a com a probabilidade de morrer. </font>"
   ]
  },
  {
   "cell_type": "code",
   "execution_count": 17,
   "id": "06d3243c-f599-4fe8-8415-1cc5c5bf1294",
   "metadata": {},
   "outputs": [
    {
     "name": "stdout",
     "output_type": "stream",
     "text": [
      "Probabilidade Condicionada P(Bebidas|Feridos):\n"
     ]
    },
    {
     "data": {
      "text/html": [
       "<div>\n",
       "<style scoped>\n",
       "    .dataframe tbody tr th:only-of-type {\n",
       "        vertical-align: middle;\n",
       "    }\n",
       "\n",
       "    .dataframe tbody tr th {\n",
       "        vertical-align: top;\n",
       "    }\n",
       "\n",
       "    .dataframe thead th {\n",
       "        text-align: right;\n",
       "    }\n",
       "</style>\n",
       "<table border=\"1\" class=\"dataframe\">\n",
       "  <thead>\n",
       "    <tr style=\"text-align: right;\">\n",
       "      <th>Feridos</th>\n",
       "      <th>1. Mortais</th>\n",
       "      <th>2. Não Mortais</th>\n",
       "    </tr>\n",
       "    <tr>\n",
       "      <th>Bebidas</th>\n",
       "      <th></th>\n",
       "      <th></th>\n",
       "    </tr>\n",
       "  </thead>\n",
       "  <tbody>\n",
       "    <tr>\n",
       "      <th>1. Sim</th>\n",
       "      <td>0.714</td>\n",
       "      <td>0.473</td>\n",
       "    </tr>\n",
       "    <tr>\n",
       "      <th>2. Não</th>\n",
       "      <td>0.286</td>\n",
       "      <td>0.527</td>\n",
       "    </tr>\n",
       "  </tbody>\n",
       "</table>\n",
       "</div>"
      ],
      "text/plain": [
       "Feridos  1. Mortais  2. Não Mortais\n",
       "Bebidas                            \n",
       "1. Sim        0.714           0.473\n",
       "2. Não        0.286           0.527"
      ]
     },
     "metadata": {},
     "output_type": "display_data"
    },
    {
     "name": "stdout",
     "output_type": "stream",
     "text": [
      "P(1. Sim|1. Mortais) = 0.714\n"
     ]
    }
   ],
   "source": [
    "## PROBABILIDADES CONDICIONADAS ##\n",
    "\n",
    "# Calculando P(grupo0|grupo1)\n",
    "prob_cond_grupo0_dado_grupo1 = tabela_contingencia.div(tabela_contingencia.sum(axis=0), axis=1)\n",
    "\n",
    "# Calculando P(grupo1|grupo0)\n",
    "prob_cond_grupo1_dado_grupo0 = tabela_contingencia.div(tabela_contingencia.sum(axis=1), axis=0)\n",
    "\n",
    "# Exibindo as probabilidades condicionadas com arredondamento para 3 casas decimais\n",
    "print(f\"Probabilidade Condicionada P({grupos[0]}|{grupos[1]}):\")\n",
    "display(prob_cond_grupo0_dado_grupo1.round(3))\n",
    "\n",
    "# Impressão de configuração específica\n",
    "evento = categorias[grupos[0]][0]\n",
    "condicao = categorias[grupos[1]][0]\n",
    "print(f\"P({evento}|{condicao}) = {prob_cond_grupo0_dado_grupo1.loc[evento, condicao]:.3f}\")"
   ]
  },
  {
   "cell_type": "markdown",
   "id": "4c1d6cb1-5003-493b-be94-fb306660787b",
   "metadata": {},
   "source": [
    "<font color=\"blue\">\n",
    "    \n",
    "### 2.3.3. Teste de Yates\n",
    "</font>"
   ]
  },
  {
   "cell_type": "markdown",
   "id": "10322adb-4649-464b-923c-3b0780a2a2de",
   "metadata": {},
   "source": [
    "<font color=\"blue\">\n",
    "\n",
    "#### i)\tA significância da associação, usando o teste de independência da correção de continuidade de Yates, por se conhecer à partida apenas os totais marginais.</font>\n",
    "\n",
    "<font color=\"blue\">\n",
    "\n",
    "#### j)\tO valor do nível de significância do teste de Yates.</font>"
   ]
  },
  {
   "cell_type": "code",
   "execution_count": 18,
   "id": "52d9eb97-f953-407e-bc24-a3e7200b9d65",
   "metadata": {},
   "outputs": [
    {
     "data": {
      "text/html": [
       "<div>\n",
       "<style scoped>\n",
       "    .dataframe tbody tr th:only-of-type {\n",
       "        vertical-align: middle;\n",
       "    }\n",
       "\n",
       "    .dataframe tbody tr th {\n",
       "        vertical-align: top;\n",
       "    }\n",
       "\n",
       "    .dataframe thead th {\n",
       "        text-align: right;\n",
       "    }\n",
       "</style>\n",
       "<table border=\"1\" class=\"dataframe\">\n",
       "  <thead>\n",
       "    <tr style=\"text-align: right;\">\n",
       "      <th></th>\n",
       "      <th>Value</th>\n",
       "      <th>df</th>\n",
       "      <th>Asymp. Sig. (2-sided)</th>\n",
       "      <th>Exact Sig. (2-sided)</th>\n",
       "      <th>Exact Sig. (1-sided)</th>\n",
       "    </tr>\n",
       "    <tr>\n",
       "      <th>Test</th>\n",
       "      <th></th>\n",
       "      <th></th>\n",
       "      <th></th>\n",
       "      <th></th>\n",
       "      <th></th>\n",
       "    </tr>\n",
       "  </thead>\n",
       "  <tbody>\n",
       "    <tr>\n",
       "      <th>Pearson Chi-Square</th>\n",
       "      <td>5.49</td>\n",
       "      <td>1</td>\n",
       "      <td>0.019</td>\n",
       "      <td></td>\n",
       "      <td></td>\n",
       "    </tr>\n",
       "    <tr>\n",
       "      <th>Continuity Correction</th>\n",
       "      <td>4.57</td>\n",
       "      <td>1</td>\n",
       "      <td>0.033</td>\n",
       "      <td></td>\n",
       "      <td></td>\n",
       "    </tr>\n",
       "    <tr>\n",
       "      <th>Likelihood Ratio</th>\n",
       "      <td>5.66</td>\n",
       "      <td>1</td>\n",
       "      <td>0.017</td>\n",
       "      <td></td>\n",
       "      <td></td>\n",
       "    </tr>\n",
       "    <tr>\n",
       "      <th>Fisher`s Exact Test</th>\n",
       "      <td>2.79</td>\n",
       "      <td></td>\n",
       "      <td></td>\n",
       "      <td>0.023</td>\n",
       "      <td>0.015</td>\n",
       "    </tr>\n",
       "    <tr>\n",
       "      <th>N. of Valid Cases</th>\n",
       "      <td>174</td>\n",
       "      <td></td>\n",
       "      <td></td>\n",
       "      <td></td>\n",
       "      <td></td>\n",
       "    </tr>\n",
       "  </tbody>\n",
       "</table>\n",
       "</div>"
      ],
      "text/plain": [
       "                      Value df Asymp. Sig. (2-sided) Exact Sig. (2-sided)   \n",
       "Test                                                                        \n",
       "Pearson Chi-Square     5.49  1                 0.019                       \\\n",
       "Continuity Correction  4.57  1                 0.033                        \n",
       "Likelihood Ratio       5.66  1                 0.017                        \n",
       "Fisher`s Exact Test    2.79                                         0.023   \n",
       "N. of Valid Cases       174                                                 \n",
       "\n",
       "                      Exact Sig. (1-sided)  \n",
       "Test                                        \n",
       "Pearson Chi-Square                          \n",
       "Continuity Correction                       \n",
       "Likelihood Ratio                            \n",
       "Fisher`s Exact Test                  0.015  \n",
       "N. of Valid Cases                           "
      ]
     },
     "metadata": {},
     "output_type": "display_data"
    },
    {
     "name": "stdout",
     "output_type": "stream",
     "text": [
      "a. 0 cells (0.00%) have expected count less than 5. The minimum expected count is 13.68.\n"
     ]
    }
   ],
   "source": [
    "analisar_independencia_variaveis_tabela_contingencia(tabela_contingencia, \n",
    "                                                     mostrar_pearson=True, \n",
    "                                                     mostrar_continuity=True, \n",
    "                                                     mostrar_likelihood=True, \n",
    "                                                     mostrar_fisher=True)"
   ]
  },
  {
   "cell_type": "markdown",
   "id": "8c68f4ff-4ada-4634-bd08-c7c1c145e12b",
   "metadata": {},
   "source": [
    "<font color=\"blue\">\n",
    "    \n",
    "### 2.3.4. Odds ratio e RP\n",
    "</font>"
   ]
  },
  {
   "cell_type": "markdown",
   "id": "d61079f5-2191-4e63-9621-77622c82be2b",
   "metadata": {},
   "source": [
    "<font color=\"blue\">\n",
    "    \n",
    "#### k) A intensidade da associação significante entre as duas variáveis, recorrendo ao odds ratio (OR). Analisar a discrepância entre OR e RP.\n",
    "</font>"
   ]
  },
  {
   "cell_type": "code",
   "execution_count": 19,
   "id": "c766ed80-3363-4ff0-aa63-6f3fb14daab6",
   "metadata": {},
   "outputs": [
    {
     "data": {
      "text/html": [
       "<div>\n",
       "<style scoped>\n",
       "    .dataframe tbody tr th:only-of-type {\n",
       "        vertical-align: middle;\n",
       "    }\n",
       "\n",
       "    .dataframe tbody tr th {\n",
       "        vertical-align: top;\n",
       "    }\n",
       "\n",
       "    .dataframe thead th {\n",
       "        text-align: right;\n",
       "    }\n",
       "</style>\n",
       "<table border=\"1\" class=\"dataframe\">\n",
       "  <thead>\n",
       "    <tr style=\"text-align: right;\">\n",
       "      <th></th>\n",
       "      <th>Value</th>\n",
       "      <th>95% CI Lower</th>\n",
       "      <th>95% CI Upper</th>\n",
       "    </tr>\n",
       "  </thead>\n",
       "  <tbody>\n",
       "    <tr>\n",
       "      <th>Odds Ratio for Bebidas (1. Sim / 2. Não)</th>\n",
       "      <td>2.790</td>\n",
       "      <td>1.155</td>\n",
       "      <td>6.739</td>\n",
       "    </tr>\n",
       "    <tr>\n",
       "      <th>RR (ou RP) for Feridos = 1. Mortais</th>\n",
       "      <td>2.388</td>\n",
       "      <td>1.112</td>\n",
       "      <td>5.127</td>\n",
       "    </tr>\n",
       "    <tr>\n",
       "      <th>RR (ou RP) for Feridos = 2. Não Mortais</th>\n",
       "      <td>0.856</td>\n",
       "      <td>0.751</td>\n",
       "      <td>0.976</td>\n",
       "    </tr>\n",
       "    <tr>\n",
       "      <th>N. of Valid Cases</th>\n",
       "      <td>174</td>\n",
       "      <td></td>\n",
       "      <td></td>\n",
       "    </tr>\n",
       "  </tbody>\n",
       "</table>\n",
       "</div>"
      ],
      "text/plain": [
       "                                          Value 95% CI Lower 95% CI Upper\n",
       "Odds Ratio for Bebidas (1. Sim / 2. Não)  2.790        1.155        6.739\n",
       "RR (ou RP) for Feridos = 1. Mortais       2.388        1.112        5.127\n",
       "RR (ou RP) for Feridos = 2. Não Mortais   0.856        0.751        0.976\n",
       "N. of Valid Cases                           174                          "
      ]
     },
     "metadata": {},
     "output_type": "display_data"
    },
    {
     "name": "stdout",
     "output_type": "stream",
     "text": [
      "Discrepância = 0.168 e (θ * p21) = 0.263\n"
     ]
    }
   ],
   "source": [
    "calcular_odds_ratio_razao_risco_discrepancia(tabela_contingencia, print_results=True)"
   ]
  },
  {
   "cell_type": "code",
   "execution_count": null,
   "id": "7a3eb4b4-ec67-4f6d-8513-ab21fb46365a",
   "metadata": {},
   "outputs": [],
   "source": []
  },
  {
   "cell_type": "code",
   "execution_count": null,
   "id": "a3254e7f-1695-432d-a6dd-2e33242c96b3",
   "metadata": {},
   "outputs": [],
   "source": []
  }
 ],
 "metadata": {
  "kernelspec": {
   "display_name": "Python 3 (ipykernel)",
   "language": "python",
   "name": "python3"
  },
  "language_info": {
   "codemirror_mode": {
    "name": "ipython",
    "version": 3
   },
   "file_extension": ".py",
   "mimetype": "text/x-python",
   "name": "python",
   "nbconvert_exporter": "python",
   "pygments_lexer": "ipython3",
   "version": "3.10.13"
  }
 },
 "nbformat": 4,
 "nbformat_minor": 5
}
