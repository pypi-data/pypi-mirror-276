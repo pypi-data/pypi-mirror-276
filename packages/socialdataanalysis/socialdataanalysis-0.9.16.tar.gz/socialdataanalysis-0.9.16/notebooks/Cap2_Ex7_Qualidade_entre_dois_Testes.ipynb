{
 "cells": [
  {
   "cell_type": "markdown",
   "id": "4b3a96ce-1850-4d97-826f-5ce608e845c8",
   "metadata": {},
   "source": [
    "# Aplicações práticas\n",
    "\n",
    "# 2.7 Exercício 7: Qualidade entre dois testes\n",
    "\n",
    "## A. Enunciado \n",
    "\n",
    "Suspeita-se que as avaliações feitas pelos alunos aos professores têm uma associação positiva com o empenho dos alunos. Os mais empenhados, com motivação profunda, são os que mais positivamente avaliam os docentes, contrariamente aos menos empenhados, com motivação superficial, que pior os avaliam.\n",
    "Numa amostra aleatória de 165 alunos, aquando do preenchimento do questionário de avaliação dos docentes (1 positiva, 2 negativa), os alunos foram submetidos a dois métodos de aferição: o método B em que as impressões digitais foram analisadas; método A com câmaras de filmar escondidas. Os resultados das avaliações foram registados no ficheiro \"cap02-exerc7_sensibildaide relativa\", constam da Tabela estão e organizados em um dicionário em Python."
   ]
  },
  {
   "cell_type": "markdown",
   "id": "9ee0e366-09b3-4a11-a69d-aa33698a3837",
   "metadata": {},
   "source": [
    "# Resolução em Python"
   ]
  },
  {
   "cell_type": "markdown",
   "id": "b01be9d2-58ef-4bd2-8a7a-7bb59dd3a337",
   "metadata": {},
   "source": [
    "## Carregando Bibliotecas"
   ]
  },
  {
   "cell_type": "code",
   "execution_count": 1,
   "id": "e7e66d6c-01f2-4db2-bcb4-a6648f1ac6f8",
   "metadata": {},
   "outputs": [],
   "source": [
    "import pandas as pd  # Fornece DataFrames e Series para manipulação de dados em Python, facilitando operações como leitura, escrita, e manipulação de estruturas de dados tabulares."
   ]
  },
  {
   "cell_type": "markdown",
   "id": "992c21a3-c829-44f1-8b4f-964af73c1c94",
   "metadata": {},
   "source": [
    "## Funções Personalizadas"
   ]
  },
  {
   "cell_type": "code",
   "execution_count": 2,
   "id": "57586f96-4145-46bd-bd19-be4911a59f55",
   "metadata": {},
   "outputs": [],
   "source": [
    "import sys\n",
    "\n",
    "# Adicionar o caminho do diretório ao sys.path\n",
    "sys.path.append(r\"C:\\Users\\ricar\\OneDrive\\Área de Trabalho\\Livro\\Cap_02\\socialdataanalysis\")\n",
    "\n",
    "from association import gerar_tabela_contingencia\n",
    "from association import complementar_tabela_contingencia_com_analise_estatistica"
   ]
  },
  {
   "cell_type": "markdown",
   "id": "53edebc0-c07c-4343-91f1-4d397c3f14de",
   "metadata": {},
   "source": [
    "## Dados Fornecidos"
   ]
  },
  {
   "cell_type": "code",
   "execution_count": 3,
   "id": "eb052323-8c40-4966-aee2-7a8e5452da3b",
   "metadata": {},
   "outputs": [
    {
     "data": {
      "text/html": [
       "<div>\n",
       "<style scoped>\n",
       "    .dataframe tbody tr th:only-of-type {\n",
       "        vertical-align: middle;\n",
       "    }\n",
       "\n",
       "    .dataframe tbody tr th {\n",
       "        vertical-align: top;\n",
       "    }\n",
       "\n",
       "    .dataframe thead th {\n",
       "        text-align: right;\n",
       "    }\n",
       "</style>\n",
       "<table border=\"1\" class=\"dataframe\">\n",
       "  <thead>\n",
       "    <tr style=\"text-align: right;\">\n",
       "      <th></th>\n",
       "      <th>Método_B</th>\n",
       "      <th>Método_A</th>\n",
       "      <th>Freq</th>\n",
       "    </tr>\n",
       "  </thead>\n",
       "  <tbody>\n",
       "    <tr>\n",
       "      <th>0</th>\n",
       "      <td>1</td>\n",
       "      <td>1</td>\n",
       "      <td>78</td>\n",
       "    </tr>\n",
       "    <tr>\n",
       "      <th>1</th>\n",
       "      <td>1</td>\n",
       "      <td>2</td>\n",
       "      <td>12</td>\n",
       "    </tr>\n",
       "    <tr>\n",
       "      <th>2</th>\n",
       "      <td>2</td>\n",
       "      <td>1</td>\n",
       "      <td>10</td>\n",
       "    </tr>\n",
       "    <tr>\n",
       "      <th>3</th>\n",
       "      <td>2</td>\n",
       "      <td>2</td>\n",
       "      <td>65</td>\n",
       "    </tr>\n",
       "  </tbody>\n",
       "</table>\n",
       "</div>"
      ],
      "text/plain": [
       "   Método_B  Método_A  Freq\n",
       "0         1         1    78\n",
       "1         1         2    12\n",
       "2         2         1    10\n",
       "3         2         2    65"
      ]
     },
     "metadata": {},
     "output_type": "display_data"
    }
   ],
   "source": [
    "# Dicionário com dados categorizados representando grupos e suas frequências\n",
    "dados = {\n",
    "    'Método_B': [1, 1, 2, 2],\n",
    "    'Método_A': [1, 2, 1, 2],\n",
    "    'Freq': [78, 12, 10, 65]\n",
    "}\n",
    "\n",
    "# Criando o DataFrame a partir do dicionário\n",
    "dados = pd.DataFrame(dados)\n",
    "\n",
    "# Convertendo as colunas para inteiros, se necessário\n",
    "dados = dados.astype(int)\n",
    "\n",
    "# Visualizando o dataframe\n",
    "display(dados)"
   ]
  },
  {
   "cell_type": "markdown",
   "id": "d9ad8bf6-af72-40ba-8c07-db714f1e038b",
   "metadata": {},
   "source": [
    "## Tabela 1: Tabela de Contingência"
   ]
  },
  {
   "cell_type": "code",
   "execution_count": 4,
   "id": "350bf2a3-da88-4e0b-8048-2a9e7124a249",
   "metadata": {},
   "outputs": [
    {
     "data": {
      "text/html": [
       "<div>\n",
       "<style scoped>\n",
       "    .dataframe tbody tr th:only-of-type {\n",
       "        vertical-align: middle;\n",
       "    }\n",
       "\n",
       "    .dataframe tbody tr th {\n",
       "        vertical-align: top;\n",
       "    }\n",
       "\n",
       "    .dataframe thead th {\n",
       "        text-align: right;\n",
       "    }\n",
       "</style>\n",
       "<table border=\"1\" class=\"dataframe\">\n",
       "  <thead>\n",
       "    <tr style=\"text-align: right;\">\n",
       "      <th>Método_A</th>\n",
       "      <th>1. Positiva</th>\n",
       "      <th>2. Negativa</th>\n",
       "    </tr>\n",
       "    <tr>\n",
       "      <th>Método_B</th>\n",
       "      <th></th>\n",
       "      <th></th>\n",
       "    </tr>\n",
       "  </thead>\n",
       "  <tbody>\n",
       "    <tr>\n",
       "      <th>1. Positiva</th>\n",
       "      <td>78</td>\n",
       "      <td>12</td>\n",
       "    </tr>\n",
       "    <tr>\n",
       "      <th>2. Negativa</th>\n",
       "      <td>10</td>\n",
       "      <td>65</td>\n",
       "    </tr>\n",
       "  </tbody>\n",
       "</table>\n",
       "</div>"
      ],
      "text/plain": [
       "Método_A     1. Positiva  2. Negativa\n",
       "Método_B                             \n",
       "1. Positiva           78           12\n",
       "2. Negativa           10           65"
      ]
     },
     "metadata": {},
     "output_type": "display_data"
    }
   ],
   "source": [
    "# Obter automaticamente os nomes dos grupos e da coluna de frequência\n",
    "grupos = dados.columns[:-1].tolist()  # Todos exceto a última coluna\n",
    "categorias = {\n",
    "    grupos[0]: ['1. Positiva', '2. Negativa',],\n",
    "    grupos[1]: ['1. Positiva', '2. Negativa'],\n",
    "}\n",
    "\n",
    "tabela_contingencia = gerar_tabela_contingencia(dados, grupos, categorias)\n",
    "\n",
    "display(tabela_contingencia)"
   ]
  },
  {
   "cell_type": "markdown",
   "id": "5f6bf5dc-3395-4799-8719-c19eecc1c511",
   "metadata": {},
   "source": [
    "## Tabela de Contingência com Cálculos"
   ]
  },
  {
   "cell_type": "code",
   "execution_count": 5,
   "id": "ba9f536f-2cda-4c28-a98f-588020bf1c8d",
   "metadata": {},
   "outputs": [
    {
     "data": {
      "text/html": [
       "<div>\n",
       "<style scoped>\n",
       "    .dataframe tbody tr th:only-of-type {\n",
       "        vertical-align: middle;\n",
       "    }\n",
       "\n",
       "    .dataframe tbody tr th {\n",
       "        vertical-align: top;\n",
       "    }\n",
       "\n",
       "    .dataframe thead th {\n",
       "        text-align: right;\n",
       "    }\n",
       "</style>\n",
       "<table border=\"1\" class=\"dataframe\">\n",
       "  <thead>\n",
       "    <tr style=\"text-align: right;\">\n",
       "      <th></th>\n",
       "      <th>Método_A</th>\n",
       "      <th>1. Positiva</th>\n",
       "      <th>2. Negativa</th>\n",
       "      <th>Total</th>\n",
       "    </tr>\n",
       "    <tr>\n",
       "      <th>Método_B</th>\n",
       "      <th></th>\n",
       "      <th></th>\n",
       "      <th></th>\n",
       "      <th></th>\n",
       "    </tr>\n",
       "  </thead>\n",
       "  <tbody>\n",
       "    <tr>\n",
       "      <th rowspan=\"7\" valign=\"top\">1. Positiva</th>\n",
       "      <th>Count</th>\n",
       "      <td>78.0</td>\n",
       "      <td>12.0</td>\n",
       "      <td>90.0</td>\n",
       "    </tr>\n",
       "    <tr>\n",
       "      <th>Expected Count</th>\n",
       "      <td>48.0</td>\n",
       "      <td>42.0</td>\n",
       "      <td>90.0</td>\n",
       "    </tr>\n",
       "    <tr>\n",
       "      <th>% within Método_B</th>\n",
       "      <td>86.7</td>\n",
       "      <td>13.3</td>\n",
       "      <td>100.0</td>\n",
       "    </tr>\n",
       "    <tr>\n",
       "      <th>% within Método_A</th>\n",
       "      <td>88.6</td>\n",
       "      <td>15.6</td>\n",
       "      <td>54.5</td>\n",
       "    </tr>\n",
       "    <tr>\n",
       "      <th>% of Total</th>\n",
       "      <td>47.3</td>\n",
       "      <td>7.3</td>\n",
       "      <td>54.5</td>\n",
       "    </tr>\n",
       "    <tr>\n",
       "      <th>Standardized Residual</th>\n",
       "      <td>4.3</td>\n",
       "      <td>-4.6</td>\n",
       "      <td></td>\n",
       "    </tr>\n",
       "    <tr>\n",
       "      <th>Adjusted Residual</th>\n",
       "      <td>9.4</td>\n",
       "      <td>-9.4</td>\n",
       "      <td></td>\n",
       "    </tr>\n",
       "    <tr>\n",
       "      <th rowspan=\"7\" valign=\"top\">2. Negativa</th>\n",
       "      <th>Count</th>\n",
       "      <td>10.0</td>\n",
       "      <td>65.0</td>\n",
       "      <td>75.0</td>\n",
       "    </tr>\n",
       "    <tr>\n",
       "      <th>Expected Count</th>\n",
       "      <td>40.0</td>\n",
       "      <td>35.0</td>\n",
       "      <td>75.0</td>\n",
       "    </tr>\n",
       "    <tr>\n",
       "      <th>% within Método_B</th>\n",
       "      <td>13.3</td>\n",
       "      <td>86.7</td>\n",
       "      <td>100.0</td>\n",
       "    </tr>\n",
       "    <tr>\n",
       "      <th>% within Método_A</th>\n",
       "      <td>11.4</td>\n",
       "      <td>84.4</td>\n",
       "      <td>45.5</td>\n",
       "    </tr>\n",
       "    <tr>\n",
       "      <th>% of Total</th>\n",
       "      <td>6.1</td>\n",
       "      <td>39.4</td>\n",
       "      <td>45.5</td>\n",
       "    </tr>\n",
       "    <tr>\n",
       "      <th>Standardized Residual</th>\n",
       "      <td>-4.7</td>\n",
       "      <td>5.1</td>\n",
       "      <td></td>\n",
       "    </tr>\n",
       "    <tr>\n",
       "      <th>Adjusted Residual</th>\n",
       "      <td>-9.4</td>\n",
       "      <td>9.4</td>\n",
       "      <td></td>\n",
       "    </tr>\n",
       "    <tr>\n",
       "      <th rowspan=\"5\" valign=\"top\">Total</th>\n",
       "      <th>Count</th>\n",
       "      <td>88.0</td>\n",
       "      <td>77.0</td>\n",
       "      <td>165.0</td>\n",
       "    </tr>\n",
       "    <tr>\n",
       "      <th>Expected Count</th>\n",
       "      <td>88.0</td>\n",
       "      <td>77.0</td>\n",
       "      <td>165.0</td>\n",
       "    </tr>\n",
       "    <tr>\n",
       "      <th>% within Método_B</th>\n",
       "      <td>53.3</td>\n",
       "      <td>46.7</td>\n",
       "      <td>100.0</td>\n",
       "    </tr>\n",
       "    <tr>\n",
       "      <th>% within Método_A</th>\n",
       "      <td>100.0</td>\n",
       "      <td>100.0</td>\n",
       "      <td>100.0</td>\n",
       "    </tr>\n",
       "    <tr>\n",
       "      <th>% of Total</th>\n",
       "      <td>53.3</td>\n",
       "      <td>46.7</td>\n",
       "      <td>100.0</td>\n",
       "    </tr>\n",
       "  </tbody>\n",
       "</table>\n",
       "</div>"
      ],
      "text/plain": [
       "Método_A                          1. Positiva 2. Negativa  Total\n",
       "Método_B                                                        \n",
       "1. Positiva Count                        78.0        12.0   90.0\n",
       "            Expected Count               48.0        42.0   90.0\n",
       "            % within Método_B            86.7        13.3  100.0\n",
       "            % within Método_A            88.6        15.6   54.5\n",
       "            % of Total                   47.3         7.3   54.5\n",
       "            Standardized Residual         4.3        -4.6       \n",
       "            Adjusted Residual             9.4        -9.4       \n",
       "2. Negativa Count                        10.0        65.0   75.0\n",
       "            Expected Count               40.0        35.0   75.0\n",
       "            % within Método_B            13.3        86.7  100.0\n",
       "            % within Método_A            11.4        84.4   45.5\n",
       "            % of Total                    6.1        39.4   45.5\n",
       "            Standardized Residual        -4.7         5.1       \n",
       "            Adjusted Residual            -9.4         9.4       \n",
       "Total       Count                        88.0        77.0  165.0\n",
       "            Expected Count               88.0        77.0  165.0\n",
       "            % within Método_B            53.3        46.7  100.0\n",
       "            % within Método_A           100.0       100.0  100.0\n",
       "            % of Total                   53.3        46.7  100.0"
      ]
     },
     "metadata": {},
     "output_type": "display_data"
    }
   ],
   "source": [
    "# Função própria complementar_tabela_contingencia_com_analise_estatistica\n",
    "combined_df = complementar_tabela_contingencia_com_analise_estatistica(tabela_contingencia)\n",
    "\n",
    "# Visualizando resultado\n",
    "display(combined_df)"
   ]
  },
  {
   "cell_type": "markdown",
   "id": "3e8218b1-85dc-4cd7-bfc4-9853dfc045c4",
   "metadata": {},
   "source": [
    "<font color=\"blue\">    \n",
    "    \n",
    "### 2.7.1. A qualidade do teste de diagnóstico\n",
    "</font>"
   ]
  },
  {
   "cell_type": "markdown",
   "id": "3cc956d6-a3d7-47ff-b565-e08e41433cde",
   "metadata": {},
   "source": [
    "<font color=\"blue\">\n",
    "    \n",
    "#### a) Sensibilidade relativa.\n",
    "</font>"
   ]
  },
  {
   "cell_type": "code",
   "execution_count": 7,
   "id": "2517e703-b249-42d4-bbda-1f6621f88a7a",
   "metadata": {},
   "outputs": [
    {
     "name": "stdout",
     "output_type": "stream",
     "text": [
      "Sensibilidade Relativa do Método A = 0.900\n",
      "Sensibilidade Relativa do Método B = 0.880\n"
     ]
    }
   ],
   "source": [
    "# Definindo os valores da tabela de contingência\n",
    "tp = tabela_contingencia.iloc[0,0] # verdadeiros positivos\n",
    "fp = tabela_contingencia.iloc[0,1] # falsos positivos\n",
    "fn = tabela_contingencia.iloc[1,0] # falsos negativos\n",
    "tn = tabela_contingencia.iloc[1,1] # verdadeiros negativos\n",
    "\n",
    "sensibilidade_metodo_a = (tp + fp) / (tp + fp + fn)\n",
    "\n",
    "sensibilidade_metodo_b = (tp + fn) / (tp + fp + fn)\n",
    "\n",
    "# Visualização\n",
    "print(f\"Sensibilidade Relativa do Método A = {sensibilidade_metodo_a:.3f}\")\n",
    "print(f\"Sensibilidade Relativa do Método B = {sensibilidade_metodo_b:.3f}\")"
   ]
  },
  {
   "cell_type": "code",
   "execution_count": null,
   "id": "e2da68e3-05ed-4b59-b72e-b060dc2f8a5b",
   "metadata": {},
   "outputs": [],
   "source": []
  }
 ],
 "metadata": {
  "kernelspec": {
   "display_name": "Python 3 (ipykernel)",
   "language": "python",
   "name": "python3"
  },
  "language_info": {
   "codemirror_mode": {
    "name": "ipython",
    "version": 3
   },
   "file_extension": ".py",
   "mimetype": "text/x-python",
   "name": "python",
   "nbconvert_exporter": "python",
   "pygments_lexer": "ipython3",
   "version": "3.10.13"
  }
 },
 "nbformat": 4,
 "nbformat_minor": 5
}
