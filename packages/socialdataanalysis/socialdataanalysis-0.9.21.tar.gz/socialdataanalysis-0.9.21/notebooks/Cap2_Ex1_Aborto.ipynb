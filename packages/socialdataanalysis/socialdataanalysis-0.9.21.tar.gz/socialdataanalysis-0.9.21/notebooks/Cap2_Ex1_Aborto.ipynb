{
 "cells": [
  {
   "cell_type": "markdown",
   "id": "70b535dc-6be5-4e40-bd32-2b7129c040be",
   "metadata": {},
   "source": [
    "# Aplicações práticas\n",
    "\n",
    "# 2.1 Exercício 1: Aborto\n",
    "\n",
    "## A. Enunciado \n",
    "\n",
    "Numa amostra aleatória de 156 respondentes, um responsável pelo ministério da saúde pretende analisar a associação entre a opinião sobre o aborto quando a saúde da mãe está em perigo, (smãe) e quando a mãe é pobre (pobre). Obtiveram-se 16 pessoas a favor de ambos os abortos, 76 pessoas contra os dois tipos de aborto, 58 a favor de pobre e contra mãe, 6 contra pobre e a favor de smãe. As variáveis são ambas nominais, pois definem-se apenas pelo nome. As categorias de ambas as variáveis são: 1. Favor e 2. Contra, originando uma tabela 2 x 2. Os dados foram obtidos com base num questionário lançado em setembro (estudo transversal) e constam da linha Count da Tabela 1 do ficheiro cap02_exercicio1.sav e organizados em um dicionário em Python.\n"
   ]
  },
  {
   "cell_type": "markdown",
   "id": "9ee0e366-09b3-4a11-a69d-aa33698a3837",
   "metadata": {},
   "source": [
    "# Resolução em Python"
   ]
  },
  {
   "cell_type": "markdown",
   "id": "b01be9d2-58ef-4bd2-8a7a-7bb59dd3a337",
   "metadata": {},
   "source": [
    "## Carregando Bibliotecas"
   ]
  },
  {
   "cell_type": "code",
   "execution_count": 1,
   "id": "e7e66d6c-01f2-4db2-bcb4-a6648f1ac6f8",
   "metadata": {},
   "outputs": [],
   "source": [
    "import pandas as pd  # Fornece DataFrames e Series para manipulação de dados em Python, facilitando operações como leitura, escrita, e manipulação de estruturas de dados tabulares.\n",
    "import numpy as np  # Suporta operações com arrays e matrizes, oferecendo uma vasta gama de funções matemáticas para operações com essas estruturas de dados.\n",
    "from statsmodels.stats.contingency_tables import Table  # Analisa tabelas de contingência para estudo de variáveis categóricas, útil em testes de hipóteses e análises de associação entre variáveis.\n",
    "from scipy.stats import hypergeom  # Aplica a distribuição hipergeométrica para análises estatísticas, útil em testes de sobreposição e em situações onde se deseja calcular probabilidades sem reposição."
   ]
  },
  {
   "cell_type": "markdown",
   "id": "992c21a3-c829-44f1-8b4f-964af73c1c94",
   "metadata": {},
   "source": [
    "## Funções Personalizadas"
   ]
  },
  {
   "cell_type": "code",
   "execution_count": 2,
   "id": "6bf169c6-b946-4f6e-8e17-312fe2e8dde5",
   "metadata": {},
   "outputs": [],
   "source": [
    "!pip install socialdataanalysis\n",
    "!pip install --upgrade socialdataanalysis\n",
    "from socialdataanalysis import analisar_independencia_variaveis_tabela_contingencia\n",
    "from socialdataanalysis import gerar_tabela_contingencia\n",
    "from socialdataanalysis import calcular_distribuicao_probabilidades_e_decisao_hipotese\n",
    "from socialdataanalysis import complementar_tabela_contingencia_com_analise_estatistica\n",
    "from socialdataanalysis import calcular_odds_ratio_razao_risco_discrepancia"
   ]
  },
  {
   "cell_type": "markdown",
   "id": "53edebc0-c07c-4343-91f1-4d397c3f14de",
   "metadata": {},
   "source": [
    "## Dados Fornecidos"
   ]
  },
  {
   "cell_type": "code",
   "execution_count": 3,
   "id": "eb052323-8c40-4966-aee2-7a8e5452da3b",
   "metadata": {},
   "outputs": [
    {
     "data": {
      "text/html": [
       "<div>\n",
       "<style scoped>\n",
       "    .dataframe tbody tr th:only-of-type {\n",
       "        vertical-align: middle;\n",
       "    }\n",
       "\n",
       "    .dataframe tbody tr th {\n",
       "        vertical-align: top;\n",
       "    }\n",
       "\n",
       "    .dataframe thead th {\n",
       "        text-align: right;\n",
       "    }\n",
       "</style>\n",
       "<table border=\"1\" class=\"dataframe\">\n",
       "  <thead>\n",
       "    <tr style=\"text-align: right;\">\n",
       "      <th></th>\n",
       "      <th>Pobre</th>\n",
       "      <th>Smãe</th>\n",
       "      <th>Freq</th>\n",
       "    </tr>\n",
       "  </thead>\n",
       "  <tbody>\n",
       "    <tr>\n",
       "      <th>0</th>\n",
       "      <td>1</td>\n",
       "      <td>1</td>\n",
       "      <td>16</td>\n",
       "    </tr>\n",
       "    <tr>\n",
       "      <th>1</th>\n",
       "      <td>1</td>\n",
       "      <td>2</td>\n",
       "      <td>58</td>\n",
       "    </tr>\n",
       "    <tr>\n",
       "      <th>2</th>\n",
       "      <td>2</td>\n",
       "      <td>1</td>\n",
       "      <td>6</td>\n",
       "    </tr>\n",
       "    <tr>\n",
       "      <th>3</th>\n",
       "      <td>2</td>\n",
       "      <td>2</td>\n",
       "      <td>76</td>\n",
       "    </tr>\n",
       "  </tbody>\n",
       "</table>\n",
       "</div>"
      ],
      "text/plain": [
       "   Pobre  Smãe  Freq\n",
       "0      1     1    16\n",
       "1      1     2    58\n",
       "2      2     1     6\n",
       "3      2     2    76"
      ]
     },
     "metadata": {},
     "output_type": "display_data"
    }
   ],
   "source": [
    "# Dicionário com dados categorizados representando grupos e suas frequências\n",
    "dados = {\n",
    "    'Pobre': [1, 1, 2, 2],\n",
    "    'Smãe': [1, 2, 1, 2],\n",
    "    'Freq': [16, 58, 6, 76]\n",
    "}\n",
    "\n",
    "# Criando o DataFrame a partir do dicionário\n",
    "dados = pd.DataFrame(dados)\n",
    "\n",
    "# Convertendo as colunas para inteiros, se necessário\n",
    "dados = dados.astype(int)\n",
    "\n",
    "# Visualizando o dataframe\n",
    "display(dados)"
   ]
  },
  {
   "cell_type": "markdown",
   "id": "d9ad8bf6-af72-40ba-8c07-db714f1e038b",
   "metadata": {},
   "source": [
    "## Tabela 1: Tabela de Contingência"
   ]
  },
  {
   "cell_type": "code",
   "execution_count": 4,
   "id": "08180403-ab84-4906-a6bf-1f6db5d4066a",
   "metadata": {},
   "outputs": [
    {
     "data": {
      "text/html": [
       "<div>\n",
       "<style scoped>\n",
       "    .dataframe tbody tr th:only-of-type {\n",
       "        vertical-align: middle;\n",
       "    }\n",
       "\n",
       "    .dataframe tbody tr th {\n",
       "        vertical-align: top;\n",
       "    }\n",
       "\n",
       "    .dataframe thead th {\n",
       "        text-align: right;\n",
       "    }\n",
       "</style>\n",
       "<table border=\"1\" class=\"dataframe\">\n",
       "  <thead>\n",
       "    <tr style=\"text-align: right;\">\n",
       "      <th>Smãe</th>\n",
       "      <th>1. Favor de Smãe</th>\n",
       "      <th>2. Contra Smãe</th>\n",
       "    </tr>\n",
       "    <tr>\n",
       "      <th>Pobre</th>\n",
       "      <th></th>\n",
       "      <th></th>\n",
       "    </tr>\n",
       "  </thead>\n",
       "  <tbody>\n",
       "    <tr>\n",
       "      <th>1. Favor de Pobre</th>\n",
       "      <td>16</td>\n",
       "      <td>58</td>\n",
       "    </tr>\n",
       "    <tr>\n",
       "      <th>2. Contra Pobre</th>\n",
       "      <td>6</td>\n",
       "      <td>76</td>\n",
       "    </tr>\n",
       "  </tbody>\n",
       "</table>\n",
       "</div>"
      ],
      "text/plain": [
       "Smãe               1. Favor de Smãe  2. Contra Smãe\n",
       "Pobre                                              \n",
       "1. Favor de Pobre                16              58\n",
       "2. Contra Pobre                   6              76"
      ]
     },
     "metadata": {},
     "output_type": "display_data"
    }
   ],
   "source": [
    "# Obter automaticamente os nomes dos grupos e da coluna de frequência\n",
    "grupos = dados.columns[:-1].tolist()  # Todos exceto a última coluna\n",
    "categorias = {\n",
    "    grupos[0]: ['1. Favor de Pobre', '2. Contra Pobre',],\n",
    "    grupos[1]: ['1. Favor de Smãe', '2. Contra Smãe'],\n",
    "}\n",
    "\n",
    "tabela_contingencia = gerar_tabela_contingencia(dados, grupos, categorias)\n",
    "\n",
    "display(tabela_contingencia)"
   ]
  },
  {
   "cell_type": "markdown",
   "id": "22c336a2-dd9b-4ffe-8ce4-9abe2c144490",
   "metadata": {},
   "source": [
    "## Tabela de Contingência com Cálculos"
   ]
  },
  {
   "cell_type": "code",
   "execution_count": 5,
   "id": "0994ad03-e6e9-4af5-9ee1-ba159032090c",
   "metadata": {},
   "outputs": [
    {
     "data": {
      "text/html": [
       "<div>\n",
       "<style scoped>\n",
       "    .dataframe tbody tr th:only-of-type {\n",
       "        vertical-align: middle;\n",
       "    }\n",
       "\n",
       "    .dataframe tbody tr th {\n",
       "        vertical-align: top;\n",
       "    }\n",
       "\n",
       "    .dataframe thead th {\n",
       "        text-align: right;\n",
       "    }\n",
       "</style>\n",
       "<table border=\"1\" class=\"dataframe\">\n",
       "  <thead>\n",
       "    <tr style=\"text-align: right;\">\n",
       "      <th></th>\n",
       "      <th>Smãe</th>\n",
       "      <th>1. Favor de Smãe</th>\n",
       "      <th>2. Contra Smãe</th>\n",
       "      <th>Total</th>\n",
       "    </tr>\n",
       "    <tr>\n",
       "      <th>Pobre</th>\n",
       "      <th></th>\n",
       "      <th></th>\n",
       "      <th></th>\n",
       "      <th></th>\n",
       "    </tr>\n",
       "  </thead>\n",
       "  <tbody>\n",
       "    <tr>\n",
       "      <th rowspan=\"7\" valign=\"top\">1. Favor de Pobre</th>\n",
       "      <th>Count</th>\n",
       "      <td>16.0</td>\n",
       "      <td>58.0</td>\n",
       "      <td>74.0</td>\n",
       "    </tr>\n",
       "    <tr>\n",
       "      <th>Expected Count</th>\n",
       "      <td>10.4</td>\n",
       "      <td>63.6</td>\n",
       "      <td>74.0</td>\n",
       "    </tr>\n",
       "    <tr>\n",
       "      <th>% within Pobre</th>\n",
       "      <td>21.6</td>\n",
       "      <td>78.4</td>\n",
       "      <td>100.0</td>\n",
       "    </tr>\n",
       "    <tr>\n",
       "      <th>% within Smãe</th>\n",
       "      <td>72.7</td>\n",
       "      <td>43.3</td>\n",
       "      <td>47.4</td>\n",
       "    </tr>\n",
       "    <tr>\n",
       "      <th>% of Total</th>\n",
       "      <td>10.3</td>\n",
       "      <td>37.2</td>\n",
       "      <td>47.4</td>\n",
       "    </tr>\n",
       "    <tr>\n",
       "      <th>Standardized Residual</th>\n",
       "      <td>1.7</td>\n",
       "      <td>-0.7</td>\n",
       "      <td></td>\n",
       "    </tr>\n",
       "    <tr>\n",
       "      <th>Adjusted Residual</th>\n",
       "      <td>2.6</td>\n",
       "      <td>-2.6</td>\n",
       "      <td></td>\n",
       "    </tr>\n",
       "    <tr>\n",
       "      <th rowspan=\"7\" valign=\"top\">2. Contra Pobre</th>\n",
       "      <th>Count</th>\n",
       "      <td>6.0</td>\n",
       "      <td>76.0</td>\n",
       "      <td>82.0</td>\n",
       "    </tr>\n",
       "    <tr>\n",
       "      <th>Expected Count</th>\n",
       "      <td>11.6</td>\n",
       "      <td>70.4</td>\n",
       "      <td>82.0</td>\n",
       "    </tr>\n",
       "    <tr>\n",
       "      <th>% within Pobre</th>\n",
       "      <td>7.3</td>\n",
       "      <td>92.7</td>\n",
       "      <td>100.0</td>\n",
       "    </tr>\n",
       "    <tr>\n",
       "      <th>% within Smãe</th>\n",
       "      <td>27.3</td>\n",
       "      <td>56.7</td>\n",
       "      <td>52.6</td>\n",
       "    </tr>\n",
       "    <tr>\n",
       "      <th>% of Total</th>\n",
       "      <td>3.8</td>\n",
       "      <td>48.7</td>\n",
       "      <td>52.6</td>\n",
       "    </tr>\n",
       "    <tr>\n",
       "      <th>Standardized Residual</th>\n",
       "      <td>-1.6</td>\n",
       "      <td>0.7</td>\n",
       "      <td></td>\n",
       "    </tr>\n",
       "    <tr>\n",
       "      <th>Adjusted Residual</th>\n",
       "      <td>-2.6</td>\n",
       "      <td>2.6</td>\n",
       "      <td></td>\n",
       "    </tr>\n",
       "    <tr>\n",
       "      <th rowspan=\"5\" valign=\"top\">Total</th>\n",
       "      <th>Count</th>\n",
       "      <td>22.0</td>\n",
       "      <td>134.0</td>\n",
       "      <td>156.0</td>\n",
       "    </tr>\n",
       "    <tr>\n",
       "      <th>Expected Count</th>\n",
       "      <td>22.0</td>\n",
       "      <td>134.0</td>\n",
       "      <td>156.0</td>\n",
       "    </tr>\n",
       "    <tr>\n",
       "      <th>% within Pobre</th>\n",
       "      <td>14.1</td>\n",
       "      <td>85.9</td>\n",
       "      <td>100.0</td>\n",
       "    </tr>\n",
       "    <tr>\n",
       "      <th>% within Smãe</th>\n",
       "      <td>100.0</td>\n",
       "      <td>100.0</td>\n",
       "      <td>100.0</td>\n",
       "    </tr>\n",
       "    <tr>\n",
       "      <th>% of Total</th>\n",
       "      <td>14.1</td>\n",
       "      <td>85.9</td>\n",
       "      <td>100.0</td>\n",
       "    </tr>\n",
       "  </tbody>\n",
       "</table>\n",
       "</div>"
      ],
      "text/plain": [
       "Smãe                                    1. Favor de Smãe 2. Contra Smãe  Total\n",
       "Pobre                                                                         \n",
       "1. Favor de Pobre Count                             16.0           58.0   74.0\n",
       "                  Expected Count                    10.4           63.6   74.0\n",
       "                  % within Pobre                    21.6           78.4  100.0\n",
       "                  % within Smãe                     72.7           43.3   47.4\n",
       "                  % of Total                        10.3           37.2   47.4\n",
       "                  Standardized Residual              1.7           -0.7       \n",
       "                  Adjusted Residual                  2.6           -2.6       \n",
       "2. Contra Pobre   Count                              6.0           76.0   82.0\n",
       "                  Expected Count                    11.6           70.4   82.0\n",
       "                  % within Pobre                     7.3           92.7  100.0\n",
       "                  % within Smãe                     27.3           56.7   52.6\n",
       "                  % of Total                         3.8           48.7   52.6\n",
       "                  Standardized Residual             -1.6            0.7       \n",
       "                  Adjusted Residual                 -2.6            2.6       \n",
       "Total             Count                             22.0          134.0  156.0\n",
       "                  Expected Count                    22.0          134.0  156.0\n",
       "                  % within Pobre                    14.1           85.9  100.0\n",
       "                  % within Smãe                    100.0          100.0  100.0\n",
       "                  % of Total                        14.1           85.9  100.0"
      ]
     },
     "metadata": {},
     "output_type": "display_data"
    }
   ],
   "source": [
    "# Função própria complementar_tabela_contingencia_com_analise_estatistica\n",
    "combined_df = complementar_tabela_contingencia_com_analise_estatistica(tabela_contingencia)\n",
    "\n",
    "# Visualizando resultado\n",
    "display(combined_df)"
   ]
  },
  {
   "cell_type": "markdown",
   "id": "7f029efe-e0da-4960-9d8b-d0d2db422d44",
   "metadata": {},
   "source": [
    "<font color=\"blue\">    \n",
    "    \n",
    "### 2.1.1. Probabilidades e Teorema de Bayes\n",
    "</font>"
   ]
  },
  {
   "cell_type": "markdown",
   "id": "9240bb77-64dc-4f0d-90e0-a3f3f528726e",
   "metadata": {},
   "source": [
    "<font color=\"blue\">    \n",
    "    \n",
    "#### a) Probabilidade de ser a favor do aborto por pobreza (Favor de Pobre).\n",
    "</font>"
   ]
  },
  {
   "cell_type": "code",
   "execution_count": 6,
   "id": "ac8b2921-435b-442d-ae95-78f96c433def",
   "metadata": {},
   "outputs": [
    {
     "name": "stdout",
     "output_type": "stream",
     "text": [
      "Probabilidades Marginais de Pobre\n"
     ]
    },
    {
     "data": {
      "text/html": [
       "<div>\n",
       "<style scoped>\n",
       "    .dataframe tbody tr th:only-of-type {\n",
       "        vertical-align: middle;\n",
       "    }\n",
       "\n",
       "    .dataframe tbody tr th {\n",
       "        vertical-align: top;\n",
       "    }\n",
       "\n",
       "    .dataframe thead th {\n",
       "        text-align: right;\n",
       "    }\n",
       "</style>\n",
       "<table border=\"1\" class=\"dataframe\">\n",
       "  <thead>\n",
       "    <tr style=\"text-align: right;\">\n",
       "      <th></th>\n",
       "      <th></th>\n",
       "    </tr>\n",
       "    <tr>\n",
       "      <th>Pobre</th>\n",
       "      <th></th>\n",
       "    </tr>\n",
       "  </thead>\n",
       "  <tbody>\n",
       "    <tr>\n",
       "      <th>1. Favor de Pobre</th>\n",
       "      <td>0.474</td>\n",
       "    </tr>\n",
       "    <tr>\n",
       "      <th>2. Contra Pobre</th>\n",
       "      <td>0.526</td>\n",
       "    </tr>\n",
       "  </tbody>\n",
       "</table>\n",
       "</div>"
      ],
      "text/plain": [
       "                        \n",
       "Pobre                   \n",
       "1. Favor de Pobre  0.474\n",
       "2. Contra Pobre    0.526"
      ]
     },
     "metadata": {},
     "output_type": "display_data"
    },
    {
     "name": "stdout",
     "output_type": "stream",
     "text": [
      "RESPOSTA: \n",
      " P(1. Favor de Pobre) = 0.474\n"
     ]
    }
   ],
   "source": [
    "## PROBABILIDADES MARGINAIS ##\n",
    "\n",
    "# Calculando as Probabilidades Marginais para o Grupo 1\n",
    "prob_marg_grupo0 = tabela_contingencia.sum(axis=1) / tabela_contingencia.values.sum()\n",
    "# Convertendo em um DataFrame\n",
    "prob_marg_grupo0 = prob_marg_grupo0.to_frame(name='')\n",
    "\n",
    "# Exibindo os DataFrames\n",
    "print(f\"Probabilidades Marginais de {grupos[0]}\")\n",
    "display(prob_marg_grupo0.round(3))\n",
    "\n",
    "# Impressão de configuração específica\n",
    "evento = categorias[grupos[0]][0]\n",
    "print(f\"RESPOSTA: \\n P({evento}) = {prob_marg_grupo0.loc[evento, '']:.3f}\")"
   ]
  },
  {
   "cell_type": "markdown",
   "id": "5915b95c-7944-4c75-ba3f-9153b0368351",
   "metadata": {},
   "source": [
    "<font color=\"blue\">\n",
    "    \n",
    "#### b) Probabilidade de ser a favor do aborto quando a saúde da mãe está em risco (Favor de Smãe).\n",
    "</font>"
   ]
  },
  {
   "cell_type": "code",
   "execution_count": 7,
   "id": "c2e27ecf-a1d5-4be3-a6d6-382160aaa488",
   "metadata": {},
   "outputs": [
    {
     "name": "stdout",
     "output_type": "stream",
     "text": [
      "Probabilidades Marginais de Smãe\n"
     ]
    },
    {
     "data": {
      "text/html": [
       "<div>\n",
       "<style scoped>\n",
       "    .dataframe tbody tr th:only-of-type {\n",
       "        vertical-align: middle;\n",
       "    }\n",
       "\n",
       "    .dataframe tbody tr th {\n",
       "        vertical-align: top;\n",
       "    }\n",
       "\n",
       "    .dataframe thead th {\n",
       "        text-align: right;\n",
       "    }\n",
       "</style>\n",
       "<table border=\"1\" class=\"dataframe\">\n",
       "  <thead>\n",
       "    <tr style=\"text-align: right;\">\n",
       "      <th>Smãe</th>\n",
       "      <th>1. Favor de Smãe</th>\n",
       "      <th>2. Contra Smãe</th>\n",
       "    </tr>\n",
       "  </thead>\n",
       "  <tbody>\n",
       "    <tr>\n",
       "      <th></th>\n",
       "      <td>0.141</td>\n",
       "      <td>0.859</td>\n",
       "    </tr>\n",
       "  </tbody>\n",
       "</table>\n",
       "</div>"
      ],
      "text/plain": [
       "Smãe  1. Favor de Smãe  2. Contra Smãe\n",
       "                 0.141           0.859"
      ]
     },
     "metadata": {},
     "output_type": "display_data"
    },
    {
     "name": "stdout",
     "output_type": "stream",
     "text": [
      "RESPOSTA: \n",
      " P(1. Favor de Smãe) = 0.141\n"
     ]
    }
   ],
   "source": [
    "## PROBABILIDADES MARGINAIS ##\n",
    "\n",
    "# Calculando as Probabilidades Marginais para o Grupo 2\n",
    "prob_marg_grupo1 = tabela_contingencia.sum(axis=0) / tabela_contingencia.values.sum()\n",
    "# Convertendo em um DataFrame\n",
    "prob_marg_grupo1 = prob_marg_grupo1.to_frame(name='').T\n",
    "\n",
    "# Exibindo os DataFrames\n",
    "print(f\"Probabilidades Marginais de {grupos[1]}\")\n",
    "display(prob_marg_grupo1.round(3))\n",
    "\n",
    "# Impressão de configuração específica\n",
    "evento = categorias[grupos[1]][0]\n",
    "print(f\"RESPOSTA: \\n P({evento}) = {prob_marg_grupo1.loc['', evento]:.3f}\")"
   ]
  },
  {
   "cell_type": "markdown",
   "id": "61e220f4-c7d9-4b8c-b6f6-ac847555e025",
   "metadata": {},
   "source": [
    "<font color=\"blue\">\n",
    "\n",
    "#### c) Probabilidade da ocorrência favorável aos dois tipos de aborto.\n",
    "</font>"
   ]
  },
  {
   "cell_type": "code",
   "execution_count": 8,
   "id": "b1de7cdd-f8f6-4d61-b14b-9e74fe2d0f28",
   "metadata": {},
   "outputs": [
    {
     "data": {
      "text/html": [
       "<div>\n",
       "<style scoped>\n",
       "    .dataframe tbody tr th:only-of-type {\n",
       "        vertical-align: middle;\n",
       "    }\n",
       "\n",
       "    .dataframe tbody tr th {\n",
       "        vertical-align: top;\n",
       "    }\n",
       "\n",
       "    .dataframe thead th {\n",
       "        text-align: right;\n",
       "    }\n",
       "</style>\n",
       "<table border=\"1\" class=\"dataframe\">\n",
       "  <thead>\n",
       "    <tr style=\"text-align: right;\">\n",
       "      <th>Smãe</th>\n",
       "      <th>1. Favor de Smãe</th>\n",
       "      <th>2. Contra Smãe</th>\n",
       "    </tr>\n",
       "    <tr>\n",
       "      <th>Pobre</th>\n",
       "      <th></th>\n",
       "      <th></th>\n",
       "    </tr>\n",
       "  </thead>\n",
       "  <tbody>\n",
       "    <tr>\n",
       "      <th>1. Favor de Pobre</th>\n",
       "      <td>0.103</td>\n",
       "      <td>0.372</td>\n",
       "    </tr>\n",
       "    <tr>\n",
       "      <th>2. Contra Pobre</th>\n",
       "      <td>0.038</td>\n",
       "      <td>0.487</td>\n",
       "    </tr>\n",
       "  </tbody>\n",
       "</table>\n",
       "</div>"
      ],
      "text/plain": [
       "Smãe               1. Favor de Smãe  2. Contra Smãe\n",
       "Pobre                                              \n",
       "1. Favor de Pobre             0.103           0.372\n",
       "2. Contra Pobre               0.038           0.487"
      ]
     },
     "metadata": {},
     "output_type": "display_data"
    },
    {
     "name": "stdout",
     "output_type": "stream",
     "text": [
      "RESPOSTA: \n",
      " P(1. Favor de Pobre ^ 1. Favor de Smãe) = 0.103\n"
     ]
    }
   ],
   "source": [
    "## PROBABILIDADES CONJUNTAS ##\n",
    "\n",
    "# Dividindo cada frequência pelo total geral para obter probabilidades conjuntas\n",
    "prob_conjuntas = tabela_contingencia / tabela_contingencia.sum().sum()\n",
    "\n",
    "# Exibindo as probabilidades conjuntas com arredondamento para 3 casas decimais\n",
    "display(prob_conjuntas.round(3))\n",
    "\n",
    "# Impressão de configuração específica\n",
    "evento_grupo0 = categorias[grupos[0]][0]\n",
    "evento_grupo1 = categorias[grupos[1]][0]\n",
    "print(f\"RESPOSTA: \\n P({evento_grupo0} ^ {evento_grupo1}) = {prob_conjuntas.loc[evento_grupo0, evento_grupo1]:.3f}\")"
   ]
  },
  {
   "cell_type": "markdown",
   "id": "b3fe115e-f3cc-4247-be8a-cc179b8485df",
   "metadata": {},
   "source": [
    "<font color=\"blue\">\n",
    "\n",
    "#### d) Probabilidade de ser a Favor de Smãe, sabendo que é a Favor de Pobre.\n",
    "</font>"
   ]
  },
  {
   "cell_type": "code",
   "execution_count": 9,
   "id": "73267fa2-879d-4276-99b5-349f0ea84364",
   "metadata": {},
   "outputs": [
    {
     "name": "stdout",
     "output_type": "stream",
     "text": [
      "Probabilidade Condicionada P(Smãe|Pobre):\n"
     ]
    },
    {
     "data": {
      "text/html": [
       "<div>\n",
       "<style scoped>\n",
       "    .dataframe tbody tr th:only-of-type {\n",
       "        vertical-align: middle;\n",
       "    }\n",
       "\n",
       "    .dataframe tbody tr th {\n",
       "        vertical-align: top;\n",
       "    }\n",
       "\n",
       "    .dataframe thead th {\n",
       "        text-align: right;\n",
       "    }\n",
       "</style>\n",
       "<table border=\"1\" class=\"dataframe\">\n",
       "  <thead>\n",
       "    <tr style=\"text-align: right;\">\n",
       "      <th>Smãe</th>\n",
       "      <th>1. Favor de Smãe</th>\n",
       "      <th>2. Contra Smãe</th>\n",
       "    </tr>\n",
       "    <tr>\n",
       "      <th>Pobre</th>\n",
       "      <th></th>\n",
       "      <th></th>\n",
       "    </tr>\n",
       "  </thead>\n",
       "  <tbody>\n",
       "    <tr>\n",
       "      <th>1. Favor de Pobre</th>\n",
       "      <td>0.216</td>\n",
       "      <td>0.784</td>\n",
       "    </tr>\n",
       "    <tr>\n",
       "      <th>2. Contra Pobre</th>\n",
       "      <td>0.073</td>\n",
       "      <td>0.927</td>\n",
       "    </tr>\n",
       "  </tbody>\n",
       "</table>\n",
       "</div>"
      ],
      "text/plain": [
       "Smãe               1. Favor de Smãe  2. Contra Smãe\n",
       "Pobre                                              \n",
       "1. Favor de Pobre             0.216           0.784\n",
       "2. Contra Pobre               0.073           0.927"
      ]
     },
     "metadata": {},
     "output_type": "display_data"
    },
    {
     "name": "stdout",
     "output_type": "stream",
     "text": [
      "RESPOSTA: \n",
      " P(1. Favor de Smãe|1. Favor de Pobre) = 0.216\n"
     ]
    }
   ],
   "source": [
    "## PROBABILIDADES CONDICIONADAS ##\n",
    "\n",
    "# Calculando P(grupo1|grupo0)\n",
    "prob_cond_grupo1_dado_grupo0 = tabela_contingencia.div(tabela_contingencia.sum(axis=1), axis=0)\n",
    "\n",
    "# Exibindo as probabilidades condicionais com arredondamento para 3 casas decimais\n",
    "print(f\"Probabilidade Condicionada P({grupos[1]}|{grupos[0]}):\")\n",
    "display(prob_cond_grupo1_dado_grupo0.round(3))\n",
    "\n",
    "# Impressão de configuração específica\n",
    "evento = categorias[grupos[1]][0]\n",
    "condicao = categorias[grupos[0]][0]\n",
    "print(f\"RESPOSTA: \\n P({evento}|{condicao}) = {prob_cond_grupo1_dado_grupo0.loc[condicao, evento]:.3f}\")"
   ]
  },
  {
   "cell_type": "markdown",
   "id": "f6c1e335-a1f1-4e8d-bc0e-5269534e503e",
   "metadata": {},
   "source": [
    "<font color=\"blue\">\n",
    "    \n",
    "#### e)\tProbabilidade de ser a Favor de Pobre, sabendo que é a Favor de Smãe. \n",
    "</font>"
   ]
  },
  {
   "cell_type": "code",
   "execution_count": 10,
   "id": "33daed78-c865-4844-a413-baa7e26571ea",
   "metadata": {},
   "outputs": [
    {
     "name": "stdout",
     "output_type": "stream",
     "text": [
      "\n",
      " Probabilidade Condicionada P(Pobre|Smãe):\n"
     ]
    },
    {
     "data": {
      "text/html": [
       "<div>\n",
       "<style scoped>\n",
       "    .dataframe tbody tr th:only-of-type {\n",
       "        vertical-align: middle;\n",
       "    }\n",
       "\n",
       "    .dataframe tbody tr th {\n",
       "        vertical-align: top;\n",
       "    }\n",
       "\n",
       "    .dataframe thead th {\n",
       "        text-align: right;\n",
       "    }\n",
       "</style>\n",
       "<table border=\"1\" class=\"dataframe\">\n",
       "  <thead>\n",
       "    <tr style=\"text-align: right;\">\n",
       "      <th>Smãe</th>\n",
       "      <th>1. Favor de Smãe</th>\n",
       "      <th>2. Contra Smãe</th>\n",
       "    </tr>\n",
       "    <tr>\n",
       "      <th>Pobre</th>\n",
       "      <th></th>\n",
       "      <th></th>\n",
       "    </tr>\n",
       "  </thead>\n",
       "  <tbody>\n",
       "    <tr>\n",
       "      <th>1. Favor de Pobre</th>\n",
       "      <td>0.727</td>\n",
       "      <td>0.433</td>\n",
       "    </tr>\n",
       "    <tr>\n",
       "      <th>2. Contra Pobre</th>\n",
       "      <td>0.273</td>\n",
       "      <td>0.567</td>\n",
       "    </tr>\n",
       "  </tbody>\n",
       "</table>\n",
       "</div>"
      ],
      "text/plain": [
       "Smãe               1. Favor de Smãe  2. Contra Smãe\n",
       "Pobre                                              \n",
       "1. Favor de Pobre             0.727           0.433\n",
       "2. Contra Pobre               0.273           0.567"
      ]
     },
     "metadata": {},
     "output_type": "display_data"
    },
    {
     "name": "stdout",
     "output_type": "stream",
     "text": [
      "RESPOSTA: \n",
      " P(1. Favor de Pobre|1. Favor de Smãe) = 0.727\n"
     ]
    }
   ],
   "source": [
    "## PROBABILIDADES CONDICIONADAS ##\n",
    "\n",
    "# Calculando P(grupo0|grupo1)\n",
    "prob_cond_grupo0_dado_grupo1 = tabela_contingencia.div(tabela_contingencia.sum(axis=0), axis=1)\n",
    "\n",
    "# Exibindo as probabilidades condicionadas com arredondamento para 3 casas decimais\n",
    "print(f\"\\n Probabilidade Condicionada P({grupos[0]}|{grupos[1]}):\")\n",
    "display(prob_cond_grupo0_dado_grupo1.round(3))\n",
    "\n",
    "# Impressão de configuração específica\n",
    "evento = categorias[grupos[0]][0]\n",
    "condicao = categorias[grupos[1]][0]\n",
    "print(f\"RESPOSTA: \\n P({evento}|{condicao}) = {prob_cond_grupo0_dado_grupo1.loc[evento, condicao]:.3f}\")"
   ]
  },
  {
   "cell_type": "markdown",
   "id": "e3458d10-2f53-4477-a6cc-db6767202edf",
   "metadata": {},
   "source": [
    "<font color=\"blue\">\n",
    "\n",
    "#### f)\tProbabilidade de ser contra o aborto por pobreza, sabendo que é a Favor de Smãe.\n",
    "</font>"
   ]
  },
  {
   "cell_type": "code",
   "execution_count": 11,
   "id": "91bc5ad9-ea64-4862-bfb6-5cd8f736c745",
   "metadata": {},
   "outputs": [
    {
     "name": "stdout",
     "output_type": "stream",
     "text": [
      "RESPOSTA: \n",
      " P(2. Contra Pobre|1. Favor de Smãe) = 0.273\n"
     ]
    }
   ],
   "source": [
    "## PROBABILIDADES CONDICIONADAS ##\n",
    "\n",
    "evento = categorias[grupos[0]][1]\n",
    "condicao = categorias[grupos[1]][0]\n",
    "print(f\"RESPOSTA: \\n P({evento}|{condicao}) = {prob_cond_grupo0_dado_grupo1.loc[evento, condicao]:.3f}\")"
   ]
  },
  {
   "cell_type": "markdown",
   "id": "7e510b0b-76b7-40fd-a853-8c91fa762bd9",
   "metadata": {},
   "source": [
    "<font color=\"blue\">    \n",
    "    \n",
    "### 2.1.2. Frequência esperada\n",
    "</font>"
   ]
  },
  {
   "cell_type": "markdown",
   "id": "0ddfba08-c7b3-4254-96f8-56fd024e31da",
   "metadata": {},
   "source": [
    "<font color=\"blue\">\n",
    "    \n",
    "#### g) A frequência que se espera obter nas opiniões favoráveis aos dois tipos de aborto.\n",
    "</font>"
   ]
  },
  {
   "cell_type": "code",
   "execution_count": 12,
   "id": "9cb364f3-6f3c-4153-ad9f-da4740e780bf",
   "metadata": {},
   "outputs": [
    {
     "data": {
      "text/html": [
       "<div>\n",
       "<style scoped>\n",
       "    .dataframe tbody tr th:only-of-type {\n",
       "        vertical-align: middle;\n",
       "    }\n",
       "\n",
       "    .dataframe tbody tr th {\n",
       "        vertical-align: top;\n",
       "    }\n",
       "\n",
       "    .dataframe thead th {\n",
       "        text-align: right;\n",
       "    }\n",
       "</style>\n",
       "<table border=\"1\" class=\"dataframe\">\n",
       "  <thead>\n",
       "    <tr style=\"text-align: right;\">\n",
       "      <th>Smãe</th>\n",
       "      <th>1. Favor de Smãe</th>\n",
       "      <th>2. Contra Smãe</th>\n",
       "    </tr>\n",
       "    <tr>\n",
       "      <th>Pobre</th>\n",
       "      <th></th>\n",
       "      <th></th>\n",
       "    </tr>\n",
       "  </thead>\n",
       "  <tbody>\n",
       "    <tr>\n",
       "      <th>1. Favor de Pobre</th>\n",
       "      <td>10.4</td>\n",
       "      <td>63.6</td>\n",
       "    </tr>\n",
       "    <tr>\n",
       "      <th>2. Contra Pobre</th>\n",
       "      <td>11.6</td>\n",
       "      <td>70.4</td>\n",
       "    </tr>\n",
       "  </tbody>\n",
       "</table>\n",
       "</div>"
      ],
      "text/plain": [
       "Smãe               1. Favor de Smãe  2. Contra Smãe\n",
       "Pobre                                              \n",
       "1. Favor de Pobre              10.4            63.6\n",
       "2. Contra Pobre                11.6            70.4"
      ]
     },
     "metadata": {},
     "output_type": "display_data"
    },
    {
     "name": "stdout",
     "output_type": "stream",
     "text": [
      "RESPOSTA: \n",
      " Fe(1. Favor de Pobre e 1. Favor de Smãe) = 10.4\n"
     ]
    }
   ],
   "source": [
    "## FREQUÊNCIAS ESPERADAS ##\n",
    "\n",
    "# Encapsulando a tabela para análises no statsmodels\n",
    "tabela_analise = Table(tabela_contingencia)\n",
    "\n",
    "# Calculando as frequências esperadas (fe)\n",
    "frequencias_esperadas = tabela_analise.fittedvalues\n",
    "\n",
    "# Exibindo as fe\n",
    "display(frequencias_esperadas.round(1))\n",
    "\n",
    "# Impressão de configuração específica\n",
    "evento_grupo0 = categorias[grupos[0]][0]\n",
    "evento_grupo1 = categorias[grupos[1]][0]\n",
    "print(f\"RESPOSTA: \\n Fe({evento_grupo0} e {evento_grupo1}) = {frequencias_esperadas.loc[evento_grupo0, evento_grupo1]:.1f}\")"
   ]
  },
  {
   "cell_type": "markdown",
   "id": "3e8218b1-85dc-4cd7-bfc4-9853dfc045c4",
   "metadata": {},
   "source": [
    "<font color=\"blue\">    \n",
    "    \n",
    "### 2.1.3. Teste de independência do Qui-Quadrado de Pearson\n",
    "</font>"
   ]
  },
  {
   "cell_type": "markdown",
   "id": "3cc956d6-a3d7-47ff-b565-e08e41433cde",
   "metadata": {},
   "source": [
    "<font color=\"blue\">\n",
    "    \n",
    "#### h) A significância da associação, usando o teste de independência do Qui-Quadrado de Pearson.\n",
    "</font>"
   ]
  },
  {
   "cell_type": "code",
   "execution_count": 13,
   "id": "c672999b-cba4-4534-9dd6-331396bb323b",
   "metadata": {},
   "outputs": [
    {
     "data": {
      "text/html": [
       "<div>\n",
       "<style scoped>\n",
       "    .dataframe tbody tr th:only-of-type {\n",
       "        vertical-align: middle;\n",
       "    }\n",
       "\n",
       "    .dataframe tbody tr th {\n",
       "        vertical-align: top;\n",
       "    }\n",
       "\n",
       "    .dataframe thead th {\n",
       "        text-align: right;\n",
       "    }\n",
       "</style>\n",
       "<table border=\"1\" class=\"dataframe\">\n",
       "  <thead>\n",
       "    <tr style=\"text-align: right;\">\n",
       "      <th></th>\n",
       "      <th>Value</th>\n",
       "      <th>df</th>\n",
       "      <th>Asymp. Sig. (2-sided)</th>\n",
       "      <th>Exact Sig. (2-sided)</th>\n",
       "      <th>Exact Sig. (1-sided)</th>\n",
       "    </tr>\n",
       "    <tr>\n",
       "      <th>Test</th>\n",
       "      <th></th>\n",
       "      <th></th>\n",
       "      <th></th>\n",
       "      <th></th>\n",
       "      <th></th>\n",
       "    </tr>\n",
       "  </thead>\n",
       "  <tbody>\n",
       "    <tr>\n",
       "      <th>Pearson Chi-Square</th>\n",
       "      <td>6.57</td>\n",
       "      <td>1</td>\n",
       "      <td>0.010</td>\n",
       "      <td></td>\n",
       "      <td></td>\n",
       "    </tr>\n",
       "    <tr>\n",
       "      <th>Continuity Correction</th>\n",
       "      <td>5.44</td>\n",
       "      <td>1</td>\n",
       "      <td>0.020</td>\n",
       "      <td></td>\n",
       "      <td></td>\n",
       "    </tr>\n",
       "    <tr>\n",
       "      <th>Likelihood Ratio</th>\n",
       "      <td>6.73</td>\n",
       "      <td>1</td>\n",
       "      <td>0.009</td>\n",
       "      <td></td>\n",
       "      <td></td>\n",
       "    </tr>\n",
       "    <tr>\n",
       "      <th>Fisher`s Exact Test</th>\n",
       "      <td>3.49</td>\n",
       "      <td></td>\n",
       "      <td></td>\n",
       "      <td>0.012</td>\n",
       "      <td>0.009</td>\n",
       "    </tr>\n",
       "    <tr>\n",
       "      <th>N. of Valid Cases</th>\n",
       "      <td>156</td>\n",
       "      <td></td>\n",
       "      <td></td>\n",
       "      <td></td>\n",
       "      <td></td>\n",
       "    </tr>\n",
       "  </tbody>\n",
       "</table>\n",
       "</div>"
      ],
      "text/plain": [
       "                      Value df Asymp. Sig. (2-sided) Exact Sig. (2-sided)   \n",
       "Test                                                                        \n",
       "Pearson Chi-Square     6.57  1                 0.010                       \\\n",
       "Continuity Correction  5.44  1                 0.020                        \n",
       "Likelihood Ratio       6.73  1                 0.009                        \n",
       "Fisher`s Exact Test    3.49                                         0.012   \n",
       "N. of Valid Cases       156                                                 \n",
       "\n",
       "                      Exact Sig. (1-sided)  \n",
       "Test                                        \n",
       "Pearson Chi-Square                          \n",
       "Continuity Correction                       \n",
       "Likelihood Ratio                            \n",
       "Fisher`s Exact Test                  0.009  \n",
       "N. of Valid Cases                           "
      ]
     },
     "metadata": {},
     "output_type": "display_data"
    },
    {
     "name": "stdout",
     "output_type": "stream",
     "text": [
      "a. 0 cells (0.00%) have expected count less than 5. The minimum expected count is 10.44.\n"
     ]
    }
   ],
   "source": [
    "analisar_independencia_variaveis_tabela_contingencia(tabela_contingencia, \n",
    "                                                     mostrar_pearson=True, \n",
    "                                                     mostrar_continuity=True, \n",
    "                                                     mostrar_likelihood=True, \n",
    "                                                     mostrar_fisher=True)"
   ]
  },
  {
   "cell_type": "markdown",
   "id": "90d1c4e1-611a-463e-8d78-95cd17ea3566",
   "metadata": {},
   "source": [
    "<font color=\"blue\">\n",
    "    \n",
    "### 2.1.4. Resíduos Ajustados Estandardizados\n",
    "</font>"
   ]
  },
  {
   "cell_type": "markdown",
   "id": "291eae1a-4ab9-4b0b-ab0b-94c8f03f01c4",
   "metadata": {},
   "source": [
    "<font color=\"blue\">\n",
    "\n",
    "#### i)\tA significância da associação, usando os resíduos ajustados estandardizados.\n",
    "</font>"
   ]
  },
  {
   "cell_type": "code",
   "execution_count": 14,
   "id": "4060f762-04bd-4d33-ae24-702454952a84",
   "metadata": {},
   "outputs": [
    {
     "name": "stdout",
     "output_type": "stream",
     "text": [
      "\n",
      "RESPOSTA: \n",
      "\n"
     ]
    },
    {
     "data": {
      "text/html": [
       "<div>\n",
       "<style scoped>\n",
       "    .dataframe tbody tr th:only-of-type {\n",
       "        vertical-align: middle;\n",
       "    }\n",
       "\n",
       "    .dataframe tbody tr th {\n",
       "        vertical-align: top;\n",
       "    }\n",
       "\n",
       "    .dataframe thead th {\n",
       "        text-align: right;\n",
       "    }\n",
       "</style>\n",
       "<table border=\"1\" class=\"dataframe\">\n",
       "  <thead>\n",
       "    <tr style=\"text-align: right;\">\n",
       "      <th>Smãe</th>\n",
       "      <th>1. Favor de Smãe</th>\n",
       "      <th>2. Contra Smãe</th>\n",
       "    </tr>\n",
       "    <tr>\n",
       "      <th>Pobre</th>\n",
       "      <th></th>\n",
       "      <th></th>\n",
       "    </tr>\n",
       "  </thead>\n",
       "  <tbody>\n",
       "    <tr>\n",
       "      <th>1. Favor de Pobre</th>\n",
       "      <td>2.6</td>\n",
       "      <td>-2.6</td>\n",
       "    </tr>\n",
       "    <tr>\n",
       "      <th>2. Contra Pobre</th>\n",
       "      <td>-2.6</td>\n",
       "      <td>2.6</td>\n",
       "    </tr>\n",
       "  </tbody>\n",
       "</table>\n",
       "</div>"
      ],
      "text/plain": [
       "Smãe               1. Favor de Smãe  2. Contra Smãe\n",
       "Pobre                                              \n",
       "1. Favor de Pobre               2.6            -2.6\n",
       "2. Contra Pobre                -2.6             2.6"
      ]
     },
     "metadata": {},
     "output_type": "display_data"
    }
   ],
   "source": [
    "# Calcula os Resíduos de Pearson (não ajustados)\n",
    "residuos_nao_ajustados = tabela_analise.resid_pearson\n",
    "\n",
    "# Calcula os Resíduos ajustados estandardizados\n",
    "residuos_estandardizados = tabela_analise.standardized_resids\n",
    "\n",
    "# Visualizando\n",
    "print(f\"\\nRESPOSTA: \\n\")\n",
    "display(residuos_estandardizados.round(1))"
   ]
  },
  {
   "cell_type": "markdown",
   "id": "d9cc3bb6-fed6-4710-afc8-e46884e25fc7",
   "metadata": {},
   "source": [
    "<font color=\"blue\">\n",
    "    \n",
    "### 2.1.5. Odds Ratio e Racio de Prevalência\n",
    "</font>"
   ]
  },
  {
   "cell_type": "markdown",
   "id": "9ccf5118-5190-45ac-863a-763fed4169b7",
   "metadata": {},
   "source": [
    "<font color=\"blue\">\n",
    "\n",
    "#### j) A intensidade da associação significante entre as duas variáveis, recorrendo ao odds ratio (OR), por o estudo ser transversal. Determine a discrepância entre OR e RP.\n",
    "</font>"
   ]
  },
  {
   "cell_type": "code",
   "execution_count": 15,
   "id": "27e7b36f-22e6-4b19-aad5-6e9151ec1d79",
   "metadata": {},
   "outputs": [
    {
     "data": {
      "text/html": [
       "<div>\n",
       "<style scoped>\n",
       "    .dataframe tbody tr th:only-of-type {\n",
       "        vertical-align: middle;\n",
       "    }\n",
       "\n",
       "    .dataframe tbody tr th {\n",
       "        vertical-align: top;\n",
       "    }\n",
       "\n",
       "    .dataframe thead th {\n",
       "        text-align: right;\n",
       "    }\n",
       "</style>\n",
       "<table border=\"1\" class=\"dataframe\">\n",
       "  <thead>\n",
       "    <tr style=\"text-align: right;\">\n",
       "      <th></th>\n",
       "      <th>Value</th>\n",
       "      <th>95% CI Lower</th>\n",
       "      <th>95% CI Upper</th>\n",
       "    </tr>\n",
       "  </thead>\n",
       "  <tbody>\n",
       "    <tr>\n",
       "      <th>Odds Ratio for Pobre (1. Favor de Pobre / 2. Contra Pobre)</th>\n",
       "      <td>3.494</td>\n",
       "      <td>1.287</td>\n",
       "      <td>9.485</td>\n",
       "    </tr>\n",
       "    <tr>\n",
       "      <th>RR (ou RP) for Smãe = 1. Favor de Smãe</th>\n",
       "      <td>2.955</td>\n",
       "      <td>1.221</td>\n",
       "      <td>7.153</td>\n",
       "    </tr>\n",
       "    <tr>\n",
       "      <th>RR (ou RP) for Smãe = 2. Contra Smãe</th>\n",
       "      <td>0.846</td>\n",
       "      <td>0.739</td>\n",
       "      <td>0.967</td>\n",
       "    </tr>\n",
       "    <tr>\n",
       "      <th>N. of Valid Cases</th>\n",
       "      <td>156</td>\n",
       "      <td></td>\n",
       "      <td></td>\n",
       "    </tr>\n",
       "  </tbody>\n",
       "</table>\n",
       "</div>"
      ],
      "text/plain": [
       "                                                    Value 95% CI Lower   \n",
       "Odds Ratio for Pobre (1. Favor de Pobre / 2. Co...  3.494        1.287  \\\n",
       "RR (ou RP) for Smãe = 1. Favor de Smãe              2.955        1.221   \n",
       "RR (ou RP) for Smãe = 2. Contra Smãe                0.846        0.739   \n",
       "N. of Valid Cases                                     156                \n",
       "\n",
       "                                                   95% CI Upper  \n",
       "Odds Ratio for Pobre (1. Favor de Pobre / 2. Co...        9.485  \n",
       "RR (ou RP) for Smãe = 1. Favor de Smãe                    7.153  \n",
       "RR (ou RP) for Smãe = 2. Contra Smãe                      0.967  \n",
       "N. of Valid Cases                                                "
      ]
     },
     "metadata": {},
     "output_type": "display_data"
    },
    {
     "name": "stdout",
     "output_type": "stream",
     "text": [
      "Discrepância = 0.183 e (θ * p21) = 0.256\n"
     ]
    }
   ],
   "source": [
    "calcular_odds_ratio_razao_risco_discrepancia(tabela_contingencia, print_results=True)"
   ]
  },
  {
   "cell_type": "markdown",
   "id": "04f9f99d-cd8a-430c-90f7-7325d1d4ca1a",
   "metadata": {},
   "source": [
    "<font color=\"blue\">\n",
    "    \n",
    "### 2.1.6. Probabiblidade de todos os acontecimentos possíveis\n",
    "</font>"
   ]
  },
  {
   "cell_type": "markdown",
   "id": "9be022c5-d1f6-4f83-b9e3-54a9ae1c8c38",
   "metadata": {},
   "source": [
    "<font color=\"blue\">\n",
    "\n",
    "#### k) A probabilidade dos acontecimentos observados na Tabela 1, e de dois acontecimentos mais prováveis.\n",
    "</font>"
   ]
  },
  {
   "cell_type": "code",
   "execution_count": 16,
   "id": "9d84fb6c-eb12-48a6-bfed-b46ac08c9306",
   "metadata": {},
   "outputs": [
    {
     "name": "stdout",
     "output_type": "stream",
     "text": [
      "RESPOSTA:\n",
      "\n",
      "Probabilidade do acontecimento observado:\n",
      "P(a11=16) = 0.0071\n",
      "\n",
      "Probabilidades dois acontecimentos mais prováveis:\n",
      "P(a11=10) = 0.1785\n",
      "P(a11=11) = 0.1755\n"
     ]
    }
   ],
   "source": [
    "# Valores observados na amostra\n",
    "observed_a11 = tabela_contingencia.iloc[0, 0]\n",
    "observed_a12 = tabela_contingencia.iloc[0, 1]\n",
    "observed_a21 = tabela_contingencia.iloc[1, 0]\n",
    "observed_a22 = tabela_contingencia.iloc[1, 1]\n",
    "\n",
    "# Definição dos totais marginais\n",
    "M = tabela_contingencia.sum().sum() # total da amostra\n",
    "n = observed_a11 + observed_a12 # total marginal da linha\n",
    "N = observed_a11 + observed_a21 # total marginal da coluna\n",
    "\n",
    "# Frequências esperadas\n",
    "expected_a11 = frequencias_esperadas.iloc[0, 0]\n",
    "# O inteiro mais próximo abaixo de expected_a11 é obtido pelo floor (arredondamento para baixo)\n",
    "expected_a11_nearest_lower_integer = int(expected_a11)\n",
    "# O inteiro mais próximo acima de expected_a11 é obtido pelo ceil (arredondamento para cima)\n",
    "expected_a11_nearest_higher_integer = int(expected_a11) + 1\n",
    "\n",
    "# Calculando a probabilidade do acontecimento observado\n",
    "p_observed = hypergeom.pmf(observed_a11, M, n, N)\n",
    "\n",
    "# Calculando as probabilidades dos dois acontecimentos mais prováveis\n",
    "p_expected_lower = hypergeom.pmf(expected_a11_nearest_lower_integer, M, n, N)\n",
    "p_expected_higher = hypergeom.pmf(expected_a11_nearest_higher_integer, M, n, N)\n",
    "\n",
    "# Imprimindo\n",
    "print(f\"RESPOSTA:\")\n",
    "print(f\"\\nProbabilidade do acontecimento observado:\")\n",
    "print(f\"P(a11={observed_a11}) = {p_observed:.4f}\")\n",
    "print(f\"\\nProbabilidades dois acontecimentos mais prováveis:\")\n",
    "print(f\"P(a11={expected_a11_nearest_lower_integer}) = {p_expected_lower:.4f}\")\n",
    "print(f\"P(a11={expected_a11_nearest_higher_integer}) = {p_expected_higher:.4f}\")"
   ]
  },
  {
   "cell_type": "markdown",
   "id": "5fc01809-1a0d-4284-9f2b-b5e7c0149ccb",
   "metadata": {},
   "source": [
    "<font color=\"blue\">\n",
    "\n",
    "#### l)\tGerar probabilidades dos acontecimentos possíveis\n",
    "\n",
    "</font>"
   ]
  },
  {
   "cell_type": "code",
   "execution_count": 17,
   "id": "36f5621a-0e6a-4beb-9358-91726d36bff6",
   "metadata": {},
   "outputs": [
    {
     "name": "stdout",
     "output_type": "stream",
     "text": [
      "RESULTADOS:\n"
     ]
    },
    {
     "data": {
      "text/html": [
       "<style type=\"text/css\">\n",
       "</style>\n",
       "<table id=\"T_90904\">\n",
       "  <thead>\n",
       "    <tr>\n",
       "      <th id=\"T_90904_level0_col0\" class=\"col_heading level0 col0\" >y_value</th>\n",
       "      <th id=\"T_90904_level0_col1\" class=\"col_heading level0 col1\" >p_value</th>\n",
       "      <th id=\"T_90904_level0_col2\" class=\"col_heading level0 col2\" >cum_sum</th>\n",
       "    </tr>\n",
       "  </thead>\n",
       "  <tbody>\n",
       "    <tr>\n",
       "      <td id=\"T_90904_row0_col0\" class=\"data row0 col0\" >10</td>\n",
       "      <td id=\"T_90904_row0_col1\" class=\"data row0 col1\" >0.178</td>\n",
       "      <td id=\"T_90904_row0_col2\" class=\"data row0 col2\" >0.178</td>\n",
       "    </tr>\n",
       "    <tr>\n",
       "      <td id=\"T_90904_row1_col0\" class=\"data row1 col0\" >11</td>\n",
       "      <td id=\"T_90904_row1_col1\" class=\"data row1 col1\" >0.175</td>\n",
       "      <td id=\"T_90904_row1_col2\" class=\"data row1 col2\" >0.354</td>\n",
       "    </tr>\n",
       "    <tr>\n",
       "      <td id=\"T_90904_row2_col0\" class=\"data row2 col0\" >9</td>\n",
       "      <td id=\"T_90904_row2_col1\" class=\"data row2 col1\" >0.148</td>\n",
       "      <td id=\"T_90904_row2_col2\" class=\"data row2 col2\" >0.502</td>\n",
       "    </tr>\n",
       "    <tr>\n",
       "      <td id=\"T_90904_row3_col0\" class=\"data row3 col0\" >12</td>\n",
       "      <td id=\"T_90904_row3_col1\" class=\"data row3 col1\" >0.141</td>\n",
       "      <td id=\"T_90904_row3_col2\" class=\"data row3 col2\" >0.643</td>\n",
       "    </tr>\n",
       "    <tr>\n",
       "      <td id=\"T_90904_row4_col0\" class=\"data row4 col0\" >8</td>\n",
       "      <td id=\"T_90904_row4_col1\" class=\"data row4 col1\" >0.099</td>\n",
       "      <td id=\"T_90904_row4_col2\" class=\"data row4 col2\" >0.742</td>\n",
       "    </tr>\n",
       "    <tr>\n",
       "      <td id=\"T_90904_row5_col0\" class=\"data row5 col0\" >13</td>\n",
       "      <td id=\"T_90904_row5_col1\" class=\"data row5 col1\" >0.092</td>\n",
       "      <td id=\"T_90904_row5_col2\" class=\"data row5 col2\" >0.834</td>\n",
       "    </tr>\n",
       "    <tr>\n",
       "      <td id=\"T_90904_row6_col0\" class=\"data row6 col0\" >7</td>\n",
       "      <td id=\"T_90904_row6_col1\" class=\"data row6 col1\" >0.054</td>\n",
       "      <td id=\"T_90904_row6_col2\" class=\"data row6 col2\" >0.888</td>\n",
       "    </tr>\n",
       "    <tr>\n",
       "      <td id=\"T_90904_row7_col0\" class=\"data row7 col0\" >14</td>\n",
       "      <td id=\"T_90904_row7_col1\" class=\"data row7 col1\" >0.049</td>\n",
       "      <td id=\"T_90904_row7_col2\" class=\"data row7 col2\" >0.936</td>\n",
       "    </tr>\n",
       "    <tr>\n",
       "      <td id=\"T_90904_row8_col0\" class=\"data row8 col0\" >6</td>\n",
       "      <td id=\"T_90904_row8_col1\" class=\"data row8 col1\" >0.023</td>\n",
       "      <td id=\"T_90904_row8_col2\" class=\"data row8 col2\" >0.960</td>\n",
       "    </tr>\n",
       "    <tr>\n",
       "      <td id=\"T_90904_row9_col0\" class=\"data row9 col0\" >15</td>\n",
       "      <td id=\"T_90904_row9_col1\" class=\"data row9 col1\" >0.021</td>\n",
       "      <td id=\"T_90904_row9_col2\" class=\"data row9 col2\" >0.980</td>\n",
       "    </tr>\n",
       "    <tr>\n",
       "      <td id=\"T_90904_row10_col0\" class=\"data row10 col0\" >5</td>\n",
       "      <td id=\"T_90904_row10_col1\" class=\"data row10 col1\" >0.008</td>\n",
       "      <td id=\"T_90904_row10_col2\" class=\"data row10 col2\" >0.988</td>\n",
       "    </tr>\n",
       "    <tr>\n",
       "      <td id=\"T_90904_row11_col0\" class=\"data row11 col0\" >16</td>\n",
       "      <td id=\"T_90904_row11_col1\" class=\"data row11 col1\" >0.007</td>\n",
       "      <td id=\"T_90904_row11_col2\" class=\"data row11 col2\" >0.995</td>\n",
       "    </tr>\n",
       "    <tr>\n",
       "      <td id=\"T_90904_row12_col0\" class=\"data row12 col0\" >4</td>\n",
       "      <td id=\"T_90904_row12_col1\" class=\"data row12 col1\" >0.002</td>\n",
       "      <td id=\"T_90904_row12_col2\" class=\"data row12 col2\" >0.997</td>\n",
       "    </tr>\n",
       "    <tr>\n",
       "      <td id=\"T_90904_row13_col0\" class=\"data row13 col0\" >17</td>\n",
       "      <td id=\"T_90904_row13_col1\" class=\"data row13 col1\" >0.002</td>\n",
       "      <td id=\"T_90904_row13_col2\" class=\"data row13 col2\" >0.999</td>\n",
       "    </tr>\n",
       "    <tr>\n",
       "      <td id=\"T_90904_row14_col0\" class=\"data row14 col0\" >3</td>\n",
       "      <td id=\"T_90904_row14_col1\" class=\"data row14 col1\" >0.000</td>\n",
       "      <td id=\"T_90904_row14_col2\" class=\"data row14 col2\" >1.000</td>\n",
       "    </tr>\n",
       "    <tr>\n",
       "      <td id=\"T_90904_row15_col0\" class=\"data row15 col0\" >18</td>\n",
       "      <td id=\"T_90904_row15_col1\" class=\"data row15 col1\" >0.000</td>\n",
       "      <td id=\"T_90904_row15_col2\" class=\"data row15 col2\" >1.000</td>\n",
       "    </tr>\n",
       "    <tr>\n",
       "      <td id=\"T_90904_row16_col0\" class=\"data row16 col0\" >19</td>\n",
       "      <td id=\"T_90904_row16_col1\" class=\"data row16 col1\" >0.000</td>\n",
       "      <td id=\"T_90904_row16_col2\" class=\"data row16 col2\" >1.000</td>\n",
       "    </tr>\n",
       "    <tr>\n",
       "      <td id=\"T_90904_row17_col0\" class=\"data row17 col0\" >2</td>\n",
       "      <td id=\"T_90904_row17_col1\" class=\"data row17 col1\" >0.000</td>\n",
       "      <td id=\"T_90904_row17_col2\" class=\"data row17 col2\" >1.000</td>\n",
       "    </tr>\n",
       "    <tr>\n",
       "      <td id=\"T_90904_row18_col0\" class=\"data row18 col0\" >20</td>\n",
       "      <td id=\"T_90904_row18_col1\" class=\"data row18 col1\" >0.000</td>\n",
       "      <td id=\"T_90904_row18_col2\" class=\"data row18 col2\" >1.000</td>\n",
       "    </tr>\n",
       "    <tr>\n",
       "      <td id=\"T_90904_row19_col0\" class=\"data row19 col0\" >1</td>\n",
       "      <td id=\"T_90904_row19_col1\" class=\"data row19 col1\" >0.000</td>\n",
       "      <td id=\"T_90904_row19_col2\" class=\"data row19 col2\" >1.000</td>\n",
       "    </tr>\n",
       "    <tr>\n",
       "      <td id=\"T_90904_row20_col0\" class=\"data row20 col0\" >21</td>\n",
       "      <td id=\"T_90904_row20_col1\" class=\"data row20 col1\" >0.000</td>\n",
       "      <td id=\"T_90904_row20_col2\" class=\"data row20 col2\" >1.000</td>\n",
       "    </tr>\n",
       "    <tr>\n",
       "      <td id=\"T_90904_row21_col0\" class=\"data row21 col0\" >0</td>\n",
       "      <td id=\"T_90904_row21_col1\" class=\"data row21 col1\" >0.000</td>\n",
       "      <td id=\"T_90904_row21_col2\" class=\"data row21 col2\" >1.000</td>\n",
       "    </tr>\n",
       "    <tr>\n",
       "      <td id=\"T_90904_row22_col0\" class=\"data row22 col0\" >22</td>\n",
       "      <td id=\"T_90904_row22_col1\" class=\"data row22 col1\" >0.000</td>\n",
       "      <td id=\"T_90904_row22_col2\" class=\"data row22 col2\" >1.000</td>\n",
       "    </tr>\n",
       "  </tbody>\n",
       "</table>\n"
      ],
      "text/plain": [
       "<pandas.io.formats.style.Styler at 0x221dd874790>"
      ]
     },
     "metadata": {},
     "output_type": "display_data"
    },
    {
     "name": "stdout",
     "output_type": "stream",
     "text": [
      "Região de Aceitação: [6, 14]\n",
      "Região de Rejeição: [0, 5] U [15, 22]\n"
     ]
    }
   ],
   "source": [
    "df_formated, acceptance_range, rejection_range = calcular_distribuicao_probabilidades_e_decisao_hipotese(tabela_contingencia, 0.05)\n",
    "\n",
    "print(f\"RESULTADOS:\\r\")\n",
    "display(df_formated.style.hide(axis='index'))\n",
    "\n",
    "print(f\"Região de Aceitação: {acceptance_range}\")\n",
    "print(f\"Região de Rejeição: {rejection_range}\")"
   ]
  },
  {
   "cell_type": "code",
   "execution_count": null,
   "id": "02ee9d5d-78cc-4173-8d00-4230b4d105de",
   "metadata": {},
   "outputs": [],
   "source": []
  },
  {
   "cell_type": "code",
   "execution_count": null,
   "id": "372879f0-4efb-4616-a43b-5701b060b428",
   "metadata": {},
   "outputs": [],
   "source": []
  }
 ],
 "metadata": {
  "kernelspec": {
   "display_name": "Python 3 (ipykernel)",
   "language": "python",
   "name": "python3"
  },
  "language_info": {
   "codemirror_mode": {
    "name": "ipython",
    "version": 3
   },
   "file_extension": ".py",
   "mimetype": "text/x-python",
   "name": "python",
   "nbconvert_exporter": "python",
   "pygments_lexer": "ipython3",
   "version": "3.10.13"
  }
 },
 "nbformat": 4,
 "nbformat_minor": 5
}
