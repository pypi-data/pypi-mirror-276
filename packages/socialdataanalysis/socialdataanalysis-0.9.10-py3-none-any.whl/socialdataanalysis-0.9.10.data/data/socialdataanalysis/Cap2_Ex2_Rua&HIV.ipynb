{
 "cells": [
  {
   "cell_type": "markdown",
   "id": "70b535dc-6be5-4e40-bd32-2b7129c040be",
   "metadata": {},
   "source": [
    "# Aplicações práticas\n",
    "\n",
    "# 2.1 Exercício 2: Rua e HIV\n",
    "\n",
    "## A. Enunciado \n",
    "\n",
    "Um assistente hospitalar pretende avaliar a associação entre viver ou trabalhar na rua e ter HIV. O assistente selecionou aleatoriamente 454 adolescentes dos registros, dos quais 319 trabalhavam na rua e 135 viviam na rua. Acompanhou-os ao longo de 3 anos. Dos que trabalhavam na rua, 311 foram diagnosticados com HIV e 8 não tinham o vírus; dos que viviam na rua, 123 tinham HIV e 12 não tinham. As variáveis são ambas nominais, pois são definidas apenas pelo nome. As categorias das variáveis são: para a variável Rua (1. Trabalha na rua, 2. Vive na rua), e para a variável HIV (1. Tem HIV, 2. Não tem HIV). O estudo é prospectivo de coorte e os dados observados constam da linha \"Count\" da Tabela 1, bem como do arquivo \"cap02_exercicio 2_Rua e HIV.sav\" e organizados em um dicionário em Python."
   ]
  },
  {
   "cell_type": "markdown",
   "id": "db5a2b36-c6ad-4729-8090-3ae46cb24a25",
   "metadata": {},
   "source": [
    "# Resolução em Python"
   ]
  },
  {
   "cell_type": "markdown",
   "id": "d8d819e1-b418-4360-8e31-846680883e72",
   "metadata": {},
   "source": [
    "## Carregando Bibliotecas"
   ]
  },
  {
   "cell_type": "code",
   "execution_count": 1,
   "id": "112a66dc-0e05-4f45-b18a-df95894ca03a",
   "metadata": {},
   "outputs": [],
   "source": [
    "import pandas as pd  # Fornece DataFrames e Series para manipulação de dados em Python, facilitando operações como leitura, escrita, e manipulação de estruturas de dados tabulares.\n",
    "import numpy as np  # Suporta operações com arrays e matrizes, oferecendo uma vasta gama de funções matemáticas para operações com essas estruturas de dados.\n",
    "from statsmodels.stats.contingency_tables import Table  # Analisa tabelas de contingência para estudo de variáveis categóricas, útil em testes de hipóteses e análises de associação entre variáveis.\n",
    "from scipy.stats import hypergeom  # Aplica a distribuição hipergeométrica para análises estatísticas, útil em testes de sobreposição e em situações onde se deseja calcular probabilidades sem reposição."
   ]
  },
  {
   "cell_type": "markdown",
   "id": "1bd7e0a5-e543-490f-97fd-ce0be4505914",
   "metadata": {},
   "source": [
    "## Funções Personalizadas"
   ]
  },
  {
   "cell_type": "code",
   "execution_count": 2,
   "id": "4b6461e9-747d-444d-9e72-6e0e8545831f",
   "metadata": {},
   "outputs": [],
   "source": [
    "import sys\n",
    "\n",
    "# Adicionar o caminho do diretório ao sys.path\n",
    "sys.path.append(r\"C:\\Users\\ricar\\OneDrive\\Área de Trabalho\\Livro\\Cap_02\\socialdataanalysis\")\n",
    "\n",
    "from association import gerar_tabela_contingencia\n",
    "from association import calcular_odds_ratio_razao_risco_discrepancia\n",
    "from association import analisar_independencia_variaveis_tabela_contingencia\n",
    "from association import calcular_distribuicao_probabilidades_e_decisao_hipotese\n",
    "from association import complementar_tabela_contingencia_com_analise_estatistica "
   ]
  },
  {
   "cell_type": "markdown",
   "id": "e6bf9dec-45b9-4426-ad7d-b6f1044d81a4",
   "metadata": {},
   "source": [
    "## Dados Fornecidos"
   ]
  },
  {
   "cell_type": "code",
   "execution_count": 3,
   "id": "792b6a64-445a-42ac-865e-aa0ab15034eb",
   "metadata": {},
   "outputs": [
    {
     "data": {
      "text/html": [
       "<div>\n",
       "<style scoped>\n",
       "    .dataframe tbody tr th:only-of-type {\n",
       "        vertical-align: middle;\n",
       "    }\n",
       "\n",
       "    .dataframe tbody tr th {\n",
       "        vertical-align: top;\n",
       "    }\n",
       "\n",
       "    .dataframe thead th {\n",
       "        text-align: right;\n",
       "    }\n",
       "</style>\n",
       "<table border=\"1\" class=\"dataframe\">\n",
       "  <thead>\n",
       "    <tr style=\"text-align: right;\">\n",
       "      <th></th>\n",
       "      <th>Rua</th>\n",
       "      <th>HIV</th>\n",
       "      <th>Freq</th>\n",
       "    </tr>\n",
       "  </thead>\n",
       "  <tbody>\n",
       "    <tr>\n",
       "      <th>0</th>\n",
       "      <td>1</td>\n",
       "      <td>1</td>\n",
       "      <td>311</td>\n",
       "    </tr>\n",
       "    <tr>\n",
       "      <th>1</th>\n",
       "      <td>1</td>\n",
       "      <td>2</td>\n",
       "      <td>8</td>\n",
       "    </tr>\n",
       "    <tr>\n",
       "      <th>2</th>\n",
       "      <td>2</td>\n",
       "      <td>1</td>\n",
       "      <td>123</td>\n",
       "    </tr>\n",
       "    <tr>\n",
       "      <th>3</th>\n",
       "      <td>2</td>\n",
       "      <td>2</td>\n",
       "      <td>12</td>\n",
       "    </tr>\n",
       "  </tbody>\n",
       "</table>\n",
       "</div>"
      ],
      "text/plain": [
       "   Rua  HIV  Freq\n",
       "0    1    1   311\n",
       "1    1    2     8\n",
       "2    2    1   123\n",
       "3    2    2    12"
      ]
     },
     "metadata": {},
     "output_type": "display_data"
    }
   ],
   "source": [
    "# Dicionário com dados categorizados representando grupos e suas frequências\n",
    "dados = {\n",
    "    'Rua': [1.0, 1.0, 2.0, 2.0],\n",
    "    'HIV': [1.0, 2.0, 1.0, 2.0],\n",
    "    'Freq': [311.0, 8.0, 123.0, 12.0]\n",
    "}\n",
    "\n",
    "# Criando o DataFrame a partir do dicionário\n",
    "dados = pd.DataFrame(dados)\n",
    "\n",
    "# Convertendo as colunas para inteiros, se necessário\n",
    "dados = dados.astype(int)\n",
    "\n",
    "# Visualizando o dataframe\n",
    "display(dados)"
   ]
  },
  {
   "cell_type": "markdown",
   "id": "498dc162-13c7-4d11-9cad-1ed3c3deb454",
   "metadata": {},
   "source": [
    "## Tabela 1: Tabela de Contingência"
   ]
  },
  {
   "cell_type": "code",
   "execution_count": 4,
   "id": "14ae5677-abd1-4746-8600-6101450a1520",
   "metadata": {},
   "outputs": [
    {
     "data": {
      "text/html": [
       "<div>\n",
       "<style scoped>\n",
       "    .dataframe tbody tr th:only-of-type {\n",
       "        vertical-align: middle;\n",
       "    }\n",
       "\n",
       "    .dataframe tbody tr th {\n",
       "        vertical-align: top;\n",
       "    }\n",
       "\n",
       "    .dataframe thead th {\n",
       "        text-align: right;\n",
       "    }\n",
       "</style>\n",
       "<table border=\"1\" class=\"dataframe\">\n",
       "  <thead>\n",
       "    <tr style=\"text-align: right;\">\n",
       "      <th>HIV</th>\n",
       "      <th>1. Tem HIV</th>\n",
       "      <th>2. Não tem HIV</th>\n",
       "    </tr>\n",
       "    <tr>\n",
       "      <th>Rua</th>\n",
       "      <th></th>\n",
       "      <th></th>\n",
       "    </tr>\n",
       "  </thead>\n",
       "  <tbody>\n",
       "    <tr>\n",
       "      <th>1. Trabalha na Rua</th>\n",
       "      <td>311</td>\n",
       "      <td>8</td>\n",
       "    </tr>\n",
       "    <tr>\n",
       "      <th>2. Vive na Rua</th>\n",
       "      <td>123</td>\n",
       "      <td>12</td>\n",
       "    </tr>\n",
       "  </tbody>\n",
       "</table>\n",
       "</div>"
      ],
      "text/plain": [
       "HIV                 1. Tem HIV  2. Não tem HIV\n",
       "Rua                                           \n",
       "1. Trabalha na Rua         311               8\n",
       "2. Vive na Rua             123              12"
      ]
     },
     "metadata": {},
     "output_type": "display_data"
    }
   ],
   "source": [
    "# Obter automaticamente os nomes dos grupos e da coluna de frequência\n",
    "grupos = dados.columns[:-1].tolist()  # Todos exceto a última coluna\n",
    "categorias = {\n",
    "    grupos[0]: ['1. Trabalha na Rua', '2. Vive na Rua',],\n",
    "    grupos[1]: ['1. Tem HIV', '2. Não tem HIV'],\n",
    "}\n",
    "\n",
    "tabela_contingencia = gerar_tabela_contingencia(dados, grupos, categorias)\n",
    "\n",
    "display(tabela_contingencia)"
   ]
  },
  {
   "cell_type": "markdown",
   "id": "1c55b7ef-2cdc-4ca4-a5d7-68e0bf25766d",
   "metadata": {},
   "source": [
    "## Tabela de Contingência com Cálculos"
   ]
  },
  {
   "cell_type": "code",
   "execution_count": 5,
   "id": "b3a3307e-fb7f-47fb-8d9c-18b7e0342c19",
   "metadata": {},
   "outputs": [
    {
     "data": {
      "text/html": [
       "<div>\n",
       "<style scoped>\n",
       "    .dataframe tbody tr th:only-of-type {\n",
       "        vertical-align: middle;\n",
       "    }\n",
       "\n",
       "    .dataframe tbody tr th {\n",
       "        vertical-align: top;\n",
       "    }\n",
       "\n",
       "    .dataframe thead th {\n",
       "        text-align: right;\n",
       "    }\n",
       "</style>\n",
       "<table border=\"1\" class=\"dataframe\">\n",
       "  <thead>\n",
       "    <tr style=\"text-align: right;\">\n",
       "      <th></th>\n",
       "      <th>HIV</th>\n",
       "      <th>1. Tem HIV</th>\n",
       "      <th>2. Não tem HIV</th>\n",
       "      <th>Total</th>\n",
       "    </tr>\n",
       "    <tr>\n",
       "      <th>Rua</th>\n",
       "      <th></th>\n",
       "      <th></th>\n",
       "      <th></th>\n",
       "      <th></th>\n",
       "    </tr>\n",
       "  </thead>\n",
       "  <tbody>\n",
       "    <tr>\n",
       "      <th rowspan=\"7\" valign=\"top\">1. Trabalha na Rua</th>\n",
       "      <th>Count</th>\n",
       "      <td>311.0</td>\n",
       "      <td>8.0</td>\n",
       "      <td>319.0</td>\n",
       "    </tr>\n",
       "    <tr>\n",
       "      <th>Expected Count</th>\n",
       "      <td>304.9</td>\n",
       "      <td>14.1</td>\n",
       "      <td>319.0</td>\n",
       "    </tr>\n",
       "    <tr>\n",
       "      <th>% within Rua</th>\n",
       "      <td>97.5</td>\n",
       "      <td>2.5</td>\n",
       "      <td>100.0</td>\n",
       "    </tr>\n",
       "    <tr>\n",
       "      <th>% within HIV</th>\n",
       "      <td>71.7</td>\n",
       "      <td>40.0</td>\n",
       "      <td>70.3</td>\n",
       "    </tr>\n",
       "    <tr>\n",
       "      <th>% of Total</th>\n",
       "      <td>68.5</td>\n",
       "      <td>1.8</td>\n",
       "      <td>70.3</td>\n",
       "    </tr>\n",
       "    <tr>\n",
       "      <th>Standardized Residual</th>\n",
       "      <td>0.3</td>\n",
       "      <td>-1.6</td>\n",
       "      <td></td>\n",
       "    </tr>\n",
       "    <tr>\n",
       "      <th>Adjusted Residual</th>\n",
       "      <td>3.0</td>\n",
       "      <td>-3.0</td>\n",
       "      <td></td>\n",
       "    </tr>\n",
       "    <tr>\n",
       "      <th rowspan=\"7\" valign=\"top\">2. Vive na Rua</th>\n",
       "      <th>Count</th>\n",
       "      <td>123.0</td>\n",
       "      <td>12.0</td>\n",
       "      <td>135.0</td>\n",
       "    </tr>\n",
       "    <tr>\n",
       "      <th>Expected Count</th>\n",
       "      <td>129.1</td>\n",
       "      <td>5.9</td>\n",
       "      <td>135.0</td>\n",
       "    </tr>\n",
       "    <tr>\n",
       "      <th>% within Rua</th>\n",
       "      <td>91.1</td>\n",
       "      <td>8.9</td>\n",
       "      <td>100.0</td>\n",
       "    </tr>\n",
       "    <tr>\n",
       "      <th>% within HIV</th>\n",
       "      <td>28.3</td>\n",
       "      <td>60.0</td>\n",
       "      <td>29.7</td>\n",
       "    </tr>\n",
       "    <tr>\n",
       "      <th>% of Total</th>\n",
       "      <td>27.1</td>\n",
       "      <td>2.6</td>\n",
       "      <td>29.7</td>\n",
       "    </tr>\n",
       "    <tr>\n",
       "      <th>Standardized Residual</th>\n",
       "      <td>-0.5</td>\n",
       "      <td>2.5</td>\n",
       "      <td></td>\n",
       "    </tr>\n",
       "    <tr>\n",
       "      <th>Adjusted Residual</th>\n",
       "      <td>-3.0</td>\n",
       "      <td>3.0</td>\n",
       "      <td></td>\n",
       "    </tr>\n",
       "    <tr>\n",
       "      <th rowspan=\"5\" valign=\"top\">Total</th>\n",
       "      <th>Count</th>\n",
       "      <td>434.0</td>\n",
       "      <td>20.0</td>\n",
       "      <td>454.0</td>\n",
       "    </tr>\n",
       "    <tr>\n",
       "      <th>Expected Count</th>\n",
       "      <td>434.0</td>\n",
       "      <td>20.0</td>\n",
       "      <td>454.0</td>\n",
       "    </tr>\n",
       "    <tr>\n",
       "      <th>% within Rua</th>\n",
       "      <td>95.6</td>\n",
       "      <td>4.4</td>\n",
       "      <td>100.0</td>\n",
       "    </tr>\n",
       "    <tr>\n",
       "      <th>% within HIV</th>\n",
       "      <td>100.0</td>\n",
       "      <td>100.0</td>\n",
       "      <td>100.0</td>\n",
       "    </tr>\n",
       "    <tr>\n",
       "      <th>% of Total</th>\n",
       "      <td>95.6</td>\n",
       "      <td>4.4</td>\n",
       "      <td>100.0</td>\n",
       "    </tr>\n",
       "  </tbody>\n",
       "</table>\n",
       "</div>"
      ],
      "text/plain": [
       "HIV                                      1. Tem HIV 2. Não tem HIV  Total\n",
       "Rua                                                                      \n",
       "1. Trabalha na Rua Count                      311.0            8.0  319.0\n",
       "                   Expected Count             304.9           14.1  319.0\n",
       "                   % within Rua                97.5            2.5  100.0\n",
       "                   % within HIV                71.7           40.0   70.3\n",
       "                   % of Total                  68.5            1.8   70.3\n",
       "                   Standardized Residual        0.3           -1.6       \n",
       "                   Adjusted Residual            3.0           -3.0       \n",
       "2. Vive na Rua     Count                      123.0           12.0  135.0\n",
       "                   Expected Count             129.1            5.9  135.0\n",
       "                   % within Rua                91.1            8.9  100.0\n",
       "                   % within HIV                28.3           60.0   29.7\n",
       "                   % of Total                  27.1            2.6   29.7\n",
       "                   Standardized Residual       -0.5            2.5       \n",
       "                   Adjusted Residual           -3.0            3.0       \n",
       "Total              Count                      434.0           20.0  454.0\n",
       "                   Expected Count             434.0           20.0  454.0\n",
       "                   % within Rua                95.6            4.4  100.0\n",
       "                   % within HIV               100.0          100.0  100.0\n",
       "                   % of Total                  95.6            4.4  100.0"
      ]
     },
     "metadata": {},
     "output_type": "display_data"
    }
   ],
   "source": [
    "# Função própria complementar_tabela_contingencia_com_analise_estatistica\n",
    "combined_df = complementar_tabela_contingencia_com_analise_estatistica(tabela_contingencia)\n",
    "\n",
    "# Visualizando resultado\n",
    "display(combined_df)"
   ]
  },
  {
   "cell_type": "markdown",
   "id": "94cb97e5-20a3-4c26-920b-cac5d2b4ce66",
   "metadata": {},
   "source": [
    "<font color=\"blue\">    \n",
    "    \n",
    "### 2.2.1. Probabilidades\n",
    "</font>"
   ]
  },
  {
   "cell_type": "markdown",
   "id": "b3fe115e-f3cc-4247-be8a-cc179b8485df",
   "metadata": {},
   "source": [
    "<font color=\"blue\">\n",
    "\n",
    "#### a) Probabilidade de ter HIV sabendo que vive na rua. \n",
    "\n",
    "</font>"
   ]
  },
  {
   "cell_type": "code",
   "execution_count": 6,
   "id": "73267fa2-879d-4276-99b5-349f0ea84364",
   "metadata": {},
   "outputs": [
    {
     "name": "stdout",
     "output_type": "stream",
     "text": [
      "Probabilidade Condicionada P(HIV|Rua):\n"
     ]
    },
    {
     "data": {
      "text/html": [
       "<div>\n",
       "<style scoped>\n",
       "    .dataframe tbody tr th:only-of-type {\n",
       "        vertical-align: middle;\n",
       "    }\n",
       "\n",
       "    .dataframe tbody tr th {\n",
       "        vertical-align: top;\n",
       "    }\n",
       "\n",
       "    .dataframe thead th {\n",
       "        text-align: right;\n",
       "    }\n",
       "</style>\n",
       "<table border=\"1\" class=\"dataframe\">\n",
       "  <thead>\n",
       "    <tr style=\"text-align: right;\">\n",
       "      <th>HIV</th>\n",
       "      <th>1. Tem HIV</th>\n",
       "      <th>2. Não tem HIV</th>\n",
       "    </tr>\n",
       "    <tr>\n",
       "      <th>Rua</th>\n",
       "      <th></th>\n",
       "      <th></th>\n",
       "    </tr>\n",
       "  </thead>\n",
       "  <tbody>\n",
       "    <tr>\n",
       "      <th>1. Trabalha na Rua</th>\n",
       "      <td>0.975</td>\n",
       "      <td>0.025</td>\n",
       "    </tr>\n",
       "    <tr>\n",
       "      <th>2. Vive na Rua</th>\n",
       "      <td>0.911</td>\n",
       "      <td>0.089</td>\n",
       "    </tr>\n",
       "  </tbody>\n",
       "</table>\n",
       "</div>"
      ],
      "text/plain": [
       "HIV                 1. Tem HIV  2. Não tem HIV\n",
       "Rua                                           \n",
       "1. Trabalha na Rua       0.975           0.025\n",
       "2. Vive na Rua           0.911           0.089"
      ]
     },
     "metadata": {},
     "output_type": "display_data"
    },
    {
     "name": "stdout",
     "output_type": "stream",
     "text": [
      "RESPOSTA: \n",
      " P(1. Tem HIV|2. Vive na Rua) = 0.911\n"
     ]
    }
   ],
   "source": [
    "## PROBABILIDADES CONDICIONADAS ##\n",
    "\n",
    "# Calculando P(grupo0|grupo1)\n",
    "prob_cond_grupo0_dado_grupo1 = tabela_contingencia.div(tabela_contingencia.sum(axis=0), axis=1)\n",
    "\n",
    "# Calculando P(grupo1|grupo0)\n",
    "prob_cond_grupo1_dado_grupo0 = tabela_contingencia.div(tabela_contingencia.sum(axis=1), axis=0)\n",
    "\n",
    "# Exibindo as probabilidades condicionais com arredondamento para 3 casas decimais\n",
    "print(f\"Probabilidade Condicionada P({grupos[1]}|{grupos[0]}):\")\n",
    "display(prob_cond_grupo1_dado_grupo0.round(3))\n",
    "\n",
    "# Impressão de configuração específica\n",
    "evento = categorias[grupos[1]][0]\n",
    "condicao = categorias[grupos[0]][1]\n",
    "\n",
    "print(f\"RESPOSTA: \\n P({evento}|{condicao}) = {prob_cond_grupo1_dado_grupo0.loc[condicao, evento]:.3f}\")"
   ]
  },
  {
   "cell_type": "markdown",
   "id": "49be93c5-1065-4e6e-bc63-67f7522dc5e3",
   "metadata": {},
   "source": [
    "<font color=\"blue\">\n",
    "\n",
    "#### b) Probabilidade de ter HIV sabendo que trabalha na rua.\n",
    "    \n",
    "</font>"
   ]
  },
  {
   "cell_type": "code",
   "execution_count": 7,
   "id": "5f4761c8-c3af-436e-af84-d5229fedb2f2",
   "metadata": {},
   "outputs": [
    {
     "name": "stdout",
     "output_type": "stream",
     "text": [
      "RESPOSTA: \n",
      " P(1. Tem HIV|1. Trabalha na Rua) = 0.975\n"
     ]
    }
   ],
   "source": [
    "## PROBABILIDADES CONDICIONADAS ##\n",
    "\n",
    "# Impressão de configuração específica\n",
    "evento = categorias[grupos[1]][0]\n",
    "condicao = categorias[grupos[0]][0]\n",
    "\n",
    "print(f\"RESPOSTA: \\n P({evento}|{condicao}) = {prob_cond_grupo1_dado_grupo0.loc[condicao, evento]:.3f}\")"
   ]
  },
  {
   "cell_type": "markdown",
   "id": "460ec926-a11c-4837-9749-1ddbf32b66d2",
   "metadata": {},
   "source": [
    "<font color=\"blue\">\n",
    "\n",
    "#### c) Probabilidade de trabalhar na rua.\n",
    "    \n",
    "</font>"
   ]
  },
  {
   "cell_type": "code",
   "execution_count": 8,
   "id": "5aed9086-4dc8-41f1-87e6-ee88601c5809",
   "metadata": {},
   "outputs": [
    {
     "name": "stdout",
     "output_type": "stream",
     "text": [
      "Probabilidades Marginais de Rua\n"
     ]
    },
    {
     "data": {
      "text/html": [
       "<div>\n",
       "<style scoped>\n",
       "    .dataframe tbody tr th:only-of-type {\n",
       "        vertical-align: middle;\n",
       "    }\n",
       "\n",
       "    .dataframe tbody tr th {\n",
       "        vertical-align: top;\n",
       "    }\n",
       "\n",
       "    .dataframe thead th {\n",
       "        text-align: right;\n",
       "    }\n",
       "</style>\n",
       "<table border=\"1\" class=\"dataframe\">\n",
       "  <thead>\n",
       "    <tr style=\"text-align: right;\">\n",
       "      <th></th>\n",
       "      <th></th>\n",
       "    </tr>\n",
       "    <tr>\n",
       "      <th>Rua</th>\n",
       "      <th></th>\n",
       "    </tr>\n",
       "  </thead>\n",
       "  <tbody>\n",
       "    <tr>\n",
       "      <th>1. Trabalha na Rua</th>\n",
       "      <td>0.703</td>\n",
       "    </tr>\n",
       "    <tr>\n",
       "      <th>2. Vive na Rua</th>\n",
       "      <td>0.297</td>\n",
       "    </tr>\n",
       "  </tbody>\n",
       "</table>\n",
       "</div>"
      ],
      "text/plain": [
       "                         \n",
       "Rua                      \n",
       "1. Trabalha na Rua  0.703\n",
       "2. Vive na Rua      0.297"
      ]
     },
     "metadata": {},
     "output_type": "display_data"
    },
    {
     "name": "stdout",
     "output_type": "stream",
     "text": [
      "RESPOSTA: \n",
      " P(1. Trabalha na Rua) = 0.703\n"
     ]
    }
   ],
   "source": [
    "## PROBABILIDADES MARGINAIS ##\n",
    "\n",
    "# Calculando as Probabilidades Marginais para o Grupo 1\n",
    "prob_marg_grupo0 = tabela_contingencia.sum(axis=1) / tabela_contingencia.values.sum()\n",
    "# Convertendo em um DataFrame\n",
    "prob_marg_grupo0 = prob_marg_grupo0.to_frame(name='')\n",
    "\n",
    "# Calculando as Probabilidades Marginais para o Grupo 2\n",
    "prob_marg_grupo1 = tabela_contingencia.sum(axis=0) / tabela_contingencia.values.sum()\n",
    "# Convertendo em um DataFrame\n",
    "prob_marg_grupo1 = prob_marg_grupo1.to_frame(name='').T \n",
    "\n",
    "# Exibindo os DataFrames\n",
    "print(f\"Probabilidades Marginais de {grupos[0]}\")\n",
    "display(prob_marg_grupo0.round(3))\n",
    "\n",
    "# Impressão de configuração específica\n",
    "evento = categorias[grupos[0]][0]\n",
    "print(f\"RESPOSTA: \\n P({evento}) = {prob_marg_grupo0.loc[evento, '']:.3f}\")"
   ]
  },
  {
   "cell_type": "markdown",
   "id": "cdac4d03-56e6-4d8f-9da7-9fd73bc2a21d",
   "metadata": {},
   "source": [
    "<font color=\"blue\">    \n",
    "    \n",
    "### 2.2.2. Frequência esperada\n",
    "</font>"
   ]
  },
  {
   "cell_type": "markdown",
   "id": "0ddfba08-c7b3-4254-96f8-56fd024e31da",
   "metadata": {},
   "source": [
    "<font color=\"blue\">\n",
    "    \n",
    "#### d) A frequência que se espera obter nos que têm HIV e trabalham na rua.\n",
    "\n",
    "</font>"
   ]
  },
  {
   "cell_type": "code",
   "execution_count": 9,
   "id": "9cb364f3-6f3c-4153-ad9f-da4740e780bf",
   "metadata": {},
   "outputs": [
    {
     "data": {
      "text/html": [
       "<div>\n",
       "<style scoped>\n",
       "    .dataframe tbody tr th:only-of-type {\n",
       "        vertical-align: middle;\n",
       "    }\n",
       "\n",
       "    .dataframe tbody tr th {\n",
       "        vertical-align: top;\n",
       "    }\n",
       "\n",
       "    .dataframe thead th {\n",
       "        text-align: right;\n",
       "    }\n",
       "</style>\n",
       "<table border=\"1\" class=\"dataframe\">\n",
       "  <thead>\n",
       "    <tr style=\"text-align: right;\">\n",
       "      <th>HIV</th>\n",
       "      <th>1. Tem HIV</th>\n",
       "      <th>2. Não tem HIV</th>\n",
       "    </tr>\n",
       "    <tr>\n",
       "      <th>Rua</th>\n",
       "      <th></th>\n",
       "      <th></th>\n",
       "    </tr>\n",
       "  </thead>\n",
       "  <tbody>\n",
       "    <tr>\n",
       "      <th>1. Trabalha na Rua</th>\n",
       "      <td>304.9</td>\n",
       "      <td>14.1</td>\n",
       "    </tr>\n",
       "    <tr>\n",
       "      <th>2. Vive na Rua</th>\n",
       "      <td>129.1</td>\n",
       "      <td>5.9</td>\n",
       "    </tr>\n",
       "  </tbody>\n",
       "</table>\n",
       "</div>"
      ],
      "text/plain": [
       "HIV                 1. Tem HIV  2. Não tem HIV\n",
       "Rua                                           \n",
       "1. Trabalha na Rua       304.9            14.1\n",
       "2. Vive na Rua           129.1             5.9"
      ]
     },
     "metadata": {},
     "output_type": "display_data"
    },
    {
     "name": "stdout",
     "output_type": "stream",
     "text": [
      "RESPOSTA: \n",
      " Fe(1. Trabalha na Rua, 1. Tem HIV) = 304.9\n"
     ]
    }
   ],
   "source": [
    "## FREQUÊNCIAS ESPERADAS ##\n",
    "\n",
    "# Encapsulando a tabela para análises no statsmodels\n",
    "tabela_analise = Table(tabela_contingencia)\n",
    "\n",
    "# Calculando as frequências esperadas (fe)\n",
    "frequencias_esperadas = tabela_analise.fittedvalues\n",
    "\n",
    "# Exibindo as fe\n",
    "display(frequencias_esperadas.round(1))\n",
    "\n",
    "# Impressão de configuração específica\n",
    "evento_grupo0 = categorias[grupos[0]][0]\n",
    "evento_grupo1 = categorias[grupos[1]][0]\n",
    "print(f\"RESPOSTA: \\n Fe({evento_grupo0}, {evento_grupo1}) = {frequencias_esperadas.loc[evento_grupo0, evento_grupo1]:.1f}\")"
   ]
  },
  {
   "cell_type": "markdown",
   "id": "cb028780-77b6-4093-bf29-55eeaee6896e",
   "metadata": {},
   "source": [
    "<font color=\"blue\">\n",
    "    \n",
    "### 2.2.3. Risco Relativo\n",
    "</font>"
   ]
  },
  {
   "cell_type": "markdown",
   "id": "20698df4-ef9f-464a-abcb-c2d0e41670b8",
   "metadata": {},
   "source": [
    "<font color=\"blue\">\n",
    "\n",
    "#### e) A intensidade da associação entre as duas variáveis, recorrendo ao risco relativo, por o estudo ser prospetivo de coorte. Calcule a discrepância entre OR e RR.\n",
    "\n",
    "</font>"
   ]
  },
  {
   "cell_type": "code",
   "execution_count": 10,
   "id": "cb3fe067-5ab9-4fed-91df-586db56bfd2f",
   "metadata": {},
   "outputs": [
    {
     "data": {
      "text/html": [
       "<div>\n",
       "<style scoped>\n",
       "    .dataframe tbody tr th:only-of-type {\n",
       "        vertical-align: middle;\n",
       "    }\n",
       "\n",
       "    .dataframe tbody tr th {\n",
       "        vertical-align: top;\n",
       "    }\n",
       "\n",
       "    .dataframe thead th {\n",
       "        text-align: right;\n",
       "    }\n",
       "</style>\n",
       "<table border=\"1\" class=\"dataframe\">\n",
       "  <thead>\n",
       "    <tr style=\"text-align: right;\">\n",
       "      <th></th>\n",
       "      <th>Value</th>\n",
       "      <th>95% CI Lower</th>\n",
       "      <th>95% CI Upper</th>\n",
       "    </tr>\n",
       "  </thead>\n",
       "  <tbody>\n",
       "    <tr>\n",
       "      <th>Odds Ratio for Rua (1. Trabalha na Rua / 2. Vive na Rua)</th>\n",
       "      <td>3.793</td>\n",
       "      <td>1.514</td>\n",
       "      <td>9.504</td>\n",
       "    </tr>\n",
       "    <tr>\n",
       "      <th>RR (ou RP) for HIV = 1. Tem HIV</th>\n",
       "      <td>1.070</td>\n",
       "      <td>1.012</td>\n",
       "      <td>1.131</td>\n",
       "    </tr>\n",
       "    <tr>\n",
       "      <th>RR (ou RP) for HIV = 2. Não tem HIV</th>\n",
       "      <td>0.282</td>\n",
       "      <td>0.118</td>\n",
       "      <td>0.675</td>\n",
       "    </tr>\n",
       "    <tr>\n",
       "      <th>N. of Valid Cases</th>\n",
       "      <td>454</td>\n",
       "      <td></td>\n",
       "      <td></td>\n",
       "    </tr>\n",
       "  </tbody>\n",
       "</table>\n",
       "</div>"
      ],
      "text/plain": [
       "                                                    Value 95% CI Lower   \n",
       "Odds Ratio for Rua (1. Trabalha na Rua / 2. Viv...  3.793        1.514  \\\n",
       "RR (ou RP) for HIV = 1. Tem HIV                     1.070        1.012   \n",
       "RR (ou RP) for HIV = 2. Não tem HIV                 0.282        0.118   \n",
       "N. of Valid Cases                                     454                \n",
       "\n",
       "                                                   95% CI Upper  \n",
       "Odds Ratio for Rua (1. Trabalha na Rua / 2. Viv...        9.504  \n",
       "RR (ou RP) for HIV = 1. Tem HIV                           1.131  \n",
       "RR (ou RP) for HIV = 2. Não tem HIV                       0.675  \n",
       "N. of Valid Cases                                                "
      ]
     },
     "metadata": {},
     "output_type": "display_data"
    },
    {
     "name": "stdout",
     "output_type": "stream",
     "text": [
      "Discrepância = 2.544 e (θ * p21) = 3.456\n"
     ]
    }
   ],
   "source": [
    "calcular_odds_ratio_razao_risco_discrepancia(tabela_contingencia, print_results=True)"
   ]
  },
  {
   "cell_type": "markdown",
   "id": "e97c6fb4-f14c-4823-b49b-dc4b3bd445b1",
   "metadata": {},
   "source": [
    "<font color=\"blue\">\n",
    "    \n",
    "### 2.2.4. Resíduos Ajustados Estandardizados\n",
    "</font>"
   ]
  },
  {
   "cell_type": "markdown",
   "id": "291eae1a-4ab9-4b0b-ab0b-94c8f03f01c4",
   "metadata": {},
   "source": [
    "<font color=\"blue\">\n",
    "\n",
    "#### f)\tA significância da associação, usando os resíduos ajustados estandardizados.\n",
    "\n",
    "</font>"
   ]
  },
  {
   "cell_type": "code",
   "execution_count": 12,
   "id": "7512ebf0-8d8c-4f2c-9de7-c363b3c2fe64",
   "metadata": {},
   "outputs": [
    {
     "data": {
      "text/html": [
       "<div>\n",
       "<style scoped>\n",
       "    .dataframe tbody tr th:only-of-type {\n",
       "        vertical-align: middle;\n",
       "    }\n",
       "\n",
       "    .dataframe tbody tr th {\n",
       "        vertical-align: top;\n",
       "    }\n",
       "\n",
       "    .dataframe thead th {\n",
       "        text-align: right;\n",
       "    }\n",
       "</style>\n",
       "<table border=\"1\" class=\"dataframe\">\n",
       "  <thead>\n",
       "    <tr style=\"text-align: right;\">\n",
       "      <th>HIV</th>\n",
       "      <th>1. Tem HIV</th>\n",
       "      <th>2. Não tem HIV</th>\n",
       "    </tr>\n",
       "    <tr>\n",
       "      <th>Rua</th>\n",
       "      <th></th>\n",
       "      <th></th>\n",
       "    </tr>\n",
       "  </thead>\n",
       "  <tbody>\n",
       "    <tr>\n",
       "      <th>1. Trabalha na Rua</th>\n",
       "      <td>3.0</td>\n",
       "      <td>-3.0</td>\n",
       "    </tr>\n",
       "    <tr>\n",
       "      <th>2. Vive na Rua</th>\n",
       "      <td>-3.0</td>\n",
       "      <td>3.0</td>\n",
       "    </tr>\n",
       "  </tbody>\n",
       "</table>\n",
       "</div>"
      ],
      "text/plain": [
       "HIV                 1. Tem HIV  2. Não tem HIV\n",
       "Rua                                           \n",
       "1. Trabalha na Rua         3.0            -3.0\n",
       "2. Vive na Rua            -3.0             3.0"
      ]
     },
     "metadata": {},
     "output_type": "display_data"
    }
   ],
   "source": [
    "# Resíduos de Pearson (não ajustados)\n",
    "residuos_nao_ajustados = tabela_analise.resid_pearson\n",
    "\n",
    "# Resíduos ajustados estandardizados\n",
    "residuos_estandardizados = tabela_analise.standardized_resids\n",
    "\n",
    "# Visualizando\n",
    "display(residuos_estandardizados.round(1))"
   ]
  },
  {
   "cell_type": "markdown",
   "id": "ac4f8a74-f8e7-4e96-85cb-3ce31a40becd",
   "metadata": {},
   "source": [
    "<font color=\"blue\">\n",
    "    \n",
    "### 2.2.5. Probabiblidade de todos os acontecimentos possíveis\n",
    "</font>"
   ]
  },
  {
   "cell_type": "markdown",
   "id": "246be482-f6b6-4869-991c-1f6b761c5d4c",
   "metadata": {},
   "source": [
    "<font color=\"blue\">\n",
    "\n",
    "#### g) A probabilidade dos acontecimentos observados na Tabela 1.\n",
    "\n",
    "</font>"
   ]
  },
  {
   "cell_type": "code",
   "execution_count": 14,
   "id": "dd76f62c-95c3-4d17-9860-5f94c63fb6bd",
   "metadata": {},
   "outputs": [
    {
     "name": "stdout",
     "output_type": "stream",
     "text": [
      "\n",
      "Probabilidade do acontecimento observado:\n",
      "P(a11=311) = 0.0030\n"
     ]
    }
   ],
   "source": [
    "# Valores observados na amostra\n",
    "observed_a11 = tabela_contingencia.iloc[0, 0]\n",
    "observed_a12 = tabela_contingencia.iloc[0, 1]\n",
    "observed_a21 = tabela_contingencia.iloc[1, 0]\n",
    "observed_a22 = tabela_contingencia.iloc[1, 1]\n",
    "\n",
    "# Definição dos totais marginais\n",
    "M = tabela_contingencia.sum().sum() # total da amostra\n",
    "n = observed_a11 + observed_a12 # total marginal da linha\n",
    "N = observed_a11 + observed_a21 # total marginal da coluna\n",
    "\n",
    "# Frequências esperadas\n",
    "expected_a11 = frequencias_esperadas.iloc[0, 0]\n",
    "# O inteiro mais próximo abaixo de expected_a11 é obtido pelo floor (arredondamento para baixo)\n",
    "expected_a11_nearest_lower_integer = int(expected_a11)\n",
    "# O inteiro mais próximo acima de expected_a11 é obtido pelo ceil (arredondamento para cima)\n",
    "expected_a11_nearest_higher_integer = int(expected_a11) + 1\n",
    "\n",
    "# Calculando a probabilidade do acontecimento observado\n",
    "p_observed = hypergeom.pmf(observed_a11, M, n, N)\n",
    "\n",
    "# Calculando as probabilidades dos dois acontecimentos mais prováveis\n",
    "p_expected_lower = hypergeom.pmf(expected_a11_nearest_lower_integer, M, n, N)\n",
    "p_expected_higher = hypergeom.pmf(expected_a11_nearest_higher_integer, M, n, N)\n",
    "\n",
    "# Imprimindo\n",
    "print(f\"\\nProbabilidade do acontecimento observado:\")\n",
    "print(f\"P(a11={observed_a11}) = {p_observed:.4f}\")"
   ]
  },
  {
   "cell_type": "markdown",
   "id": "fa2914e2-4342-437b-95ac-f836af067529",
   "metadata": {},
   "source": [
    "<font color=\"blue\">\n",
    "\n",
    "#### h) Gerar probabilidades dos acontecimentos possíveis, e determinar as regiões de aceitação e de rejeição da H0\n",
    "\n",
    "</font>"
   ]
  },
  {
   "cell_type": "code",
   "execution_count": 15,
   "id": "031b0360-bce2-4a06-bd2d-b6cb614b425f",
   "metadata": {},
   "outputs": [
    {
     "data": {
      "text/html": [
       "<style type=\"text/css\">\n",
       "</style>\n",
       "<table id=\"T_78be3\">\n",
       "  <thead>\n",
       "    <tr>\n",
       "      <th id=\"T_78be3_level0_col0\" class=\"col_heading level0 col0\" >y_value</th>\n",
       "      <th id=\"T_78be3_level0_col1\" class=\"col_heading level0 col1\" >p_value</th>\n",
       "      <th id=\"T_78be3_level0_col2\" class=\"col_heading level0 col2\" >cum_sum</th>\n",
       "    </tr>\n",
       "  </thead>\n",
       "  <tbody>\n",
       "    <tr>\n",
       "      <td id=\"T_78be3_row0_col0\" class=\"data row0 col0\" >305</td>\n",
       "      <td id=\"T_78be3_row0_col1\" class=\"data row0 col1\" >0.196</td>\n",
       "      <td id=\"T_78be3_row0_col2\" class=\"data row0 col2\" >0.196</td>\n",
       "    </tr>\n",
       "    <tr>\n",
       "      <td id=\"T_78be3_row1_col0\" class=\"data row1 col0\" >304</td>\n",
       "      <td id=\"T_78be3_row1_col1\" class=\"data row1 col1\" >0.184</td>\n",
       "      <td id=\"T_78be3_row1_col2\" class=\"data row1 col2\" >0.380</td>\n",
       "    </tr>\n",
       "    <tr>\n",
       "      <td id=\"T_78be3_row2_col0\" class=\"data row2 col0\" >306</td>\n",
       "      <td id=\"T_78be3_row2_col1\" class=\"data row2 col1\" >0.165</td>\n",
       "      <td id=\"T_78be3_row2_col2\" class=\"data row2 col2\" >0.545</td>\n",
       "    </tr>\n",
       "    <tr>\n",
       "      <td id=\"T_78be3_row3_col0\" class=\"data row3 col0\" >303</td>\n",
       "      <td id=\"T_78be3_row3_col1\" class=\"data row3 col1\" >0.133</td>\n",
       "      <td id=\"T_78be3_row3_col2\" class=\"data row3 col2\" >0.678</td>\n",
       "    </tr>\n",
       "    <tr>\n",
       "      <td id=\"T_78be3_row4_col0\" class=\"data row4 col0\" >307</td>\n",
       "      <td id=\"T_78be3_row4_col1\" class=\"data row4 col1\" >0.112</td>\n",
       "      <td id=\"T_78be3_row4_col2\" class=\"data row4 col2\" >0.790</td>\n",
       "    </tr>\n",
       "    <tr>\n",
       "      <td id=\"T_78be3_row5_col0\" class=\"data row5 col0\" >302</td>\n",
       "      <td id=\"T_78be3_row5_col1\" class=\"data row5 col1\" >0.072</td>\n",
       "      <td id=\"T_78be3_row5_col2\" class=\"data row5 col2\" >0.862</td>\n",
       "    </tr>\n",
       "    <tr>\n",
       "      <td id=\"T_78be3_row6_col0\" class=\"data row6 col0\" >308</td>\n",
       "      <td id=\"T_78be3_row6_col1\" class=\"data row6 col1\" >0.062</td>\n",
       "      <td id=\"T_78be3_row6_col2\" class=\"data row6 col2\" >0.924</td>\n",
       "    </tr>\n",
       "    <tr>\n",
       "      <td id=\"T_78be3_row7_col0\" class=\"data row7 col0\" >309</td>\n",
       "      <td id=\"T_78be3_row7_col1\" class=\"data row7 col1\" >0.028</td>\n",
       "      <td id=\"T_78be3_row7_col2\" class=\"data row7 col2\" >0.952</td>\n",
       "    </tr>\n",
       "    <tr>\n",
       "      <td id=\"T_78be3_row8_col0\" class=\"data row8 col0\" >301</td>\n",
       "      <td id=\"T_78be3_row8_col1\" class=\"data row8 col1\" >0.027</td>\n",
       "      <td id=\"T_78be3_row8_col2\" class=\"data row8 col2\" >0.979</td>\n",
       "    </tr>\n",
       "    <tr>\n",
       "      <td id=\"T_78be3_row9_col0\" class=\"data row9 col0\" >310</td>\n",
       "      <td id=\"T_78be3_row9_col1\" class=\"data row9 col1\" >0.010</td>\n",
       "      <td id=\"T_78be3_row9_col2\" class=\"data row9 col2\" >0.989</td>\n",
       "    </tr>\n",
       "    <tr>\n",
       "      <td id=\"T_78be3_row10_col0\" class=\"data row10 col0\" >300</td>\n",
       "      <td id=\"T_78be3_row10_col1\" class=\"data row10 col1\" >0.006</td>\n",
       "      <td id=\"T_78be3_row10_col2\" class=\"data row10 col2\" >0.995</td>\n",
       "    </tr>\n",
       "    <tr>\n",
       "      <td id=\"T_78be3_row11_col0\" class=\"data row11 col0\" >311</td>\n",
       "      <td id=\"T_78be3_row11_col1\" class=\"data row11 col1\" >0.003</td>\n",
       "      <td id=\"T_78be3_row11_col2\" class=\"data row11 col2\" >0.998</td>\n",
       "    </tr>\n",
       "    <tr>\n",
       "      <td id=\"T_78be3_row12_col0\" class=\"data row12 col0\" >312</td>\n",
       "      <td id=\"T_78be3_row12_col1\" class=\"data row12 col1\" >0.001</td>\n",
       "      <td id=\"T_78be3_row12_col2\" class=\"data row12 col2\" >0.999</td>\n",
       "    </tr>\n",
       "    <tr>\n",
       "      <td id=\"T_78be3_row13_col0\" class=\"data row13 col0\" >299</td>\n",
       "      <td id=\"T_78be3_row13_col1\" class=\"data row13 col1\" >0.001</td>\n",
       "      <td id=\"T_78be3_row13_col2\" class=\"data row13 col2\" >1.000</td>\n",
       "    </tr>\n",
       "    <tr>\n",
       "      <td id=\"T_78be3_row14_col0\" class=\"data row14 col0\" >313</td>\n",
       "      <td id=\"T_78be3_row14_col1\" class=\"data row14 col1\" >0.000</td>\n",
       "      <td id=\"T_78be3_row14_col2\" class=\"data row14 col2\" >1.000</td>\n",
       "    </tr>\n",
       "    <tr>\n",
       "      <td id=\"T_78be3_row15_col0\" class=\"data row15 col0\" >314</td>\n",
       "      <td id=\"T_78be3_row15_col1\" class=\"data row15 col1\" >0.000</td>\n",
       "      <td id=\"T_78be3_row15_col2\" class=\"data row15 col2\" >1.000</td>\n",
       "    </tr>\n",
       "    <tr>\n",
       "      <td id=\"T_78be3_row16_col0\" class=\"data row16 col0\" >315</td>\n",
       "      <td id=\"T_78be3_row16_col1\" class=\"data row16 col1\" >0.000</td>\n",
       "      <td id=\"T_78be3_row16_col2\" class=\"data row16 col2\" >1.000</td>\n",
       "    </tr>\n",
       "    <tr>\n",
       "      <td id=\"T_78be3_row17_col0\" class=\"data row17 col0\" >316</td>\n",
       "      <td id=\"T_78be3_row17_col1\" class=\"data row17 col1\" >0.000</td>\n",
       "      <td id=\"T_78be3_row17_col2\" class=\"data row17 col2\" >1.000</td>\n",
       "    </tr>\n",
       "    <tr>\n",
       "      <td id=\"T_78be3_row18_col0\" class=\"data row18 col0\" >317</td>\n",
       "      <td id=\"T_78be3_row18_col1\" class=\"data row18 col1\" >0.000</td>\n",
       "      <td id=\"T_78be3_row18_col2\" class=\"data row18 col2\" >1.000</td>\n",
       "    </tr>\n",
       "    <tr>\n",
       "      <td id=\"T_78be3_row19_col0\" class=\"data row19 col0\" >318</td>\n",
       "      <td id=\"T_78be3_row19_col1\" class=\"data row19 col1\" >0.000</td>\n",
       "      <td id=\"T_78be3_row19_col2\" class=\"data row19 col2\" >1.000</td>\n",
       "    </tr>\n",
       "    <tr>\n",
       "      <td id=\"T_78be3_row20_col0\" class=\"data row20 col0\" >319</td>\n",
       "      <td id=\"T_78be3_row20_col1\" class=\"data row20 col1\" >0.000</td>\n",
       "      <td id=\"T_78be3_row20_col2\" class=\"data row20 col2\" >1.000</td>\n",
       "    </tr>\n",
       "  </tbody>\n",
       "</table>\n"
      ],
      "text/plain": [
       "<pandas.io.formats.style.Styler at 0x1f86389c6d0>"
      ]
     },
     "metadata": {},
     "output_type": "display_data"
    },
    {
     "name": "stdout",
     "output_type": "stream",
     "text": [
      "Região de Aceitação: [302, 309]\n",
      "Região de Rejeição: [299, 301] U [310, 319]\n"
     ]
    }
   ],
   "source": [
    "df_formated, acceptance_range, rejection_range = calcular_distribuicao_probabilidades_e_decisao_hipotese(tabela_contingencia, 0.05)\n",
    "\n",
    "display(df_formated.style.hide(axis='index'))\n",
    "\n",
    "print(f\"Região de Aceitação: {acceptance_range}\")\n",
    "print(f\"Região de Rejeição: {rejection_range}\")"
   ]
  },
  {
   "cell_type": "markdown",
   "id": "6564922b-bbb3-4395-b493-cd647473da9c",
   "metadata": {},
   "source": [
    "<font color=\"blue\">    \n",
    "    \n",
    "### 2.2.6. Teste de Fisher e hipóteses\n",
    "</font>"
   ]
  },
  {
   "cell_type": "markdown",
   "id": "4c30affd-2bb0-48ce-ac56-2112c6c4d384",
   "metadata": {},
   "source": [
    "<font color=\"blue\">\n",
    "\n",
    "#### i) Associação entre as variáveis usando o teste exato de Fisher, por a amostra ser desequilibrada.\n",
    "#### j) O valor do nível de significância do teste, usando os resultados da syntax\n",
    "</font>"
   ]
  },
  {
   "cell_type": "code",
   "execution_count": 16,
   "id": "ee7f5f71-da33-4241-a320-eefb387f3959",
   "metadata": {},
   "outputs": [
    {
     "data": {
      "text/html": [
       "<div>\n",
       "<style scoped>\n",
       "    .dataframe tbody tr th:only-of-type {\n",
       "        vertical-align: middle;\n",
       "    }\n",
       "\n",
       "    .dataframe tbody tr th {\n",
       "        vertical-align: top;\n",
       "    }\n",
       "\n",
       "    .dataframe thead th {\n",
       "        text-align: right;\n",
       "    }\n",
       "</style>\n",
       "<table border=\"1\" class=\"dataframe\">\n",
       "  <thead>\n",
       "    <tr style=\"text-align: right;\">\n",
       "      <th></th>\n",
       "      <th>Value</th>\n",
       "      <th>df</th>\n",
       "      <th>Asymp. Sig. (2-sided)</th>\n",
       "      <th>Exact Sig. (2-sided)</th>\n",
       "      <th>Exact Sig. (1-sided)</th>\n",
       "    </tr>\n",
       "    <tr>\n",
       "      <th>Test</th>\n",
       "      <th></th>\n",
       "      <th></th>\n",
       "      <th></th>\n",
       "      <th></th>\n",
       "      <th></th>\n",
       "    </tr>\n",
       "  </thead>\n",
       "  <tbody>\n",
       "    <tr>\n",
       "      <th>Pearson Chi-Square</th>\n",
       "      <td>9.17</td>\n",
       "      <td>1</td>\n",
       "      <td>0.002</td>\n",
       "      <td></td>\n",
       "      <td></td>\n",
       "    </tr>\n",
       "    <tr>\n",
       "      <th>Likelihood Ratio</th>\n",
       "      <td>8.24</td>\n",
       "      <td>1</td>\n",
       "      <td>0.004</td>\n",
       "      <td></td>\n",
       "      <td></td>\n",
       "    </tr>\n",
       "    <tr>\n",
       "      <th>Fisher`s Exact Test</th>\n",
       "      <td>3.79</td>\n",
       "      <td></td>\n",
       "      <td></td>\n",
       "      <td>0.005</td>\n",
       "      <td>0.004</td>\n",
       "    </tr>\n",
       "    <tr>\n",
       "      <th>N. of Valid Cases</th>\n",
       "      <td>454</td>\n",
       "      <td></td>\n",
       "      <td></td>\n",
       "      <td></td>\n",
       "      <td></td>\n",
       "    </tr>\n",
       "  </tbody>\n",
       "</table>\n",
       "</div>"
      ],
      "text/plain": [
       "                    Value df Asymp. Sig. (2-sided) Exact Sig. (2-sided)   \n",
       "Test                                                                      \n",
       "Pearson Chi-Square   9.17  1                 0.002                       \\\n",
       "Likelihood Ratio     8.24  1                 0.004                        \n",
       "Fisher`s Exact Test  3.79                                         0.005   \n",
       "N. of Valid Cases     454                                                 \n",
       "\n",
       "                    Exact Sig. (1-sided)  \n",
       "Test                                      \n",
       "Pearson Chi-Square                        \n",
       "Likelihood Ratio                          \n",
       "Fisher`s Exact Test                0.004  \n",
       "N. of Valid Cases                         "
      ]
     },
     "metadata": {},
     "output_type": "display_data"
    },
    {
     "name": "stdout",
     "output_type": "stream",
     "text": [
      "a. 0 cells (0.00%) have expected count less than 5. The minimum expected count is 5.95.\n"
     ]
    }
   ],
   "source": [
    "analisar_independencia_variaveis_tabela_contingencia(tabela_contingencia, \n",
    "                                                     mostrar_pearson=True, \n",
    "                                                     mostrar_continuity=False, \n",
    "                                                     mostrar_likelihood=True, \n",
    "                                                     mostrar_fisher=True)"
   ]
  },
  {
   "cell_type": "code",
   "execution_count": null,
   "id": "4dc02cff-77b8-4992-a817-00eba02d4ba0",
   "metadata": {},
   "outputs": [],
   "source": []
  }
 ],
 "metadata": {
  "kernelspec": {
   "display_name": "Python 3 (ipykernel)",
   "language": "python",
   "name": "python3"
  },
  "language_info": {
   "codemirror_mode": {
    "name": "ipython",
    "version": 3
   },
   "file_extension": ".py",
   "mimetype": "text/x-python",
   "name": "python",
   "nbconvert_exporter": "python",
   "pygments_lexer": "ipython3",
   "version": "3.10.13"
  }
 },
 "nbformat": 4,
 "nbformat_minor": 5
}
