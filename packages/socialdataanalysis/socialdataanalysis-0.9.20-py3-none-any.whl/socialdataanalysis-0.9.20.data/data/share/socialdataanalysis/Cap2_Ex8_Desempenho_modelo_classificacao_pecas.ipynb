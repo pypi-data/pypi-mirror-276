{
 "cells": [
  {
   "cell_type": "markdown",
   "id": "70b535dc-6be5-4e40-bd32-2b7129c040be",
   "metadata": {},
   "source": [
    "# Aplicações práticas\n",
    "\n",
    "# 2.8 Exercício 8: Desempenho do modelo de classificação de peças\n",
    "\n",
    "## A. Enunciado \n",
    "\n",
    "Com base numa amostra aleatória de 1843 peças de uma máquina, pretende-se analisar o desempenho de um dado modelo na classificação das peças (1. Defeituosas, 2 Não defeituosas), cujos dados constam do ficheiro \"cap02_exerc8_classifica peças.sav \", da seguinte tabela de contingência 1 e estão organizados em um dicionário em Python."
   ]
  },
  {
   "cell_type": "markdown",
   "id": "9ee0e366-09b3-4a11-a69d-aa33698a3837",
   "metadata": {},
   "source": [
    "# Resolução em Python"
   ]
  },
  {
   "cell_type": "markdown",
   "id": "b01be9d2-58ef-4bd2-8a7a-7bb59dd3a337",
   "metadata": {},
   "source": [
    "## Carregando Bibliotecas"
   ]
  },
  {
   "cell_type": "code",
   "execution_count": 1,
   "id": "e7e66d6c-01f2-4db2-bcb4-a6648f1ac6f8",
   "metadata": {},
   "outputs": [],
   "source": [
    "import pandas as pd  # Fornece DataFrames e Series para manipulação de dados em Python, facilitando operações como leitura, escrita, e manipulação de estruturas de dados tabulares."
   ]
  },
  {
   "cell_type": "markdown",
   "id": "992c21a3-c829-44f1-8b4f-964af73c1c94",
   "metadata": {},
   "source": [
    "## Funções Personalizadas"
   ]
  },
  {
   "cell_type": "code",
   "execution_count": 2,
   "id": "57586f96-4145-46bd-bd19-be4911a59f55",
   "metadata": {},
   "outputs": [],
   "source": [
    "from socialdataanalysis import gerar_tabela_contingencia\n",
    "from socialdataanalysis import complementar_tabela_contingencia_com_analise_estatistica "
   ]
  },
  {
   "cell_type": "markdown",
   "id": "53edebc0-c07c-4343-91f1-4d397c3f14de",
   "metadata": {},
   "source": [
    "## Dados Fornecidos"
   ]
  },
  {
   "cell_type": "code",
   "execution_count": 3,
   "id": "eb052323-8c40-4966-aee2-7a8e5452da3b",
   "metadata": {},
   "outputs": [
    {
     "data": {
      "text/html": [
       "<div>\n",
       "<style scoped>\n",
       "    .dataframe tbody tr th:only-of-type {\n",
       "        vertical-align: middle;\n",
       "    }\n",
       "\n",
       "    .dataframe tbody tr th {\n",
       "        vertical-align: top;\n",
       "    }\n",
       "\n",
       "    .dataframe thead th {\n",
       "        text-align: right;\n",
       "    }\n",
       "</style>\n",
       "<table border=\"1\" class=\"dataframe\">\n",
       "  <thead>\n",
       "    <tr style=\"text-align: right;\">\n",
       "      <th></th>\n",
       "      <th>Classificado</th>\n",
       "      <th>Observado</th>\n",
       "      <th>Freq</th>\n",
       "    </tr>\n",
       "  </thead>\n",
       "  <tbody>\n",
       "    <tr>\n",
       "      <th>0</th>\n",
       "      <td>1</td>\n",
       "      <td>1</td>\n",
       "      <td>1283</td>\n",
       "    </tr>\n",
       "    <tr>\n",
       "      <th>1</th>\n",
       "      <td>1</td>\n",
       "      <td>2</td>\n",
       "      <td>192</td>\n",
       "    </tr>\n",
       "    <tr>\n",
       "      <th>2</th>\n",
       "      <td>2</td>\n",
       "      <td>1</td>\n",
       "      <td>94</td>\n",
       "    </tr>\n",
       "    <tr>\n",
       "      <th>3</th>\n",
       "      <td>2</td>\n",
       "      <td>2</td>\n",
       "      <td>274</td>\n",
       "    </tr>\n",
       "  </tbody>\n",
       "</table>\n",
       "</div>"
      ],
      "text/plain": [
       "   Classificado  Observado  Freq\n",
       "0             1          1  1283\n",
       "1             1          2   192\n",
       "2             2          1    94\n",
       "3             2          2   274"
      ]
     },
     "metadata": {},
     "output_type": "display_data"
    }
   ],
   "source": [
    "# Dicionário com dados categorizados representando grupos e suas frequências\n",
    "dados = {\n",
    "    'Classificado': [1, 1, 2, 2],\n",
    "    'Observado': [1, 2, 1, 2],\n",
    "    'Freq': [1283, 192, 94, 274]\n",
    "}\n",
    "\n",
    "# Criando o DataFrame a partir do dicionário\n",
    "dados = pd.DataFrame(dados)\n",
    "\n",
    "# Convertendo as colunas para inteiros, se necessário\n",
    "dados = dados.astype(int)\n",
    "\n",
    "# Visualizando o dataframe\n",
    "display(dados)"
   ]
  },
  {
   "cell_type": "markdown",
   "id": "d9ad8bf6-af72-40ba-8c07-db714f1e038b",
   "metadata": {},
   "source": [
    "## Tabela 1: Tabela de Contingência"
   ]
  },
  {
   "cell_type": "code",
   "execution_count": 4,
   "id": "75d43607-bae7-41b2-97a3-68f73b5eb5ee",
   "metadata": {},
   "outputs": [
    {
     "data": {
      "text/html": [
       "<div>\n",
       "<style scoped>\n",
       "    .dataframe tbody tr th:only-of-type {\n",
       "        vertical-align: middle;\n",
       "    }\n",
       "\n",
       "    .dataframe tbody tr th {\n",
       "        vertical-align: top;\n",
       "    }\n",
       "\n",
       "    .dataframe thead th {\n",
       "        text-align: right;\n",
       "    }\n",
       "</style>\n",
       "<table border=\"1\" class=\"dataframe\">\n",
       "  <thead>\n",
       "    <tr style=\"text-align: right;\">\n",
       "      <th>Observado</th>\n",
       "      <th>1. Defeituosa</th>\n",
       "      <th>2.  Não defeituosa</th>\n",
       "    </tr>\n",
       "    <tr>\n",
       "      <th>Classificado</th>\n",
       "      <th></th>\n",
       "      <th></th>\n",
       "    </tr>\n",
       "  </thead>\n",
       "  <tbody>\n",
       "    <tr>\n",
       "      <th>1. Defeituosa</th>\n",
       "      <td>1283</td>\n",
       "      <td>192</td>\n",
       "    </tr>\n",
       "    <tr>\n",
       "      <th>2.  Não defeituosa</th>\n",
       "      <td>94</td>\n",
       "      <td>274</td>\n",
       "    </tr>\n",
       "  </tbody>\n",
       "</table>\n",
       "</div>"
      ],
      "text/plain": [
       "Observado           1. Defeituosa  2.  Não defeituosa\n",
       "Classificado                                         \n",
       "1. Defeituosa                1283                 192\n",
       "2.  Não defeituosa             94                 274"
      ]
     },
     "metadata": {},
     "output_type": "display_data"
    }
   ],
   "source": [
    "# Obter automaticamente os nomes dos grupos e da coluna de frequência\n",
    "grupos = dados.columns[:-1].tolist()  # Todos exceto a última coluna\n",
    "categorias = {\n",
    "    grupos[0]: ['1. Defeituosa', '2.  Não defeituosa',],\n",
    "    grupos[1]: ['1. Defeituosa', '2.  Não defeituosa'],\n",
    "}\n",
    "\n",
    "tabela_contingencia = gerar_tabela_contingencia(dados, grupos, categorias)\n",
    "\n",
    "display(tabela_contingencia)"
   ]
  },
  {
   "cell_type": "markdown",
   "id": "d58198a0-2da5-4ac1-8062-28fc4927b29a",
   "metadata": {},
   "source": [
    "## Tabela de Contingência com Cálculos"
   ]
  },
  {
   "cell_type": "code",
   "execution_count": 5,
   "id": "196eface-9225-45ac-b8dd-0f251d9dcf91",
   "metadata": {},
   "outputs": [
    {
     "data": {
      "text/html": [
       "<div>\n",
       "<style scoped>\n",
       "    .dataframe tbody tr th:only-of-type {\n",
       "        vertical-align: middle;\n",
       "    }\n",
       "\n",
       "    .dataframe tbody tr th {\n",
       "        vertical-align: top;\n",
       "    }\n",
       "\n",
       "    .dataframe thead th {\n",
       "        text-align: right;\n",
       "    }\n",
       "</style>\n",
       "<table border=\"1\" class=\"dataframe\">\n",
       "  <thead>\n",
       "    <tr style=\"text-align: right;\">\n",
       "      <th></th>\n",
       "      <th>Observado</th>\n",
       "      <th>1. Defeituosa</th>\n",
       "      <th>2.  Não defeituosa</th>\n",
       "      <th>Total</th>\n",
       "    </tr>\n",
       "    <tr>\n",
       "      <th>Classificado</th>\n",
       "      <th></th>\n",
       "      <th></th>\n",
       "      <th></th>\n",
       "      <th></th>\n",
       "    </tr>\n",
       "  </thead>\n",
       "  <tbody>\n",
       "    <tr>\n",
       "      <th rowspan=\"7\" valign=\"top\">1. Defeituosa</th>\n",
       "      <th>Count</th>\n",
       "      <td>1283.0</td>\n",
       "      <td>192.0</td>\n",
       "      <td>1475.0</td>\n",
       "    </tr>\n",
       "    <tr>\n",
       "      <th>Expected Count</th>\n",
       "      <td>1102.0</td>\n",
       "      <td>373.0</td>\n",
       "      <td>1475.0</td>\n",
       "    </tr>\n",
       "    <tr>\n",
       "      <th>% within Classificado</th>\n",
       "      <td>87.0</td>\n",
       "      <td>13.0</td>\n",
       "      <td>100.0</td>\n",
       "    </tr>\n",
       "    <tr>\n",
       "      <th>% within Observado</th>\n",
       "      <td>93.2</td>\n",
       "      <td>41.2</td>\n",
       "      <td>80.0</td>\n",
       "    </tr>\n",
       "    <tr>\n",
       "      <th>% of Total</th>\n",
       "      <td>69.6</td>\n",
       "      <td>10.4</td>\n",
       "      <td>80.0</td>\n",
       "    </tr>\n",
       "    <tr>\n",
       "      <th>Standardized Residual</th>\n",
       "      <td>5.5</td>\n",
       "      <td>-9.4</td>\n",
       "      <td></td>\n",
       "    </tr>\n",
       "    <tr>\n",
       "      <th>Adjusted Residual</th>\n",
       "      <td>24.3</td>\n",
       "      <td>-24.3</td>\n",
       "      <td></td>\n",
       "    </tr>\n",
       "    <tr>\n",
       "      <th rowspan=\"7\" valign=\"top\">2.  Não defeituosa</th>\n",
       "      <th>Count</th>\n",
       "      <td>94.0</td>\n",
       "      <td>274.0</td>\n",
       "      <td>368.0</td>\n",
       "    </tr>\n",
       "    <tr>\n",
       "      <th>Expected Count</th>\n",
       "      <td>275.0</td>\n",
       "      <td>93.0</td>\n",
       "      <td>368.0</td>\n",
       "    </tr>\n",
       "    <tr>\n",
       "      <th>% within Classificado</th>\n",
       "      <td>25.5</td>\n",
       "      <td>74.5</td>\n",
       "      <td>100.0</td>\n",
       "    </tr>\n",
       "    <tr>\n",
       "      <th>% within Observado</th>\n",
       "      <td>6.8</td>\n",
       "      <td>58.8</td>\n",
       "      <td>20.0</td>\n",
       "    </tr>\n",
       "    <tr>\n",
       "      <th>% of Total</th>\n",
       "      <td>5.1</td>\n",
       "      <td>14.9</td>\n",
       "      <td>20.0</td>\n",
       "    </tr>\n",
       "    <tr>\n",
       "      <th>Standardized Residual</th>\n",
       "      <td>-10.9</td>\n",
       "      <td>18.8</td>\n",
       "      <td></td>\n",
       "    </tr>\n",
       "    <tr>\n",
       "      <th>Adjusted Residual</th>\n",
       "      <td>-24.3</td>\n",
       "      <td>24.3</td>\n",
       "      <td></td>\n",
       "    </tr>\n",
       "    <tr>\n",
       "      <th rowspan=\"5\" valign=\"top\">Total</th>\n",
       "      <th>Count</th>\n",
       "      <td>1377.0</td>\n",
       "      <td>466.0</td>\n",
       "      <td>1843.0</td>\n",
       "    </tr>\n",
       "    <tr>\n",
       "      <th>Expected Count</th>\n",
       "      <td>1377.0</td>\n",
       "      <td>466.0</td>\n",
       "      <td>1843.0</td>\n",
       "    </tr>\n",
       "    <tr>\n",
       "      <th>% within Classificado</th>\n",
       "      <td>74.7</td>\n",
       "      <td>25.3</td>\n",
       "      <td>100.0</td>\n",
       "    </tr>\n",
       "    <tr>\n",
       "      <th>% within Observado</th>\n",
       "      <td>100.0</td>\n",
       "      <td>100.0</td>\n",
       "      <td>100.0</td>\n",
       "    </tr>\n",
       "    <tr>\n",
       "      <th>% of Total</th>\n",
       "      <td>74.7</td>\n",
       "      <td>25.3</td>\n",
       "      <td>100.0</td>\n",
       "    </tr>\n",
       "  </tbody>\n",
       "</table>\n",
       "</div>"
      ],
      "text/plain": [
       "Observado                                1. Defeituosa 2.  Não defeituosa   \n",
       "Classificado                                                                \n",
       "1. Defeituosa      Count                        1283.0              192.0  \\\n",
       "                   Expected Count               1102.0              373.0   \n",
       "                   % within Classificado          87.0               13.0   \n",
       "                   % within Observado             93.2               41.2   \n",
       "                   % of Total                     69.6               10.4   \n",
       "                   Standardized Residual           5.5               -9.4   \n",
       "                   Adjusted Residual              24.3              -24.3   \n",
       "2.  Não defeituosa Count                          94.0              274.0   \n",
       "                   Expected Count                275.0               93.0   \n",
       "                   % within Classificado          25.5               74.5   \n",
       "                   % within Observado              6.8               58.8   \n",
       "                   % of Total                      5.1               14.9   \n",
       "                   Standardized Residual         -10.9               18.8   \n",
       "                   Adjusted Residual             -24.3               24.3   \n",
       "Total              Count                        1377.0              466.0   \n",
       "                   Expected Count               1377.0              466.0   \n",
       "                   % within Classificado          74.7               25.3   \n",
       "                   % within Observado            100.0              100.0   \n",
       "                   % of Total                     74.7               25.3   \n",
       "\n",
       "Observado                                  Total  \n",
       "Classificado                                      \n",
       "1. Defeituosa      Count                  1475.0  \n",
       "                   Expected Count         1475.0  \n",
       "                   % within Classificado   100.0  \n",
       "                   % within Observado       80.0  \n",
       "                   % of Total               80.0  \n",
       "                   Standardized Residual          \n",
       "                   Adjusted Residual              \n",
       "2.  Não defeituosa Count                   368.0  \n",
       "                   Expected Count          368.0  \n",
       "                   % within Classificado   100.0  \n",
       "                   % within Observado       20.0  \n",
       "                   % of Total               20.0  \n",
       "                   Standardized Residual          \n",
       "                   Adjusted Residual              \n",
       "Total              Count                  1843.0  \n",
       "                   Expected Count         1843.0  \n",
       "                   % within Classificado   100.0  \n",
       "                   % within Observado      100.0  \n",
       "                   % of Total              100.0  "
      ]
     },
     "metadata": {},
     "output_type": "display_data"
    }
   ],
   "source": [
    "# Função própria complementar_tabela_contingencia_com_analise_estatistica\n",
    "combined_df = complementar_tabela_contingencia_com_analise_estatistica(tabela_contingencia)\n",
    "\n",
    "# Visualizando resultado\n",
    "display(combined_df)"
   ]
  },
  {
   "cell_type": "markdown",
   "id": "3e8218b1-85dc-4cd7-bfc4-9853dfc045c4",
   "metadata": {},
   "source": [
    "<font color=\"blue\">    \n",
    "    \n",
    "### 2.8.1. Desempenho do modelo de classificação de peças\n",
    "</font>"
   ]
  },
  {
   "cell_type": "code",
   "execution_count": 6,
   "id": "16d0e2d9-ac3e-4963-a040-4c0a4fee6389",
   "metadata": {},
   "outputs": [],
   "source": [
    "# Definindo os valores da tabela de contingência\n",
    "tp = tabela_contingencia.iloc[0,0] # verdadeiros positivos\n",
    "fp = tabela_contingencia.iloc[0,1] # falsos positivos\n",
    "fn = tabela_contingencia.iloc[1,0] # falsos negativos\n",
    "tn = tabela_contingencia.iloc[1,1] # verdadeiros negativos"
   ]
  },
  {
   "cell_type": "markdown",
   "id": "3cc956d6-a3d7-47ff-b565-e08e41433cde",
   "metadata": {},
   "source": [
    "<font color=\"blue\">\n",
    "    \n",
    "#### a) Precisão.\n",
    "</font>"
   ]
  },
  {
   "cell_type": "code",
   "execution_count": 7,
   "id": "25fbf6cb-683c-47f0-a713-b4e1b2dd3e73",
   "metadata": {},
   "outputs": [
    {
     "name": "stdout",
     "output_type": "stream",
     "text": [
      "Precisão = 0.845\n"
     ]
    }
   ],
   "source": [
    "# Precisão (ou Classificações corretas) = (TP + TN) / Total\n",
    "classificacoes_corretas = (tp + tn) / (tp + tn + fp + fn)\n",
    "\n",
    "# Visualização\n",
    "print(f\"Precisão = {classificacoes_corretas:.3f}\")"
   ]
  },
  {
   "cell_type": "markdown",
   "id": "7b6de3f0-32df-4d15-9218-3252e839323f",
   "metadata": {},
   "source": [
    "<font color=\"blue\">\n",
    "    \n",
    "#### b) Sensibilidade.\n",
    "</font>"
   ]
  },
  {
   "cell_type": "code",
   "execution_count": 8,
   "id": "2517e703-b249-42d4-bbda-1f6621f88a7a",
   "metadata": {},
   "outputs": [
    {
     "name": "stdout",
     "output_type": "stream",
     "text": [
      "Sensibilidade = 0.932\n"
     ]
    }
   ],
   "source": [
    "# Sensibilidade = TP / (TP + FN)\n",
    "sensibilidade = tp / (tp + fn)\n",
    "\n",
    "# Visualização\n",
    "print(f\"Sensibilidade = {sensibilidade:.3f}\")"
   ]
  },
  {
   "cell_type": "markdown",
   "id": "407c7392-3ec0-484e-b207-153f3133e024",
   "metadata": {},
   "source": [
    "<font color=\"blue\">\n",
    "    \n",
    "#### c) Especificidade.\n",
    "</font>"
   ]
  },
  {
   "cell_type": "code",
   "execution_count": 9,
   "id": "f832fd28-a1e4-4ddc-8b38-9c4ca32c4fd7",
   "metadata": {},
   "outputs": [
    {
     "name": "stdout",
     "output_type": "stream",
     "text": [
      "Especificidade = 0.588\n"
     ]
    }
   ],
   "source": [
    "# Especificidade = TN / (TN + FP)\n",
    "especificidade = tn / (tn + fp)\n",
    "\n",
    "# Visualização\n",
    "print(f\"Especificidade = {especificidade:.3f}\")"
   ]
  },
  {
   "cell_type": "markdown",
   "id": "4729ac20-4616-4872-bf94-da592142c47a",
   "metadata": {},
   "source": [
    "<font color=\"blue\">\n",
    "    \n",
    "#### d) Valores preditivos.\n",
    "</font>"
   ]
  },
  {
   "cell_type": "code",
   "execution_count": 10,
   "id": "4fa19d24-cf56-4c1b-a303-0aa7593b87f6",
   "metadata": {},
   "outputs": [
    {
     "name": "stdout",
     "output_type": "stream",
     "text": [
      "P[Classificado + | Observado +] = 0.870\n",
      "P[Classificado - | Observado -] = 0.745\n"
     ]
    }
   ],
   "source": [
    "# Valor preditivo positivo = TP / (TP + FP)\n",
    "vpp = tp / (tp + fp)\n",
    "\n",
    "# Valor preditivo negativo = TN / (TN + FN)\n",
    "vpn = tn / (tn + fn)\n",
    "\n",
    "# Visualização\n",
    "print(f\"P[{grupos[0]} + | {grupos[1]} +] = {vpp:.3f}\")\n",
    "print(f\"P[{grupos[0]} - | {grupos[1]} -] = {vpn:.3f}\")"
   ]
  },
  {
   "cell_type": "markdown",
   "id": "baf77c8b-4ce0-493b-ab66-89913c0629ca",
   "metadata": {},
   "source": [
    "<font color=\"blue\">\n",
    "    \n",
    "#### e) Rácios da verosimilhança.\n",
    "</font>"
   ]
  },
  {
   "cell_type": "code",
   "execution_count": 11,
   "id": "119bb18c-3299-45b7-b5be-45bcc1724994",
   "metadata": {},
   "outputs": [
    {
     "name": "stdout",
     "output_type": "stream",
     "text": [
      "+LR = 2.261\n",
      "-LR = 0.116\n"
     ]
    }
   ],
   "source": [
    "# Rácio da verosimilhança positiva = Sensibilidade / (1 - Especificidade)\n",
    "rvp = sensibilidade / (1 - especificidade)\n",
    "\n",
    "# Rácio da verosimilhança negativa = (1 - Sensibilidade) / Especificidade\n",
    "rvn = (1 - sensibilidade) / especificidade\n",
    "\n",
    "# Visualização\n",
    "print(f\"+LR = {rvp:.3f}\")\n",
    "print(f\"-LR = {rvn:.3f}\")"
   ]
  },
  {
   "cell_type": "markdown",
   "id": "d93bad97-0ea1-430e-ba87-4081c95cae0c",
   "metadata": {},
   "source": [
    "<font color=\"blue\">\n",
    "    \n",
    "#### f) Prevalência.\n",
    "</font>"
   ]
  },
  {
   "cell_type": "code",
   "execution_count": 12,
   "id": "ce79e5d4-b670-4860-9328-74ada375acbf",
   "metadata": {},
   "outputs": [
    {
     "name": "stdout",
     "output_type": "stream",
     "text": [
      "Prevalência = 0.747\n"
     ]
    }
   ],
   "source": [
    "prevalencia = (tp + fn) / (tp + fp + fn + tn)\n",
    "\n",
    "# Visualização\n",
    "print(f\"Prevalência = {prevalencia:.3f}\")"
   ]
  },
  {
   "cell_type": "code",
   "execution_count": null,
   "id": "f7605e72-9221-4740-ac41-b1593228b66f",
   "metadata": {},
   "outputs": [],
   "source": []
  }
 ],
 "metadata": {
  "kernelspec": {
   "display_name": "Python 3 (ipykernel)",
   "language": "python",
   "name": "python3"
  },
  "language_info": {
   "codemirror_mode": {
    "name": "ipython",
    "version": 3
   },
   "file_extension": ".py",
   "mimetype": "text/x-python",
   "name": "python",
   "nbconvert_exporter": "python",
   "pygments_lexer": "ipython3",
   "version": "3.10.13"
  }
 },
 "nbformat": 4,
 "nbformat_minor": 5
}
