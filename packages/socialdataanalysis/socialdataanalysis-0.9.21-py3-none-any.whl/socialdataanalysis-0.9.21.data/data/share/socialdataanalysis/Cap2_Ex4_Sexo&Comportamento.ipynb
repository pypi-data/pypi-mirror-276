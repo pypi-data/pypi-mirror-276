{
 "cells": [
  {
   "cell_type": "markdown",
   "id": "70b535dc-6be5-4e40-bd32-2b7129c040be",
   "metadata": {},
   "source": [
    "# Aplicações práticas\n",
    "\n",
    "# 2.4 Exercício 4: Sexo e Comportamento\n",
    "\n",
    "## A. Enunciado \n",
    "\n",
    "Uma amostra aleatória de 3182 pessoas de ambos os sexos (1 Mulher, 2 Homem) foi seguida ao longo de 3 anos, com vista a apurar o seu comportamento planeado de agressividade (1. Agressivo, 2, Assertivo). Observaram-se 1584 mulheres e 1598 Homens. Nas mulheres 1110 tinham comportamento planeado de agressividade, enquanto nos homens esse valor baixou para 477. Ambas as variáveis são nominais, por serem apenas definidas pelo seu nome. O estudo é prospetivo de coorte e os dados observados constam da linha Count da Tabela 1, do ficheiro \"cap02_exerc.4_Sexo_Comportamento.sav\" e e organizados em um dicionário em Python."
   ]
  },
  {
   "cell_type": "markdown",
   "id": "9ee0e366-09b3-4a11-a69d-aa33698a3837",
   "metadata": {},
   "source": [
    "# Resolução em Python"
   ]
  },
  {
   "cell_type": "markdown",
   "id": "b01be9d2-58ef-4bd2-8a7a-7bb59dd3a337",
   "metadata": {},
   "source": [
    "## Carregando Bibliotecas"
   ]
  },
  {
   "cell_type": "code",
   "execution_count": 1,
   "id": "e7e66d6c-01f2-4db2-bcb4-a6648f1ac6f8",
   "metadata": {},
   "outputs": [],
   "source": [
    "import pandas as pd  # Fornece DataFrames e Series para manipulação de dados em Python, facilitando operações como leitura, escrita, e manipulação de estruturas de dados tabulares.\n",
    "from scipy.stats import chi2  # Realiza cálculos estatísticos relacionados à distribuição qui-quadrado"
   ]
  },
  {
   "cell_type": "markdown",
   "id": "e46cb366-e919-48e6-934e-ed762cc04d10",
   "metadata": {},
   "source": [
    "## Funções Personalizadas"
   ]
  },
  {
   "cell_type": "code",
   "execution_count": 2,
   "id": "72383688-e121-4f6a-a6bb-fb79aeda3647",
   "metadata": {},
   "outputs": [],
   "source": [
    "!pip install socialdataanalysis\n",
    "!pip install --upgrade socialdataanalysis\n",
    "from socialdataanalysis import analisar_independencia_variaveis_tabela_contingencia\n",
    "from socialdataanalysis import gerar_tabela_contingencia\n",
    "from socialdataanalysis import complementar_tabela_contingencia_com_analise_estatistica\n",
    "from socialdataanalysis import calcular_odds_ratio_razao_risco_discrepancia"
   ]
  },
  {
   "cell_type": "markdown",
   "id": "53edebc0-c07c-4343-91f1-4d397c3f14de",
   "metadata": {},
   "source": [
    "## Dados fornecidos"
   ]
  },
  {
   "cell_type": "code",
   "execution_count": 3,
   "id": "eb052323-8c40-4966-aee2-7a8e5452da3b",
   "metadata": {},
   "outputs": [
    {
     "data": {
      "text/html": [
       "<div>\n",
       "<style scoped>\n",
       "    .dataframe tbody tr th:only-of-type {\n",
       "        vertical-align: middle;\n",
       "    }\n",
       "\n",
       "    .dataframe tbody tr th {\n",
       "        vertical-align: top;\n",
       "    }\n",
       "\n",
       "    .dataframe thead th {\n",
       "        text-align: right;\n",
       "    }\n",
       "</style>\n",
       "<table border=\"1\" class=\"dataframe\">\n",
       "  <thead>\n",
       "    <tr style=\"text-align: right;\">\n",
       "      <th></th>\n",
       "      <th>Sexo</th>\n",
       "      <th>Comportamento</th>\n",
       "      <th>Freq</th>\n",
       "    </tr>\n",
       "  </thead>\n",
       "  <tbody>\n",
       "    <tr>\n",
       "      <th>0</th>\n",
       "      <td>1</td>\n",
       "      <td>1</td>\n",
       "      <td>1101</td>\n",
       "    </tr>\n",
       "    <tr>\n",
       "      <th>1</th>\n",
       "      <td>1</td>\n",
       "      <td>2</td>\n",
       "      <td>483</td>\n",
       "    </tr>\n",
       "    <tr>\n",
       "      <th>2</th>\n",
       "      <td>2</td>\n",
       "      <td>1</td>\n",
       "      <td>477</td>\n",
       "    </tr>\n",
       "    <tr>\n",
       "      <th>3</th>\n",
       "      <td>2</td>\n",
       "      <td>2</td>\n",
       "      <td>1121</td>\n",
       "    </tr>\n",
       "  </tbody>\n",
       "</table>\n",
       "</div>"
      ],
      "text/plain": [
       "   Sexo  Comportamento  Freq\n",
       "0     1              1  1101\n",
       "1     1              2   483\n",
       "2     2              1   477\n",
       "3     2              2  1121"
      ]
     },
     "metadata": {},
     "output_type": "display_data"
    }
   ],
   "source": [
    "# Dicionário com dados categorizados representando grupos e suas frequências\n",
    "dados = {\n",
    "    'Sexo': [1, 1, 2, 2],\n",
    "    'Comportamento': [1, 2, 1, 2],\n",
    "    'Freq': [1101, 483, 477, 1121]\n",
    "}\n",
    "\n",
    "# Criando o DataFrame a partir do dicionário\n",
    "dados = pd.DataFrame(dados)\n",
    "\n",
    "# Convertendo as colunas para inteiros, se necessário\n",
    "dados = dados.astype(int)\n",
    "\n",
    "# Visualizando o dataframe\n",
    "display(dados)"
   ]
  },
  {
   "cell_type": "markdown",
   "id": "d9ad8bf6-af72-40ba-8c07-db714f1e038b",
   "metadata": {},
   "source": [
    "## Tabela 1: Tabela de Contingência"
   ]
  },
  {
   "cell_type": "code",
   "execution_count": 4,
   "id": "ee79b789-4781-4114-af89-62bba8a2a25d",
   "metadata": {},
   "outputs": [
    {
     "data": {
      "text/html": [
       "<div>\n",
       "<style scoped>\n",
       "    .dataframe tbody tr th:only-of-type {\n",
       "        vertical-align: middle;\n",
       "    }\n",
       "\n",
       "    .dataframe tbody tr th {\n",
       "        vertical-align: top;\n",
       "    }\n",
       "\n",
       "    .dataframe thead th {\n",
       "        text-align: right;\n",
       "    }\n",
       "</style>\n",
       "<table border=\"1\" class=\"dataframe\">\n",
       "  <thead>\n",
       "    <tr style=\"text-align: right;\">\n",
       "      <th>Comportamento</th>\n",
       "      <th>1. Agressivo</th>\n",
       "      <th>2. Assertivo</th>\n",
       "    </tr>\n",
       "    <tr>\n",
       "      <th>Sexo</th>\n",
       "      <th></th>\n",
       "      <th></th>\n",
       "    </tr>\n",
       "  </thead>\n",
       "  <tbody>\n",
       "    <tr>\n",
       "      <th>1. Mulher</th>\n",
       "      <td>1101</td>\n",
       "      <td>483</td>\n",
       "    </tr>\n",
       "    <tr>\n",
       "      <th>2. Homem</th>\n",
       "      <td>477</td>\n",
       "      <td>1121</td>\n",
       "    </tr>\n",
       "  </tbody>\n",
       "</table>\n",
       "</div>"
      ],
      "text/plain": [
       "Comportamento  1. Agressivo  2. Assertivo\n",
       "Sexo                                     \n",
       "1. Mulher              1101           483\n",
       "2. Homem                477          1121"
      ]
     },
     "metadata": {},
     "output_type": "display_data"
    }
   ],
   "source": [
    "# Obter automaticamente os nomes dos grupos e da coluna de frequência\n",
    "grupos = dados.columns[:-1].tolist()  # Todos exceto a última coluna\n",
    "categorias = {\n",
    "    grupos[0]: ['1. Mulher', '2. Homem',],\n",
    "    grupos[1]: ['1. Agressivo', '2. Assertivo'],\n",
    "}\n",
    "\n",
    "tabela_contingencia = gerar_tabela_contingencia(dados, grupos, categorias)\n",
    "\n",
    "display(tabela_contingencia)"
   ]
  },
  {
   "cell_type": "markdown",
   "id": "3f6a1475-bb4e-48cc-8ba4-2d75dce0d18f",
   "metadata": {},
   "source": [
    "## Tabela de Contingência com Cálculos"
   ]
  },
  {
   "cell_type": "code",
   "execution_count": 5,
   "id": "3fab8df0-2450-4a68-ac49-09b9a924c295",
   "metadata": {},
   "outputs": [
    {
     "data": {
      "text/html": [
       "<div>\n",
       "<style scoped>\n",
       "    .dataframe tbody tr th:only-of-type {\n",
       "        vertical-align: middle;\n",
       "    }\n",
       "\n",
       "    .dataframe tbody tr th {\n",
       "        vertical-align: top;\n",
       "    }\n",
       "\n",
       "    .dataframe thead th {\n",
       "        text-align: right;\n",
       "    }\n",
       "</style>\n",
       "<table border=\"1\" class=\"dataframe\">\n",
       "  <thead>\n",
       "    <tr style=\"text-align: right;\">\n",
       "      <th></th>\n",
       "      <th>Comportamento</th>\n",
       "      <th>1. Agressivo</th>\n",
       "      <th>2. Assertivo</th>\n",
       "      <th>Total</th>\n",
       "    </tr>\n",
       "    <tr>\n",
       "      <th>Sexo</th>\n",
       "      <th></th>\n",
       "      <th></th>\n",
       "      <th></th>\n",
       "      <th></th>\n",
       "    </tr>\n",
       "  </thead>\n",
       "  <tbody>\n",
       "    <tr>\n",
       "      <th rowspan=\"7\" valign=\"top\">1. Mulher</th>\n",
       "      <th>Count</th>\n",
       "      <td>1101.0</td>\n",
       "      <td>483.0</td>\n",
       "      <td>1584.0</td>\n",
       "    </tr>\n",
       "    <tr>\n",
       "      <th>Expected Count</th>\n",
       "      <td>785.5</td>\n",
       "      <td>798.5</td>\n",
       "      <td>1584.0</td>\n",
       "    </tr>\n",
       "    <tr>\n",
       "      <th>% within Sexo</th>\n",
       "      <td>69.5</td>\n",
       "      <td>30.5</td>\n",
       "      <td>100.0</td>\n",
       "    </tr>\n",
       "    <tr>\n",
       "      <th>% within Comportamento</th>\n",
       "      <td>69.8</td>\n",
       "      <td>30.1</td>\n",
       "      <td>49.8</td>\n",
       "    </tr>\n",
       "    <tr>\n",
       "      <th>% of Total</th>\n",
       "      <td>34.6</td>\n",
       "      <td>15.2</td>\n",
       "      <td>49.8</td>\n",
       "    </tr>\n",
       "    <tr>\n",
       "      <th>Standardized Residual</th>\n",
       "      <td>11.3</td>\n",
       "      <td>-11.2</td>\n",
       "      <td></td>\n",
       "    </tr>\n",
       "    <tr>\n",
       "      <th>Adjusted Residual</th>\n",
       "      <td>22.4</td>\n",
       "      <td>-22.4</td>\n",
       "      <td></td>\n",
       "    </tr>\n",
       "    <tr>\n",
       "      <th rowspan=\"7\" valign=\"top\">2. Homem</th>\n",
       "      <th>Count</th>\n",
       "      <td>477.0</td>\n",
       "      <td>1121.0</td>\n",
       "      <td>1598.0</td>\n",
       "    </tr>\n",
       "    <tr>\n",
       "      <th>Expected Count</th>\n",
       "      <td>792.5</td>\n",
       "      <td>805.5</td>\n",
       "      <td>1598.0</td>\n",
       "    </tr>\n",
       "    <tr>\n",
       "      <th>% within Sexo</th>\n",
       "      <td>29.8</td>\n",
       "      <td>70.2</td>\n",
       "      <td>100.0</td>\n",
       "    </tr>\n",
       "    <tr>\n",
       "      <th>% within Comportamento</th>\n",
       "      <td>30.2</td>\n",
       "      <td>69.9</td>\n",
       "      <td>50.2</td>\n",
       "    </tr>\n",
       "    <tr>\n",
       "      <th>% of Total</th>\n",
       "      <td>15.0</td>\n",
       "      <td>35.2</td>\n",
       "      <td>50.2</td>\n",
       "    </tr>\n",
       "    <tr>\n",
       "      <th>Standardized Residual</th>\n",
       "      <td>-11.2</td>\n",
       "      <td>11.1</td>\n",
       "      <td></td>\n",
       "    </tr>\n",
       "    <tr>\n",
       "      <th>Adjusted Residual</th>\n",
       "      <td>-22.4</td>\n",
       "      <td>22.4</td>\n",
       "      <td></td>\n",
       "    </tr>\n",
       "    <tr>\n",
       "      <th rowspan=\"5\" valign=\"top\">Total</th>\n",
       "      <th>Count</th>\n",
       "      <td>1578.0</td>\n",
       "      <td>1604.0</td>\n",
       "      <td>3182.0</td>\n",
       "    </tr>\n",
       "    <tr>\n",
       "      <th>Expected Count</th>\n",
       "      <td>1578.0</td>\n",
       "      <td>1604.0</td>\n",
       "      <td>3182.0</td>\n",
       "    </tr>\n",
       "    <tr>\n",
       "      <th>% within Sexo</th>\n",
       "      <td>49.6</td>\n",
       "      <td>50.4</td>\n",
       "      <td>100.0</td>\n",
       "    </tr>\n",
       "    <tr>\n",
       "      <th>% within Comportamento</th>\n",
       "      <td>100.0</td>\n",
       "      <td>100.0</td>\n",
       "      <td>100.0</td>\n",
       "    </tr>\n",
       "    <tr>\n",
       "      <th>% of Total</th>\n",
       "      <td>49.6</td>\n",
       "      <td>50.4</td>\n",
       "      <td>100.0</td>\n",
       "    </tr>\n",
       "  </tbody>\n",
       "</table>\n",
       "</div>"
      ],
      "text/plain": [
       "Comportamento                    1. Agressivo 2. Assertivo   Total\n",
       "Sexo                                                              \n",
       "1. Mulher Count                        1101.0        483.0  1584.0\n",
       "          Expected Count                785.5        798.5  1584.0\n",
       "          % within Sexo                  69.5         30.5   100.0\n",
       "          % within Comportamento         69.8         30.1    49.8\n",
       "          % of Total                     34.6         15.2    49.8\n",
       "          Standardized Residual          11.3        -11.2        \n",
       "          Adjusted Residual              22.4        -22.4        \n",
       "2. Homem  Count                         477.0       1121.0  1598.0\n",
       "          Expected Count                792.5        805.5  1598.0\n",
       "          % within Sexo                  29.8         70.2   100.0\n",
       "          % within Comportamento         30.2         69.9    50.2\n",
       "          % of Total                     15.0         35.2    50.2\n",
       "          Standardized Residual         -11.2         11.1        \n",
       "          Adjusted Residual             -22.4         22.4        \n",
       "Total     Count                        1578.0       1604.0  3182.0\n",
       "          Expected Count               1578.0       1604.0  3182.0\n",
       "          % within Sexo                  49.6         50.4   100.0\n",
       "          % within Comportamento        100.0        100.0   100.0\n",
       "          % of Total                     49.6         50.4   100.0"
      ]
     },
     "metadata": {},
     "output_type": "display_data"
    }
   ],
   "source": [
    "# Função própria complementar_tabela_contingencia_com_analise_estatistica\n",
    "combined_df = complementar_tabela_contingencia_com_analise_estatistica(tabela_contingencia)\n",
    "\n",
    "# Visualizando resultado\n",
    "display(combined_df)"
   ]
  },
  {
   "cell_type": "markdown",
   "id": "7f029efe-e0da-4960-9d8b-d0d2db422d44",
   "metadata": {},
   "source": [
    "<font color=\"blue\">    \n",
    "    \n",
    "### 2.1.1. Probabilidades e Teorema de Bayes\n",
    "</font>"
   ]
  },
  {
   "cell_type": "markdown",
   "id": "9240bb77-64dc-4f0d-90e0-a3f3f528726e",
   "metadata": {},
   "source": [
    "<font color=\"blue\">    \n",
    "    \n",
    "#### a) Probabilidade de ser mulher.\n",
    "</font>"
   ]
  },
  {
   "cell_type": "code",
   "execution_count": 13,
   "id": "ac8b2921-435b-442d-ae95-78f96c433def",
   "metadata": {},
   "outputs": [
    {
     "name": "stdout",
     "output_type": "stream",
     "text": [
      "Probabilidades Marginais de Sexo\n"
     ]
    },
    {
     "data": {
      "text/html": [
       "<div>\n",
       "<style scoped>\n",
       "    .dataframe tbody tr th:only-of-type {\n",
       "        vertical-align: middle;\n",
       "    }\n",
       "\n",
       "    .dataframe tbody tr th {\n",
       "        vertical-align: top;\n",
       "    }\n",
       "\n",
       "    .dataframe thead th {\n",
       "        text-align: right;\n",
       "    }\n",
       "</style>\n",
       "<table border=\"1\" class=\"dataframe\">\n",
       "  <thead>\n",
       "    <tr style=\"text-align: right;\">\n",
       "      <th></th>\n",
       "      <th></th>\n",
       "    </tr>\n",
       "    <tr>\n",
       "      <th>Sexo</th>\n",
       "      <th></th>\n",
       "    </tr>\n",
       "  </thead>\n",
       "  <tbody>\n",
       "    <tr>\n",
       "      <th>1. Mulher</th>\n",
       "      <td>0.498</td>\n",
       "    </tr>\n",
       "    <tr>\n",
       "      <th>2. Homem</th>\n",
       "      <td>0.502</td>\n",
       "    </tr>\n",
       "  </tbody>\n",
       "</table>\n",
       "</div>"
      ],
      "text/plain": [
       "                \n",
       "Sexo            \n",
       "1. Mulher  0.498\n",
       "2. Homem   0.502"
      ]
     },
     "metadata": {},
     "output_type": "display_data"
    },
    {
     "name": "stdout",
     "output_type": "stream",
     "text": [
      "P(1. Mulher) = 0.498\n"
     ]
    }
   ],
   "source": [
    "## PROBABILIDADES MARGINAIS ##\n",
    "\n",
    "# Calculando as Probabilidades Marginais para o Grupo 1\n",
    "prob_marg_grupo1 = tabela_contingencia.sum(axis=1) / tabela_contingencia.values.sum()\n",
    "# Convertendo em um DataFrame\n",
    "prob_marg_grupo1 = prob_marg_grupo1.to_frame(name='')\n",
    "\n",
    "# Exibindo os DataFrames\n",
    "print(f\"Probabilidades Marginais de {grupos[0]}\")\n",
    "display(prob_marg_grupo1.round(3))\n",
    "\n",
    "# Impressão de configuração específica\n",
    "evento = categorias[grupos[0]][0]\n",
    "print(f\"P({evento}) = {prob_marg_grupo1.loc[evento, '']:.3f}\")"
   ]
  },
  {
   "cell_type": "markdown",
   "id": "61e220f4-c7d9-4b8c-b6f6-ac847555e025",
   "metadata": {},
   "source": [
    "<font color=\"blue\">\n",
    "\n",
    "#### b) Probabilidade de ser muher sabendo que teve um comportamento planeado de agressividade. Compare o resultado com o obtido no ponto anterior.\n",
    "</font>"
   ]
  },
  {
   "cell_type": "code",
   "execution_count": 12,
   "id": "13efa846-f5e1-4662-8240-2977fb3c3ba2",
   "metadata": {},
   "outputs": [
    {
     "name": "stdout",
     "output_type": "stream",
     "text": [
      "Probabilidade Condicionada P(Sexo|Comportamento):\n"
     ]
    },
    {
     "data": {
      "text/html": [
       "<div>\n",
       "<style scoped>\n",
       "    .dataframe tbody tr th:only-of-type {\n",
       "        vertical-align: middle;\n",
       "    }\n",
       "\n",
       "    .dataframe tbody tr th {\n",
       "        vertical-align: top;\n",
       "    }\n",
       "\n",
       "    .dataframe thead th {\n",
       "        text-align: right;\n",
       "    }\n",
       "</style>\n",
       "<table border=\"1\" class=\"dataframe\">\n",
       "  <thead>\n",
       "    <tr style=\"text-align: right;\">\n",
       "      <th>Comportamento</th>\n",
       "      <th>1. Agressivo</th>\n",
       "      <th>2. Assertivo</th>\n",
       "    </tr>\n",
       "    <tr>\n",
       "      <th>Sexo</th>\n",
       "      <th></th>\n",
       "      <th></th>\n",
       "    </tr>\n",
       "  </thead>\n",
       "  <tbody>\n",
       "    <tr>\n",
       "      <th>1. Mulher</th>\n",
       "      <td>0.698</td>\n",
       "      <td>0.301</td>\n",
       "    </tr>\n",
       "    <tr>\n",
       "      <th>2. Homem</th>\n",
       "      <td>0.302</td>\n",
       "      <td>0.699</td>\n",
       "    </tr>\n",
       "  </tbody>\n",
       "</table>\n",
       "</div>"
      ],
      "text/plain": [
       "Comportamento  1. Agressivo  2. Assertivo\n",
       "Sexo                                     \n",
       "1. Mulher             0.698         0.301\n",
       "2. Homem              0.302         0.699"
      ]
     },
     "metadata": {},
     "output_type": "display_data"
    },
    {
     "name": "stdout",
     "output_type": "stream",
     "text": [
      "P(1. Mulher|1. Agressivo) = 0.698\n"
     ]
    }
   ],
   "source": [
    "## PROBABILIDADES CONDICIONADAS ##\n",
    "\n",
    "# Calculando P(grupo1|grupo2)\n",
    "prob_cond_grupo1_dado_grupo2 = tabela_contingencia.div(tabela_contingencia.sum(axis=0), axis=1)\n",
    "\n",
    "# Exibindo as probabilidades condicionadas com arredondamento para 3 casas decimais\n",
    "print(f\"Probabilidade Condicionada P({grupos[0]}|{grupos[1]}):\")\n",
    "display(prob_cond_grupo1_dado_grupo2.round(3))\n",
    "\n",
    "# Impressão de configuração específica\n",
    "evento = categorias[grupos[0]][0]\n",
    "condicao = categorias[grupos[1]][0]\n",
    "print(f\"P({evento}|{condicao}) = {prob_cond_grupo1_dado_grupo2.loc[evento, condicao]:.3f}\")"
   ]
  },
  {
   "cell_type": "markdown",
   "id": "ca2d0744-a0a4-435f-a4ee-835ca54311c2",
   "metadata": {},
   "source": [
    "<font color=\"blue\">   \n",
    "\n",
    "### 2.4.2. Teste do rácio da Verosimilhança \n",
    "</font>"
   ]
  },
  {
   "cell_type": "markdown",
   "id": "e360f1da-08d1-4b85-bb11-9fdc51dbfc29",
   "metadata": {},
   "source": [
    "<font color=\"blue\">\n",
    "\n",
    "#### c) Pressupostos e hipóteses do teste.\n",
    "</font>"
   ]
  },
  {
   "cell_type": "code",
   "execution_count": 8,
   "id": "ebebc182-9c06-49e4-8dad-35b4909423f5",
   "metadata": {},
   "outputs": [
    {
     "data": {
      "text/html": [
       "<div>\n",
       "<style scoped>\n",
       "    .dataframe tbody tr th:only-of-type {\n",
       "        vertical-align: middle;\n",
       "    }\n",
       "\n",
       "    .dataframe tbody tr th {\n",
       "        vertical-align: top;\n",
       "    }\n",
       "\n",
       "    .dataframe thead th {\n",
       "        text-align: right;\n",
       "    }\n",
       "</style>\n",
       "<table border=\"1\" class=\"dataframe\">\n",
       "  <thead>\n",
       "    <tr style=\"text-align: right;\">\n",
       "      <th></th>\n",
       "      <th>Value</th>\n",
       "      <th>df</th>\n",
       "      <th>Asymp. Sig. (2-sided)</th>\n",
       "    </tr>\n",
       "    <tr>\n",
       "      <th>Test</th>\n",
       "      <th></th>\n",
       "      <th></th>\n",
       "      <th></th>\n",
       "    </tr>\n",
       "  </thead>\n",
       "  <tbody>\n",
       "    <tr>\n",
       "      <th>Pearson Chi-Square</th>\n",
       "      <td>500.47</td>\n",
       "      <td>1</td>\n",
       "      <td>0.000</td>\n",
       "    </tr>\n",
       "    <tr>\n",
       "      <th>Continuity Correction</th>\n",
       "      <td>498.88</td>\n",
       "      <td>1</td>\n",
       "      <td>0.000</td>\n",
       "    </tr>\n",
       "    <tr>\n",
       "      <th>Likelihood Ratio</th>\n",
       "      <td>514.48</td>\n",
       "      <td>1</td>\n",
       "      <td>0.000</td>\n",
       "    </tr>\n",
       "    <tr>\n",
       "      <th>N. of Valid Cases</th>\n",
       "      <td>3182</td>\n",
       "      <td></td>\n",
       "      <td></td>\n",
       "    </tr>\n",
       "  </tbody>\n",
       "</table>\n",
       "</div>"
      ],
      "text/plain": [
       "                        Value df Asymp. Sig. (2-sided)\n",
       "Test                                                  \n",
       "Pearson Chi-Square     500.47  1                 0.000\n",
       "Continuity Correction  498.88  1                 0.000\n",
       "Likelihood Ratio       514.48  1                 0.000\n",
       "N. of Valid Cases        3182                         "
      ]
     },
     "metadata": {},
     "output_type": "display_data"
    },
    {
     "name": "stdout",
     "output_type": "stream",
     "text": [
      "a. 0 cells (0.00%) have expected count less than 5. The minimum expected count is 785.53.\n",
      "\n",
      "Hipóteses:\n",
      "\n",
      "H0: Não há associação entre Sexo e Comportamento; as variáveis são independentes.\n",
      "Ha: Há uma associação entre Sexo e Comportamento; as variáveis não são independentes.\n"
     ]
    }
   ],
   "source": [
    "analisar_independencia_variaveis_tabela_contingencia(tabela_contingencia, \n",
    "                                                     mostrar_pearson=True, \n",
    "                                                     mostrar_continuity=True, \n",
    "                                                     mostrar_likelihood=True, \n",
    "                                                     mostrar_fisher=False)\n",
    "\n",
    "print(\"\\nHipóteses:\")\n",
    "print(f\"\\nH0: Não há associação entre {grupos[0]} e {grupos[1]}; as variáveis são independentes.\")\n",
    "print(f\"Ha: Há uma associação entre {grupos[0]} e {grupos[1]}; as variáveis não são independentes.\")"
   ]
  },
  {
   "cell_type": "markdown",
   "id": "653a6e03-e56d-421d-beda-9193e9df3890",
   "metadata": {},
   "source": [
    "<font color=\"blue\">\n",
    "\n",
    "#### d) Para um erro do analista de 0.01, determine RA e RC para o valor do teste e comente a significância da associação.\n",
    "</font>"
   ]
  },
  {
   "cell_type": "code",
   "execution_count": 11,
   "id": "03d117b8-b387-4f81-be79-6d82b513cfa3",
   "metadata": {},
   "outputs": [
    {
     "name": "stdout",
     "output_type": "stream",
     "text": [
      "Região de Aceitação (RA): [0; 6.635[\n",
      "Região Crítica (RC): [6.635; ∞[\n"
     ]
    }
   ],
   "source": [
    "# Definindo o nível de significância (erro do analista)\n",
    "alpha = 0.01  # Erro do analista é 1% ou 0.01\n",
    "\n",
    "# Calculando a área até a fronteira, que é 1 - alpha para um teste de cauda única\n",
    "nivel_confianca  = 1 - alpha\n",
    "\n",
    "# Grau de liberdade para o teste\n",
    "df = 1\n",
    "\n",
    "# Calculando o valor crítico do qui-quadrado (RC)\n",
    "valor_critico = chi2.ppf(nivel_confianca, df)\n",
    "\n",
    "# RA (Região de Aceitação) é tudo aquilo abaixo do valor crítico\n",
    "# RC (Região Crítica) é tudo aquilo acima do valor crítico\n",
    "print(f\"Região de Aceitação (RA): [0; {valor_critico:.3f}[\")\n",
    "print(f\"Região Crítica (RC): [{valor_critico:.3f}; \\u221E[\")"
   ]
  },
  {
   "cell_type": "markdown",
   "id": "d573deba-194b-4967-954c-f725ab4283f1",
   "metadata": {},
   "source": [
    "<font color=\"blue\">\n",
    "    \n",
    "### 2.4.3. Risco relativo (RR) \n",
    "</font>"
   ]
  },
  {
   "cell_type": "markdown",
   "id": "8afa5c76-a2a5-4fa5-9edc-cf0b0225b76a",
   "metadata": {},
   "source": [
    "<font color=\"blue\">\n",
    "\n",
    "#### e) A intensidade da associação entre as duas variáveis recorrendo por um lado ao risco relativo e por outro analisando a sua discrepância para o odds rácio (OR). </font>\n"
   ]
  },
  {
   "cell_type": "code",
   "execution_count": 10,
   "id": "1ddc5c4d-ed3a-4236-8621-66b782cd5700",
   "metadata": {},
   "outputs": [
    {
     "data": {
      "text/html": [
       "<div>\n",
       "<style scoped>\n",
       "    .dataframe tbody tr th:only-of-type {\n",
       "        vertical-align: middle;\n",
       "    }\n",
       "\n",
       "    .dataframe tbody tr th {\n",
       "        vertical-align: top;\n",
       "    }\n",
       "\n",
       "    .dataframe thead th {\n",
       "        text-align: right;\n",
       "    }\n",
       "</style>\n",
       "<table border=\"1\" class=\"dataframe\">\n",
       "  <thead>\n",
       "    <tr style=\"text-align: right;\">\n",
       "      <th></th>\n",
       "      <th>Value</th>\n",
       "      <th>95% CI Lower</th>\n",
       "      <th>95% CI Upper</th>\n",
       "    </tr>\n",
       "  </thead>\n",
       "  <tbody>\n",
       "    <tr>\n",
       "      <th>Odds Ratio for Sexo (1. Mulher / 2. Homem)</th>\n",
       "      <td>5.357</td>\n",
       "      <td>4.604</td>\n",
       "      <td>6.233</td>\n",
       "    </tr>\n",
       "    <tr>\n",
       "      <th>RR (ou RP) for Comportamento = 1. Agressivo</th>\n",
       "      <td>2.329</td>\n",
       "      <td>2.145</td>\n",
       "      <td>2.527</td>\n",
       "    </tr>\n",
       "    <tr>\n",
       "      <th>RR (ou RP) for Comportamento = 2. Assertivo</th>\n",
       "      <td>0.435</td>\n",
       "      <td>0.401</td>\n",
       "      <td>0.471</td>\n",
       "    </tr>\n",
       "    <tr>\n",
       "      <th>N. of Valid Cases</th>\n",
       "      <td>3182</td>\n",
       "      <td></td>\n",
       "      <td></td>\n",
       "    </tr>\n",
       "  </tbody>\n",
       "</table>\n",
       "</div>"
      ],
      "text/plain": [
       "                                             Value 95% CI Lower 95% CI Upper\n",
       "Odds Ratio for Sexo (1. Mulher / 2. Homem)   5.357        4.604        6.233\n",
       "RR (ou RP) for Comportamento = 1. Agressivo  2.329        2.145        2.527\n",
       "RR (ou RP) for Comportamento = 2. Assertivo  0.435        0.401        0.471\n",
       "N. of Valid Cases                             3182                          "
      ]
     },
     "metadata": {},
     "output_type": "display_data"
    },
    {
     "name": "stdout",
     "output_type": "stream",
     "text": [
      "Discrepância = 1.301 e (θ * p21) = 1.599\n"
     ]
    }
   ],
   "source": [
    "calcular_odds_ratio_razao_risco_discrepancia(tabela_contingencia, print_results=True)"
   ]
  },
  {
   "cell_type": "code",
   "execution_count": null,
   "id": "752faf49-101e-40c3-aa64-7167e913cb3c",
   "metadata": {},
   "outputs": [],
   "source": []
  },
  {
   "cell_type": "code",
   "execution_count": null,
   "id": "9ae03b1a-4b79-4994-80b5-47880f5f7b0d",
   "metadata": {},
   "outputs": [],
   "source": []
  }
 ],
 "metadata": {
  "kernelspec": {
   "display_name": "Python 3 (ipykernel)",
   "language": "python",
   "name": "python3"
  },
  "language_info": {
   "codemirror_mode": {
    "name": "ipython",
    "version": 3
   },
   "file_extension": ".py",
   "mimetype": "text/x-python",
   "name": "python",
   "nbconvert_exporter": "python",
   "pygments_lexer": "ipython3",
   "version": "3.10.13"
  }
 },
 "nbformat": 4,
 "nbformat_minor": 5
}
