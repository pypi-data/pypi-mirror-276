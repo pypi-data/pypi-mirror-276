{
 "cells": [
  {
   "cell_type": "code",
   "execution_count": 1,
   "id": "13e0e2e2-df2c-4975-9efe-36f59a1c4724",
   "metadata": {},
   "outputs": [],
   "source": [
    "import angr"
   ]
  },
  {
   "cell_type": "code",
   "execution_count": 12,
   "id": "4ea0ba7e-9726-4187-b582-bf9bc777c3c0",
   "metadata": {},
   "outputs": [],
   "source": [
    "proj = angr.Project('test_programs/simple_branch/simpleBranch-pre')"
   ]
  },
  {
   "cell_type": "code",
   "execution_count": 13,
   "id": "159225d4-87bc-45aa-89e5-4ed56317e196",
   "metadata": {},
   "outputs": [],
   "source": [
    "class my_hook(angr.SimProcedure):\n",
    "    def run(self):\n",
    "        pass"
   ]
  },
  {
   "cell_type": "code",
   "execution_count": 14,
   "id": "30238e58-1382-4fa8-aac4-c10db59a6272",
   "metadata": {},
   "outputs": [
    {
     "data": {
      "text/plain": [
       "4198729"
      ]
     },
     "execution_count": 14,
     "metadata": {},
     "output_type": "execute_result"
    }
   ],
   "source": [
    "proj.hook_symbol('main', my_hook())"
   ]
  },
  {
   "cell_type": "code",
   "execution_count": 15,
   "id": "8fcdaedc-d3bf-459d-8fb7-493b80e576ad",
   "metadata": {},
   "outputs": [
    {
     "name": "stderr",
     "output_type": "stream",
     "text": [
      "WARNING  | 2024-03-28 13:22:55,196 | angr.analyses.cfg.cfg_base | \"auto_load_libs\" is enabled. With libraries loaded in project, CFG will cover libraries, which may take significantly more time than expected. You may reload the binary with \"auto_load_libs\" disabled, or specify \"regions\" to limit the scope of CFG recovery.\n"
     ]
    },
    {
     "ename": "AttributeError",
     "evalue": "'NoneType' object has no attribute 'addr'",
     "output_type": "error",
     "traceback": [
      "\u001b[0;31m---------------------------------------------------------------------------\u001b[0m",
      "\u001b[0;31mAttributeError\u001b[0m                            Traceback (most recent call last)",
      "Cell \u001b[0;32mIn[15], line 1\u001b[0m\n\u001b[0;32m----> 1\u001b[0m \u001b[43mproj\u001b[49m\u001b[38;5;241;43m.\u001b[39;49m\u001b[43manalyses\u001b[49m\u001b[38;5;241;43m.\u001b[39;49m\u001b[43mCFGFast\u001b[49m\u001b[43m(\u001b[49m\u001b[43m)\u001b[49m\n",
      "File \u001b[0;32m~/Documents/vibesproject/VIBES-internal/experiments/cozy/venv/lib/python3.11/site-packages/angr/analyses/analysis.py:216\u001b[0m, in \u001b[0;36mAnalysisFactory.__call__\u001b[0;34m(self, *args, **kwargs)\u001b[0m\n\u001b[1;32m    210\u001b[0m show_progressbar \u001b[38;5;241m=\u001b[39m kwargs\u001b[38;5;241m.\u001b[39mpop(\u001b[38;5;124m\"\u001b[39m\u001b[38;5;124mshow_progressbar\u001b[39m\u001b[38;5;124m\"\u001b[39m, \u001b[38;5;28;01mFalse\u001b[39;00m)\n\u001b[1;32m    212\u001b[0m w \u001b[38;5;241m=\u001b[39m \u001b[38;5;28mself\u001b[39m\u001b[38;5;241m.\u001b[39mprep(\n\u001b[1;32m    213\u001b[0m     fail_fast\u001b[38;5;241m=\u001b[39mfail_fast, kb\u001b[38;5;241m=\u001b[39mkb, progress_callback\u001b[38;5;241m=\u001b[39mprogress_callback, show_progressbar\u001b[38;5;241m=\u001b[39mshow_progressbar\n\u001b[1;32m    214\u001b[0m )\n\u001b[0;32m--> 216\u001b[0m r \u001b[38;5;241m=\u001b[39m \u001b[43mw\u001b[49m\u001b[43m(\u001b[49m\u001b[38;5;241;43m*\u001b[39;49m\u001b[43margs\u001b[49m\u001b[43m,\u001b[49m\u001b[43m \u001b[49m\u001b[38;5;241;43m*\u001b[39;49m\u001b[38;5;241;43m*\u001b[39;49m\u001b[43mkwargs\u001b[49m\u001b[43m)\u001b[49m\n\u001b[1;32m    217\u001b[0m \u001b[38;5;66;03m# clean up so that it's always pickleable\u001b[39;00m\n\u001b[1;32m    218\u001b[0m r\u001b[38;5;241m.\u001b[39m_progressbar \u001b[38;5;241m=\u001b[39m \u001b[38;5;28;01mNone\u001b[39;00m\n",
      "File \u001b[0;32m~/Documents/vibesproject/VIBES-internal/experiments/cozy/venv/lib/python3.11/site-packages/angr/analyses/analysis.py:201\u001b[0m, in \u001b[0;36mAnalysisFactory.prep.<locals>.wrapper\u001b[0;34m(*args, **kwargs)\u001b[0m\n\u001b[1;32m    198\u001b[0m oself\u001b[38;5;241m.\u001b[39m_progress_callback \u001b[38;5;241m=\u001b[39m progress_callback\n\u001b[1;32m    200\u001b[0m oself\u001b[38;5;241m.\u001b[39m_show_progressbar \u001b[38;5;241m=\u001b[39m show_progressbar\n\u001b[0;32m--> 201\u001b[0m \u001b[43moself\u001b[49m\u001b[38;5;241;43m.\u001b[39;49m\u001b[38;5;21;43m__init__\u001b[39;49m\u001b[43m(\u001b[49m\u001b[38;5;241;43m*\u001b[39;49m\u001b[43margs\u001b[49m\u001b[43m,\u001b[49m\u001b[43m \u001b[49m\u001b[38;5;241;43m*\u001b[39;49m\u001b[38;5;241;43m*\u001b[39;49m\u001b[43mkwargs\u001b[49m\u001b[43m)\u001b[49m\n\u001b[1;32m    202\u001b[0m \u001b[38;5;28;01mreturn\u001b[39;00m oself\n",
      "File \u001b[0;32m~/Documents/vibesproject/VIBES-internal/experiments/cozy/venv/lib/python3.11/site-packages/angr/analyses/cfg/cfg_fast.py:844\u001b[0m, in \u001b[0;36mCFGFast.__init__\u001b[0;34m(self, binary, objects, regions, pickle_intermediate_results, symbols, function_prologues, resolve_indirect_jumps, force_segment, force_smart_scan, force_complete_scan, indirect_jump_target_limit, data_references, cross_references, normalize, start_at_entry, function_starts, extra_memory_regions, data_type_guessing_handlers, arch_options, indirect_jump_resolvers, base_state, exclude_sparse_regions, skip_specific_regions, heuristic_plt_resolving, detect_tail_calls, low_priority, cfb, model, elf_eh_frame, exceptions, skip_unmapped_addrs, nodecode_window_size, nodecode_threshold, nodecode_step, indirect_calls_always_return, jumptable_resolver_resolves_calls, start, end, collect_data_references, extra_cross_references, **extra_arch_options)\u001b[0m\n\u001b[1;32m    835\u001b[0m \u001b[38;5;28mself\u001b[39m\u001b[38;5;241m.\u001b[39m_decoding_assumption_relations \u001b[38;5;241m=\u001b[39m \u001b[38;5;28;01mNone\u001b[39;00m\n\u001b[1;32m    837\u001b[0m \u001b[38;5;66;03m# A mapping between address and the actual data in memory\u001b[39;00m\n\u001b[1;32m    838\u001b[0m \u001b[38;5;66;03m# self._memory_data = { }\u001b[39;00m\n\u001b[1;32m    839\u001b[0m \u001b[38;5;66;03m# A mapping between address of the instruction that's referencing the memory data and the memory data itself\u001b[39;00m\n\u001b[0;32m   (...)\u001b[0m\n\u001b[1;32m    842\u001b[0m \n\u001b[1;32m    843\u001b[0m \u001b[38;5;66;03m# Start working!\u001b[39;00m\n\u001b[0;32m--> 844\u001b[0m \u001b[38;5;28;43mself\u001b[39;49m\u001b[38;5;241;43m.\u001b[39;49m\u001b[43m_analyze\u001b[49m\u001b[43m(\u001b[49m\u001b[43m)\u001b[49m\n",
      "File \u001b[0;32m~/Documents/vibesproject/VIBES-internal/experiments/cozy/venv/lib/python3.11/site-packages/angr/analyses/forward_analysis/forward_analysis.py:247\u001b[0m, in \u001b[0;36mForwardAnalysis._analyze\u001b[0;34m(self)\u001b[0m\n\u001b[1;32m    240\u001b[0m \u001b[38;5;28mself\u001b[39m\u001b[38;5;241m.\u001b[39m_pre_analysis()\n\u001b[1;32m    242\u001b[0m \u001b[38;5;28;01mif\u001b[39;00m \u001b[38;5;28mself\u001b[39m\u001b[38;5;241m.\u001b[39m_graph_visitor \u001b[38;5;129;01mis\u001b[39;00m \u001b[38;5;28;01mNone\u001b[39;00m:\n\u001b[1;32m    243\u001b[0m     \u001b[38;5;66;03m# There is no base graph that we can rely on. The analysis itself should generate successors for the\u001b[39;00m\n\u001b[1;32m    244\u001b[0m     \u001b[38;5;66;03m# current job.\u001b[39;00m\n\u001b[1;32m    245\u001b[0m     \u001b[38;5;66;03m# An example is the CFG recovery.\u001b[39;00m\n\u001b[0;32m--> 247\u001b[0m     \u001b[38;5;28;43mself\u001b[39;49m\u001b[38;5;241;43m.\u001b[39;49m\u001b[43m_analysis_core_baremetal\u001b[49m\u001b[43m(\u001b[49m\u001b[43m)\u001b[49m\n\u001b[1;32m    249\u001b[0m \u001b[38;5;28;01melse\u001b[39;00m:\n\u001b[1;32m    250\u001b[0m     \u001b[38;5;66;03m# We have a base graph to follow. Just handle the current job.\u001b[39;00m\n\u001b[1;32m    252\u001b[0m     \u001b[38;5;28mself\u001b[39m\u001b[38;5;241m.\u001b[39m_analysis_core_graph()\n",
      "File \u001b[0;32m~/Documents/vibesproject/VIBES-internal/experiments/cozy/venv/lib/python3.11/site-packages/angr/analyses/forward_analysis/forward_analysis.py:390\u001b[0m, in \u001b[0;36mForwardAnalysis._analysis_core_baremetal\u001b[0;34m(self)\u001b[0m\n\u001b[1;32m    387\u001b[0m \u001b[38;5;28mself\u001b[39m\u001b[38;5;241m.\u001b[39m_job_map\u001b[38;5;241m.\u001b[39mpop(\u001b[38;5;28mself\u001b[39m\u001b[38;5;241m.\u001b[39m_job_key(job_info\u001b[38;5;241m.\u001b[39mjob), \u001b[38;5;28;01mNone\u001b[39;00m)\n\u001b[1;32m    388\u001b[0m \u001b[38;5;28mself\u001b[39m\u001b[38;5;241m.\u001b[39m_job_info_queue\u001b[38;5;241m.\u001b[39mpop(\u001b[38;5;241m0\u001b[39m)\n\u001b[0;32m--> 390\u001b[0m \u001b[38;5;28;43mself\u001b[39;49m\u001b[38;5;241;43m.\u001b[39;49m\u001b[43m_process_job_and_get_successors\u001b[49m\u001b[43m(\u001b[49m\u001b[43mjob_info\u001b[49m\u001b[43m)\u001b[49m\n\u001b[1;32m    392\u001b[0m \u001b[38;5;66;03m# Short-cut for aborting the analysis\u001b[39;00m\n\u001b[1;32m    393\u001b[0m \u001b[38;5;28;01mif\u001b[39;00m \u001b[38;5;28mself\u001b[39m\u001b[38;5;241m.\u001b[39mshould_abort:\n",
      "File \u001b[0;32m~/Documents/vibesproject/VIBES-internal/experiments/cozy/venv/lib/python3.11/site-packages/angr/analyses/forward_analysis/forward_analysis.py:408\u001b[0m, in \u001b[0;36mForwardAnalysis._process_job_and_get_successors\u001b[0;34m(self, job_info)\u001b[0m\n\u001b[1;32m    399\u001b[0m \u001b[38;5;250m\u001b[39m\u001b[38;5;124;03m\"\"\"\u001b[39;00m\n\u001b[1;32m    400\u001b[0m \u001b[38;5;124;03mProcess a job, get all successors of this job, and call _handle_successor() to handle each successor.\u001b[39;00m\n\u001b[1;32m    401\u001b[0m \n\u001b[1;32m    402\u001b[0m \u001b[38;5;124;03m:param JobInfo job_info: The JobInfo instance\u001b[39;00m\n\u001b[1;32m    403\u001b[0m \u001b[38;5;124;03m:return: None\u001b[39;00m\n\u001b[1;32m    404\u001b[0m \u001b[38;5;124;03m\"\"\"\u001b[39;00m\n\u001b[1;32m    406\u001b[0m job \u001b[38;5;241m=\u001b[39m job_info\u001b[38;5;241m.\u001b[39mjob\n\u001b[0;32m--> 408\u001b[0m successors \u001b[38;5;241m=\u001b[39m \u001b[38;5;28;43mself\u001b[39;49m\u001b[38;5;241;43m.\u001b[39;49m\u001b[43m_get_successors\u001b[49m\u001b[43m(\u001b[49m\u001b[43mjob\u001b[49m\u001b[43m)\u001b[49m\n\u001b[1;32m    410\u001b[0m all_new_jobs \u001b[38;5;241m=\u001b[39m []\n\u001b[1;32m    412\u001b[0m \u001b[38;5;28;01mfor\u001b[39;00m successor \u001b[38;5;129;01min\u001b[39;00m successors:\n",
      "File \u001b[0;32m~/Documents/vibesproject/VIBES-internal/experiments/cozy/venv/lib/python3.11/site-packages/angr/analyses/cfg/cfg_fast.py:1341\u001b[0m, in \u001b[0;36mCFGFast._get_successors\u001b[0;34m(self, job)\u001b[0m\n\u001b[1;32m   1332\u001b[0m \u001b[38;5;28;01mdef\u001b[39;00m \u001b[38;5;21m_get_successors\u001b[39m(\u001b[38;5;28mself\u001b[39m, job: CFGJob) \u001b[38;5;241m-\u001b[39m\u001b[38;5;241m>\u001b[39m List[CFGJob]:  \u001b[38;5;66;03m# type: ignore[override] # pylint:disable=arguments-differ\u001b[39;00m\n\u001b[1;32m   1333\u001b[0m     \u001b[38;5;66;03m# current_function_addr = job.func_addr\u001b[39;00m\n\u001b[1;32m   1334\u001b[0m     \u001b[38;5;66;03m# addr = job.addr\u001b[39;00m\n\u001b[0;32m   (...)\u001b[0m\n\u001b[1;32m   1338\u001b[0m     \u001b[38;5;66;03m# else:\u001b[39;00m\n\u001b[1;32m   1339\u001b[0m     \u001b[38;5;66;03m#    l.debug(\"Tracing new exit %#x\", addr)\u001b[39;00m\n\u001b[0;32m-> 1341\u001b[0m     jobs \u001b[38;5;241m=\u001b[39m \u001b[38;5;28;43mself\u001b[39;49m\u001b[38;5;241;43m.\u001b[39;49m\u001b[43m_scan_block\u001b[49m\u001b[43m(\u001b[49m\u001b[43mjob\u001b[49m\u001b[43m)\u001b[49m\n\u001b[1;32m   1343\u001b[0m     \u001b[38;5;66;03m# l.debug(\"... got %d jobs: %s\", len(jobs), jobs)\u001b[39;00m\n\u001b[1;32m   1345\u001b[0m     job_: CFGJob\n",
      "File \u001b[0;32m~/Documents/vibesproject/VIBES-internal/experiments/cozy/venv/lib/python3.11/site-packages/angr/analyses/cfg/cfg_fast.py:1885\u001b[0m, in \u001b[0;36mCFGFast._scan_block\u001b[0;34m(self, cfg_job)\u001b[0m\n\u001b[1;32m   1882\u001b[0m     current_func_addr \u001b[38;5;241m=\u001b[39m addr\n\u001b[1;32m   1884\u001b[0m \u001b[38;5;28;01mif\u001b[39;00m \u001b[38;5;28mself\u001b[39m\u001b[38;5;241m.\u001b[39m_addr_hooked_or_syscall(addr):\n\u001b[0;32m-> 1885\u001b[0m     entries \u001b[38;5;241m=\u001b[39m \u001b[38;5;28;43mself\u001b[39;49m\u001b[38;5;241;43m.\u001b[39;49m\u001b[43m_scan_procedure\u001b[49m\u001b[43m(\u001b[49m\u001b[43mcfg_job\u001b[49m\u001b[43m,\u001b[49m\u001b[43m \u001b[49m\u001b[43mcurrent_func_addr\u001b[49m\u001b[43m)\u001b[49m\n\u001b[1;32m   1887\u001b[0m \u001b[38;5;28;01melse\u001b[39;00m:\n\u001b[1;32m   1888\u001b[0m     entries \u001b[38;5;241m=\u001b[39m \u001b[38;5;28mself\u001b[39m\u001b[38;5;241m.\u001b[39m_scan_irsb(cfg_job, current_func_addr)\n",
      "File \u001b[0;32m~/Documents/vibesproject/VIBES-internal/experiments/cozy/venv/lib/python3.11/site-packages/angr/analyses/cfg/cfg_fast.py:1951\u001b[0m, in \u001b[0;36mCFGFast._scan_procedure\u001b[0;34m(self, cfg_job, current_func_addr)\u001b[0m\n\u001b[1;32m   1946\u001b[0m     \u001b[38;5;28mself\u001b[39m\u001b[38;5;241m.\u001b[39m_traced_addresses\u001b[38;5;241m.\u001b[39madd(addr)\n\u001b[1;32m   1948\u001b[0m entries: List[CFGJob] \u001b[38;5;241m=\u001b[39m []\n\u001b[1;32m   1950\u001b[0m \u001b[38;5;28;01mif\u001b[39;00m (\n\u001b[0;32m-> 1951\u001b[0m     \u001b[38;5;28mself\u001b[39m\u001b[38;5;241m.\u001b[39mfunctions\u001b[38;5;241m.\u001b[39mcontains_addr(\u001b[43mcfg_job\u001b[49m\u001b[38;5;241;43m.\u001b[39;49m\u001b[43msrc_node\u001b[49m\u001b[38;5;241;43m.\u001b[39;49m\u001b[43maddr\u001b[49m)\n\u001b[1;32m   1952\u001b[0m     \u001b[38;5;129;01mand\u001b[39;00m \u001b[38;5;28mself\u001b[39m\u001b[38;5;241m.\u001b[39mfunctions[cfg_job\u001b[38;5;241m.\u001b[39msrc_node\u001b[38;5;241m.\u001b[39maddr]\u001b[38;5;241m.\u001b[39mis_default_name\n\u001b[1;32m   1953\u001b[0m     \u001b[38;5;129;01mand\u001b[39;00m cfg_job\u001b[38;5;241m.\u001b[39msrc_node\u001b[38;5;241m.\u001b[39maddr \u001b[38;5;129;01mnot\u001b[39;00m \u001b[38;5;129;01min\u001b[39;00m \u001b[38;5;28mself\u001b[39m\u001b[38;5;241m.\u001b[39mkb\u001b[38;5;241m.\u001b[39mlabels\n\u001b[1;32m   1954\u001b[0m     \u001b[38;5;129;01mand\u001b[39;00m cfg_job\u001b[38;5;241m.\u001b[39mjumpkind \u001b[38;5;241m==\u001b[39m \u001b[38;5;124m\"\u001b[39m\u001b[38;5;124mIjk_Boring\u001b[39m\u001b[38;5;124m\"\u001b[39m\n\u001b[1;32m   1955\u001b[0m ):\n\u001b[1;32m   1956\u001b[0m     \u001b[38;5;66;03m# assign a name to the caller function that jumps to this procedure\u001b[39;00m\n\u001b[1;32m   1957\u001b[0m     \u001b[38;5;28mself\u001b[39m\u001b[38;5;241m.\u001b[39mfunctions[cfg_job\u001b[38;5;241m.\u001b[39msrc_node\u001b[38;5;241m.\u001b[39maddr]\u001b[38;5;241m.\u001b[39mname \u001b[38;5;241m=\u001b[39m procedure\u001b[38;5;241m.\u001b[39mdisplay_name\n\u001b[1;32m   1959\u001b[0m \u001b[38;5;28;01mif\u001b[39;00m procedure\u001b[38;5;241m.\u001b[39mADDS_EXITS:\n\u001b[1;32m   1960\u001b[0m     \u001b[38;5;66;03m# Get two blocks ahead\u001b[39;00m\n",
      "\u001b[0;31mAttributeError\u001b[0m: 'NoneType' object has no attribute 'addr'"
     ]
    }
   ],
   "source": [
    "proj.analyses.CFGFast()"
   ]
  },
  {
   "cell_type": "code",
   "execution_count": null,
   "id": "0c0a5452-7b13-4c3a-8a58-c23d7884ef29",
   "metadata": {},
   "outputs": [],
   "source": []
  }
 ],
 "metadata": {
  "kernelspec": {
   "display_name": "Python 3 (ipykernel)",
   "language": "python",
   "name": "python3"
  },
  "language_info": {
   "codemirror_mode": {
    "name": "ipython",
    "version": 3
   },
   "file_extension": ".py",
   "mimetype": "text/x-python",
   "name": "python",
   "nbconvert_exporter": "python",
   "pygments_lexer": "ipython3",
   "version": "3.11.6"
  }
 },
 "nbformat": 4,
 "nbformat_minor": 5
}
