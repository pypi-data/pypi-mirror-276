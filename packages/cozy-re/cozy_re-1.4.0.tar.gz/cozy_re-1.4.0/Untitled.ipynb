{
 "cells": [
  {
   "cell_type": "code",
   "execution_count": 17,
   "id": "d401a083-df35-4033-804b-e1b07974ae15",
   "metadata": {},
   "outputs": [],
   "source": [
    "def ldistance(lst_a, lst_b):\n",
    "    if len(lst_a) == 0:\n",
    "        score = len(lst_b)\n",
    "        aligned = list(zip([None] * len(lst_b), lst_b))\n",
    "        return (score, aligned)\n",
    "    elif len(lst_b) == 0:\n",
    "        score = len(lst_a)\n",
    "        aligned = list(zip(lst_a, [None] * len(lst_a)))\n",
    "        return (score, aligned)\n",
    "    elif lst_a[0] == lst_b[0]:\n",
    "        (score, rec) = ldistance(lst_a[1:], lst_b[1:])\n",
    "        return (score, [(lst_a[0], lst_b[0])] + rec)\n",
    "    else:\n",
    "        (rec_score_1, rec_1) = ldistance(lst_a, lst_b[1:])\n",
    "        score_1 = 1 + rec_score_1\n",
    "        (rec_score_2, rec_2) = ldistance(lst_a[1:], lst_b)\n",
    "        score_2 = 1 + rec_score_2\n",
    "        if score_1 <= score_2:\n",
    "            score = score_1\n",
    "            aligned = [(None, lst_b[0])] + rec_1\n",
    "            return (score, aligned)\n",
    "        else:\n",
    "            score = score_2\n",
    "            aligned = [(lst_a[0], None)] + rec_2\n",
    "            return (score, aligned)\n",
    "    "
   ]
  },
  {
   "cell_type": "code",
   "execution_count": 5,
   "id": "ce17deb1-f16c-4d5c-a93b-be7ee12c7d06",
   "metadata": {},
   "outputs": [
    {
     "data": {
      "text/plain": [
       "2"
      ]
     },
     "execution_count": 5,
     "metadata": {},
     "output_type": "execute_result"
    }
   ],
   "source": [
    "ldistance(['hello','foo','world'],['hello','bar','world'])"
   ]
  },
  {
   "cell_type": "code",
   "execution_count": 4,
   "id": "06a02e1e-4175-4ce6-ab0f-b58f99d8a71d",
   "metadata": {},
   "outputs": [
    {
     "data": {
      "text/plain": [
       "0"
      ]
     },
     "execution_count": 4,
     "metadata": {},
     "output_type": "execute_result"
    }
   ],
   "source": [
    "ldistance(['hello','world'],['hello','world'])"
   ]
  },
  {
   "cell_type": "code",
   "execution_count": 20,
   "id": "099595ea-ce56-483c-be72-3e0ad6edc9d3",
   "metadata": {},
   "outputs": [
    {
     "data": {
      "text/plain": [
       "(2,\n",
       " [('hello', 'hello'),\n",
       "  ('foo', None),\n",
       "  ('bar', 'bar'),\n",
       "  ('baz', None),\n",
       "  ('world', 'world')])"
      ]
     },
     "execution_count": 20,
     "metadata": {},
     "output_type": "execute_result"
    }
   ],
   "source": [
    "ldistance(['hello','foo','bar','baz','world'],['hello','bar','world'])"
   ]
  },
  {
   "cell_type": "code",
   "execution_count": 10,
   "id": "9d79104e-61b9-4eb3-a701-4238e9113d8d",
   "metadata": {},
   "outputs": [
    {
     "data": {
      "text/plain": [
       "(2, [(None, 'foo'), (None, 'bar')])"
      ]
     },
     "execution_count": 10,
     "metadata": {},
     "output_type": "execute_result"
    }
   ],
   "source": [
    "ldistance([], ['foo','bar'])"
   ]
  },
  {
   "cell_type": "code",
   "execution_count": 96,
   "id": "55857367-15b0-41f1-8b7f-0a0b83d9d593",
   "metadata": {},
   "outputs": [],
   "source": [
    "def levenshtein_alignment(lst_a, lst_b, key=None):\n",
    "    # Create the memoization table\n",
    "    table = [[None for j in range(len(lst_b) + 1)] for i in range(len(lst_a) + 1)]\n",
    "    \n",
    "    def rec_ldistance(idx_a, idx_b):\n",
    "        nonlocal table\n",
    "        if table[idx_a][idx_b] is not None:\n",
    "            # Check if we've already memoized\n",
    "            return table[idx_a][idx_b]\n",
    "        else:\n",
    "            len_a = len(lst_a) - idx_a\n",
    "            len_b = len(lst_b) - idx_b\n",
    "            if len_a == 0:\n",
    "                score = len_b\n",
    "                aligned = list(zip([None] * len_b, lst_b[idx_b:]))\n",
    "                ret = (score, aligned)\n",
    "            elif len_b == 0:\n",
    "                score = len_a\n",
    "                aligned = list(zip(lst_a[idx_a:], [None] * len_b))\n",
    "                ret = (score, aligned)\n",
    "            elif ((key is None and lst_a[idx_a] == lst_b[idx_b]) or\n",
    "                  (key is not None and key(lst_a[idx_a]) == key(lst_b[idx_b]))):\n",
    "                (score, rec) = rec_ldistance(idx_a + 1, idx_b + 1)\n",
    "                ret = (score, [(lst_a[idx_a], lst_b[idx_b])] + rec)\n",
    "            else:\n",
    "                (rec_score_1, rec_1) = rec_ldistance(idx_a, idx_b + 1)\n",
    "                score_1 = 1 + rec_score_1\n",
    "                (rec_score_2, rec_2) = rec_ldistance(idx_a + 1, idx_b)\n",
    "                score_2 = 1 + rec_score_2\n",
    "                (rec_score_3, rec_3) = rec_ldistance(idx_a + 1, idx_b + 1)\n",
    "                score_3 = 1 + rec_score_3\n",
    "                def argmin(a):\n",
    "                    return min(range(len(a)), key=lambda x : a[x])\n",
    "                min_choice = argmin([score_1, score_2, score_3])\n",
    "                if min_choice == 0:\n",
    "                    score = score_1\n",
    "                    aligned = [(None, lst_b[idx_b])] + rec_1\n",
    "                    ret = (score, aligned)\n",
    "                elif min_choice == 1:\n",
    "                    score = score_2\n",
    "                    aligned = [(lst_a[idx_a], None)] + rec_2\n",
    "                    ret = (score, aligned)\n",
    "                elif min_choice == 2:\n",
    "                    score = score_3\n",
    "                    aligned = [(lst_a[idx_a], None), (None, lst_b[idx_b])] + rec_3\n",
    "                    ret = (score, aligned)\n",
    "            # Save into the memoization table\n",
    "            table[idx_a][idx_b] = ret\n",
    "            return ret\n",
    "\n",
    "    (score, alignment) = rec_ldistance(0, 0)\n",
    "    return alignment"
   ]
  },
  {
   "cell_type": "code",
   "execution_count": 97,
   "id": "95d79ea5-4e64-4616-a067-7753060d933e",
   "metadata": {},
   "outputs": [
    {
     "data": {
      "text/plain": [
       "[('hello', 'hello'),\n",
       " ('foo', None),\n",
       " ('qux', None),\n",
       " ('bar', 'bar'),\n",
       " ('baz', None),\n",
       " (None, 'gotcha'),\n",
       " ('world', 'world')]"
      ]
     },
     "execution_count": 97,
     "metadata": {},
     "output_type": "execute_result"
    }
   ],
   "source": [
    "levenshtein_alignment(['hello','foo','qux','bar','baz','world'],['hello','bar','gotcha','world'])"
   ]
  },
  {
   "cell_type": "code",
   "execution_count": 98,
   "id": "7d50949b-2864-43ec-84e4-27ede74df08c",
   "metadata": {},
   "outputs": [],
   "source": [
    "def test_levenshtein_alignment():\n",
    "    alignment = levenshtein_alignment(['hello', 'foo', 'qux', 'bar', 'baz', 'world'], ['hello', 'bar', 'gotcha', 'world'])\n",
    "    assert(alignment[0] == ('hello', 'hello'))\n",
    "    assert(alignment[1] == ('foo', None))\n",
    "    assert(alignment[2] == ('qux', None))\n",
    "    assert(alignment[3] == ('bar', 'bar'))\n",
    "    assert(alignment[4] == ('baz', None))\n",
    "    assert(alignment[5] == (None, 'gotcha'))\n",
    "    assert(alignment[6] == ('world', 'world'))\n",
    "\n",
    "    alignment = levenshtein_alignment(['hello', 'hello', 'hello', 'world'], ['foo', 'foo', 'foo', 'world'])\n",
    "    assert(len(alignment) == 7)"
   ]
  },
  {
   "cell_type": "code",
   "execution_count": 99,
   "id": "cc2c6c8d-817d-4211-9aff-4d2cfb23b66c",
   "metadata": {},
   "outputs": [],
   "source": [
    "test_levenshtein_alignment()"
   ]
  },
  {
   "cell_type": "code",
   "execution_count": 100,
   "id": "cef18528-6a49-4dc6-ad03-ea777b60d68f",
   "metadata": {},
   "outputs": [
    {
     "data": {
      "text/plain": [
       "[(None, 'world'),\n",
       " ('hello', None),\n",
       " (None, 'world'),\n",
       " ('hello', None),\n",
       " (None, 'world'),\n",
       " ('hello', 'hello')]"
      ]
     },
     "execution_count": 100,
     "metadata": {},
     "output_type": "execute_result"
    }
   ],
   "source": [
    "levenshtein_alignment(['hello','hello','hello'],['world','world','world','hello'])"
   ]
  },
  {
   "cell_type": "code",
   "execution_count": 101,
   "id": "20c3872d-f880-48b6-8d16-f3a379301242",
   "metadata": {},
   "outputs": [
    {
     "data": {
      "text/plain": [
       "1"
      ]
     },
     "execution_count": 101,
     "metadata": {},
     "output_type": "execute_result"
    }
   ],
   "source": [
    "def argmin(a):\n",
    "    return min(range(len(a)), key=lambda x : a[x])\n",
    "\n",
    "argmin([9,6,7])"
   ]
  },
  {
   "cell_type": "raw",
   "id": "e0226324-2b64-4129-8a93-8b52bbf1ac68",
   "metadata": {},
   "source": []
  },
  {
   "cell_type": "code",
   "execution_count": null,
   "id": "37db0bc3-75cd-413b-bd5e-04a87dd00a83",
   "metadata": {},
   "outputs": [],
   "source": []
  }
 ],
 "metadata": {
  "kernelspec": {
   "display_name": "Python 3 (ipykernel)",
   "language": "python",
   "name": "python3"
  },
  "language_info": {
   "codemirror_mode": {
    "name": "ipython",
    "version": 3
   },
   "file_extension": ".py",
   "mimetype": "text/x-python",
   "name": "python",
   "nbconvert_exporter": "python",
   "pygments_lexer": "ipython3",
   "version": "3.11.6"
  }
 },
 "nbformat": 4,
 "nbformat_minor": 5
}
