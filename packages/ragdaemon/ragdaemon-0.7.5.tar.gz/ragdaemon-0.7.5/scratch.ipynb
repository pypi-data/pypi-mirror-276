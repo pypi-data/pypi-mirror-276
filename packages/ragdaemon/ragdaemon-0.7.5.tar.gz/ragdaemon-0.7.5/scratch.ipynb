{
 "cells": [
  {
   "cell_type": "code",
   "execution_count": 1,
   "metadata": {},
   "outputs": [
    {
     "name": "stdout",
     "output_type": "stream",
     "text": [
      "Initialized empty graph.\n",
      "Initializing annotators: ['hierarchy', 'chunker', 'diff']...\n"
     ]
    },
    {
     "name": "stderr",
     "output_type": "stream",
     "text": [
      "Chunking files...: 100%|██████████| 55/55 [00:02<00:00, 18.68it/s]"
     ]
    },
    {
     "name": "stdout",
     "output_type": "stream",
     "text": [
      "Saved updated graph to /Users/granthawkins/.mentat/ragdaemon/ragdaemon-ragdaemon.json\n"
     ]
    },
    {
     "name": "stderr",
     "output_type": "stream",
     "text": [
      "\n"
     ]
    }
   ],
   "source": [
    "from pathlib import Path\n",
    "from ragdaemon.daemon import Daemon\n",
    "\n",
    "annotators = {\n",
    "    \"hierarchy\": {},\n",
    "    \"chunker\": {},\n",
    "    # \"call_graph\": {},\n",
    "    # \"summarizer\": {},\n",
    "    \"diff\": {},\n",
    "}\n",
    "\n",
    "# sample_dir = Path.home() / \"butler\" / \"benchmark\" / \"swe_benchmarks\" / \"repos\" / \"sympy__sympy-23262\"\n",
    "sample_dir = Path.cwd()\n",
    "daemon = Daemon(\n",
    "    cwd=sample_dir, \n",
    "    annotators=annotators, \n",
    "    verbose=2\n",
    ")\n",
    "await daemon.update()"
   ]
  },
  {
   "cell_type": "code",
   "execution_count": 5,
   "metadata": {},
   "outputs": [
    {
     "name": "stdout",
     "output_type": "stream",
     "text": [
      "Script: print([node for node in graph.nodes if \"embedding\" in node.lower()])\n",
      "--------------------------------------------------------------------------------\n",
      "Output: ['ragdaemon/database/chroma_database.py:ChromaDB.__init__.SpiceEmbeddingFunction', 'ragdaemon/database/chroma_database.py:ChromaDB.__init__.SpiceEmbeddingFunction.__call__']\n",
      "\n",
      "Script: print(graph.nodes[\"ragdaemon/database/chroma_database.py:ChromaDB.__init__.SpiceEmbeddingFunction.__call__\"][\"document\"])\n",
      "--------------------------------------------------------------------------------\n",
      "Output: ragdaemon/database/chroma_database.py:67-83\n",
      "            def __call__(self, input_texts: Embeddable) -> Embeddings:\n",
      "                if not all(isinstance(item, str) for item in input_texts):\n",
      "                    raise RagdaemonError(\"SpiceEmbeddings only enabled for text files.\")\n",
      "                input_texts = cast(list[str], input_texts)\n",
      "                # Embed in batches\n",
      "                n_batches = (len(input_texts) - 1) // MAX_INPUTS_PER_CALL + 1\n",
      "                output: Embeddings = []\n",
      "                for batch in range(n_batches):\n",
      "                    start = batch * MAX_INPUTS_PER_CALL\n",
      "                    end = min((batch + 1) * MAX_INPUTS_PER_CALL, len(input_texts))\n",
      "                    embeddings = spice_client.get_embeddings_sync(\n",
      "                        input_texts=input_texts[start:end],\n",
      "                        model=embedding_model,\n",
      "                        provider=embedding_provider,\n",
      "                    ).embeddings\n",
      "                    output.extend(embeddings)\n",
      "                return output\n",
      "\n",
      "\n",
      "Total cost: 1.8615000000000004\n"
     ]
    }
   ],
   "source": [
    "ans = await daemon.answer(\"where do I store embeddings?\")"
   ]
  },
  {
   "cell_type": "code",
   "execution_count": 6,
   "metadata": {},
   "outputs": [
    {
     "name": "stdout",
     "output_type": "stream",
     "text": [
      "Embeddings appear to be managed by the `SpiceEmbeddingFunction` class in the `ChromaDB` initialization method in `ragdaemon/database/chroma_database.py`. The embeddings are retrieved in batches using the `spice_client.get_embeddings_sync` method and the `__call__` method actually processes the input texts and returns their embeddings.\n",
      "\n"
     ]
    }
   ],
   "source": [
    "print(ans)"
   ]
  },
  {
   "cell_type": "code",
   "execution_count": null,
   "metadata": {},
   "outputs": [],
   "source": []
  }
 ],
 "metadata": {
  "kernelspec": {
   "display_name": ".venv",
   "language": "python",
   "name": "python3"
  },
  "language_info": {
   "codemirror_mode": {
    "name": "ipython",
    "version": 3
   },
   "file_extension": ".py",
   "mimetype": "text/x-python",
   "name": "python",
   "nbconvert_exporter": "python",
   "pygments_lexer": "ipython3",
   "version": "3.11.7"
  }
 },
 "nbformat": 4,
 "nbformat_minor": 2
}
