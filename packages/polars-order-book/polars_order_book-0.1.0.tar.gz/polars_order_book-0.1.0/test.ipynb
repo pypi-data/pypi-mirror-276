{
 "cells": [
  {
   "cell_type": "code",
   "execution_count": 1,
   "metadata": {},
   "outputs": [],
   "source": [
    "import polars as pl\n",
    "from polars_order_book import calculate_bbo"
   ]
  },
  {
   "cell_type": "code",
   "execution_count": 2,
   "metadata": {},
   "outputs": [],
   "source": [
    "n = 10_000_000\n",
    "market_data = pl.DataFrame({\n",
    "    'price': [1, 2, 3, 6, 5, 4, 3, 1, 2, 5, 4, 6] * n,\n",
    "    'qty':   [1, 2, 3, 6, 5, 4, -3, -1, -2, -5, -4, -6] * n,\n",
    "    'is_bid': [True, True, True, False, False, False, True, True, True, False, False, False] * n\n",
    "}, schema={\n",
    "    'price': pl.Int64,\n",
    "    'qty': pl.Int64,\n",
    "    'is_bid': pl.Boolean\n",
    "})"
   ]
  },
  {
   "cell_type": "code",
   "execution_count": 3,
   "metadata": {},
   "outputs": [
    {
     "name": "stdout",
     "output_type": "stream",
     "text": [
      "44.8 s ± 119 ms per loop (mean ± std. dev. of 7 runs, 1 loop each)\n"
     ]
    }
   ],
   "source": [
    "%%timeit \n",
    "market_data.with_columns(\n",
    "    bbo=calculate_bbo('price', 'qty', 'is_bid')\n",
    ").unnest('bbo')"
   ]
  },
  {
   "cell_type": "code",
   "execution_count": 27,
   "metadata": {},
   "outputs": [],
   "source": [
    "n = 10_000_000\n",
    "market_data = pl.DataFrame({\n",
    "    'price': [1, 2, 3, 6, 5, 4, 3, 1, 2, 5, 4, 6, 1, 2, 3, 6, 5, 4, 3, 1, 2, 5, 4, 6] * (n//2),\n",
    "    'qty':   [1, 2, 3, 6, 5, 4, 3, 1, 2, 5, 4, 6, -1, -2, -3, -6, -5, -4, -3, -1, -2, -5, -4, -6] * (n//2),\n",
    "    'is_bid': [True, True, True, False, False, False, True, True, True, False, False, False] * n\n",
    "}, schema={\n",
    "    'price': pl.Int64,\n",
    "    'qty': pl.Int64,\n",
    "    'is_bid': pl.Boolean\n",
    "})"
   ]
  },
  {
   "cell_type": "code",
   "execution_count": 28,
   "metadata": {},
   "outputs": [
    {
     "name": "stdout",
     "output_type": "stream",
     "text": [
      "3.9 s ± 32 ms per loop (mean ± std. dev. of 7 runs, 1 loop each)\n"
     ]
    }
   ],
   "source": [
    "%timeit market_data.with_columns(bbo=calculate_bbo('price', 'qty', 'is_bid')).unnest('bbo')"
   ]
  },
  {
   "cell_type": "code",
   "execution_count": 25,
   "metadata": {},
   "outputs": [],
   "source": [
    "n = 10_000_000\n",
    "symbols = ['A', 'B', 'C', 'D', 'E']\n",
    "symbols = sum([[s] * 12 for s in symbols], []) \n",
    "market_data = pl.DataFrame({\n",
    "    'price': [1, 2, 3, 6, 5, 4, 3, 1, 2, 5, 4, 6] * n,\n",
    "    'qty':   [1, 2, 3, 6, 5, 4, -3, -1, -2, -5, -4, -6] * n,\n",
    "    'is_bid': [True, True, True, False, False, False, True, True, True, False, False, False] * n,\n",
    "    'symbol': symbols * (n // 5)\n",
    "}, schema={\n",
    "    'price': pl.Int64,\n",
    "    'qty': pl.Int64,\n",
    "    'is_bid': pl.Boolean,\n",
    "    'symbol': pl.Utf8\n",
    "})"
   ]
  },
  {
   "cell_type": "code",
   "execution_count": null,
   "metadata": {},
   "outputs": [],
   "source": [
    "market_data.group_by('symbol').agg(\n",
    "    calculate_bbo('price', 'qty', 'is_bid').alias('bbo')\n",
    ").explode('bbo').unnest('bbo')"
   ]
  },
  {
   "cell_type": "code",
   "execution_count": null,
   "metadata": {},
   "outputs": [],
   "source": []
  }
 ],
 "metadata": {
  "kernelspec": {
   "display_name": "Python 3",
   "language": "python",
   "name": "python3"
  },
  "language_info": {
   "codemirror_mode": {
    "name": "ipython",
    "version": 3
   },
   "file_extension": ".py",
   "mimetype": "text/x-python",
   "name": "python",
   "nbconvert_exporter": "python",
   "pygments_lexer": "ipython3",
   "version": "3.12.3"
  }
 },
 "nbformat": 4,
 "nbformat_minor": 2
}
