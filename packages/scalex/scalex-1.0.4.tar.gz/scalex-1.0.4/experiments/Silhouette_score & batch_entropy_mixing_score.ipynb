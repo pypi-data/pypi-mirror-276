{
 "cells": [
  {
   "cell_type": "code",
   "execution_count": 6,
   "metadata": {
    "heading_collapsed": "false"
   },
   "outputs": [],
   "source": [
    "import pandas as pd\n",
    "import numpy as np\n",
    "import scanpy as sc\n",
    "import os\n",
    "import matplotlib.pyplot as plt\n",
    "import seaborn as sns\n",
    "from sklearn.metrics import silhouette_samples, silhouette_score\n",
    "\n",
    "import sys\n",
    "sys.path.append('~/SCALEX/script')\n",
    "from metrics import *\n",
    "plt.rc('font', family='Helvetica')\n",
    "plt.rcParams['pdf.fonttype'] = 42"
   ]
  },
  {
   "cell_type": "code",
   "execution_count": 3,
   "metadata": {},
   "outputs": [],
   "source": [
    "palette = { 'SCALEX': (0.8392156862745098, 0.15294117647058825, 0.1568627450980392),\n",
    "            'Raw': (0.09019607843137255, 0.7450980392156863, 0.8117647058823529),\n",
    "            'Seurat_v3': (1.0, 0.4980392156862745, 0.054901960784313725),\n",
    "            'Harmony':  (0.12156862745098039, 0.4666666666666667, 0.7058823529411765),\n",
    "            'Conos':(0.4980392156862745, 0.4980392156862745, 0.4980392156862745),\n",
    "            'BBKNN': (0.5803921568627451, 0.403921568627451, 0.7411764705882353),\n",
    "            'Scanorama': (0.8901960784313725, 0.4666666666666667, 0.7607843137254902),\n",
    "            'FastMNN':  (0.17254901960784313, 0.6274509803921569, 0.17254901960784313),\n",
    "            'scVI': (0.5490196078431373, 0.33725490196078434, 0.29411764705882354),\n",
    "            'online_iNMF':(0.7372549019607844, 0.7411764705882353, 0.13333333333333333),\n",
    "            'LIGER':(0.6509803921568628, 0.807843137254902, 0.8901960784313725)}"
   ]
  },
  {
   "cell_type": "code",
   "execution_count": 4,
   "metadata": {},
   "outputs": [],
   "source": [
    "datasets =['pancreas', 'heart','liver','NSCLC','PBMC']\n",
    "methods = ['Raw', 'SCALEX','Seurat_v3','Harmony','Conos','BBKNN','scVI','Scanorama','FastMNN','online_iNMF','LIGER']"
   ]
  },
  {
   "cell_type": "markdown",
   "metadata": {
    "heading_collapsed": "true",
    "tags": []
   },
   "source": [
    "### Silhouette_score & batch_entropy_mixing_score"
   ]
  },
  {
   "cell_type": "code",
   "execution_count": 6,
   "metadata": {},
   "outputs": [],
   "source": [
    "datasets = ['pancreas','heart','liver','NSCLC','PBMC']\n",
    "methods = ['Raw', 'SCALEX','Seurat_v3','Harmony','Conos','BBKNN','scVI','Scanorama','FastMNN','online_iNMF','LIGER']\n",
    "\n",
    "batch_score = pd.DataFrame(index = datasets, columns = methods)\n",
    "Silhouette_score = pd.DataFrame(index = datasets, columns = methods)\n",
    "\n",
    "for dataset in datasets:\n",
    "    print(dataset)\n",
    "    adata = sc.read_h5ad('/home/tiankang/SCALEX/results/{}/adata.h5ad'.format(dataset))\n",
    "    \n",
    "    batch_id = adata.obs['batch'].values.astype('object')\n",
    "    celltype = adata.obs['celltype'].values.astype('object').astype('str')\n",
    "    sample_size = 5000 if adata.shape[0] > 5000 else adata.shape[0]\n",
    "    for method in methods:\n",
    "        if method+'_umap' in list(adata.obsm.keys()):\n",
    "            feature = adata.obsm[method+'_umap']\n",
    "            feature[np.isnan(feature)] = 0\n",
    "            Silhouette_score.loc[dataset, method] = (silhouette_score(feature, celltype, sample_size=sample_size,random_state=1367))\n",
    "\n",
    "        else:\n",
    "            Silhouette_score.loc[dataset, method] = 0\n",
    "            pass\n",
    "    \n",
    "    df = pd.DataFrame(adata.obs.groupby('celltype')['batch'].nunique())\n",
    "    Celltypes = list(df[df['batch'] >1].index)\n",
    "    batch_score1 = []\n",
    "    for Celltype in Celltypes:\n",
    "        adata_ = adata[adata.obs.celltype == Celltype]\n",
    "\n",
    "        batch_id = adata_.obs['batch'].values.astype('object').astype('str')\n",
    "        celltype = adata_.obs['celltype'].values.astype('object').astype('str')\n",
    "        \n",
    "        n_neighbors = 30 if adata_.shape[0] > 30 else adata_.shape[0]\n",
    "        n_samples_per_pool = 30 if adata_.shape[0] > 30 else adata_.shape[0]\n",
    "\n",
    "        batch_score2 = []\n",
    "        for method in methods: \n",
    "            if method+'_umap' in adata_.obsm.keys():\n",
    "                feature = adata_.obsm[method+'_umap']\n",
    "                feature[np.isnan(feature)] = 0\n",
    "                    \n",
    "                batch_score2.append(batch_entropy_mixing_score(feature,\n",
    "                                                               batch_id,\n",
    "                                                               n_neighbors = n_neighbors,\n",
    "                                                               n_pools=10, \n",
    "                                                               n_samples_per_pool=n_samples_per_pool\n",
    "                                                               )*adata_.shape[0])\n",
    "            else:\n",
    "                batch_score2.append(0)\n",
    "                pass\n",
    "        \n",
    "        batch_score1.append(batch_score2)\n",
    "    total = adata[adata.obs.celltype.isin(Celltypes)].shape[0]\n",
    "    correct = [item/total for item in np.sum(batch_score1, axis=0)]\n",
    "\n",
    "    batch_score.loc[dataset, :] = correct"
   ]
  },
  {
   "cell_type": "code",
   "execution_count": 11,
   "metadata": {},
   "outputs": [],
   "source": [
    "score = pd.DataFrame({' Dataset':np.repeat(datasets, len(methods)),\n",
    "                       'Method': methods * len(datasets),\n",
    "                       'Silhouette_score': np.reshape(Silhouette_score.values, (1, -1)).squeeze(),\n",
    "                       'Batch_mixing_score': np.reshape(batch_score.values, (1, -1)).squeeze(),})"
   ]
  },
  {
   "cell_type": "code",
   "execution_count": 15,
   "metadata": {
    "heading_collapsed": "false"
   },
   "outputs": [
    {
     "name": "stderr",
     "output_type": "stream",
     "text": [
      "No handles with labels found to put in legend.\n"
     ]
    },
    {
     "data": {
      "image/png": "[encoded data removed]",
      "text/plain": [
       "<Figure size 1500x230 with 5 Axes>"
      ]
     },
     "metadata": {
      "needs_background": "light"
     },
     "output_type": "display_data"
    }
   ],
   "source": [
    "plt.rc('font', family='Helvetica')\n",
    "plt.rcParams['pdf.fonttype'] = 42\n",
    "\n",
    "from matplotlib import gridspec\n",
    "figsize=(15,2.3)\n",
    "fig = plt.figure(figsize=figsize)\n",
    "plt.rcParams['savefig.dpi'] = 100\n",
    "plt.rcParams['figure.dpi'] = 100\n",
    "legend_params_ = {'loc': 'center left',\n",
    "                  'bbox_to_anchor':(1.05, 0.45),\n",
    "                  'fontsize': 12,\n",
    "                  'ncol': 1,\n",
    "                  'frameon': False,\n",
    "                  'markerscale': 1.2,\n",
    "                 }\n",
    "axs = gridspec.GridSpec(nrows=1, ncols=5, height_ratios=None, width_ratios=[1]*5, wspace=0.2, hspace=0)\n",
    "\n",
    "for i, data in enumerate(datasets):\n",
    "    ax = fig.add_subplot(axs[0, i])\n",
    "    if i == 4:\n",
    "        ax = sns.scatterplot(x=\"Batch_mixing_score\", \n",
    "                             y=\"Silhouette_score\", \n",
    "                             data=score.loc[score.Dataset == data,:],\n",
    "                             hue='Method',\n",
    "                             palette=palette,\n",
    "                             legend=False,\n",
    "                             marker='+',\n",
    "                             s=100)\n",
    "        \n",
    "        plt.legend(**legend_params_)\n",
    "    else:\n",
    "        ax = sns.scatterplot(x=\"Batch_mixing_score\", \n",
    "                             y=\"Silhouette_score\", \n",
    "                             data=score.loc[score.Dataset == data,:],\n",
    "                             hue='Method',\n",
    "                             palette=palette, \n",
    "                             legend=False,\n",
    "                             marker=\"+\",\n",
    "                             s=100)\n",
    "        \n",
    "    if i == 1:    \n",
    "        plt.ylim(0,0.7)\n",
    "    else:\n",
    "        ax.set_yticks([0,0.2,0.4,0.6])\n",
    "    ax.set_title(data, fontsize=15, va='center',pad=10)\n",
    "    ax.tick_params(axis='y',left=True, right=False, labelright=False, labelleft=True, labelsize=12, length=3, pad=1)\n",
    "\n",
    "\n",
    "    if i == 0:\n",
    "        ax.set_ylabel('Silhouette Score', rotation=90, fontsize=16, labelpad=10, va='center')\n",
    "    else:\n",
    "        ax.set_ylabel('')\n",
    "\n",
    "    ax.set_xlabel('', fontsize=15, labelpad=10, va='center')\n",
    "    ax.tick_params(axis='x', bottom=True, top=False, labeltop=False, labelbottom=True, labelsize=12, length=3, pad=3, labelrotation=0)\n",
    "fig.text(0.5, -0.1, 'Batch Entropy Mixing Score', ha='center',size=16)"
   ]
  }
 ],
 "metadata": {
  "kernelspec": {
   "display_name": "Python 3 (ipykernel)",
   "language": "python",
   "name": "python3"
  },
  "language_info": {
   "codemirror_mode": {
    "name": "ipython",
    "version": 3
   },
   "file_extension": ".py",
   "mimetype": "text/x-python",
   "name": "python",
   "nbconvert_exporter": "python",
   "pygments_lexer": "ipython3",
   "version": "3.8.5"
  }
 },
 "nbformat": 4,
 "nbformat_minor": 4
}
