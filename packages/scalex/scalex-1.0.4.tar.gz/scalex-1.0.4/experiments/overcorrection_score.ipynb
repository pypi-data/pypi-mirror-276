{
 "cells": [
  {
   "cell_type": "code",
   "execution_count": 6,
   "metadata": {
    "heading_collapsed": "false"
   },
   "outputs": [],
   "source": [
    "import pandas as pd\n",
    "import numpy as np\n",
    "import scanpy as sc\n",
    "import os\n",
    "import matplotlib.pyplot as plt\n",
    "import seaborn as sns\n",
    "from sklearn.metrics import silhouette_samples, silhouette_score\n",
    "\n",
    "import sys\n",
    "sys.path.append('~/SCALEX/script')\n",
    "from metrics import *\n",
    "plt.rc('font', family='Helvetica')\n",
    "plt.rcParams['pdf.fonttype'] = 42"
   ]
  },
  {
   "cell_type": "code",
   "execution_count": 3,
   "metadata": {},
   "outputs": [],
   "source": [
    "palette = { 'SCALEX': (0.8392156862745098, 0.15294117647058825, 0.1568627450980392),\n",
    "            'Raw': (0.09019607843137255, 0.7450980392156863, 0.8117647058823529),\n",
    "            'Seurat_v3': (1.0, 0.4980392156862745, 0.054901960784313725),\n",
    "            'Harmony':  (0.12156862745098039, 0.4666666666666667, 0.7058823529411765),\n",
    "            'Conos':(0.4980392156862745, 0.4980392156862745, 0.4980392156862745),\n",
    "            'BBKNN': (0.5803921568627451, 0.403921568627451, 0.7411764705882353),\n",
    "            'Scanorama': (0.8901960784313725, 0.4666666666666667, 0.7607843137254902),\n",
    "            'FastMNN':  (0.17254901960784313, 0.6274509803921569, 0.17254901960784313),\n",
    "            'scVI': (0.5490196078431373, 0.33725490196078434, 0.29411764705882354),\n",
    "            'online_iNMF':(0.7372549019607844, 0.7411764705882353, 0.13333333333333333),\n",
    "            'LIGER':(0.6509803921568628, 0.807843137254902, 0.8901960784313725)}"
   ]
  },
  {
   "cell_type": "code",
   "execution_count": null,
   "metadata": {},
   "outputs": [],
   "source": [
    "datasets =['pancreas', 'heart','liver','NSCLC','PBMC']\n",
    "methods = ['Raw', 'SCALEX','Seurat_v3','Harmony','Conos','BBKNN','scVI','Scanorama','FastMNN','online_iNMF','LIGER']"
   ]
  },
  {
   "cell_type": "markdown",
   "metadata": {
    "heading_collapsed": "true",
    "tags": []
   },
   "source": [
    "### overcorrection_score"
   ]
  },
  {
   "cell_type": "code",
   "execution_count": 2,
   "metadata": {},
   "outputs": [],
   "source": [
    "import scipy\n",
    "from sklearn.neighbors import NearestNeighbors, KNeighborsRegressor\n",
    "def overcorrection_score(emb, celltype, n_neighbors=100, n_pools=100, n_samples_per_pool=100, seed=124):\n",
    "    \"\"\"\n",
    "    \"\"\"\n",
    "    n_neighbors = min(n_neighbors, len(emb) - 1)\n",
    "    nne = NearestNeighbors(n_neighbors=1 + n_neighbors, n_jobs=8)\n",
    "    nne.fit(emb)\n",
    "    kmatrix = nne.kneighbors_graph(emb) - scipy.sparse.identity(emb.shape[0])\n",
    "\n",
    "    score = 0\n",
    "    celltype_ = np.unique(celltype)\n",
    "    celltype_dict = celltype.value_counts().to_dict()\n",
    "    \n",
    "    N_celltype = len(celltype_)\n",
    "\n",
    "    for t in range(n_pools):\n",
    "        indices = np.random.choice(np.arange(emb.shape[0]), size=n_samples_per_pool, replace=False)\n",
    "        score += np.mean([np.mean(celltype[kmatrix[i].nonzero()[1]][:min(celltype_dict[celltype[i]], n_neighbors)] == celltype[i]) for i in indices])\n",
    "\n",
    "    return 1-score / float(n_pools)"
   ]
  },
  {
   "cell_type": "code",
   "execution_count": null,
   "metadata": {},
   "outputs": [],
   "source": [
    "oc_score = pd.DataFrame(index = datasets, columns = methods)\n",
    "\n",
    "for dataset in datasets:\n",
    "    adata = sc.read_h5ad('~/SCALEX/results/{}/adata.h5ad'.format(dataset))\n",
    "\n",
    "    for method in methods:\n",
    "        if method+'_umap' in list(adata.obsm.keys()):\n",
    "            oc_score.loc[dataset, method] = overcorrection_score(adata.obsm[method+'_umap'], adata.obs['celltype'])\n",
    "        else:\n",
    "            oc_score.loc[dataset, method] = 0\n",
    "            pass\n"
   ]
  },
  {
   "cell_type": "code",
   "execution_count": 8,
   "metadata": {},
   "outputs": [
    {
     "data": {
      "text/plain": [
       "<matplotlib.legend.Legend at 0x7f5116bdb5e0>"
      ]
     },
     "execution_count": 8,
     "metadata": {},
     "output_type": "execute_result"
    },
    {
     "name": "stderr",
     "output_type": "stream",
     "text": [
      "findfont: Font family ['Helvetica'] not found. Falling back to DejaVu Sans.\n",
      "findfont: Font family ['Helvetica'] not found. Falling back to DejaVu Sans.\n"
     ]
    },
    {
     "data": {
      "image/png": "[encoded data removed]",
      "text/plain": [
       "<Figure size 576x432 with 1 Axes>"
      ]
     },
     "metadata": {
      "needs_background": "light"
     },
     "output_type": "display_data"
    }
   ],
   "source": [
    "# score = pd.read_csv('~/SCALEX/notebook/benchmark/overcorrect_benchmark.txt', sep='\\t', index_col=0)\n",
    "\n",
    "datasets = list(score.index)\n",
    "methods = list(score.columns)\n",
    "palette = { 'SCALEX': (0.8392156862745098, 0.15294117647058825, 0.1568627450980392),\n",
    "            'Raw': (0.09019607843137255, 0.7450980392156863, 0.8117647058823529),\n",
    "            'Seurat_v3': (1.0, 0.4980392156862745, 0.054901960784313725),\n",
    "            'Harmony':  (0.12156862745098039, 0.4666666666666667, 0.7058823529411765),\n",
    "            'Conos':(0.4980392156862745, 0.4980392156862745, 0.4980392156862745),\n",
    "            'BBKNN': (0.5803921568627451, 0.403921568627451, 0.7411764705882353),\n",
    "            'Scanorama': (0.8901960784313725, 0.4666666666666667, 0.7607843137254902),\n",
    "            'FastMNN':  (0.17254901960784313, 0.6274509803921569, 0.17254901960784313),\n",
    "            'scVI': (0.5490196078431373, 0.33725490196078434, 0.29411764705882354),\n",
    "            'online_iNMF':(0.7372549019607844, 0.7411764705882353, 0.13333333333333333),\n",
    "            'LIGER':(0.6509803921568628, 0.807843137254902, 0.8901960784313725),}\n",
    "\n",
    "score = pd.DataFrame({'Dataset':np.repeat(datasets, len(methods)),\n",
    "                      'Method': methods* len(datasets),\n",
    "                      'overcorrect_score': np.reshape(score.values, (1, -1)).squeeze(),})\n",
    "score = score[score['Method'] !='Raw']\n",
    "legend_params = {'loc': 'center left',\n",
    "                 'bbox_to_anchor':(1.01, 0.35),\n",
    "                 'fontsize': 12,\n",
    "                 'ncol': 1,\n",
    "                 'frameon': False,\n",
    "                 'markerscale': 1\n",
    "                }\n",
    "\n",
    "plt.rcParams['savefig.dpi'] = 100\n",
    "plt.rcParams['figure.dpi'] = 100\n",
    "plt.figure(figsize=(8,6))\n",
    "fig = sns.barplot(x='Dataset', y='overcorrect_score', data=score, hue='Method',palette=palette, saturation=1)\n",
    "plt.ylabel('Over-correctiont Score',fontsize=14, labelpad=10)\n",
    "plt.xlabel('Datasets',fontsize=14, labelpad=10)\n",
    "plt.xticks(fontsize=12)\n",
    "plt.yticks(fontsize=12)\n",
    "plt.title('',fontsize=16,y=1.02)\n",
    "plt.legend(**legend_params)"
   ]
  }
 ],
 "metadata": {
  "kernelspec": {
   "display_name": "Python 3 (ipykernel)",
   "language": "python",
   "name": "python3"
  },
  "language_info": {
   "codemirror_mode": {
    "name": "ipython",
    "version": 3
   },
   "file_extension": ".py",
   "mimetype": "text/x-python",
   "name": "python",
   "nbconvert_exporter": "python",
   "pygments_lexer": "ipython3",
   "version": "3.8.5"
  }
 },
 "nbformat": 4,
 "nbformat_minor": 4
}
