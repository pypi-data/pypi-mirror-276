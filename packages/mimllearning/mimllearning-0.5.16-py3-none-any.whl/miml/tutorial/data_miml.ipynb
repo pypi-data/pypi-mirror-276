{
  "nbformat": 4,
  "nbformat_minor": 0,
  "metadata": {
    "colab": {
      "provenance": [],
      "authorship_tag": "ABX9TyMwrzFhmEIm1lc2Pn6wnd5b",
      "include_colab_link": true
    },
    "kernelspec": {
      "name": "python3",
      "display_name": "Python 3"
    },
    "language_info": {
      "name": "python"
    }
  },
  "cells": [
    {
      "cell_type": "markdown",
      "metadata": {
        "id": "view-in-github",
        "colab_type": "text"
      },
      "source": [
        "<a href=\"https://colab.research.google.com/github/p82maavd/MIML/blob/main/src/miml/tutorial/data_miml.ipynb\" target=\"_parent\"><img src=\"https://colab.research.google.com/assets/colab-badge.svg\" alt=\"Open In Colab\"/></a>"
      ]
    },
    {
      "cell_type": "code",
      "source": [
        "!pip install mimllearning"
      ],
      "metadata": {
        "id": "Emp3AJ9Hu-ej"
      },
      "execution_count": null,
      "outputs": []
    },
    {
      "cell_type": "code",
      "execution_count": 2,
      "metadata": {
        "id": "L-_qkpnOxj_V",
        "colab": {
          "base_uri": "https://localhost:8080/"
        },
        "outputId": "35b85d5e-62dd-4f33-a5b8-4dcc4ed5c0da"
      },
      "outputs": [
        {
          "output_type": "stream",
          "name": "stdout",
          "text": [
            "Show dataset in table mode\n",
            "--------------------------\n",
            "+--------+------+------+------+----------+----------+----------+----------+\n",
            "|  bag1  |  f1  |  f2  |  f3  |  label1  |  label2  |  label3  |  label4  |\n",
            "+========+======+======+======+==========+==========+==========+==========+\n",
            "|   0    |  42  | -198 | -109 |    1     |    0     |    0     |    1     |\n",
            "+--------+------+------+------+----------+----------+----------+----------+\n",
            "|   1    | 41.9 | -191 | -142 |    1     |    0     |    0     |    1     |\n",
            "+--------+------+------+------+----------+----------+----------+----------+\n",
            "|   2    |  35  | 14.2 | 6.33 |    1     |    0     |    0     |    1     |\n",
            "+--------+------+------+------+----------+----------+----------+----------+\n",
            "+--------+-------+------+------+----------+----------+----------+----------+\n",
            "|  bag2  |  f1   |  f2  |  f3  |  label1  |  label2  |  label3  |  label4  |\n",
            "+========+=======+======+======+==========+==========+==========+==========+\n",
            "|   0    | 11.25 | -98  |  10  |    0     |    1     |    1     |    0     |\n",
            "+--------+-------+------+------+----------+----------+----------+----------+\n",
            "|   1    |  31   | 40.5 | 7.85 |    0     |    1     |    1     |    0     |\n",
            "+--------+-------+------+------+----------+----------+----------+----------+\n",
            "\n",
            "Show dataset in compact mode\n",
            "----------------------------\n",
            "bag_id, f1, f2, f3, label1, label2, label3, label4\n",
            "bag1,42.0,-198.0,-109.0,1.0,0.0,0.0,1.0\n",
            "bag1,41.9,-191.0,-142.0,1.0,0.0,0.0,1.0\n",
            "bag1,35.0,14.2,6.33,1.0,0.0,0.0,1.0\n",
            "bag2,11.25,-98.0,10.0,0.0,1.0,1.0,0.0\n",
            "bag2,31.0,40.5,7.85,0.0,1.0,1.0,0.0\n"
          ]
        }
      ],
      "source": [
        "from miml.datasets import load_dataset\n",
        "\n",
        "dataset = load_dataset(\"toy.arff\", from_library=True)\n",
        "print(\"Show dataset in table mode\")\n",
        "print(\"--------------------------\")\n",
        "dataset.show_dataset(mode=\"table\")\n",
        "print(\"\")\n",
        "print(\"Show dataset in compact mode\")\n",
        "print(\"----------------------------\")\n",
        "dataset.show_dataset(mode=\"compact\")"
      ]
    },
    {
      "cell_type": "code",
      "source": [
        "# Shows dataset metrics\n",
        "dataset.describe()"
      ],
      "metadata": {
        "colab": {
          "base_uri": "https://localhost:8080/"
        },
        "id": "_bVd_RyLgqlG",
        "outputId": "99efb0e4-e84c-44f9-c0cf-95b5e05bdbe0"
      },
      "execution_count": 3,
      "outputs": [
        {
          "output_type": "stream",
          "name": "stdout",
          "text": [
            "-----MULTILABEL-----\n",
            "Cardinality:  2.0\n",
            "Density:  0.5\n",
            "Distinct:  0.125\n",
            "\n",
            "-----MULTIINSTANCE-----\n",
            "Nº of bags:  2\n",
            "Total instances:  5\n",
            "Average Instances per bag:  2.5\n",
            "Min Instances per bag:  2\n",
            "Max Instances per bag:  3\n",
            "Features per bag:  3\n",
            "Labels per bag:  4\n",
            "Attributes per bag:  7\n",
            "\n",
            "Distribution of bags:\n",
            "\tBags with  2  instances:  1\n",
            "\tBags with  3  instances:  1\n"
          ]
        }
      ]
    },
    {
      "cell_type": "code",
      "source": [
        "import numpy\n",
        "print(\"Add a new attribute to the dataset and modify one of its attributes\")\n",
        "dataset.add_attribute(name=\"new_feature\", position=2, values=numpy.random.rand(dataset.get_number_instances()))\n",
        "dataset.set_attribute(bag=0, index_instance=0, attribute=2, value=3.13)\n",
        "dataset.show_dataset(start=0, end=1)\n",
        "\n",
        "print(\"Delete the attribute added before\")\n",
        "dataset.delete_attribute(position=2)\n",
        "dataset.show_dataset(start=0, end=1)"
      ],
      "metadata": {
        "colab": {
          "base_uri": "https://localhost:8080/"
        },
        "id": "5DzHnFZtuIZ1",
        "outputId": "c9584827-1837-402e-f222-169a0559c2b2"
      },
      "execution_count": 4,
      "outputs": [
        {
          "output_type": "stream",
          "name": "stdout",
          "text": [
            "Add a new attribute to the dataset and modify one of its attributes\n",
            "+--------+------+------+---------------+------+----------+----------+----------+----------+\n",
            "|  bag1  |  f1  |  f2  |  new_feature  |  f3  |  label1  |  label2  |  label3  |  label4  |\n",
            "+========+======+======+===============+======+==========+==========+==========+==========+\n",
            "|   0    |  42  | -198 |     3.13      | -109 |    1     |    0     |    0     |    1     |\n",
            "+--------+------+------+---------------+------+----------+----------+----------+----------+\n",
            "|   1    | 41.9 | -191 |   0.165707    | -142 |    1     |    0     |    0     |    1     |\n",
            "+--------+------+------+---------------+------+----------+----------+----------+----------+\n",
            "|   2    |  35  | 14.2 |   0.188282    | 6.33 |    1     |    0     |    0     |    1     |\n",
            "+--------+------+------+---------------+------+----------+----------+----------+----------+\n",
            "Delete the attribute added before\n",
            "+--------+------+------+------+----------+----------+----------+----------+\n",
            "|  bag1  |  f1  |  f2  |  f3  |  label1  |  label2  |  label3  |  label4  |\n",
            "+========+======+======+======+==========+==========+==========+==========+\n",
            "|   0    |  42  | -198 | -109 |    1     |    0     |    0     |    1     |\n",
            "+--------+------+------+------+----------+----------+----------+----------+\n",
            "|   1    | 41.9 | -191 | -142 |    1     |    0     |    0     |    1     |\n",
            "+--------+------+------+------+----------+----------+----------+----------+\n",
            "|   2    |  35  | 14.2 | 6.33 |    1     |    0     |    0     |    1     |\n",
            "+--------+------+------+------+----------+----------+----------+----------+\n"
          ]
        }
      ]
    },
    {
      "cell_type": "code",
      "source": [
        "from miml.data import Instance, Bag\n",
        "\n",
        "print(\"Creation and modification of an instance\")\n",
        "values = [38, 62, 5.09, 1, 0, 0, 1]\n",
        "instance = Instance(values)\n",
        "instance.set_attribute(attribute=2, value=74)\n",
        "instance.show_instance()\n",
        "\n",
        "print(\"Add an instance to the dataset\")\n",
        "dataset.add_instance(bag=0, instance=instance)\n",
        "dataset.show_dataset()\n",
        "\n",
        "print(\"Create a bag and add it to the dataset\")\n",
        "bag=Bag(\"bag3\")\n",
        "bag.add_instance(instance)\n",
        "dataset.add_bag(bag)\n",
        "dataset.show_dataset()\n"
      ],
      "metadata": {
        "colab": {
          "base_uri": "https://localhost:8080/"
        },
        "id": "IBAwpBmDHi5X",
        "outputId": "63ebf707-1586-4f91-979e-0715256f57b0"
      },
      "execution_count": 5,
      "outputs": [
        {
          "output_type": "stream",
          "name": "stdout",
          "text": [
            "Creation and modification of an instance\n",
            "+----+----+----+---+---+---+---+\n",
            "| 38 | 62 | 74 | 1 | 0 | 0 | 1 |\n",
            "+----+----+----+---+---+---+---+\n",
            "Add an instance to the dataset\n",
            "+--------+------+------+------+----------+----------+----------+----------+\n",
            "|  bag1  |  f1  |  f2  |  f3  |  label1  |  label2  |  label3  |  label4  |\n",
            "+========+======+======+======+==========+==========+==========+==========+\n",
            "|   0    |  42  | -198 | -109 |    1     |    0     |    0     |    1     |\n",
            "+--------+------+------+------+----------+----------+----------+----------+\n",
            "|   1    | 41.9 | -191 | -142 |    1     |    0     |    0     |    1     |\n",
            "+--------+------+------+------+----------+----------+----------+----------+\n",
            "|   2    |  35  | 14.2 | 6.33 |    1     |    0     |    0     |    1     |\n",
            "+--------+------+------+------+----------+----------+----------+----------+\n",
            "|   3    |  38  |  62  |  74  |    1     |    0     |    0     |    1     |\n",
            "+--------+------+------+------+----------+----------+----------+----------+\n",
            "+--------+-------+------+------+----------+----------+----------+----------+\n",
            "|  bag2  |  f1   |  f2  |  f3  |  label1  |  label2  |  label3  |  label4  |\n",
            "+========+=======+======+======+==========+==========+==========+==========+\n",
            "|   0    | 11.25 | -98  |  10  |    0     |    1     |    1     |    0     |\n",
            "+--------+-------+------+------+----------+----------+----------+----------+\n",
            "|   1    |  31   | 40.5 | 7.85 |    0     |    1     |    1     |    0     |\n",
            "+--------+-------+------+------+----------+----------+----------+----------+\n",
            "Create a bag and add it to the dataset\n",
            "+--------+------+------+------+----------+----------+----------+----------+\n",
            "|  bag1  |  f1  |  f2  |  f3  |  label1  |  label2  |  label3  |  label4  |\n",
            "+========+======+======+======+==========+==========+==========+==========+\n",
            "|   0    |  42  | -198 | -109 |    1     |    0     |    0     |    1     |\n",
            "+--------+------+------+------+----------+----------+----------+----------+\n",
            "|   1    | 41.9 | -191 | -142 |    1     |    0     |    0     |    1     |\n",
            "+--------+------+------+------+----------+----------+----------+----------+\n",
            "|   2    |  35  | 14.2 | 6.33 |    1     |    0     |    0     |    1     |\n",
            "+--------+------+------+------+----------+----------+----------+----------+\n",
            "|   3    |  38  |  62  |  74  |    1     |    0     |    0     |    1     |\n",
            "+--------+------+------+------+----------+----------+----------+----------+\n",
            "+--------+-------+------+------+----------+----------+----------+----------+\n",
            "|  bag2  |  f1   |  f2  |  f3  |  label1  |  label2  |  label3  |  label4  |\n",
            "+========+=======+======+======+==========+==========+==========+==========+\n",
            "|   0    | 11.25 | -98  |  10  |    0     |    1     |    1     |    0     |\n",
            "+--------+-------+------+------+----------+----------+----------+----------+\n",
            "|   1    |  31   | 40.5 | 7.85 |    0     |    1     |    1     |    0     |\n",
            "+--------+-------+------+------+----------+----------+----------+----------+\n",
            "+--------+------+------+------+----------+----------+----------+----------+\n",
            "|  bag3  |  f1  |  f2  |  f3  |  label1  |  label2  |  label3  |  label4  |\n",
            "+========+======+======+======+==========+==========+==========+==========+\n",
            "|   0    |  38  |  62  |  74  |    1     |    0     |    0     |    1     |\n",
            "+--------+------+------+------+----------+----------+----------+----------+\n"
          ]
        }
      ]
    },
    {
      "cell_type": "code",
      "source": [
        "# Shows all bags in the dataset\n",
        "for bag_index in range(dataset.get_number_bags()):\n",
        "\n",
        "    # Recover a bag\n",
        "    bag = dataset.get_bag(bag_index)\n",
        "    print(\"Bag:\", bag.key)\n",
        "    print(\"\\tNumInstances:\", bag.get_number_instances())\n",
        "    print(\"\\tNumFeatures:\", bag.get_number_features())\n",
        "    print(\"\\tNumLabels:\", bag.get_number_labels())\n",
        "    print(\"\\tNumAttributes:\", bag.get_number_attributes())\n",
        "\n",
        "    # Shows all instances in the bag\n",
        "    for instance_index in range(bag.get_number_instances()):\n",
        "        # Recovers an instance\n",
        "        instance = dataset.get_instance(bag.key, instance_index)\n",
        "        print(\"\\t\\tInstance:\", instance_index, \"NumAttributes:\", instance.get_number_attributes())\n",
        "        for attribute_index in range(instance.get_number_attributes()):\n",
        "            print(\"\\t\\t\\tAttribute\", attribute_index, \":\", instance.get_attribute(attribute=attribute_index))"
      ],
      "metadata": {
        "colab": {
          "base_uri": "https://localhost:8080/"
        },
        "id": "0NYDgtS4JU1H",
        "outputId": "5100dc59-e98b-4354-be6e-d31970c7d071"
      },
      "execution_count": 6,
      "outputs": [
        {
          "output_type": "stream",
          "name": "stdout",
          "text": [
            "Bag: bag1\n",
            "\tNumInstances: 4\n",
            "\tNumFeatures: 3\n",
            "\tNumLabels: 4\n",
            "\tNumAttributes: 7\n",
            "\t\tInstance: 0 NumAttributes: 7\n",
            "\t\t\tAttribute 0 : 42.0\n",
            "\t\t\tAttribute 1 : -198.0\n",
            "\t\t\tAttribute 2 : -109.0\n",
            "\t\t\tAttribute 3 : 1.0\n",
            "\t\t\tAttribute 4 : 0.0\n",
            "\t\t\tAttribute 5 : 0.0\n",
            "\t\t\tAttribute 6 : 1.0\n",
            "\t\tInstance: 1 NumAttributes: 7\n",
            "\t\t\tAttribute 0 : 41.9\n",
            "\t\t\tAttribute 1 : -191.0\n",
            "\t\t\tAttribute 2 : -142.0\n",
            "\t\t\tAttribute 3 : 1.0\n",
            "\t\t\tAttribute 4 : 0.0\n",
            "\t\t\tAttribute 5 : 0.0\n",
            "\t\t\tAttribute 6 : 1.0\n",
            "\t\tInstance: 2 NumAttributes: 7\n",
            "\t\t\tAttribute 0 : 35.0\n",
            "\t\t\tAttribute 1 : 14.2\n",
            "\t\t\tAttribute 2 : 6.33\n",
            "\t\t\tAttribute 3 : 1.0\n",
            "\t\t\tAttribute 4 : 0.0\n",
            "\t\t\tAttribute 5 : 0.0\n",
            "\t\t\tAttribute 6 : 1.0\n",
            "\t\tInstance: 3 NumAttributes: 7\n",
            "\t\t\tAttribute 0 : 38.0\n",
            "\t\t\tAttribute 1 : 62.0\n",
            "\t\t\tAttribute 2 : 74.0\n",
            "\t\t\tAttribute 3 : 1.0\n",
            "\t\t\tAttribute 4 : 0.0\n",
            "\t\t\tAttribute 5 : 0.0\n",
            "\t\t\tAttribute 6 : 1.0\n",
            "Bag: bag2\n",
            "\tNumInstances: 2\n",
            "\tNumFeatures: 3\n",
            "\tNumLabels: 4\n",
            "\tNumAttributes: 7\n",
            "\t\tInstance: 0 NumAttributes: 7\n",
            "\t\t\tAttribute 0 : 11.25\n",
            "\t\t\tAttribute 1 : -98.0\n",
            "\t\t\tAttribute 2 : 10.0\n",
            "\t\t\tAttribute 3 : 0.0\n",
            "\t\t\tAttribute 4 : 1.0\n",
            "\t\t\tAttribute 5 : 1.0\n",
            "\t\t\tAttribute 6 : 0.0\n",
            "\t\tInstance: 1 NumAttributes: 7\n",
            "\t\t\tAttribute 0 : 31.0\n",
            "\t\t\tAttribute 1 : 40.5\n",
            "\t\t\tAttribute 2 : 7.85\n",
            "\t\t\tAttribute 3 : 0.0\n",
            "\t\t\tAttribute 4 : 1.0\n",
            "\t\t\tAttribute 5 : 1.0\n",
            "\t\t\tAttribute 6 : 0.0\n",
            "Bag: bag3\n",
            "\tNumInstances: 1\n",
            "\tNumFeatures: 3\n",
            "\tNumLabels: 4\n",
            "\tNumAttributes: 7\n",
            "\t\tInstance: 0 NumAttributes: 7\n",
            "\t\t\tAttribute 0 : 38.0\n",
            "\t\t\tAttribute 1 : 62.0\n",
            "\t\t\tAttribute 2 : 74.0\n",
            "\t\t\tAttribute 3 : 1.0\n",
            "\t\t\tAttribute 4 : 0.0\n",
            "\t\t\tAttribute 5 : 0.0\n",
            "\t\t\tAttribute 6 : 1.0\n"
          ]
        }
      ]
    }
  ]
}