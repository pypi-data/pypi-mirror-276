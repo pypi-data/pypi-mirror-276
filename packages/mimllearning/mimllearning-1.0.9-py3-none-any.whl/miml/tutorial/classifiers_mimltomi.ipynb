{
  "nbformat": 4,
  "nbformat_minor": 0,
  "metadata": {
    "colab": {
      "provenance": [],
      "toc_visible": true,
      "authorship_tag": "ABX9TyORwaDJscBb7ctm6laz4Yid",
      "include_colab_link": true
    },
    "kernelspec": {
      "name": "python3",
      "display_name": "Python 3"
    },
    "language_info": {
      "name": "python"
    }
  },
  "cells": [
    {
      "cell_type": "markdown",
      "metadata": {
        "id": "view-in-github",
        "colab_type": "text"
      },
      "source": [
        "<a href=\"https://colab.research.google.com/github/p82maavd/MIML/blob/main/src/miml/tutorial/classifiers_mimltomi.ipynb\" target=\"_parent\"><img src=\"https://colab.research.google.com/assets/colab-badge.svg\" alt=\"Open In Colab\"/></a>"
      ]
    },
    {
      "cell_type": "code",
      "source": [
        "# Install the library on enviroment\n",
        "!pip install mimllearning\n",
        "\n",
        "from miml.classifier import MIMLtoMIBRClassifier, MIMLtoMILPClassifier\n",
        "from miml.data import load_dataset\n",
        "\n",
        "# Load datasets from library\n",
        "dataset_train = load_dataset(\"miml_birds_random_80train.arff\", from_library=True)\n",
        "dataset_test = load_dataset(\"miml_birds_random_20test.arff\", from_library=True)"
      ],
      "metadata": {
        "id": "QNmyu82hKcVB",
        "colab": {
          "base_uri": "https://localhost:8080/"
        },
        "outputId": "8f26680a-5f0a-4df7-cefe-737069929f0f"
      },
      "execution_count": 1,
      "outputs": [
        {
          "output_type": "stream",
          "name": "stdout",
          "text": [
            "Collecting mimllearning\n",
            "  Downloading mimllearning-0.5.16-py3-none-any.whl (844 kB)\n",
            "\u001b[?25l     \u001b[90m━━━━━━━━━━━━━━━━━━━━━━━━━━━━━━━━━━━━━━━━\u001b[0m \u001b[32m0.0/844.8 kB\u001b[0m \u001b[31m?\u001b[0m eta \u001b[36m-:--:--\u001b[0m\r\u001b[2K     \u001b[91m━━\u001b[0m\u001b[91m╸\u001b[0m\u001b[90m━━━━━━━━━━━━━━━━━━━━━━━━━━━━━━━━━━━━━\u001b[0m \u001b[32m61.4/844.8 kB\u001b[0m \u001b[31m1.7 MB/s\u001b[0m eta \u001b[36m0:00:01\u001b[0m\r\u001b[2K     \u001b[91m━━━━━━━━━━━━━━━━━━━━━━━━━━\u001b[0m\u001b[91m╸\u001b[0m\u001b[90m━━━━━━━━━━━━━\u001b[0m \u001b[32m563.2/844.8 kB\u001b[0m \u001b[31m8.0 MB/s\u001b[0m eta \u001b[36m0:00:01\u001b[0m\r\u001b[2K     \u001b[90m━━━━━━━━━━━━━━━━━━━━━━━━━━━━━━━━━━━━━━━━\u001b[0m \u001b[32m844.8/844.8 kB\u001b[0m \u001b[31m8.4 MB/s\u001b[0m eta \u001b[36m0:00:00\u001b[0m\n",
            "\u001b[?25hInstalling collected packages: mimllearning\n",
            "Successfully installed mimllearning-0.5.16\n"
          ]
        }
      ]
    },
    {
      "cell_type": "markdown",
      "source": [
        "## Examples of MI Classifiers that can be used in the library from scikit-learn:"
      ],
      "metadata": {
        "id": "KwibNMJV9Gns"
      }
    },
    {
      "cell_type": "markdown",
      "source": [
        "### MIMLtoMI Binary Relevance Classifiers"
      ],
      "metadata": {
        "id": "byKMqi6eeJvD"
      }
    },
    {
      "cell_type": "markdown",
      "source": [
        "#### APR Classifier [Reference](https://ics.uci.edu/~rickl/publications/1997-aij.pdf)"
      ],
      "metadata": {
        "id": "BfO7dgESMX9O"
      }
    },
    {
      "cell_type": "code",
      "source": [
        "from miml.classifier import APRClassifier\n",
        "\n",
        "classifier_mi = MIMLtoMIBRClassifier(APRClassifier())\n",
        "classifier_mi.fit(dataset_train)\n",
        "print(\"Predicted Labels: \", classifier_mi.predict_bag(dataset_test.get_bag(\"366\")))\n",
        "print(\"True Labels:      \", dataset_test.get_bag(\"366\").get_labels()[0].astype(int))"
      ],
      "metadata": {
        "colab": {
          "base_uri": "https://localhost:8080/"
        },
        "id": "ZP8rdL8KKFO-",
        "outputId": "7bc32092-7027-4d49-ba7c-65ae6f7cfbda"
      },
      "execution_count": 2,
      "outputs": [
        {
          "output_type": "stream",
          "name": "stdout",
          "text": [
            "Predicted Labels:  [0 0 0 0 0 0 0 0 0 1 1 0 0 0 0 0 0 0 0]\n",
            "True Labels:       [0 0 0 0 0 0 0 0 0 1 0 0 0 1 0 0 0 0 0]\n"
          ]
        }
      ]
    },
    {
      "cell_type": "markdown",
      "source": [
        "### MIMLtoMI Label Powerset Classifiers"
      ],
      "metadata": {
        "id": "Cl71--v4eVVI"
      }
    },
    {
      "cell_type": "markdown",
      "source": [
        "#### MIWrapperClassifier [Reference](http://old-www.cms.waikato.ac.nz/~eibe/pubs/PMI_working_paper.pdf)"
      ],
      "metadata": {
        "id": "tFiaHceqNhId"
      }
    },
    {
      "cell_type": "code",
      "source": [
        "from miml.classifier import MIWrapperClassifier\n",
        "\n",
        "classifier_mi = MIMLtoMILPClassifier(MIWrapperClassifier())\n",
        "classifier_mi.fit(dataset_train)\n",
        "print(\"Predicted Labels: \", classifier_mi.predict_bag(dataset_test.get_bag(\"366\")))\n",
        "print(\"True Labels:      \", dataset_test.get_bag(\"366\").get_labels()[0].astype(int))"
      ],
      "metadata": {
        "id": "lqWQmt4GLXhQ",
        "colab": {
          "base_uri": "https://localhost:8080/"
        },
        "outputId": "7a22b2fc-fada-4b58-b43e-bd46c2ac566f"
      },
      "execution_count": 3,
      "outputs": [
        {
          "output_type": "stream",
          "name": "stdout",
          "text": [
            "Predicted Labels:  [0 0 0 0 0 0 0 0 0 0 0 0 1 0 0 0 0 0 0]\n",
            "True Labels:       [0 0 0 0 0 0 0 0 0 1 0 0 0 1 0 0 0 0 0]\n"
          ]
        }
      ]
    }
  ]
}