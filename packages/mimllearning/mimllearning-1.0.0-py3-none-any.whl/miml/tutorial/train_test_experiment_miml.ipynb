{
  "nbformat": 4,
  "nbformat_minor": 0,
  "metadata": {
    "colab": {
      "provenance": [],
      "authorship_tag": "ABX9TyN98UGSW4C1CForxVl65tLY",
      "include_colab_link": true
    },
    "kernelspec": {
      "name": "python3",
      "display_name": "Python 3"
    },
    "language_info": {
      "name": "python"
    }
  },
  "cells": [
    {
      "cell_type": "markdown",
      "metadata": {
        "id": "view-in-github",
        "colab_type": "text"
      },
      "source": [
        "<a href=\"https://colab.research.google.com/github/p82maavd/MIML/blob/main/src/miml/tutorial/train_test_experiment_miml.ipynb\" target=\"_parent\"><img src=\"https://colab.research.google.com/assets/colab-badge.svg\" alt=\"Open In Colab\"/></a>"
      ]
    },
    {
      "cell_type": "markdown",
      "source": [
        "#Installation of library\n"
      ],
      "metadata": {
        "id": "UwOvUSvR-8Sm"
      }
    },
    {
      "cell_type": "code",
      "source": [
        "# Install the library on enviroment\n",
        "!pip install mimllearning"
      ],
      "metadata": {
        "id": "jZMmibMJcRf2",
        "colab": {
          "base_uri": "https://localhost:8080/"
        },
        "outputId": "65e0c214-535f-4c05-baff-9d5753ec5721"
      },
      "execution_count": 1,
      "outputs": [
        {
          "output_type": "stream",
          "name": "stdout",
          "text": [
            "Collecting mimllearning\n",
            "  Downloading mimllearning-0.5.16-py3-none-any.whl (844 kB)\n",
            "\u001b[2K     \u001b[90m━━━━━━━━━━━━━━━━━━━━━━━━━━━━━━━━━━━━━━━━\u001b[0m \u001b[32m844.8/844.8 kB\u001b[0m \u001b[31m8.3 MB/s\u001b[0m eta \u001b[36m0:00:00\u001b[0m\n",
            "\u001b[?25hInstalling collected packages: mimllearning\n",
            "Successfully installed mimllearning-0.5.16\n"
          ]
        }
      ]
    },
    {
      "cell_type": "markdown",
      "source": [
        "# Loading of datasets"
      ],
      "metadata": {
        "id": "AYTbl78HBtuZ"
      }
    },
    {
      "cell_type": "code",
      "execution_count": 2,
      "metadata": {
        "id": "L-_qkpnOxj_V"
      },
      "outputs": [],
      "source": [
        "from miml.data import load_dataset\n",
        "\n",
        "# Different ways to load_dataset\n",
        "# dataset = load_dataset(\"miml_birds.csv\"))\n",
        "# dataset = load_dataset(\"C:/Users/Damián/Downloads/miml_birds.arff\")\n",
        "# dataset = load_dataset(pkg_resources.resource_filename('miml', 'datasets/miml_birds'))\n",
        "dataset = load_dataset(\"miml_birds.arff\", from_library=True)\n",
        "\n",
        "# Split dataset into train and test partitions\n",
        "dataset_train, dataset_test = dataset.split_dataset(train_percentage=0.8, seed=7)"
      ]
    },
    {
      "cell_type": "markdown",
      "source": [
        "# MIMLtoMI Classifier\n"
      ],
      "metadata": {
        "id": "KCupyHfc9c0F"
      }
    },
    {
      "cell_type": "code",
      "source": [
        "from miml.classifier import MIMLtoMIBRClassifier, APRClassifier\n",
        "\n",
        "# Declare classifier and model to use\n",
        "classifier_mi = MIMLtoMIBRClassifier(APRClassifier())\n",
        "# Fit the classifier\n",
        "classifier_mi.fit(dataset_train)\n",
        "# Obtain the predictions for a dataset\n",
        "results_mi = classifier_mi.evaluate(dataset_test)\n",
        "# Obtain the label probabilities for a dataset\n",
        "probs_mi = classifier_mi.predict_proba(dataset_test)"
      ],
      "metadata": {
        "id": "J7CxjYzK9jdX"
      },
      "execution_count": 3,
      "outputs": []
    },
    {
      "cell_type": "markdown",
      "source": [
        "# Report MI"
      ],
      "metadata": {
        "id": "5VmZnFleZUMZ"
      }
    },
    {
      "cell_type": "code",
      "source": [
        "from miml.report import Report\n",
        "\n",
        "# Create report to show results\n",
        "report = Report(y_pred=results_mi, label_probs=probs_mi, dataset_test=dataset_test)\n",
        "report.to_string()\n",
        "print(\"\")\n",
        "report.to_csv()"
      ],
      "metadata": {
        "colab": {
          "base_uri": "https://localhost:8080/"
        },
        "id": "_blawc4pZWuH",
        "outputId": "c5c61663-2ac0-4473-a6d2-9a1051772e96"
      },
      "execution_count": 4,
      "outputs": [
        {
          "output_type": "stream",
          "name": "stdout",
          "text": [
            "precision-score-macro :  0.1089024924164243\n",
            "precision-score-micro :  0.1807909604519774\n",
            "average-precision-score-macro :  0.11746694424713\n",
            "average-precision-score-micro :  0.12895815477543976\n",
            "recall-score-macro :  0.17356649198754465\n",
            "recall-score-micro :  0.3137254901960784\n",
            "f1-score-macro :  0.12111305458381921\n",
            "f1-score-micro :  0.22939068100358423\n",
            "fbeta-score-macro beta value = 0.5 :  0.11086416680762831\n",
            "fbeta-score-macro :  0.11086416680762831\n",
            "fbeta-score-micro beta value = 0.5 :  0.19753086419753085\n",
            "fbeta-score-micro :  0.19753086419753085\n",
            "subset-accuracy-score :  0.0392156862745098\n",
            "hamming-score :  0.14930820813173754\n",
            "hamming-loss :  0.2218782249742002\n",
            "jaccard-score-macro :  0.07297439402702559\n",
            "jaccard-score-micro :  0.12955465587044535\n",
            "log-loss :  30.228122765845654\n",
            "\n",
            "precision-score-macro,precision-score-micro,average-precision-score-macro,average-precision-score-micro,recall-score-macro,recall-score-micro,f1-score-macro,f1-score-micro,fbeta-score-macro beta value = 0.5,fbeta-score-micro beta value = 0.5,subset-accuracy-score,hamming-score,hamming-loss,jaccard-score-macro,jaccard-score-micro,log-loss\n",
            "0.1089024924164243,0.1807909604519774,0.11746694424713,0.12895815477543976,0.17356649198754465,0.3137254901960784,0.12111305458381921,0.22939068100358423,0.11086416680762831,0.19753086419753085,0.0392156862745098,0.14930820813173754,0.2218782249742002,0.07297439402702559,0.12955465587044535,30.228122765845654\n"
          ]
        }
      ]
    }
  ]
}