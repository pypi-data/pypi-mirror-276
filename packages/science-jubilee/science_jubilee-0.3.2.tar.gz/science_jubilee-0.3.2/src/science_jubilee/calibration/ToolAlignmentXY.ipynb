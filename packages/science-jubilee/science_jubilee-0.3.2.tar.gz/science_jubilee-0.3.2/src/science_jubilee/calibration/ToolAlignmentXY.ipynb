{
 "cells": [
  {
   "cell_type": "markdown",
   "id": "a8d00750-08d6-4f66-8a1c-f20c9290c4d1",
   "metadata": {},
   "source": [
    "# Calculating XY Tool Offsets Helper Notebook\n",
    "This notebook scaffolds the steps outlined [here](https://www.jubilee3d.com/index.php?title=Setting_Tool_Offsets) to align the XY offset of tools. Some of these steps are manual, and others require sending commands. This notebook will walk through all necessary steps!\n",
    "\n",
    "This notebook uses a USB microscope to manually align tools; see the link above for more information."
   ]
  },
  {
   "cell_type": "code",
   "execution_count": 7,
   "id": "582ff45f-835f-4d1c-99e8-64413a7394db",
   "metadata": {},
   "outputs": [],
   "source": [
    "from science_jubilee.Machine import Machine\n",
    "from science_jubilee.tools.Tool import Tool\n",
    "import os\n",
    "import cv2 as cv2"
   ]
  },
  {
   "cell_type": "code",
   "execution_count": 8,
   "id": "8eb0b50b-e20d-41e3-aa90-a2ef648ac129",
   "metadata": {
    "tags": []
   },
   "outputs": [],
   "source": [
    "# This function will help us center our tools with a camera stream\n",
    "def camera_stream(cap):\n",
    "    center = None\n",
    "    while center is None:\n",
    "        # the first frame grab is sometimes empty\n",
    "        ret, frame = cap.read()\n",
    "        h, w = frame.shape[0:2]\n",
    "        center = (int(w/2), int(h/2))\n",
    "\n",
    "    while True:\n",
    "        ret, frame = cap.read()\n",
    "        target = cv2.circle(frame, center, 5, (0,255,0), -1)\n",
    "        cv2.imshow('Input', frame)\n",
    "        c = cv2.waitKey(1)\n",
    "        if c ==27: #27 is the built in code for ESC so press escape to close the window. \n",
    "            break \n",
    "\n",
    "    cap.release()\n",
    "    cv2.destroyAllWindows()"
   ]
  },
  {
   "cell_type": "code",
   "execution_count": 6,
   "id": "75a268b2-8031-4f3b-97a3-1f0a58cb97de",
   "metadata": {
    "tags": []
   },
   "outputs": [
    {
     "name": "stdout",
     "output_type": "stream",
     "text": [
      "Warning: disconnecting this application from the network will halt connection to Jubilee.\n"
     ]
    }
   ],
   "source": [
    "# Establish connection with machine\n",
    "m = Machine(address=\"jubilee.local\") # edit the address as necessary"
   ]
  },
  {
   "cell_type": "code",
   "execution_count": null,
   "id": "1de951cc-f0c1-4f13-8f81-593938db3da2",
   "metadata": {},
   "outputs": [],
   "source": [
    "# Make sure no XY tool offsets are set for your second tool\n",
    "# TODO: Add XY offset info to Machine.py\n",
    "# For now, send G10 P<your_tool_number> X0 Y0 from DWC to clear all offsets"
   ]
  },
  {
   "cell_type": "code",
   "execution_count": null,
   "id": "6e1694be-4bb6-4cff-97cc-e92f9f4f8d63",
   "metadata": {},
   "outputs": [],
   "source": [
    "# Pick up the tool and move it to a reference position (e.g. 150, 150)\n",
    "tool_number = 4 # Which tool are you setting the offsets for?\n",
    "tool_name = 'test' # A human readable name for this tool\n",
    "tool = Tool(tool_number, tool_name)\n",
    "m.load_tool(tool)\n",
    "m.pickup_tool(tool)\n",
    "m.moveTo(x=150, y=150) # approx location on magnetic bed\n"
   ]
  },
  {
   "cell_type": "code",
   "execution_count": null,
   "id": "1c375048-c972-4630-858e-603edc97d047",
   "metadata": {},
   "outputs": [],
   "source": [
    "# Move the bed down and install the USB microscope onto the bed facing up\n",
    "m.move_to(z=150)"
   ]
  },
  {
   "cell_type": "code",
   "execution_count": null,
   "id": "15c2f0c4-3d94-4f6d-8b22-cdf8fbba439c",
   "metadata": {
    "scrolled": true
   },
   "outputs": [],
   "source": [
    "# Open a live video window and center the z-probe using DWC\n",
    "# Press Esc to stop streaming\n",
    "cap = cv2.VideoCapture(0) # Note that the index corresponding to your camera may not be zero\n",
    "                          # but this is the most common default. Try 1, 2, etc if 0 doesn't work\n",
    "\n",
    "camera_stream(cap)"
   ]
  },
  {
   "cell_type": "code",
   "execution_count": null,
   "id": "745936ee",
   "metadata": {},
   "outputs": [],
   "source": [
    "# Record the coordinates at which the z-probe is centered\n",
    "pos = m.get_position()\n",
    "zprobe_x = float(pos['X'])\n",
    "zprobe_y = float(pos['Y'])\n",
    "print(zprobe_x, zprobe_y) # using a height of 150 with tool equipped"
   ]
  },
  {
   "cell_type": "code",
   "execution_count": null,
   "id": "2a42231d",
   "metadata": {},
   "outputs": [],
   "source": [
    "# Open a live feed again, and center the tip of the equipped tool using DWC\n",
    "cap = cv2.VideoCapture(0) # Edit this index again as needed\n",
    "camera_stream(cap)"
   ]
  },
  {
   "cell_type": "code",
   "execution_count": null,
   "id": "5097e4ac",
   "metadata": {},
   "outputs": [],
   "source": [
    "# record these coordinates\n",
    "pos = m.get_position()\n",
    "tool_x = float(pos['X'])\n",
    "tool_y = float(pos['Y'])\n",
    "print(tool_x, tool_y)"
   ]
  },
  {
   "cell_type": "code",
   "execution_count": null,
   "id": "db25834c",
   "metadata": {},
   "outputs": [],
   "source": [
    "# Sbtract your tool (x,y) coords from the probe (x,y) coords - this is your XY tool offset\n",
    "# Add the following command to your Toffsets.g file\n",
    "xoff = zprobe_x - tool_x\n",
    "yoff = zprobe_y - tool_y\n",
    "tool_number = 1\n",
    "print(f\"G10 P{tool_number} X{xoff:.2f} Y{yoff:.2f}\")"
   ]
  },
  {
   "cell_type": "code",
   "execution_count": null,
   "id": "08ff27d7-da07-4d9d-9456-6b2522f3fcd0",
   "metadata": {},
   "outputs": [],
   "source": []
  }
 ],
 "metadata": {
  "kernelspec": {
   "display_name": "science_jubilee_dev",
   "language": "python",
   "name": "science_jubilee_dev"
  },
  "language_info": {
   "codemirror_mode": {
    "name": "ipython",
    "version": 3
   },
   "file_extension": ".py",
   "mimetype": "text/x-python",
   "name": "python",
   "nbconvert_exporter": "python",
   "pygments_lexer": "ipython3",
   "version": "3.7.3"
  }
 },
 "nbformat": 4,
 "nbformat_minor": 5
}
