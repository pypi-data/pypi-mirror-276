{
 "cells": [
  {
   "cell_type": "markdown",
   "id": "19366248",
   "metadata": {},
   "source": [
    "# Lab Automation Deck Calibration\n",
    "After installing a lab automation deck on the machine, we need to record reference positions for each of the six slots for exact alingment. Step through this notebook to create a lab_automation_deck_config.json file!\n",
    "\n",
    "This notebook assumes you have a top-down camera tool setup on your machine. If you don't, you can use another tool to manually align each offset.\n",
    "\n",
    "This notebook also uses"
   ]
  },
  {
   "cell_type": "code",
   "execution_count": null,
   "id": "0f29d106",
   "metadata": {},
   "outputs": [],
   "source": [
    "from science_jubilee.Machine import Machine, get_root_dir\n",
    "from science_jubilee.tools.Camera import Camera\n",
    "from jinja2 import Environment, FileSystemLoader, select_autoescape\n",
    "import json\n",
    "import os\n",
    "%load_ext autoreload\n",
    "%autoreload 2"
   ]
  },
  {
   "cell_type": "code",
   "execution_count": null,
   "id": "080e1201-a926-478f-b535-ea3a6c52996e",
   "metadata": {
    "tags": []
   },
   "outputs": [],
   "source": [
    "# Set up the calibration file\n",
    "# The following default values apply to the standard lab automation deck\n",
    "# Adapt them if you have customized you deck!\n",
    "deck_type = \"Lab Automation Deck\" # What type of deck is this?\n",
    "num_slots = 6 # How many slots are there\n",
    "num_sharps_containers = 0 # How many sharps containers are you using, if any?\n",
    "slot_type = \"SLAS Standard Labware\" # What do these slots hold?\n",
    "plate_material = \"Aluminum\" # What is your Jubilee bed plate material\n",
    "mask_material = \"Delrin\" # What material is your deck made of?\n",
    "\n",
    "# Your lab automation deck slots will have 1 corner with no flexure element\n",
    "# Specify whether this is the top_left, top_right, bottom_left, or bottom_right\n",
    "# where 'right' means larger x values and 'top' means larger y values\n",
    "offset_corner = \"bottom_left\" # What corner are you offsetting from?"
   ]
  },
  {
   "cell_type": "code",
   "execution_count": null,
   "id": "499e38aa-1637-4e93-956a-d4ede03ef93a",
   "metadata": {
    "tags": []
   },
   "outputs": [],
   "source": [
    "# We'll populate slot_data using this set_slot_data function\n",
    "slot_data = {} \n",
    "def set_slot_data(slot_index: int):\n",
    "    position = m.get_position()\n",
    "    slot_offset = [float(position['X']), float(position['Y'])]\n",
    "    slot_data[slot_index] = slot_offset"
   ]
  },
  {
   "cell_type": "code",
   "execution_count": null,
   "id": "6dbd036d",
   "metadata": {},
   "outputs": [],
   "source": [
    "# Initialize your machine connection\n",
    "m = Machine()"
   ]
  },
  {
   "cell_type": "code",
   "execution_count": null,
   "id": "284ab467",
   "metadata": {},
   "outputs": [],
   "source": [
    "# Check which tools are currently configured on your machine\n",
    "m._configured_tools"
   ]
  },
  {
   "cell_type": "code",
   "execution_count": null,
   "id": "9e0d591b",
   "metadata": {},
   "outputs": [],
   "source": [
    "# Load your camera tool\n",
    "# Change this to match the index of your camera tool\n",
    "camera = Camera(index=3, name=\"top_down_camera\") \n",
    "m.load_tool(camera)"
   ]
  },
  {
   "cell_type": "code",
   "execution_count": null,
   "id": "519586c0-7ed0-42c5-a40a-be1d4015e1e2",
   "metadata": {
    "tags": []
   },
   "outputs": [],
   "source": [
    "m.pickup_tool(camera)"
   ]
  },
  {
   "cell_type": "code",
   "execution_count": null,
   "id": "d7d687f2",
   "metadata": {},
   "outputs": [],
   "source": [
    "# Move to your camera's focus height\n",
    "# For me, that's z=30mm\n",
    "m.move_to(z=30)"
   ]
  },
  {
   "cell_type": "code",
   "execution_count": null,
   "id": "ebce24d1",
   "metadata": {},
   "outputs": [],
   "source": [
    "# The 0th slot is closest to the machine's (0,0)\n",
    "# Open a camera feed and position the camera using the duet web controller\n",
    "# Move the camera so that the center of the camera is over the slot corner specified above as 'offset_corner'\n",
    "# press esc when done to close the camera feed\n",
    "m.move_to(x=30, y=30)\n",
    "camera.video_stream()"
   ]
  },
  {
   "cell_type": "code",
   "execution_count": null,
   "id": "5e838c96",
   "metadata": {},
   "outputs": [],
   "source": [
    "# Save this position\n",
    "slot_index = 0\n",
    "set_slot_data(slot_index)"
   ]
  },
  {
   "cell_type": "code",
   "execution_count": null,
   "id": "4ff27687",
   "metadata": {},
   "outputs": [],
   "source": [
    "# Now, repeat this in the following cells for each of the other slots!\n",
    "# Be sure tolign to the same corner for each slot"
   ]
  },
  {
   "cell_type": "code",
   "execution_count": null,
   "id": "0b286d5b",
   "metadata": {},
   "outputs": [],
   "source": [
    "# Slot 1\n",
    "m.move(dx=140) # Move to approximate position of slot 1\n",
    "camera.video_stream() # Fine tune the position using the camera feed"
   ]
  },
  {
   "cell_type": "code",
   "execution_count": null,
   "id": "164f087f-7403-4c13-9f26-eb53d72159d5",
   "metadata": {},
   "outputs": [],
   "source": [
    "# Save this position\n",
    "slot_index = 1\n",
    "set_slot_data(slot_index)"
   ]
  },
  {
   "cell_type": "code",
   "execution_count": null,
   "id": "2d9d9cdc",
   "metadata": {},
   "outputs": [],
   "source": [
    "# Slot 2\n",
    "m.move(dx=-140, dy=100) # Move to approximate position of slot 2\n",
    "camera.video_stream() # Fine tune the position using the camera feed"
   ]
  },
  {
   "cell_type": "code",
   "execution_count": null,
   "id": "5cbca426-185d-4ae6-8b4a-1694c2cbe22e",
   "metadata": {
    "tags": []
   },
   "outputs": [],
   "source": [
    "# Save this position\n",
    "slot_index = 2\n",
    "set_slot_data(slot_index)"
   ]
  },
  {
   "cell_type": "code",
   "execution_count": null,
   "id": "044ede74",
   "metadata": {},
   "outputs": [],
   "source": [
    "# Slot 3\n",
    "m.move(dx=140) # Move to approximate position of slot 3\n",
    "camera.video_stream() # Fine tune the position using the camera feed"
   ]
  },
  {
   "cell_type": "code",
   "execution_count": null,
   "id": "666a1b78",
   "metadata": {},
   "outputs": [],
   "source": [
    "# Save this position\n",
    "slot_index = 3\n",
    "set_slot_data(slot_index)"
   ]
  },
  {
   "cell_type": "code",
   "execution_count": null,
   "id": "cf5a4f67",
   "metadata": {},
   "outputs": [],
   "source": [
    "# Slot 4\n",
    "m.move(dx=-140, dy=100) # Move to approximate position of slot 4\n",
    "camera.video_stream() # Fine tune the position using the camera feed"
   ]
  },
  {
   "cell_type": "code",
   "execution_count": null,
   "id": "5d21b486",
   "metadata": {},
   "outputs": [],
   "source": [
    "# Save this position\n",
    "slot_index = 4\n",
    "set_slot_data(slot_index)"
   ]
  },
  {
   "cell_type": "code",
   "execution_count": null,
   "id": "3608bc74",
   "metadata": {},
   "outputs": [],
   "source": [
    "# Slot 5\n",
    "m.move(dx=140) # Move to approximate position of slot 5\n",
    "camera.video_stream() # Fine tune the position using the camera feed"
   ]
  },
  {
   "cell_type": "code",
   "execution_count": null,
   "id": "f6132fbf",
   "metadata": {},
   "outputs": [],
   "source": [
    "# Save this position\n",
    "slot_index = 5\n",
    "set_slot_data(slot_index)"
   ]
  },
  {
   "cell_type": "code",
   "execution_count": null,
   "id": "f428490e",
   "metadata": {},
   "outputs": [],
   "source": [
    "# If you have a sharps container installed, manually move to it\n",
    "# Skip to \"Save Calibration File\" below if you aren't installing a sharps container\n",
    "camera.video_stream() "
   ]
  },
  {
   "cell_type": "code",
   "execution_count": null,
   "id": "99803e1b-51e6-4399-86e8-7b6192e2552d",
   "metadata": {
    "tags": []
   },
   "outputs": [],
   "source": [
    "# We use negative slot indices for sharps containers\n",
    "slot_index = -1\n",
    "set_slot_data(slot_index)"
   ]
  },
  {
   "cell_type": "code",
   "execution_count": null,
   "id": "43112001-9ad7-4996-a0b9-954bae66a855",
   "metadata": {
    "tags": []
   },
   "outputs": [],
   "source": [
    "# Save Calibration File\n",
    "file_name = \"lab_automation_deck_MA\" # Change this if you'd like to refer to this calibration by a different name"
   ]
  },
  {
   "cell_type": "code",
   "execution_count": null,
   "id": "968e5ef9-db85-45fd-ac26-b5e55dc07745",
   "metadata": {
    "tags": []
   },
   "outputs": [],
   "source": [
    "# Run this cell to save your calibration file!\n",
    "deck_config_path = os.path.join(get_root_dir(), \"science_jubilee\", \"decks\", \"deck_definition\", f\"{file_name}.json\")\n",
    "env = Environment(loader=FileSystemLoader(\"templates\"))\n",
    "template = env.get_template(\"lab_automation_deck_template.json\")\n",
    "calibration_contents = template.render(deck_type=deck_type, num_slots=num_slots, num_sharps_containers=num_sharps_containers, slot_type=slot_type, plate_material=plate_material, mask_material=mask_material, offset_corner=offset_corner, slot_data=slot_data)\n",
    "\n",
    "with open(deck_config_path, 'w') as f:\n",
    "    f.write(calibration_contents)"
   ]
  },
  {
   "cell_type": "code",
   "execution_count": null,
   "id": "3f0aca1a",
   "metadata": {},
   "outputs": [],
   "source": [
    "# Done!"
   ]
  },
  {
   "cell_type": "code",
   "execution_count": null,
   "id": "89fc458d-14d2-452c-b9eb-903b96f1b687",
   "metadata": {},
   "outputs": [],
   "source": []
  }
 ],
 "metadata": {
  "kernelspec": {
   "display_name": "plos-revision-submission",
   "language": "python",
   "name": "plos-revision-submission"
  },
  "language_info": {
   "codemirror_mode": {
    "name": "ipython",
    "version": 3
   },
   "file_extension": ".py",
   "mimetype": "text/x-python",
   "name": "python",
   "nbconvert_exporter": "python",
   "pygments_lexer": "ipython3",
   "version": "3.7.3"
  }
 },
 "nbformat": 4,
 "nbformat_minor": 5
}
