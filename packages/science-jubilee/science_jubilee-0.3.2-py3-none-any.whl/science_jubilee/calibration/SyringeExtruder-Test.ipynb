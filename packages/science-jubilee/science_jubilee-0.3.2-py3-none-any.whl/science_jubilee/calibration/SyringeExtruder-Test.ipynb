{
 "cells": [
  {
   "cell_type": "code",
   "execution_count": 1,
   "id": "70a3521f-de88-4091-a7c9-1e19de1eceb6",
   "metadata": {
    "tags": []
   },
   "outputs": [],
   "source": [
    "from science_jubilee.Machine import Machine\n",
    "from science_jubilee.tools.SyringeExtruder import SyringeExtruder\n",
    "%load_ext autoreload\n",
    "%autoreload 2"
   ]
  },
  {
   "cell_type": "code",
   "execution_count": 2,
   "id": "a75259b4-0cfe-436b-8c78-df28521c398e",
   "metadata": {
    "tags": []
   },
   "outputs": [
    {
     "name": "stdout",
     "output_type": "stream",
     "text": [
      "Warning: disconnecting this application from the network will halt connection to Jubilee.\n"
     ]
    }
   ],
   "source": [
    "m = Machine(address='duet3.local')"
   ]
  },
  {
   "cell_type": "code",
   "execution_count": 3,
   "id": "12f2ef15-7b6b-43e1-908a-876a378c7545",
   "metadata": {
    "tags": []
   },
   "outputs": [
    {
     "name": "stdout",
     "output_type": "stream",
     "text": [
      "{'active': [0], 'axes': [[0], [1]], 'extruders': [0], 'fans': [5], 'feedForward': [0], 'filamentExtruder': 0, 'heaters': [1], 'isRetracted': False, 'mix': [1.0], 'name': 'Tool 0', 'number': 0, 'offsets': [6.9, 41.7, -0.35, 0], 'offsetsProbed': 0, 'retraction': {'extraRestart': 0, 'length': 2.0, 'speed': 16.7, 'unretractSpeed': 16.7, 'zHop': 0}, 'spindle': -1, 'spindleRpm': 0, 'standby': [0], 'state': 'off'}\n",
      "{'active': [], 'axes': [[0], [1]], 'extruders': [], 'fans': [0], 'feedForward': [], 'filamentExtruder': -1, 'heaters': [], 'isRetracted': False, 'mix': [], 'name': 'Camera', 'number': 1, 'offsets': [-4.5, 44.04, -50.0, 0], 'offsetsProbed': 0, 'retraction': {'extraRestart': 0, 'length': 2.0, 'speed': 16.7, 'unretractSpeed': 16.7, 'zHop': 0}, 'spindle': -1, 'spindleRpm': 0, 'standby': [], 'state': 'off'}\n",
      "{'active': [], 'axes': [[0], [1]], 'extruders': [0], 'fans': [0], 'feedForward': [], 'filamentExtruder': 0, 'heaters': [], 'isRetracted': False, 'mix': [1.0], 'name': 'Syringe 1', 'number': 2, 'offsets': [-5.7, 48.64, -125.0, 0], 'offsetsProbed': 0, 'retraction': {'extraRestart': 0, 'length': 2.0, 'speed': 16.7, 'unretractSpeed': 16.7, 'zHop': 0}, 'spindle': -1, 'spindleRpm': 0, 'standby': [], 'state': 'standby'}\n",
      "{'active': [], 'axes': [[0], [1]], 'extruders': [1], 'fans': [0], 'feedForward': [], 'filamentExtruder': 1, 'heaters': [], 'isRetracted': False, 'mix': [1.0], 'name': 'Syringe2', 'number': 3, 'offsets': [-4.1, 42.1, -50.0, 0], 'offsetsProbed': 0, 'retraction': {'extraRestart': 0, 'length': 2.0, 'speed': 16.7, 'unretractSpeed': 16.7, 'zHop': 0}, 'spindle': -1, 'spindleRpm': 0, 'standby': [], 'state': 'off'}\n",
      "{'active': [], 'axes': [[0], [1]], 'extruders': [], 'fans': [0], 'feedForward': [], 'filamentExtruder': -1, 'heaters': [], 'isRetracted': False, 'mix': [], 'name': 'Side Camera', 'number': 4, 'offsets': [-1.3, 27.4, -100.0, 0], 'offsetsProbed': 0, 'retraction': {'extraRestart': 0, 'length': 2.0, 'speed': 16.7, 'unretractSpeed': 16.7, 'zHop': 0}, 'spindle': -1, 'spindleRpm': 0, 'standby': [], 'state': 'off'}\n"
     ]
    }
   ],
   "source": [
    "extruder1 = SyringeExtruder(2, \"extruder1\", config='10cc_syringe')\n",
    "m.load_tool(extruder1)"
   ]
  },
  {
   "cell_type": "code",
   "execution_count": 4,
   "id": "a07950b2-bf94-4463-b274-8cea67ce3a42",
   "metadata": {
    "tags": []
   },
   "outputs": [],
   "source": [
    "extruder2 = SyringeExtruder(3, \"extruder2\", config='10cc_syringe')\n",
    "m.load_tool(extruder2)"
   ]
  },
  {
   "cell_type": "code",
   "execution_count": 5,
   "id": "c89133bd-bd74-4030-b706-0f17bad424a7",
   "metadata": {
    "tags": []
   },
   "outputs": [
    {
     "data": {
      "text/plain": [
       "'E0'"
      ]
     },
     "execution_count": 5,
     "metadata": {},
     "output_type": "execute_result"
    }
   ],
   "source": [
    "extruder1.e_drive"
   ]
  },
  {
   "cell_type": "code",
   "execution_count": 6,
   "id": "a71e5805-c00f-41e9-8fb6-8928e8104211",
   "metadata": {
    "tags": []
   },
   "outputs": [
    {
     "data": {
      "text/plain": [
       "'E1'"
      ]
     },
     "execution_count": 6,
     "metadata": {},
     "output_type": "execute_result"
    }
   ],
   "source": [
    "extruder2.e_drive"
   ]
  },
  {
   "cell_type": "code",
   "execution_count": 22,
   "id": "b56e9db8-f10a-4503-8e9b-287df06a03ab",
   "metadata": {
    "tags": []
   },
   "outputs": [
    {
     "data": {
      "text/plain": [
       "{'X': '200.000',\n",
       " 'Y': '200.000',\n",
       " 'Z': '170.000',\n",
       " 'U': '0.000',\n",
       " 'E': '0.000',\n",
       " 'E0': '-14.6',\n",
       " 'E1': '-15.0'}"
      ]
     },
     "execution_count": 22,
     "metadata": {},
     "output_type": "execute_result"
    }
   ],
   "source": [
    "m.get_position()"
   ]
  },
  {
   "cell_type": "code",
   "execution_count": 18,
   "id": "e93bfe1b-9100-4df8-af90-9cb39251707c",
   "metadata": {
    "tags": []
   },
   "outputs": [],
   "source": [
    "m.pickup_tool(extruder2)"
   ]
  },
  {
   "cell_type": "code",
   "execution_count": 21,
   "id": "5acb42a3-ca91-46b6-9b77-ae0d5e51212d",
   "metadata": {
    "tags": []
   },
   "outputs": [],
   "source": [
    "extruder2.aspirate(vol=1, location= (200,200,170))"
   ]
  },
  {
   "cell_type": "code",
   "execution_count": null,
   "id": "da05da9a-fc6b-43ad-a9e5-78c4c8c47ebd",
   "metadata": {
    "tags": []
   },
   "outputs": [],
   "source": [
    "z = 0.1\n",
    "for z in range(10):\n",
    "    extruder.move_extrude(x = 130, y = 170, z = z, multiplier = 2)\n",
    "    extruder.move_extrude(x = 130, y = 150, z = z, multiplier = 2)\n",
    "    extruder.move_extrude(x = 110, y = 150, z = z, multiplier = 2)\n",
    "    extruder.move_extrude(x = 110, y = 170, z = z, multiplier = 2)\n",
    "    z += 0.2"
   ]
  },
  {
   "cell_type": "code",
   "execution_count": null,
   "id": "9768b053-7ee4-40c6-9fe5-db3b9ef96e7a",
   "metadata": {
    "tags": []
   },
   "outputs": [],
   "source": [
    "m.move_to(x=110, y=170, z=100)"
   ]
  },
  {
   "cell_type": "code",
   "execution_count": null,
   "id": "7b9066e4-d619-4e08-a4b9-42d78a738c85",
   "metadata": {
    "tags": []
   },
   "outputs": [],
   "source": [
    "import math\n",
    "import numpy as np"
   ]
  },
  {
   "cell_type": "code",
   "execution_count": null,
   "id": "9826e414-b839-471e-a4b3-48dd344c2134",
   "metadata": {
    "tags": []
   },
   "outputs": [],
   "source": [
    "def normalize(v):\n",
    "    norm = np.linalg.norm(v)\n",
    "    if norm == 0:\n",
    "        return v\n",
    "    return v / norm\n",
    "\n",
    "def make_wave(point, center, theta, phase):\n",
    "    amplitude = 1\n",
    "    frequency = 6\n",
    "    \n",
    "    # get unit vector in direction of current point from center\n",
    "    point_arr = np.array(point)\n",
    "    center_arr = np.array(center)\n",
    "    direction = normalize(np.subtract(point_arr, center_arr))\n",
    "    \n",
    "    # push the point in this direction by an amt determined by current angle\n",
    "    sine_off_mag = amplitude * math.sin(frequency * theta + phase)\n",
    "    sine_off = np.multiply(sine_off_mag, direction)\n",
    "    offset_point = np.add(point, sine_off)\n",
    "    \n",
    "    return offset_point\n",
    "    \n",
    "    "
   ]
  },
  {
   "cell_type": "code",
   "execution_count": null,
   "id": "7a01585b-7a2c-43bd-85c5-015d3dcb833b",
   "metadata": {
    "tags": []
   },
   "outputs": [],
   "source": [
    "z = 0.4\n",
    "theta = 0\n",
    "center_x = 120\n",
    "center_y = 160\n",
    "center = [center_x, center_y]\n",
    "radius = 10\n",
    "theta_step = 2 * math.pi / 50\n",
    "phase = 0\n",
    "\n",
    "while z < 20:\n",
    "    while theta < 2 * math.pi:\n",
    "        point = [radius * math.cos(theta) + center_x, radius * math.sin(theta) + center_y]\n",
    "        wave_point = make_wave(point, center, theta, phase)\n",
    "        print(wave_point, z)\n",
    "        extruder.move_extrude(x = wave_point[0], y = wave_point[1], z = z, multiplier = 3)\n",
    "        theta += theta_step\n",
    "        \n",
    "        # extruder.move_extrude(x = 130, y = 150, z = z, multiplier = 2)\n",
    "        # extruder.move_extrude(x = 110, y = 150, z = z, multiplier = 2)\n",
    "        # extruder.move_extrude(x = 110, y = 170, z = z, multiplier = 2)\n",
    "    z += 0.4\n",
    "    phase += math.pi/2\n",
    "    theta = 0\n",
    "    \n",
    "    "
   ]
  },
  {
   "cell_type": "code",
   "execution_count": null,
   "id": "09bc0ff0-3735-4d45-b11c-2a9b8ff4c048",
   "metadata": {
    "tags": []
   },
   "outputs": [],
   "source": [
    "# Try making blobs\n",
    "def blob(x, y, z):\n",
    "    extruder.move_extrude(x=x, y=y, z=z, e=0.1)\n"
   ]
  },
  {
   "cell_type": "code",
   "execution_count": null,
   "id": "2cd3fe71-20e2-4e6c-8ff2-d4de8289245e",
   "metadata": {
    "tags": []
   },
   "outputs": [],
   "source": [
    "z = 0.1\n",
    "m.move_to(x=110, y=170, z=0.1)\n",
    "for z in range(10):\n",
    "    #lines\n",
    "    extruder.move_extrude(x = 130, y = 170, z = z, multiplier = 2)  \n",
    "    extruder.move_extrude(x = 130, y = 150, z = z, multiplier = 2)\n",
    "    extruder.move_extrude(x = 110, y = 150, z = z, multiplier = 2)\n",
    "    extruder.move_extrude(x = 110, y = 170, z = z, multiplier = 2)\n",
    "    \n",
    "    blob(x = 110, y = 170, z = z)\n",
    "    m.move(dz=1, s=2000)\n",
    "    m.move_to(x = 130, y = 170, z = z, s=2000)\n",
    "    blob(x = 130, y = 170, z = z)\n",
    "    m.move(dz=1, s=2000)\n",
    "    m.move_to(x = 130, y = 150, z = z, s=2000)\n",
    "    blob(x = 130, y = 150, z = z)\n",
    "    m.move(dz=1, s=2000)\n",
    "    m.move_to(x = 110, y = 150, z = z, s=2000)\n",
    "    blob(x = 110, y = 150, z = z)\n",
    "    m.move(dz=1, s=2000)\n",
    "    m.move_to(x = 110, y = 170, z = z, s=2000)\n",
    "    \n",
    "    z += 1"
   ]
  },
  {
   "cell_type": "code",
   "execution_count": null,
   "id": "986147c1-12e4-4803-8583-0ddec4431aa6",
   "metadata": {
    "tags": []
   },
   "outputs": [],
   "source": [
    "# try a nonplanar cube\n",
    "z = 0.2\n",
    "z_off = 0\n",
    "m.move_to(x=110, y=170, z=0.1)\n",
    "for z in range(10):\n",
    "    extruder.move_extrude(x = 130, y = 170, z = z, multiplier = 2)\n",
    "    extruder.move_extrude(x = 130, y = 150, z = z + z_off, multiplier = 3)\n",
    "    extruder.move_extrude(x = 110, y = 150, z = z + z_off, multiplier = 2)\n",
    "    extruder.move_extrude(x = 110, y = 170, z = z, multiplier = 3)\n",
    "    z += 0.1\n",
    "    z_off += 0.1"
   ]
  },
  {
   "cell_type": "code",
   "execution_count": null,
   "id": "29f128f3-79fa-43e3-ad39-fe4732fdb8df",
   "metadata": {
    "tags": []
   },
   "outputs": [],
   "source": [
    "camera.video_stream()"
   ]
  },
  {
   "cell_type": "code",
   "execution_count": null,
   "id": "a26d1f17-019d-48fb-bbf2-3969d839edff",
   "metadata": {
    "tags": []
   },
   "outputs": [],
   "source": [
    "x = 10\n",
    "\n",
    "y = x\n",
    "y -= 10\n",
    "\n",
    "print(x)"
   ]
  },
  {
   "cell_type": "code",
   "execution_count": null,
   "id": "8848d4c4-8d5a-4e52-9d5f-96ddab012bd1",
   "metadata": {},
   "outputs": [],
   "source": [
    "m.move_to(x=150)"
   ]
  },
  {
   "cell_type": "code",
   "execution_count": null,
   "id": "0d3fcad5-dd34-43a7-b5d0-aace4bda523b",
   "metadata": {
    "tags": []
   },
   "outputs": [],
   "source": [
    "m.tools"
   ]
  },
  {
   "cell_type": "code",
   "execution_count": null,
   "id": "4633336b-7028-4739-932e-aa665723be71",
   "metadata": {},
   "outputs": [],
   "source": [
    "test = [1, 1, 2]\n",
    "test_arr = np.array(test)"
   ]
  },
  {
   "cell_type": "code",
   "execution_count": null,
   "id": "e1169d83-76ca-475e-9559-ec38d1aa6c48",
   "metadata": {
    "tags": []
   },
   "outputs": [],
   "source": [
    "out = np.multiply(3, test_arr)\n"
   ]
  },
  {
   "cell_type": "code",
   "execution_count": null,
   "id": "14bc0a7e-85fd-4946-ba46-fea8c29fba49",
   "metadata": {
    "tags": []
   },
   "outputs": [],
   "source": [
    "out"
   ]
  },
  {
   "cell_type": "code",
   "execution_count": null,
   "id": "e2545447-e881-44bb-8c96-d30818cd7827",
   "metadata": {},
   "outputs": [],
   "source": []
  }
 ],
 "metadata": {
  "kernelspec": {
   "display_name": "POSE-dev",
   "language": "python",
   "name": "pose-dev"
  },
  "language_info": {
   "codemirror_mode": {
    "name": "ipython",
    "version": 3
   },
   "file_extension": ".py",
   "mimetype": "text/x-python",
   "name": "python",
   "nbconvert_exporter": "python",
   "pygments_lexer": "ipython3",
   "version": "3.7.3"
  }
 },
 "nbformat": 4,
 "nbformat_minor": 5
}
