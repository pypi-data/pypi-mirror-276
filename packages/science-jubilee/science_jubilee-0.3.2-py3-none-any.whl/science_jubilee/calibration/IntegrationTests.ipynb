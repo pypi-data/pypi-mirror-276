{
 "cells": [
  {
   "cell_type": "code",
   "execution_count": 1,
   "id": "70a3521f-de88-4091-a7c9-1e19de1eceb6",
   "metadata": {
    "tags": []
   },
   "outputs": [],
   "source": [
    "from science_jubilee.Machine import Machine\n",
    "from science_jubilee.tools.Camera import Camera\n",
    "from science_jubilee.decks.Deck import Deck\n",
    "%load_ext autoreload\n",
    "%autoreload 2"
   ]
  },
  {
   "cell_type": "code",
   "execution_count": 2,
   "id": "a75259b4-0cfe-436b-8c78-df28521c398e",
   "metadata": {
    "tags": []
   },
   "outputs": [
    {
     "ename": "TypeError",
     "evalue": "__init__() got an unexpected keyword argument 'address'",
     "output_type": "error",
     "traceback": [
      "\u001b[0;31m---------------------------------------------------------------------------\u001b[0m",
      "\u001b[0;31mTypeError\u001b[0m                                 Traceback (most recent call last)",
      "\u001b[0;32m/tmp/ipykernel_2880/4017261540.py\u001b[0m in \u001b[0;36m<module>\u001b[0;34m\u001b[0m\n\u001b[0;32m----> 1\u001b[0;31m \u001b[0mm\u001b[0m \u001b[0;34m=\u001b[0m \u001b[0mMachine\u001b[0m\u001b[0;34m(\u001b[0m\u001b[0maddress\u001b[0m\u001b[0;34m=\u001b[0m\u001b[0;34m'jubilee.local'\u001b[0m\u001b[0;34m)\u001b[0m\u001b[0;34m\u001b[0m\u001b[0;34m\u001b[0m\u001b[0m\n\u001b[0m",
      "\u001b[0;31mTypeError\u001b[0m: __init__() got an unexpected keyword argument 'address'"
     ]
    }
   ],
   "source": [
    "m = Machine(address='jubilee.local')"
   ]
  },
  {
   "cell_type": "code",
   "execution_count": null,
   "id": "12f2ef15-7b6b-43e1-908a-876a378c7545",
   "metadata": {
    "tags": []
   },
   "outputs": [],
   "source": [
    "camera = Camera(3, \"camtool\")"
   ]
  },
  {
   "cell_type": "code",
   "execution_count": null,
   "id": "fd05fee6-c43f-4dda-b0ae-162a7f105ae5",
   "metadata": {
    "tags": []
   },
   "outputs": [],
   "source": [
    "m.reload_tool(camera)"
   ]
  },
  {
   "cell_type": "code",
   "execution_count": null,
   "id": "e93bfe1b-9100-4df8-af90-9cb39251707c",
   "metadata": {
    "tags": []
   },
   "outputs": [],
   "source": [
    "m.pickup_tool(camera)"
   ]
  },
  {
   "cell_type": "code",
   "execution_count": null,
   "id": "da05da9a-fc6b-43ad-a9e5-78c4c8c47ebd",
   "metadata": {
    "tags": []
   },
   "outputs": [],
   "source": [
    "deck = m.load_deck(\"lab_automation_deck_blair\")"
   ]
  },
  {
   "cell_type": "code",
   "execution_count": null,
   "id": "9768b053-7ee4-40c6-9fe5-db3b9ef96e7a",
   "metadata": {
    "tags": []
   },
   "outputs": [],
   "source": [
    "# l = deck.load_labware(\"corning_24_wellplate_3.4ml_flat\", 0)\n",
    "l = deck.load_labware(\"corning_96_wellplate_360ul_flat\", 0)"
   ]
  },
  {
   "cell_type": "code",
   "execution_count": null,
   "id": "8dc8bbca-e69c-4cec-bd5a-b834793540fb",
   "metadata": {
    "tags": []
   },
   "outputs": [],
   "source": [
    "well = l[\"A1\"]\n",
    "well"
   ]
  },
  {
   "cell_type": "code",
   "execution_count": null,
   "id": "09bc0ff0-3735-4d45-b11c-2a9b8ff4c048",
   "metadata": {
    "tags": []
   },
   "outputs": [],
   "source": [
    "m.move_to(x=well.x, y=well.y)"
   ]
  },
  {
   "cell_type": "code",
   "execution_count": null,
   "id": "29f128f3-79fa-43e3-ad39-fe4732fdb8df",
   "metadata": {
    "tags": []
   },
   "outputs": [],
   "source": [
    "camera.video_stream()"
   ]
  },
  {
   "cell_type": "code",
   "execution_count": null,
   "id": "a26d1f17-019d-48fb-bbf2-3969d839edff",
   "metadata": {
    "tags": []
   },
   "outputs": [],
   "source": [
    "x = 10\n",
    "\n",
    "y = x\n",
    "y -= 10\n",
    "\n",
    "print(x)"
   ]
  },
  {
   "cell_type": "code",
   "execution_count": null,
   "id": "8848d4c4-8d5a-4e52-9d5f-96ddab012bd1",
   "metadata": {},
   "outputs": [],
   "source": [
    "m.move_to(x=150)"
   ]
  },
  {
   "cell_type": "code",
   "execution_count": null,
   "id": "0d3fcad5-dd34-43a7-b5d0-aace4bda523b",
   "metadata": {},
   "outputs": [],
   "source": []
  }
 ],
 "metadata": {
  "kernelspec": {
   "display_name": "science_jubilee_testing",
   "language": "python",
   "name": "science_jubilee_testing"
  },
  "language_info": {
   "codemirror_mode": {
    "name": "ipython",
    "version": 3
   },
   "file_extension": ".py",
   "mimetype": "text/x-python",
   "name": "python",
   "nbconvert_exporter": "python",
   "pygments_lexer": "ipython3",
   "version": "3.7.3"
  }
 },
 "nbformat": 4,
 "nbformat_minor": 5
}
