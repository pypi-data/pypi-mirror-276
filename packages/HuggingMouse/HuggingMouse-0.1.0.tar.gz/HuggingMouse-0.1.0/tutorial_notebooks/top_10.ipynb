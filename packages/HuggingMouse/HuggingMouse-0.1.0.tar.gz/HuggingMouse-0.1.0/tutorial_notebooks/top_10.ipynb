{
 "cells": [
  {
   "cell_type": "code",
   "execution_count": 4,
   "metadata": {},
   "outputs": [
    {
     "name": "stdout",
     "output_type": "stream",
     "text": [
      "Top 10 keys based on values:\n",
      "['google/vit-base-patch16-224', 'timm/mobilenetv3_large_100.ra_in1k', 'microsoft/beit-base-patch16-224-pt22k-ft22k', 'timm/resnet50.a1_in1k', 'timm/resnet18.a1_in1k', 'WinKawaks/vit-tiny-patch16-224', 'amunchet/rorshark-vit-base', 'microsoft/resnet-50', 'microsoft/swin-base-patch4-window7-224-in22k', 'nateraw/vit-age-classifier']\n"
     ]
    }
   ],
   "source": [
    "import json\n",
    "\n",
    "# Open the JSON file and load its contents into a dictionary\n",
    "with open('/home/maria/HuggingMouse/scripts/sorted_models_downloads.json', 'r') as file:\n",
    "    data = json.load(file)\n",
    "\n",
    "# Sort the dictionary based on values in descending order\n",
    "sorted_data = dict(sorted(data.items(), key=lambda item: int(item[1]), reverse=True))\n",
    "\n",
    "# Get the top 10 keys\n",
    "top_10_keys = list(sorted_data.keys())[:10]\n",
    "\n",
    "print(\"Top 10 keys based on values:\")\n",
    "print(top_10_keys)"
   ]
  },
  {
   "cell_type": "code",
   "execution_count": null,
   "metadata": {},
   "outputs": [],
   "source": []
  }
 ],
 "metadata": {
  "kernelspec": {
   "display_name": "base",
   "language": "python",
   "name": "python3"
  },
  "language_info": {
   "codemirror_mode": {
    "name": "ipython",
    "version": 3
   },
   "file_extension": ".py",
   "mimetype": "text/x-python",
   "name": "python",
   "nbconvert_exporter": "python",
   "pygments_lexer": "ipython3",
   "version": "3.9.13"
  }
 },
 "nbformat": 4,
 "nbformat_minor": 2
}
