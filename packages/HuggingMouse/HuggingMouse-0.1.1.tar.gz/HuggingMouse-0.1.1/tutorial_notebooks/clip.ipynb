{
 "cells": [
  {
   "cell_type": "code",
   "execution_count": 6,
   "metadata": {},
   "outputs": [
    {
     "name": "stdout",
     "output_type": "stream",
     "text": [
      "Requirement already satisfied: HuggingMouse in /home/maria/anaconda3/lib/python3.9/site-packages (0.0.2)\n",
      "Requirement already satisfied: scikit-learn==1.2.2 in /home/maria/anaconda3/lib/python3.9/site-packages (from HuggingMouse) (1.2.2)\n",
      "Requirement already satisfied: torch==1.13.1 in /home/maria/anaconda3/lib/python3.9/site-packages (from HuggingMouse) (1.13.1)\n",
      "Requirement already satisfied: pandas==1.5.3 in /home/maria/anaconda3/lib/python3.9/site-packages (from HuggingMouse) (1.5.3)\n",
      "Requirement already satisfied: numpy==1.23.5 in /home/maria/anaconda3/lib/python3.9/site-packages (from HuggingMouse) (1.23.5)\n",
      "Requirement already satisfied: transformers==4.31.0 in /home/maria/anaconda3/lib/python3.9/site-packages (from HuggingMouse) (4.31.0)\n",
      "Requirement already satisfied: allensdk==2.16.2 in /home/maria/anaconda3/lib/python3.9/site-packages (from HuggingMouse) (2.16.2)\n",
      "Requirement already satisfied: psycopg2-binary in /home/maria/anaconda3/lib/python3.9/site-packages (from allensdk==2.16.2->HuggingMouse) (2.9.6)\n",
      "Requirement already satisfied: hdmf!=3.5.*,!=3.6.*,!=3.7.*,!=3.8.* in /home/maria/anaconda3/lib/python3.9/site-packages (from allensdk==2.16.2->HuggingMouse) (3.12.2)\n",
      "Requirement already satisfied: h5py in /home/maria/anaconda3/lib/python3.9/site-packages (from allensdk==2.16.2->HuggingMouse) (3.7.0)\n",
      "Requirement already satisfied: matplotlib in /home/maria/anaconda3/lib/python3.9/site-packages (from allensdk==2.16.2->HuggingMouse) (3.7.1)\n",
      "Requirement already satisfied: jinja2 in /home/maria/anaconda3/lib/python3.9/site-packages (from allensdk==2.16.2->HuggingMouse) (3.1.2)\n",
      "Requirement already satisfied: scipy<1.11 in /home/maria/anaconda3/lib/python3.9/site-packages (from allensdk==2.16.2->HuggingMouse) (1.10.1)\n",
      "Requirement already satisfied: six in /home/maria/anaconda3/lib/python3.9/site-packages (from allensdk==2.16.2->HuggingMouse) (1.16.0)\n",
      "Requirement already satisfied: pynrrd in /home/maria/anaconda3/lib/python3.9/site-packages (from allensdk==2.16.2->HuggingMouse) (0.4.3)\n",
      "Requirement already satisfied: future in /home/maria/anaconda3/lib/python3.9/site-packages (from allensdk==2.16.2->HuggingMouse) (0.18.2)\n",
      "Requirement already satisfied: requests in /home/maria/anaconda3/lib/python3.9/site-packages (from allensdk==2.16.2->HuggingMouse) (2.31.0)\n",
      "Requirement already satisfied: requests-toolbelt in /home/maria/anaconda3/lib/python3.9/site-packages (from allensdk==2.16.2->HuggingMouse) (0.10.1)\n",
      "Requirement already satisfied: simplejson in /home/maria/anaconda3/lib/python3.9/site-packages (from allensdk==2.16.2->HuggingMouse) (3.19.1)\n",
      "Requirement already satisfied: scikit-image in /home/maria/anaconda3/lib/python3.9/site-packages (from allensdk==2.16.2->HuggingMouse) (0.19.2)\n",
      "Requirement already satisfied: scikit-build in /home/maria/anaconda3/lib/python3.9/site-packages (from allensdk==2.16.2->HuggingMouse) (0.17.4)\n",
      "Requirement already satisfied: statsmodels in /home/maria/anaconda3/lib/python3.9/site-packages (from allensdk==2.16.2->HuggingMouse) (0.14.0)\n",
      "Requirement already satisfied: simpleitk in /home/maria/anaconda3/lib/python3.9/site-packages (from allensdk==2.16.2->HuggingMouse) (2.2.1)\n",
      "Requirement already satisfied: argschema in /home/maria/anaconda3/lib/python3.9/site-packages (from allensdk==2.16.2->HuggingMouse) (3.0.4)\n",
      "Requirement already satisfied: glymur in /home/maria/anaconda3/lib/python3.9/site-packages (from allensdk==2.16.2->HuggingMouse) (0.8.19)\n",
      "Requirement already satisfied: xarray<2023.2.0 in /home/maria/anaconda3/lib/python3.9/site-packages (from allensdk==2.16.2->HuggingMouse) (2023.1.0)\n",
      "Requirement already satisfied: pynwb in /home/maria/anaconda3/lib/python3.9/site-packages (from allensdk==2.16.2->HuggingMouse) (2.3.3)\n",
      "Requirement already satisfied: tables in /home/maria/anaconda3/lib/python3.9/site-packages (from allensdk==2.16.2->HuggingMouse) (3.6.1)\n",
      "Requirement already satisfied: seaborn in /home/maria/anaconda3/lib/python3.9/site-packages (from allensdk==2.16.2->HuggingMouse) (0.11.2)\n",
      "Requirement already satisfied: aiohttp in /home/maria/anaconda3/lib/python3.9/site-packages (from allensdk==2.16.2->HuggingMouse) (3.8.4)\n",
      "Requirement already satisfied: nest-asyncio in /home/maria/anaconda3/lib/python3.9/site-packages (from allensdk==2.16.2->HuggingMouse) (1.5.5)\n",
      "Requirement already satisfied: tqdm in /home/maria/anaconda3/lib/python3.9/site-packages (from allensdk==2.16.2->HuggingMouse) (4.65.0)\n",
      "Requirement already satisfied: ndx-events in /home/maria/anaconda3/lib/python3.9/site-packages (from allensdk==2.16.2->HuggingMouse) (0.2.0)\n",
      "Requirement already satisfied: boto3 in /home/maria/anaconda3/lib/python3.9/site-packages (from allensdk==2.16.2->HuggingMouse) (1.17.21)\n",
      "Requirement already satisfied: semver in /home/maria/anaconda3/lib/python3.9/site-packages (from allensdk==2.16.2->HuggingMouse) (2.13.0)\n",
      "Requirement already satisfied: cachetools in /home/maria/anaconda3/lib/python3.9/site-packages (from allensdk==2.16.2->HuggingMouse) (4.2.4)\n",
      "Requirement already satisfied: sqlalchemy in /home/maria/anaconda3/lib/python3.9/site-packages (from allensdk==2.16.2->HuggingMouse) (1.4.39)\n",
      "Requirement already satisfied: python-dateutil in /home/maria/anaconda3/lib/python3.9/site-packages (from allensdk==2.16.2->HuggingMouse) (2.8.2)\n",
      "Requirement already satisfied: pytz>=2020.1 in /home/maria/anaconda3/lib/python3.9/site-packages (from pandas==1.5.3->HuggingMouse) (2023.3)\n",
      "Requirement already satisfied: joblib>=1.1.1 in /home/maria/anaconda3/lib/python3.9/site-packages (from scikit-learn==1.2.2->HuggingMouse) (1.2.0)\n",
      "Requirement already satisfied: threadpoolctl>=2.0.0 in /home/maria/anaconda3/lib/python3.9/site-packages (from scikit-learn==1.2.2->HuggingMouse) (3.1.0)\n",
      "Requirement already satisfied: typing-extensions in /home/maria/anaconda3/lib/python3.9/site-packages (from torch==1.13.1->HuggingMouse) (4.7.1)\n",
      "Requirement already satisfied: nvidia-cuda-runtime-cu11==11.7.99 in /home/maria/anaconda3/lib/python3.9/site-packages (from torch==1.13.1->HuggingMouse) (11.7.99)\n",
      "Requirement already satisfied: nvidia-cudnn-cu11==8.5.0.96 in /home/maria/anaconda3/lib/python3.9/site-packages (from torch==1.13.1->HuggingMouse) (8.5.0.96)\n",
      "Requirement already satisfied: nvidia-cublas-cu11==11.10.3.66 in /home/maria/anaconda3/lib/python3.9/site-packages (from torch==1.13.1->HuggingMouse) (11.10.3.66)\n",
      "Requirement already satisfied: nvidia-cuda-nvrtc-cu11==11.7.99 in /home/maria/anaconda3/lib/python3.9/site-packages (from torch==1.13.1->HuggingMouse) (11.7.99)\n",
      "Requirement already satisfied: filelock in /home/maria/anaconda3/lib/python3.9/site-packages (from transformers==4.31.0->HuggingMouse) (3.6.0)\n",
      "Requirement already satisfied: huggingface-hub<1.0,>=0.14.1 in /home/maria/anaconda3/lib/python3.9/site-packages (from transformers==4.31.0->HuggingMouse) (0.14.1)\n",
      "Requirement already satisfied: packaging>=20.0 in /home/maria/anaconda3/lib/python3.9/site-packages (from transformers==4.31.0->HuggingMouse) (23.1)\n",
      "Requirement already satisfied: pyyaml>=5.1 in /home/maria/anaconda3/lib/python3.9/site-packages (from transformers==4.31.0->HuggingMouse) (6.0)\n",
      "Requirement already satisfied: regex!=2019.12.17 in /home/maria/anaconda3/lib/python3.9/site-packages (from transformers==4.31.0->HuggingMouse) (2022.7.9)\n",
      "Requirement already satisfied: tokenizers!=0.11.3,<0.14,>=0.11.1 in /home/maria/anaconda3/lib/python3.9/site-packages (from transformers==4.31.0->HuggingMouse) (0.13.3)\n",
      "Requirement already satisfied: safetensors>=0.3.1 in /home/maria/anaconda3/lib/python3.9/site-packages (from transformers==4.31.0->HuggingMouse) (0.3.1)\n",
      "Requirement already satisfied: setuptools in /home/maria/anaconda3/lib/python3.9/site-packages (from nvidia-cublas-cu11==11.10.3.66->torch==1.13.1->HuggingMouse) (69.2.0)\n",
      "Requirement already satisfied: wheel in /home/maria/anaconda3/lib/python3.9/site-packages (from nvidia-cublas-cu11==11.10.3.66->torch==1.13.1->HuggingMouse) (0.43.0)\n",
      "Requirement already satisfied: jsonschema>=2.6.0 in /home/maria/anaconda3/lib/python3.9/site-packages (from hdmf!=3.5.*,!=3.6.*,!=3.7.*,!=3.8.*->allensdk==2.16.2->HuggingMouse) (4.17.3)\n",
      "Requirement already satisfied: ruamel-yaml>=0.16 in /home/maria/anaconda3/lib/python3.9/site-packages (from hdmf!=3.5.*,!=3.6.*,!=3.7.*,!=3.8.*->allensdk==2.16.2->HuggingMouse) (0.17.21)\n",
      "Requirement already satisfied: fsspec in /home/maria/anaconda3/lib/python3.9/site-packages (from huggingface-hub<1.0,>=0.14.1->transformers==4.31.0->HuggingMouse) (2022.7.1)\n",
      "Requirement already satisfied: attrs>=17.3.0 in /home/maria/anaconda3/lib/python3.9/site-packages (from aiohttp->allensdk==2.16.2->HuggingMouse) (23.1.0)\n",
      "Requirement already satisfied: charset-normalizer<4.0,>=2.0 in /home/maria/anaconda3/lib/python3.9/site-packages (from aiohttp->allensdk==2.16.2->HuggingMouse) (3.1.0)\n",
      "Requirement already satisfied: multidict<7.0,>=4.5 in /home/maria/anaconda3/lib/python3.9/site-packages (from aiohttp->allensdk==2.16.2->HuggingMouse) (6.0.4)\n",
      "Requirement already satisfied: async-timeout<5.0,>=4.0.0a3 in /home/maria/anaconda3/lib/python3.9/site-packages (from aiohttp->allensdk==2.16.2->HuggingMouse) (4.0.2)\n",
      "Requirement already satisfied: yarl<2.0,>=1.0 in /home/maria/anaconda3/lib/python3.9/site-packages (from aiohttp->allensdk==2.16.2->HuggingMouse) (1.9.2)\n",
      "Requirement already satisfied: frozenlist>=1.1.1 in /home/maria/anaconda3/lib/python3.9/site-packages (from aiohttp->allensdk==2.16.2->HuggingMouse) (1.3.3)\n",
      "Requirement already satisfied: aiosignal>=1.1.2 in /home/maria/anaconda3/lib/python3.9/site-packages (from aiohttp->allensdk==2.16.2->HuggingMouse) (1.3.1)\n",
      "Requirement already satisfied: marshmallow<4.0,>=3.0.0 in /home/maria/anaconda3/lib/python3.9/site-packages (from argschema->allensdk==2.16.2->HuggingMouse) (3.19.0)\n",
      "Requirement already satisfied: botocore<1.21.0,>=1.20.21 in /home/maria/anaconda3/lib/python3.9/site-packages (from boto3->allensdk==2.16.2->HuggingMouse) (1.20.112)\n",
      "Requirement already satisfied: jmespath<1.0.0,>=0.7.1 in /home/maria/anaconda3/lib/python3.9/site-packages (from boto3->allensdk==2.16.2->HuggingMouse) (0.10.0)\n",
      "Requirement already satisfied: s3transfer<0.4.0,>=0.3.0 in /home/maria/anaconda3/lib/python3.9/site-packages (from boto3->allensdk==2.16.2->HuggingMouse) (0.3.7)\n",
      "Requirement already satisfied: MarkupSafe>=2.0 in /home/maria/anaconda3/lib/python3.9/site-packages (from jinja2->allensdk==2.16.2->HuggingMouse) (2.1.3)\n",
      "Requirement already satisfied: contourpy>=1.0.1 in /home/maria/anaconda3/lib/python3.9/site-packages (from matplotlib->allensdk==2.16.2->HuggingMouse) (1.0.7)\n",
      "Requirement already satisfied: cycler>=0.10 in /home/maria/anaconda3/lib/python3.9/site-packages (from matplotlib->allensdk==2.16.2->HuggingMouse) (0.11.0)\n",
      "Requirement already satisfied: fonttools>=4.22.0 in /home/maria/anaconda3/lib/python3.9/site-packages (from matplotlib->allensdk==2.16.2->HuggingMouse) (4.25.0)\n",
      "Requirement already satisfied: kiwisolver>=1.0.1 in /home/maria/anaconda3/lib/python3.9/site-packages (from matplotlib->allensdk==2.16.2->HuggingMouse) (1.4.2)\n",
      "Requirement already satisfied: pillow>=6.2.0 in /home/maria/anaconda3/lib/python3.9/site-packages (from matplotlib->allensdk==2.16.2->HuggingMouse) (10.2.0)\n",
      "Requirement already satisfied: pyparsing>=2.3.1 in /home/maria/anaconda3/lib/python3.9/site-packages (from matplotlib->allensdk==2.16.2->HuggingMouse) (3.0.9)\n",
      "Requirement already satisfied: importlib-resources>=3.2.0 in /home/maria/anaconda3/lib/python3.9/site-packages (from matplotlib->allensdk==2.16.2->HuggingMouse) (5.12.0)\n",
      "Requirement already satisfied: idna<4,>=2.5 in /home/maria/anaconda3/lib/python3.9/site-packages (from requests->allensdk==2.16.2->HuggingMouse) (3.4)\n",
      "Requirement already satisfied: urllib3<3,>=1.21.1 in /home/maria/.local/lib/python3.9/site-packages (from requests->allensdk==2.16.2->HuggingMouse) (1.26.7)\n",
      "Requirement already satisfied: certifi>=2017.4.17 in /home/maria/anaconda3/lib/python3.9/site-packages (from requests->allensdk==2.16.2->HuggingMouse) (2023.5.7)\n",
      "Requirement already satisfied: distro in /home/maria/anaconda3/lib/python3.9/site-packages (from scikit-build->allensdk==2.16.2->HuggingMouse) (1.8.0)\n",
      "Requirement already satisfied: tomli in /home/maria/anaconda3/lib/python3.9/site-packages (from scikit-build->allensdk==2.16.2->HuggingMouse) (2.0.1)\n",
      "Requirement already satisfied: networkx>=2.2 in /home/maria/anaconda3/lib/python3.9/site-packages (from scikit-image->allensdk==2.16.2->HuggingMouse) (3.1)\n",
      "Requirement already satisfied: imageio>=2.4.1 in /home/maria/anaconda3/lib/python3.9/site-packages (from scikit-image->allensdk==2.16.2->HuggingMouse) (2.19.3)\n",
      "Requirement already satisfied: tifffile>=2019.7.26 in /home/maria/anaconda3/lib/python3.9/site-packages (from scikit-image->allensdk==2.16.2->HuggingMouse) (2021.7.2)\n",
      "Requirement already satisfied: PyWavelets>=1.1.1 in /home/maria/anaconda3/lib/python3.9/site-packages (from scikit-image->allensdk==2.16.2->HuggingMouse) (1.3.0)\n",
      "Requirement already satisfied: greenlet!=0.4.17 in /home/maria/anaconda3/lib/python3.9/site-packages (from sqlalchemy->allensdk==2.16.2->HuggingMouse) (1.1.1)\n",
      "Requirement already satisfied: patsy>=0.5.2 in /home/maria/anaconda3/lib/python3.9/site-packages (from statsmodels->allensdk==2.16.2->HuggingMouse) (0.5.2)\n",
      "Requirement already satisfied: numexpr>=2.6.2 in /home/maria/anaconda3/lib/python3.9/site-packages (from tables->allensdk==2.16.2->HuggingMouse) (2.8.4)\n",
      "Requirement already satisfied: zipp>=3.1.0 in /home/maria/anaconda3/lib/python3.9/site-packages (from importlib-resources>=3.2.0->matplotlib->allensdk==2.16.2->HuggingMouse) (3.15.0)\n",
      "Requirement already satisfied: pyrsistent!=0.17.0,!=0.17.1,!=0.17.2,>=0.14.0 in /home/maria/anaconda3/lib/python3.9/site-packages (from jsonschema>=2.6.0->hdmf!=3.5.*,!=3.6.*,!=3.7.*,!=3.8.*->allensdk==2.16.2->HuggingMouse) (0.18.0)\n",
      "Requirement already satisfied: ruamel.yaml.clib>=0.2.6 in /home/maria/anaconda3/lib/python3.9/site-packages (from ruamel-yaml>=0.16->hdmf!=3.5.*,!=3.6.*,!=3.7.*,!=3.8.*->allensdk==2.16.2->HuggingMouse) (0.2.6)\n"
     ]
    }
   ],
   "source": [
    "!pip install HuggingMouse"
   ]
  },
  {
   "cell_type": "code",
   "execution_count": 7,
   "metadata": {},
   "outputs": [],
   "source": [
    "from dotenv import load_dotenv\n",
    "\n",
    "load_dotenv('.env')\n",
    "\n",
    "from HuggingMouse.allen_api_utilities import AllenExperimentUtility\n",
    "from HuggingMouse.visualizers import VisualizerDimReduction\n",
    "from HuggingMouse.trial_averaged_data import MakeTrialAveragedData\n",
    "from sklearn.decomposition import PCA\n",
    "from sklearn.manifold import TSNE\n",
    "from transformers import ViTImageProcessor, ViTModel\n",
    "from HuggingMouse.regressors import VisionEmbeddingToNeuronsRegressor\n",
    "from sklearn.linear_model import Ridge\n",
    "from sklearn.metrics import r2_score, mean_squared_error, explained_variance_score\n",
    "from transformers import CLIPVisionModel"
   ]
  },
  {
   "cell_type": "code",
   "execution_count": 8,
   "metadata": {},
   "outputs": [
    {
     "name": "stderr",
     "output_type": "stream",
     "text": [
      "Could not find image processor class in the image processor config or the model config. Loading based on pattern matching with the model's feature extractor configuration.\n"
     ]
    },
    {
     "name": "stdout",
     "output_type": "stream",
     "text": [
      "dict_keys(['natural_movie_one', 'natural_movie_two', 'natural_movie_three'])\n"
     ]
    },
    {
     "name": "stderr",
     "output_type": "stream",
     "text": [
      "/home/maria/anaconda3/lib/python3.9/site-packages/HuggingMouse/regressors.py:117: FutureWarning: The frame.append method is deprecated and will be removed from pandas in a future version. Use pandas.concat instead.\n",
      "  data_index_df = data_index_df.append(\n"
     ]
    }
   ],
   "source": [
    "\n",
    "\n",
    "id=511510736\n",
    "\n",
    "regression_model = Ridge(10)\n",
    "metrics = [r2_score, mean_squared_error, explained_variance_score]\n",
    "#model = CLIPVisionModel.from_pretrained(\"openai/clip-vit-base-patch32\")\n",
    "model = ViTModel.from_pretrained('google/vit-base-patch16-224')\n",
    "VisionEmbeddingToNeuronsRegressor(regression_model, metrics, model=model).execute(id)"
   ]
  },
  {
   "cell_type": "code",
   "execution_count": 12,
   "metadata": {},
   "outputs": [],
   "source": [
    "%matplotlib qt\n",
    "trial_averaged_data = MakeTrialAveragedData().get_data(id)\n",
    "dim_reduction_model = PCA(n_components=3)\n",
    "visualizer = VisualizerDimReduction(dim_reduction_model)\n",
    "visualizer.visualize(trial_averaged_data,\n",
    "                      'three_session_A', 'natural_movie_one')"
   ]
  }
 ],
 "metadata": {
  "kernelspec": {
   "display_name": "base",
   "language": "python",
   "name": "python3"
  },
  "language_info": {
   "codemirror_mode": {
    "name": "ipython",
    "version": 3
   },
   "file_extension": ".py",
   "mimetype": "text/x-python",
   "name": "python",
   "nbconvert_exporter": "python",
   "pygments_lexer": "ipython3",
   "version": "3.9.13"
  }
 },
 "nbformat": 4,
 "nbformat_minor": 2
}
