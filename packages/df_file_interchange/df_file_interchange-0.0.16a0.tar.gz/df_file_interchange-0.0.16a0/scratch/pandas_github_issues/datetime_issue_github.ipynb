{
 "cells": [
  {
   "cell_type": "code",
   "execution_count": 1,
   "metadata": {},
   "outputs": [],
   "source": [
    "import pandas as pd\n",
    "import numpy as np\n",
    "from zoneinfo import ZoneInfo\n",
    "\n",
    "# https://github.com/pandas-dev/pandas/issues/57644"
   ]
  },
  {
   "cell_type": "code",
   "execution_count": 2,
   "metadata": {},
   "outputs": [
    {
     "ename": "AssertionError",
     "evalue": "Attributes of DataFrame.iloc[:, 3] (column name=\"F_pd_DatetimeTZDtype\") are different\n\nAttribute \"dtype\" are different\n[left]:  datetime64[ns, Europe/Paris]\n[right]: datetime64[ns, Europe/Paris]",
     "output_type": "error",
     "traceback": [
      "\u001b[0;31m---------------------------------------------------------------------------\u001b[0m",
      "\u001b[0;31mAssertionError\u001b[0m                            Traceback (most recent call last)",
      "Cell \u001b[0;32mIn[2], line 17\u001b[0m\n\u001b[1;32m     11\u001b[0m df2[\u001b[38;5;124m\"\u001b[39m\u001b[38;5;124mF_pd_DatetimeTZDtype\u001b[39m\u001b[38;5;124m\"\u001b[39m] \u001b[38;5;241m=\u001b[39m pd\u001b[38;5;241m.\u001b[39marray(\n\u001b[1;32m     12\u001b[0m     [\u001b[38;5;124m\"\u001b[39m\u001b[38;5;124m2010/01/31 10:23:01\u001b[39m\u001b[38;5;124m\"\u001b[39m, \u001b[38;5;124m\"\u001b[39m\u001b[38;5;124m1990\u001b[39m\u001b[38;5;124m\"\u001b[39m, \u001b[38;5;124m\"\u001b[39m\u001b[38;5;124m2025/01/01 00:00+1\u001b[39m\u001b[38;5;124m\"\u001b[39m, \u001b[38;5;241m1\u001b[39m, \u001b[38;5;124m\"\u001b[39m\u001b[38;5;124m2024-12-31\u001b[39m\u001b[38;5;124m\"\u001b[39m],\n\u001b[1;32m     13\u001b[0m     dtype\u001b[38;5;241m=\u001b[39m\u001b[38;5;124m\"\u001b[39m\u001b[38;5;124mdatetime64[ns, Europe/Paris]\u001b[39m\u001b[38;5;124m\"\u001b[39m,\n\u001b[1;32m     14\u001b[0m )\n\u001b[1;32m     16\u001b[0m \u001b[38;5;66;03m# Check if the dataframes are equal (this fails)\u001b[39;00m\n\u001b[0;32m---> 17\u001b[0m \u001b[43mpd\u001b[49m\u001b[38;5;241;43m.\u001b[39;49m\u001b[43mtesting\u001b[49m\u001b[38;5;241;43m.\u001b[39;49m\u001b[43massert_frame_equal\u001b[49m\u001b[43m(\u001b[49m\u001b[43mdf\u001b[49m\u001b[43m,\u001b[49m\u001b[43m \u001b[49m\u001b[43mdf2\u001b[49m\u001b[43m)\u001b[49m\n",
      "    \u001b[0;31m[... skipping hidden 3 frame]\u001b[0m\n",
      "File \u001b[0;32m~/miniconda3/envs/exio-datamanager/lib/python3.11/site-packages/pandas/_testing/asserters.py:614\u001b[0m, in \u001b[0;36mraise_assert_detail\u001b[0;34m(obj, message, left, right, diff, first_diff, index_values)\u001b[0m\n\u001b[1;32m    611\u001b[0m \u001b[38;5;28;01mif\u001b[39;00m first_diff \u001b[38;5;129;01mis\u001b[39;00m \u001b[38;5;129;01mnot\u001b[39;00m \u001b[38;5;28;01mNone\u001b[39;00m:\n\u001b[1;32m    612\u001b[0m     msg \u001b[38;5;241m+\u001b[39m\u001b[38;5;241m=\u001b[39m \u001b[38;5;124mf\u001b[39m\u001b[38;5;124m\"\u001b[39m\u001b[38;5;130;01m\\n\u001b[39;00m\u001b[38;5;132;01m{\u001b[39;00mfirst_diff\u001b[38;5;132;01m}\u001b[39;00m\u001b[38;5;124m\"\u001b[39m\n\u001b[0;32m--> 614\u001b[0m \u001b[38;5;28;01mraise\u001b[39;00m \u001b[38;5;167;01mAssertionError\u001b[39;00m(msg)\n",
      "\u001b[0;31mAssertionError\u001b[0m: Attributes of DataFrame.iloc[:, 3] (column name=\"F_pd_DatetimeTZDtype\") are different\n\nAttribute \"dtype\" are different\n[left]:  datetime64[ns, Europe/Paris]\n[right]: datetime64[ns, Europe/Paris]"
     ]
    }
   ],
   "source": [
    "# Create two identical dataframes\n",
    "dates = pd.date_range(\"1/1/2000\", periods=5, name=\"Date\")\n",
    "df = pd.DataFrame(np.ones((5, 3)), index=dates, columns=[\"A\", \"B\", \"C\"])\n",
    "df2 = pd.DataFrame(np.ones((5, 3)), index=dates, columns=[\"A\", \"B\", \"C\"])\n",
    "\n",
    "# Add a datetime column to each with identical data but the (same?) dtype specified using different syntax.\n",
    "df[\"F_pd_DatetimeTZDtype\"] = pd.array(\n",
    "    [\"2010/01/31 10:23:01\", \"1990\", \"2025/01/01 00:00+1\", 1, \"2024-12-31\"],\n",
    "    dtype=pd.DatetimeTZDtype(tz=ZoneInfo(\"Europe/Paris\")),\n",
    ")\n",
    "df2[\"F_pd_DatetimeTZDtype\"] = pd.array(\n",
    "    [\"2010/01/31 10:23:01\", \"1990\", \"2025/01/01 00:00+1\", 1, \"2024-12-31\"],\n",
    "    dtype=\"datetime64[ns, Europe/Paris]\",\n",
    ")\n",
    "\n",
    "# Check if the dataframes are equal (this fails)\n",
    "pd.testing.assert_frame_equal(df, df2)"
   ]
  },
  {
   "cell_type": "code",
   "execution_count": 3,
   "metadata": {},
   "outputs": [
    {
     "name": "stdout",
     "output_type": "stream",
     "text": [
      "<class 'zoneinfo.ZoneInfo'>\n",
      "<class 'pytz.tzfile.Europe/Paris'>\n"
     ]
    }
   ],
   "source": [
    "print(type(df[\"F_pd_DatetimeTZDtype\"].dtype.tz))\n",
    "# <class 'zoneinfo.ZoneInfo'>\n",
    "\n",
    "print(type(df2[\"F_pd_DatetimeTZDtype\"].dtype.tz))\n",
    "# <class 'pytz.tzfile.Europe/Paris'>"
   ]
  },
  {
   "cell_type": "code",
   "execution_count": null,
   "metadata": {},
   "outputs": [],
   "source": []
  }
 ],
 "metadata": {
  "kernelspec": {
   "display_name": "exio-datamanager",
   "language": "python",
   "name": "python3"
  },
  "language_info": {
   "codemirror_mode": {
    "name": "ipython",
    "version": 3
   },
   "file_extension": ".py",
   "mimetype": "text/x-python",
   "name": "python",
   "nbconvert_exporter": "python",
   "pygments_lexer": "ipython3",
   "version": "3.11.8"
  }
 },
 "nbformat": 4,
 "nbformat_minor": 2
}
