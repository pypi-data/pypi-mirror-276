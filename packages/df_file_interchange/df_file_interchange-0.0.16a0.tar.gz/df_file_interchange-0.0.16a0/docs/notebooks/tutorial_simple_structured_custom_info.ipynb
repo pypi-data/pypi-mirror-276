{
 "cells": [
  {
   "cell_type": "code",
   "execution_count": 1,
   "metadata": {},
   "outputs": [],
   "source": [
    "import pandas as pd\n",
    "import numpy as np\n",
    "import df_file_interchange as fi\n",
    "from pathlib import Path\n",
    "\n",
    "# Make things a little easier in terms of syntax\n",
    "from df_file_interchange.ci.extra.std_extra import FIStdExtraInfo\n",
    "from df_file_interchange.ci.structured import FIStructuredCustomInfo\n",
    "from df_file_interchange.ci.unit.currency import FICurrencyUnit\n",
    "from df_file_interchange.ci.unit.population import FIPopulationUnit\n",
    "\n"
   ]
  },
  {
   "cell_type": "code",
   "execution_count": 2,
   "metadata": {},
   "outputs": [],
   "source": [
    "# Create basic dataframe\n",
    "df = pd.DataFrame(np.random.randn(3, 4), columns=[\"a\", \"b\", \"c\", \"d\"])\n",
    "df[\"pop\"] = pd.array([1234, 5678, 91011])\n",
    "\n",
    "# Define some units\n",
    "unit_cur_a = FICurrencyUnit(unit_desc=\"USD\", unit_multiplier=1000)\n",
    "unit_cur_b = FICurrencyUnit(unit_desc=\"EUR\", unit_multiplier=1000)\n",
    "unit_cur_c = FICurrencyUnit(unit_desc=\"JPY\", unit_multiplier=1000000)\n",
    "unit_cur_d = FICurrencyUnit(unit_desc=\"USD\", unit_multiplier=1000)\n",
    "unit_pop = FIPopulationUnit(unit_desc=\"people\", unit_multiplier=1)\n",
    "\n",
    "# Define some extra info\n",
    "extra_info = FIStdExtraInfo(author=\"Spud\", source=\"Potato\")\n",
    "\n",
    "# Put that together into a custom_info object\n",
    "custom_info = FIStructuredCustomInfo(\n",
    "    extra_info=extra_info,\n",
    "    col_units={\n",
    "        \"a\": unit_cur_a,\n",
    "        \"b\": unit_cur_b,\n",
    "        \"c\": unit_cur_c,\n",
    "        \"d\": unit_cur_d,\n",
    "        \"pop\": unit_pop,\n",
    "    },\n",
    ")\n"
   ]
  },
  {
   "cell_type": "code",
   "execution_count": 3,
   "metadata": {},
   "outputs": [],
   "source": [
    "# Now, lets write the dataframe to file\n",
    "\n",
    "data_dir = Path(\"./data/\")\n",
    "data_dir.mkdir(exist_ok=True)\n",
    "datafile_csv = Path(data_dir / \"tutorial_simple_structured_custom_info.csv\")\n",
    "\n",
    "# Write to a CSV file (file format determined by extension of datafile_csv_path)\n",
    "metafile_yaml = fi.write_df_to_file(df, datafile_csv, custom_info=custom_info)"
   ]
  },
  {
   "cell_type": "code",
   "execution_count": 4,
   "metadata": {},
   "outputs": [
    {
     "data": {
      "text/plain": [
       "PosixPath('data/tutorial_simple_structured_custom_info.yaml')"
      ]
     },
     "execution_count": 4,
     "metadata": {},
     "output_type": "execute_result"
    }
   ],
   "source": [
    "metafile_yaml"
   ]
  },
  {
   "cell_type": "code",
   "execution_count": 5,
   "metadata": {},
   "outputs": [],
   "source": [
    "# Read the dataframe back into df_reload along with metainfo in metainfo_reload\n",
    "(df_reload, metainfo_reload) = fi.read_df(metafile_yaml)"
   ]
  },
  {
   "cell_type": "code",
   "execution_count": 6,
   "metadata": {},
   "outputs": [
    {
     "data": {
      "text/plain": [
       "True"
      ]
     },
     "execution_count": 6,
     "metadata": {},
     "output_type": "execute_result"
    }
   ],
   "source": [
    "# Check df_reload is the same as the original (only for demo purposes)\n",
    "fi.chk_strict_frames_eq_ignore_nan(df, df_reload)"
   ]
  },
  {
   "cell_type": "code",
   "execution_count": 7,
   "metadata": {},
   "outputs": [
    {
     "data": {
      "text/plain": [
       "FIStructuredCustomInfo(unstructured_data={}, extra_info=FIStdExtraInfo(author='Spud', source='Potato', description=None, processed_date=None, processed_by=None, classname='FIStdExtraInfo'), col_units={'a': FICurrencyUnit(unit_desc='USD', unit_multiplier=1000.0, unit_year=None, unit_year_method=None, unit_date=None, classname='FICurrencyUnit'), 'b': FICurrencyUnit(unit_desc='EUR', unit_multiplier=1000.0, unit_year=None, unit_year_method=None, unit_date=None, classname='FICurrencyUnit'), 'c': FICurrencyUnit(unit_desc='JPY', unit_multiplier=1000000.0, unit_year=None, unit_year_method=None, unit_date=None, classname='FICurrencyUnit'), 'd': FICurrencyUnit(unit_desc='USD', unit_multiplier=1000.0, unit_year=None, unit_year_method=None, unit_date=None, classname='FICurrencyUnit'), 'pop': FIPopulationUnit(unit_desc='people', unit_multiplier=1, classname='FIPopulationUnit')}, classname='FIStructuredCustomInfo')"
      ]
     },
     "execution_count": 7,
     "metadata": {},
     "output_type": "execute_result"
    }
   ],
   "source": [
    "# Lets have a look at the custom info we read from the file\n",
    "metainfo_reload.custom_info"
   ]
  },
  {
   "cell_type": "code",
   "execution_count": 8,
   "metadata": {},
   "outputs": [
    {
     "data": {
      "text/plain": [
       "{'unstructured_data': {},\n",
       " 'extra_info': {'author': 'Spud',\n",
       "  'source': 'Potato',\n",
       "  'description': None,\n",
       "  'processed_date': None,\n",
       "  'processed_by': None,\n",
       "  'classname': 'FIStdExtraInfo'},\n",
       " 'col_units': {'a': {'unit_desc': 'USD',\n",
       "   'unit_multiplier': 1000.0,\n",
       "   'unit_year': None,\n",
       "   'unit_year_method': None,\n",
       "   'unit_date': None,\n",
       "   'classname': 'FICurrencyUnit'},\n",
       "  'b': {'unit_desc': 'EUR',\n",
       "   'unit_multiplier': 1000.0,\n",
       "   'unit_year': None,\n",
       "   'unit_year_method': None,\n",
       "   'unit_date': None,\n",
       "   'classname': 'FICurrencyUnit'},\n",
       "  'c': {'unit_desc': 'JPY',\n",
       "   'unit_multiplier': 1000000.0,\n",
       "   'unit_year': None,\n",
       "   'unit_year_method': None,\n",
       "   'unit_date': None,\n",
       "   'classname': 'FICurrencyUnit'},\n",
       "  'd': {'unit_desc': 'USD',\n",
       "   'unit_multiplier': 1000.0,\n",
       "   'unit_year': None,\n",
       "   'unit_year_method': None,\n",
       "   'unit_date': None,\n",
       "   'classname': 'FICurrencyUnit'},\n",
       "  'pop': {'unit_desc': 'people',\n",
       "   'unit_multiplier': 1,\n",
       "   'classname': 'FIPopulationUnit'}},\n",
       " 'classname': 'FIStructuredCustomInfo'}"
      ]
     },
     "execution_count": 8,
     "metadata": {},
     "output_type": "execute_result"
    }
   ],
   "source": [
    "# The custom info must always be able to serialize itself, so we can dump that\n",
    "metainfo_reload.custom_info.model_dump()"
   ]
  },
  {
   "cell_type": "code",
   "execution_count": null,
   "metadata": {},
   "outputs": [],
   "source": []
  }
 ],
 "metadata": {
  "kernelspec": {
   "display_name": "df-file-interchange",
   "language": "python",
   "name": "python3"
  },
  "language_info": {
   "codemirror_mode": {
    "name": "ipython",
    "version": 3
   },
   "file_extension": ".py",
   "mimetype": "text/x-python",
   "name": "python",
   "nbconvert_exporter": "python",
   "pygments_lexer": "ipython3",
   "version": "3.11.9"
  }
 },
 "nbformat": 4,
 "nbformat_minor": 2
}
