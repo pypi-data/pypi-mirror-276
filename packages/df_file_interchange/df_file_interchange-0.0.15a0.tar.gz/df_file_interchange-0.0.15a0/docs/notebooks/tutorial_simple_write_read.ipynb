{
 "cells": [
  {
   "cell_type": "code",
   "execution_count": 1,
   "metadata": {},
   "outputs": [],
   "source": [
    "import pandas as pd\n",
    "import numpy as np\n",
    "import df_file_interchange as fi\n",
    "from pathlib import Path"
   ]
  },
  {
   "cell_type": "code",
   "execution_count": 2,
   "metadata": {},
   "outputs": [],
   "source": [
    "# Create a simple dataframe\n",
    "\n",
    "df = pd.DataFrame(\n",
    "    {\n",
    "        \"a\": [1, 2, 3, 4, 5],\n",
    "        \"b\": [\"apples\", \"pears\", \"oranges\", \"bananas\", \"bears\"],\n",
    "        \"c\": [np.pi, 2*np.pi, 3*np.pi, 4*np.pi, 5*np.pi],\n",
    "        \"d\": [\n",
    "            np.datetime64(\"2010-01-31T10:23:01\"),\n",
    "            np.datetime64(\"2014-01-01T10:23:01\"),\n",
    "            np.datetime64(\"2018-02-28T10:23:01\"),\n",
    "            np.datetime64(\"2024-01-31T10:23:01\"),\n",
    "            np.datetime64(\"1999-01-31T23:59:59\")]\n",
    "    },\n",
    "    index=pd.RangeIndex(start=10, stop=15, step=1),\n",
    ")"
   ]
  },
  {
   "cell_type": "code",
   "execution_count": 3,
   "metadata": {},
   "outputs": [
    {
     "data": {
      "text/html": [
       "<div>\n",
       "<style scoped>\n",
       "    .dataframe tbody tr th:only-of-type {\n",
       "        vertical-align: middle;\n",
       "    }\n",
       "\n",
       "    .dataframe tbody tr th {\n",
       "        vertical-align: top;\n",
       "    }\n",
       "\n",
       "    .dataframe thead th {\n",
       "        text-align: right;\n",
       "    }\n",
       "</style>\n",
       "<table border=\"1\" class=\"dataframe\">\n",
       "  <thead>\n",
       "    <tr style=\"text-align: right;\">\n",
       "      <th></th>\n",
       "      <th>a</th>\n",
       "      <th>b</th>\n",
       "      <th>c</th>\n",
       "      <th>d</th>\n",
       "    </tr>\n",
       "  </thead>\n",
       "  <tbody>\n",
       "    <tr>\n",
       "      <th>10</th>\n",
       "      <td>1</td>\n",
       "      <td>apples</td>\n",
       "      <td>3.141593</td>\n",
       "      <td>2010-01-31 10:23:01</td>\n",
       "    </tr>\n",
       "    <tr>\n",
       "      <th>11</th>\n",
       "      <td>2</td>\n",
       "      <td>pears</td>\n",
       "      <td>6.283185</td>\n",
       "      <td>2014-01-01 10:23:01</td>\n",
       "    </tr>\n",
       "    <tr>\n",
       "      <th>12</th>\n",
       "      <td>3</td>\n",
       "      <td>oranges</td>\n",
       "      <td>9.424778</td>\n",
       "      <td>2018-02-28 10:23:01</td>\n",
       "    </tr>\n",
       "    <tr>\n",
       "      <th>13</th>\n",
       "      <td>4</td>\n",
       "      <td>bananas</td>\n",
       "      <td>12.566371</td>\n",
       "      <td>2024-01-31 10:23:01</td>\n",
       "    </tr>\n",
       "    <tr>\n",
       "      <th>14</th>\n",
       "      <td>5</td>\n",
       "      <td>bears</td>\n",
       "      <td>15.707963</td>\n",
       "      <td>1999-01-31 23:59:59</td>\n",
       "    </tr>\n",
       "  </tbody>\n",
       "</table>\n",
       "</div>"
      ],
      "text/plain": [
       "    a        b          c                   d\n",
       "10  1   apples   3.141593 2010-01-31 10:23:01\n",
       "11  2    pears   6.283185 2014-01-01 10:23:01\n",
       "12  3  oranges   9.424778 2018-02-28 10:23:01\n",
       "13  4  bananas  12.566371 2024-01-31 10:23:01\n",
       "14  5    bears  15.707963 1999-01-31 23:59:59"
      ]
     },
     "execution_count": 3,
     "metadata": {},
     "output_type": "execute_result"
    }
   ],
   "source": [
    "df"
   ]
  },
  {
   "cell_type": "code",
   "execution_count": 4,
   "metadata": {},
   "outputs": [],
   "source": [
    "data_dir = Path(\"./data/\")\n",
    "data_dir.mkdir(exist_ok=True)\n",
    "datafile_csv_path = Path(data_dir / \"tutorial_trying_out_a_save.csv\")\n",
    "\n",
    "# Write to a CSV file (file format determined by extension of datafile_csv_path)\n",
    "metafile = fi.write_df_to_file(df, datafile_csv_path)"
   ]
  },
  {
   "cell_type": "code",
   "execution_count": 5,
   "metadata": {},
   "outputs": [
    {
     "data": {
      "text/plain": [
       "PosixPath('data/tutorial_trying_out_a_save.yaml')"
      ]
     },
     "execution_count": 5,
     "metadata": {},
     "output_type": "execute_result"
    }
   ],
   "source": [
    "metafile"
   ]
  },
  {
   "cell_type": "code",
   "execution_count": 6,
   "metadata": {},
   "outputs": [],
   "source": [
    "# Read the dataframe back into df_reload along with metainfo in metainfo_reload\n",
    "(df_reload, metainfo_reload) = fi.read_df(metafile)"
   ]
  },
  {
   "cell_type": "code",
   "execution_count": 7,
   "metadata": {},
   "outputs": [
    {
     "data": {
      "text/html": [
       "<div>\n",
       "<style scoped>\n",
       "    .dataframe tbody tr th:only-of-type {\n",
       "        vertical-align: middle;\n",
       "    }\n",
       "\n",
       "    .dataframe tbody tr th {\n",
       "        vertical-align: top;\n",
       "    }\n",
       "\n",
       "    .dataframe thead th {\n",
       "        text-align: right;\n",
       "    }\n",
       "</style>\n",
       "<table border=\"1\" class=\"dataframe\">\n",
       "  <thead>\n",
       "    <tr style=\"text-align: right;\">\n",
       "      <th></th>\n",
       "      <th>a</th>\n",
       "      <th>b</th>\n",
       "      <th>c</th>\n",
       "      <th>d</th>\n",
       "    </tr>\n",
       "  </thead>\n",
       "  <tbody>\n",
       "    <tr>\n",
       "      <th>10</th>\n",
       "      <td>1</td>\n",
       "      <td>apples</td>\n",
       "      <td>3.141593</td>\n",
       "      <td>2010-01-31 10:23:01</td>\n",
       "    </tr>\n",
       "    <tr>\n",
       "      <th>11</th>\n",
       "      <td>2</td>\n",
       "      <td>pears</td>\n",
       "      <td>6.283185</td>\n",
       "      <td>2014-01-01 10:23:01</td>\n",
       "    </tr>\n",
       "    <tr>\n",
       "      <th>12</th>\n",
       "      <td>3</td>\n",
       "      <td>oranges</td>\n",
       "      <td>9.424778</td>\n",
       "      <td>2018-02-28 10:23:01</td>\n",
       "    </tr>\n",
       "    <tr>\n",
       "      <th>13</th>\n",
       "      <td>4</td>\n",
       "      <td>bananas</td>\n",
       "      <td>12.566371</td>\n",
       "      <td>2024-01-31 10:23:01</td>\n",
       "    </tr>\n",
       "    <tr>\n",
       "      <th>14</th>\n",
       "      <td>5</td>\n",
       "      <td>bears</td>\n",
       "      <td>15.707963</td>\n",
       "      <td>1999-01-31 23:59:59</td>\n",
       "    </tr>\n",
       "  </tbody>\n",
       "</table>\n",
       "</div>"
      ],
      "text/plain": [
       "    a        b          c                   d\n",
       "10  1   apples   3.141593 2010-01-31 10:23:01\n",
       "11  2    pears   6.283185 2014-01-01 10:23:01\n",
       "12  3  oranges   9.424778 2018-02-28 10:23:01\n",
       "13  4  bananas  12.566371 2024-01-31 10:23:01\n",
       "14  5    bears  15.707963 1999-01-31 23:59:59"
      ]
     },
     "execution_count": 7,
     "metadata": {},
     "output_type": "execute_result"
    }
   ],
   "source": [
    "df_reload"
   ]
  },
  {
   "cell_type": "code",
   "execution_count": 8,
   "metadata": {},
   "outputs": [
    {
     "data": {
      "text/plain": [
       "FIMetainfo(datafile=PosixPath('tutorial_trying_out_a_save.csv'), file_format=<FIFileFormatEnum.csv: 'csv'>, format_version=1, hash='980eae93340cbcef0d111da0b439a5f8b58f64cf6ab6f923ecb3ce0e0da84e18', encoding=FIEncoding(csv=FIEncodingCSV(csv_allowed_na=['<NA>'], sep=',', na_rep='<NA>', keep_default_na=False, doublequote=True, quoting=2, float_precision='round_trip'), parq=FIEncodingParquet(engine='pyarrow', index=None), auto_convert_int_to_intna=True), custom_info=FIBaseCustomInfo(unstructured_data={}, classname='FIBaseCustomInfo'), serialized_dtypes={'a': {'dtype_str': 'int64', 'serialized_col_name': {'el': 'a', 'eltype': 'str'}}, 'b': {'dtype_str': 'object', 'serialized_col_name': {'el': 'b', 'eltype': 'str'}}, 'c': {'dtype_str': 'float64', 'serialized_col_name': {'el': 'c', 'eltype': 'str'}}, 'd': {'dtype_str': 'datetime64[ns]', 'serialized_col_name': {'el': 'd', 'eltype': 'str'}}}, index=FIRangeIndex(start=10, stop=15, step=1, name=None, dtype='int64', index_type='range'), columns=FIIndex(data=['a', 'b', 'c', 'd'], name=None, dtype='object', index_type='idx'))"
      ]
     },
     "execution_count": 8,
     "metadata": {},
     "output_type": "execute_result"
    }
   ],
   "source": [
    "# The metainfo is supplied as a FIMetaInfo object, which contains as its\n",
    "# attributes other objects.\n",
    "metainfo_reload"
   ]
  },
  {
   "cell_type": "code",
   "execution_count": 9,
   "metadata": {},
   "outputs": [
    {
     "name": "stdout",
     "output_type": "stream",
     "text": [
      "# Metadata for <function safe_str_output at 0x7f5d696004a0>\n",
      "---\n",
      "\n",
      "columns:\n",
      "  data:\n",
      "    el:\n",
      "    - el: a\n",
      "      eltype: str\n",
      "    - el: b\n",
      "      eltype: str\n",
      "    - el: c\n",
      "      eltype: str\n",
      "    - el: d\n",
      "      eltype: str\n",
      "    eltype: list\n",
      "  dtype: object\n",
      "  index_type: idx\n",
      "  name: null\n",
      "custom_info:\n",
      "  classname: FIBaseCustomInfo\n",
      "  unstructured_data: {}\n",
      "datafile: tutorial_trying_out_a_save.csv\n",
      "encoding:\n",
      "  auto_convert_int_to_intna: true\n",
      "  csv:\n",
      "    csv_allowed_na:\n",
      "    - <NA>\n",
      "    doublequote: true\n",
      "    float_precision: round_trip\n",
      "    keep_default_na: false\n",
      "    na_rep: <NA>\n",
      "    quoting: 2\n",
      "    sep: ','\n",
      "  parq:\n",
      "    engine: pyarrow\n",
      "    index: null\n",
      "file_format: csv\n",
      "format_version: 1\n",
      "hash: 980eae93340cbcef0d111da0b439a5f8b58f64cf6ab6f923ecb3ce0e0da84e18\n",
      "index:\n",
      "  dtype: int64\n",
      "  index_type: range\n",
      "  name: null\n",
      "  start: 10\n",
      "  step: 1\n",
      "  stop: 15\n",
      "serialized_dtypes:\n",
      "  a:\n",
      "    dtype_str: int64\n",
      "    serialized_col_name:\n",
      "      el: a\n",
      "      eltype: str\n",
      "  b:\n",
      "    dtype_str: object\n",
      "    serialized_col_name:\n",
      "      el: b\n",
      "      eltype: str\n",
      "  c:\n",
      "    dtype_str: float64\n",
      "    serialized_col_name:\n",
      "      el: c\n",
      "      eltype: str\n",
      "  d:\n",
      "    dtype_str: datetime64[ns]\n",
      "    serialized_col_name:\n",
      "      el: d\n",
      "      eltype: str\n",
      "\n"
     ]
    }
   ],
   "source": [
    "# Lets have a quick look at what the YAML file contains (we'll come back to this\n",
    "# in a different tutorial)\n",
    "with open(metafile, 'r') as h_file:\n",
    "    print(h_file.read())"
   ]
  },
  {
   "cell_type": "code",
   "execution_count": 10,
   "metadata": {},
   "outputs": [
    {
     "data": {
      "text/plain": [
       "True"
      ]
     },
     "execution_count": 10,
     "metadata": {},
     "output_type": "execute_result"
    }
   ],
   "source": [
    "# Now we check the original dataframe, df, and df_reload read from disc are the\n",
    "# same. We use chk_strict_frames_eq_ignore_nan() because, in this context, we\n",
    "# want NaN == NaN (usually NaN != NaN)\n",
    "fi.chk_strict_frames_eq_ignore_nan(df, df_reload)"
   ]
  },
  {
   "cell_type": "code",
   "execution_count": 11,
   "metadata": {},
   "outputs": [
    {
     "data": {
      "text/plain": [
       "PosixPath('data/tutorial_trying_out_a_save.yaml')"
      ]
     },
     "execution_count": 11,
     "metadata": {},
     "output_type": "execute_result"
    }
   ],
   "source": [
    "# There are convenience functions to write CSV or Parquet explicitly\n",
    "datafile_parq_path = Path(data_dir / \"./tutorial_trying_out_a_save.parq\")\n",
    "fi.write_df_to_parquet(df, datafile_parq_path)"
   ]
  },
  {
   "cell_type": "code",
   "execution_count": 12,
   "metadata": {},
   "outputs": [
    {
     "data": {
      "text/plain": [
       "PosixPath('data/tutorial_trying_out_a_save_diff_metafile.yaml')"
      ]
     },
     "execution_count": 12,
     "metadata": {},
     "output_type": "execute_result"
    }
   ],
   "source": [
    "# The file for the metainfo can be specified for the write but it must be in the\n",
    "# same directory as teh data file. The output format can also be specified\n",
    "# explicitly.\n",
    "fi.write_df_to_file(df, datafile_csv_path, Path(data_dir / \"tutorial_trying_out_a_save_diff_metafile.yaml\"), file_format=\"csv\")"
   ]
  },
  {
   "cell_type": "code",
   "execution_count": 13,
   "metadata": {},
   "outputs": [
    {
     "data": {
      "text/plain": [
       "True"
      ]
     },
     "execution_count": 13,
     "metadata": {},
     "output_type": "execute_result"
    }
   ],
   "source": [
    "# Additional encoding options can be supplied but this is almost never a good\n",
    "# idea (the defaults were carefully chosen)\n",
    "encoding_csv = fi.file.rw.FIEncodingCSV(sep=\";\")\n",
    "encoding = fi.file.rw.FIEncoding(csv=encoding_csv)\n",
    "metafile_new_sep = fi.write_df_to_file(df, Path(data_dir / \"tutorial_tring_out_a_save_new_sep.csv\"), encoding=encoding)\n",
    "(df_new_sep, metainfo_new_sep) = fi.read_df(metafile_new_sep)\n",
    "fi.chk_strict_frames_eq_ignore_nan(df, df_new_sep)"
   ]
  },
  {
   "cell_type": "code",
   "execution_count": null,
   "metadata": {},
   "outputs": [],
   "source": []
  },
  {
   "cell_type": "code",
   "execution_count": null,
   "metadata": {},
   "outputs": [],
   "source": []
  }
 ],
 "metadata": {
  "kernelspec": {
   "display_name": "df-file-interchange",
   "language": "python",
   "name": "python3"
  },
  "language_info": {
   "codemirror_mode": {
    "name": "ipython",
    "version": 3
   },
   "file_extension": ".py",
   "mimetype": "text/x-python",
   "name": "python",
   "nbconvert_exporter": "python",
   "pygments_lexer": "ipython3",
   "version": "3.11.9"
  }
 },
 "nbformat": 4,
 "nbformat_minor": 2
}
